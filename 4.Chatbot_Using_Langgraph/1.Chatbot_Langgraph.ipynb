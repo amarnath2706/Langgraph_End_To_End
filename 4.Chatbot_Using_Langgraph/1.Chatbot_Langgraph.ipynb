{
 "cells": [
  {
   "cell_type": "code",
   "execution_count": 1,
   "metadata": {},
   "outputs": [],
   "source": [
    "from langchain_groq import ChatGroq\n",
    "llm=ChatGroq(model_name=\"Gemma2-9b-It\")"
   ]
  },
  {
   "cell_type": "code",
   "execution_count": 2,
   "metadata": {},
   "outputs": [
    {
     "data": {
      "text/plain": [
       "'Hi! 👋  How can I help you today?\\n'"
      ]
     },
     "execution_count": 2,
     "metadata": {},
     "output_type": "execute_result"
    }
   ],
   "source": [
    "llm.invoke(\"Hi\").content"
   ]
  },
  {
   "cell_type": "code",
   "execution_count": 3,
   "metadata": {},
   "outputs": [],
   "source": [
    "from langgraph.graph import StateGraph,MessagesState, START, END\n",
    "from langgraph.graph.message import add_messages\n",
    "from typing import Annotated, Literal, TypedDict\n",
    "from langchain_core.tools import tool\n",
    "from langchain_core.messages import HumanMessage\n",
    "from langgraph.checkpoint.memory import MemorySaver\n",
    "from langgraph.prebuilt import ToolNode"
   ]
  },
  {
   "cell_type": "code",
   "execution_count": 4,
   "metadata": {},
   "outputs": [],
   "source": [
    "def call_model(state: MessagesState): #state - user input\n",
    "    messages = state['messages'] #fetch the user input\n",
    "    response = llm.invoke(messages) #pass the user input to the llm\n",
    "    return {\"messages\": [response]} "
   ]
  },
  {
   "cell_type": "code",
   "execution_count": 5,
   "metadata": {},
   "outputs": [],
   "source": [
    "#Let's create a workflow\n",
    "workflow = StateGraph(MessagesState) #workflow with state graph\n",
    "#Add node\n",
    "workflow.add_node(\"CHATBOT\",call_model)\n",
    "#Add edge\n",
    "workflow.add_edge(START,\"CHATBOT\")\n",
    "workflow.add_edge(\"CHATBOT\",END)\n",
    "\n",
    "app = workflow.compile()\n"
   ]
  },
  {
   "cell_type": "code",
   "execution_count": 6,
   "metadata": {},
   "outputs": [
    {
     "data": {
      "image/png": "[encoded data removed]",
      "text/plain": [
       "<IPython.core.display.Image object>"
      ]
     },
     "metadata": {},
     "output_type": "display_data"
    }
   ],
   "source": [
    "#Visualize the workflow\n",
    "\n",
    "from IPython.display import Image, display\n",
    "display(Image(app.get_graph().draw_mermaid_png()))"
   ]
  },
  {
   "cell_type": "code",
   "execution_count": 7,
   "metadata": {},
   "outputs": [],
   "source": [
    "input = {\"messages\": [HumanMessage(\"Hi, my name is Amar\")]}\n",
    "\n",
    "#or\n",
    "\n",
    "#input = {\"messages\": [\"Hi, my name is Amar\"]}"
   ]
  },
  {
   "cell_type": "code",
   "execution_count": 8,
   "metadata": {},
   "outputs": [
    {
     "data": {
      "text/plain": [
       "{'messages': [HumanMessage(content='Hi, my name is Amar', additional_kwargs={}, response_metadata={}, id='2417781a-1b5b-4c78-885c-c84db467ffe5'),\n",
       "  AIMessage(content='Hello Amar, nice to meet you! 👋\\n\\nWhat can I do for you today? 😊\\n', additional_kwargs={}, response_metadata={'token_usage': {'completion_tokens': 22, 'prompt_tokens': 15, 'total_tokens': 37, 'completion_time': 0.04, 'prompt_time': 9.207e-05, 'queue_time': 0.01919924, 'total_time': 0.04009207}, 'model_name': 'Gemma2-9b-It', 'system_fingerprint': 'fp_10c08bf97d', 'finish_reason': 'stop', 'logprobs': None}, id='run-66c36404-ec5a-4191-9c02-213fdcb7330a-0', usage_metadata={'input_tokens': 15, 'output_tokens': 22, 'total_tokens': 37})]}"
      ]
     },
     "execution_count": 8,
     "metadata": {},
     "output_type": "execute_result"
    }
   ],
   "source": [
    "app.invoke(input)"
   ]
  },
  {
   "cell_type": "code",
   "execution_count": 9,
   "metadata": {},
   "outputs": [
    {
     "name": "stdout",
     "output_type": "stream",
     "text": [
      "Output from CHATBOT Node\n",
      "_______\n",
      "{'messages': [AIMessage(content=\"Hello Amar, it's nice to meet you! 👋 \\n\\nWhat can I do for you today? 😊\\n\", additional_kwargs={}, response_metadata={'token_usage': {'completion_tokens': 26, 'prompt_tokens': 15, 'total_tokens': 41, 'completion_time': 0.047272727, 'prompt_time': 7.492e-05, 'queue_time': 0.02232581, 'total_time': 0.047347647}, 'model_name': 'Gemma2-9b-It', 'system_fingerprint': 'fp_10c08bf97d', 'finish_reason': 'stop', 'logprobs': None}, id='run-f07d8043-7562-4f88-9bbe-bba53ed285be-0', usage_metadata={'input_tokens': 15, 'output_tokens': 26, 'total_tokens': 41})]}\n",
      "\n",
      "\n"
     ]
    }
   ],
   "source": [
    "for output in app.stream(input):\n",
    "    for key,value in output.items():\n",
    "        print(f\"Output from {key} Node\") #Key representing the node\n",
    "        print(\"_______\")\n",
    "        print(value) #value representing the actual output\n",
    "        print(\"\\n\") "
   ]
  },
  {
   "cell_type": "code",
   "execution_count": 31,
   "metadata": {},
   "outputs": [],
   "source": [
    "#Second Stage with architecture 2\n",
    "# Here we are going to add the tools inside our solution\n",
    "\n",
    "#Let's create a tool(Dummy tool)   \n",
    "@tool\n",
    "def search(query: str):\n",
    "    \"\"\"this is my custom tool.\"\"\"\n",
    "    if \"ca\" in query.lower() or \"california\" in query.lower():\n",
    "        return \"It's 20*C degrees and Cold.\"\n",
    "    return \"It's 40*C degrees and scootching heat.\""
   ]
  },
  {
   "cell_type": "code",
   "execution_count": 32,
   "metadata": {},
   "outputs": [
    {
     "data": {
      "text/plain": [
       "\"It's 20*C degrees and Cold.\""
      ]
     },
     "execution_count": 32,
     "metadata": {},
     "output_type": "execute_result"
    }
   ],
   "source": [
    "search.invoke(\"what is the weather in CALIFORNIA?\")"
   ]
  },
  {
   "cell_type": "code",
   "execution_count": 33,
   "metadata": {},
   "outputs": [
    {
     "data": {
      "text/plain": [
       "\"It's 20*C degrees and Cold.\""
      ]
     },
     "execution_count": 33,
     "metadata": {},
     "output_type": "execute_result"
    }
   ],
   "source": [
    "search.invoke(\"what is the weather in CA?\")"
   ]
  },
  {
   "cell_type": "code",
   "execution_count": 34,
   "metadata": {},
   "outputs": [
    {
     "data": {
      "text/plain": [
       "\"It's 20*C degrees and Cold.\""
      ]
     },
     "execution_count": 34,
     "metadata": {},
     "output_type": "execute_result"
    }
   ],
   "source": [
    "search.invoke(\"what is the weather in ca?\")"
   ]
  },
  {
   "cell_type": "code",
   "execution_count": 36,
   "metadata": {},
   "outputs": [
    {
     "data": {
      "text/plain": [
       "\"It's 40*C degrees and scootching heat.\""
      ]
     },
     "execution_count": 36,
     "metadata": {},
     "output_type": "execute_result"
    }
   ],
   "source": [
    "search.invoke(\"what is the weather in Texas?\")"
   ]
  },
  {
   "cell_type": "code",
   "execution_count": 37,
   "metadata": {},
   "outputs": [
    {
     "data": {
      "text/plain": [
       "StructuredTool(name='search', description='this is my custom tool.', args_schema=<class 'langchain_core.utils.pydantic.search'>, func=<function search at 0x000001D557E85090>)"
      ]
     },
     "execution_count": 37,
     "metadata": {},
     "output_type": "execute_result"
    }
   ],
   "source": [
    "search"
   ]
  },
  {
   "cell_type": "code",
   "execution_count": 38,
   "metadata": {},
   "outputs": [],
   "source": [
    "#Create the tool variable\n",
    "tools = [search]"
   ]
  },
  {
   "cell_type": "code",
   "execution_count": 40,
   "metadata": {},
   "outputs": [],
   "source": [
    "#Convert the tool to node\n",
    "#tool_node = ToolNode(\"SEARCH\",tools)\n",
    "\n",
    "tool_node = ToolNode(tools)"
   ]
  },
  {
   "cell_type": "code",
   "execution_count": 41,
   "metadata": {},
   "outputs": [],
   "source": [
    "#Let's bind our tool on top of the LLM and now our LLM will associated with our tool\n",
    "llm_with_tool = llm.bind_tools(tools)"
   ]
  },
  {
   "cell_type": "code",
   "execution_count": null,
   "metadata": {},
   "outputs": [],
   "source": [
    "#Create the workflow\n",
    "def call_model(state: MessagesState):\n",
    "    messages = state['messages']\n",
    "    response = llm_with_tool.invoke(messages) #Here we pass the input to the llm_with_tool(llm ond our own tool)\n",
    "    return {\"messages\": [response]}"
   ]
  }
 ],
 "metadata": {
  "kernelspec": {
   "display_name": "langgraphe2e",
   "language": "python",
   "name": "python3"
  },
  "language_info": {
   "codemirror_mode": {
    "name": "ipython",
    "version": 3
   },
   "file_extension": ".py",
   "mimetype": "text/x-python",
   "name": "python",
   "nbconvert_exporter": "python",
   "pygments_lexer": "ipython3",
   "version": "3.10.16"
  }
 },
 "nbformat": 4,
 "nbformat_minor": 2
}
