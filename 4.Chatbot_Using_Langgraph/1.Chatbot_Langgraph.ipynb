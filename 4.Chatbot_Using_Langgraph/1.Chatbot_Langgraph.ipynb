{
 "cells": [
  {
   "cell_type": "code",
   "execution_count": 69,
   "metadata": {},
   "outputs": [],
   "source": [
    "from langchain_groq import ChatGroq\n",
    "llm=ChatGroq(model_name=\"Gemma2-9b-It\")"
   ]
  },
  {
   "cell_type": "code",
   "execution_count": 70,
   "metadata": {},
   "outputs": [
    {
     "data": {
      "text/plain": [
       "'Hi! 👋 \\n\\nWhat can I do for you today? 😊\\n'"
      ]
     },
     "execution_count": 70,
     "metadata": {},
     "output_type": "execute_result"
    }
   ],
   "source": [
    "llm.invoke(\"Hi\").content"
   ]
  },
  {
   "cell_type": "code",
   "execution_count": 71,
   "metadata": {},
   "outputs": [],
   "source": [
    "from langgraph.graph import StateGraph,MessagesState, START, END\n",
    "from langgraph.graph.message import add_messages\n",
    "from typing import Annotated, Literal, TypedDict\n",
    "from langchain_core.tools import tool\n",
    "from langchain_core.messages import HumanMessage\n",
    "from langgraph.checkpoint.memory import MemorySaver\n",
    "from langgraph.prebuilt import ToolNode"
   ]
  },
  {
   "cell_type": "code",
   "execution_count": 72,
   "metadata": {},
   "outputs": [],
   "source": [
    "def call_model(state: MessagesState): #state - user input\n",
    "    messages = state['messages'] #fetch the user input\n",
    "    response = llm.invoke(messages) #pass the user input to the llm\n",
    "    return {\"messages\": [response]} "
   ]
  },
  {
   "cell_type": "code",
   "execution_count": 73,
   "metadata": {},
   "outputs": [],
   "source": [
    "#Let's create a workflow\n",
    "workflow = StateGraph(MessagesState) #workflow with state graph\n",
    "#Add node\n",
    "workflow.add_node(\"CHATBOT\",call_model)\n",
    "#Add edge\n",
    "workflow.add_edge(START,\"CHATBOT\")\n",
    "workflow.add_edge(\"CHATBOT\",END)\n",
    "\n",
    "app = workflow.compile()\n"
   ]
  },
  {
   "cell_type": "code",
   "execution_count": 74,
   "metadata": {},
   "outputs": [
    {
     "data": {
      "image/png": "[encoded data removed]",
      "text/plain": [
       "<IPython.core.display.Image object>"
      ]
     },
     "metadata": {},
     "output_type": "display_data"
    }
   ],
   "source": [
    "#Visualize the workflow\n",
    "\n",
    "from IPython.display import Image, display\n",
    "display(Image(app.get_graph().draw_mermaid_png()))"
   ]
  },
  {
   "cell_type": "code",
   "execution_count": 75,
   "metadata": {},
   "outputs": [],
   "source": [
    "input = {\"messages\": [HumanMessage(\"Hi, my name is Amar\")]}\n",
    "\n",
    "#or\n",
    "\n",
    "#input = {\"messages\": [\"Hi, my name is Amar\"]}"
   ]
  },
  {
   "cell_type": "code",
   "execution_count": 76,
   "metadata": {},
   "outputs": [
    {
     "data": {
      "text/plain": [
       "{'messages': [HumanMessage(content='Hi, my name is Amar', additional_kwargs={}, response_metadata={}, id='f5f65f62-e5e2-4792-880a-8d56efcb296a'),\n",
       "  AIMessage(content=\"Hi Amar, it's nice to meet you! 👋\\n\\nWhat can I do for you today? 😊  \\n\", additional_kwargs={}, response_metadata={'token_usage': {'completion_tokens': 26, 'prompt_tokens': 15, 'total_tokens': 41, 'completion_time': 0.047272727, 'prompt_time': 8.785e-05, 'queue_time': 0.021180868999999998, 'total_time': 0.047360577}, 'model_name': 'Gemma2-9b-It', 'system_fingerprint': 'fp_10c08bf97d', 'finish_reason': 'stop', 'logprobs': None}, id='run-34bdd9df-c54a-41e5-989a-2c7bb39c2af8-0', usage_metadata={'input_tokens': 15, 'output_tokens': 26, 'total_tokens': 41})]}"
      ]
     },
     "execution_count": 76,
     "metadata": {},
     "output_type": "execute_result"
    }
   ],
   "source": [
    "app.invoke(input)"
   ]
  },
  {
   "cell_type": "code",
   "execution_count": 77,
   "metadata": {},
   "outputs": [
    {
     "name": "stdout",
     "output_type": "stream",
     "text": [
      "Output from CHATBOT Node\n",
      "_______\n",
      "{'messages': [AIMessage(content=\"Hi Amar, it's nice to meet you! 👋\\n\\nWhat can I do for you today? 😄\\n\", additional_kwargs={}, response_metadata={'token_usage': {'completion_tokens': 25, 'prompt_tokens': 15, 'total_tokens': 40, 'completion_time': 0.045454545, 'prompt_time': 0.00011058, 'queue_time': 0.02275622, 'total_time': 0.045565125}, 'model_name': 'Gemma2-9b-It', 'system_fingerprint': 'fp_10c08bf97d', 'finish_reason': 'stop', 'logprobs': None}, id='run-f2d2038c-bfd9-4ae3-a2ac-f778c4d64df8-0', usage_metadata={'input_tokens': 15, 'output_tokens': 25, 'total_tokens': 40})]}\n",
      "\n",
      "\n"
     ]
    }
   ],
   "source": [
    "for output in app.stream(input):\n",
    "    for key,value in output.items():\n",
    "        print(f\"Output from {key} Node\") #Key representing the node\n",
    "        print(\"_______\")\n",
    "        print(value) #value representing the actual output\n",
    "        print(\"\\n\") "
   ]
  },
  {
   "cell_type": "code",
   "execution_count": 78,
   "metadata": {},
   "outputs": [],
   "source": [
    "#Second Stage with architecture 2\n",
    "# Here we are going to add the tools inside our solution\n",
    "\n",
    "#Let's create a tool(Dummy tool)   \n",
    "@tool\n",
    "def search(query: str):\n",
    "    \"\"\"this is my custom tool.\"\"\"\n",
    "    if \"ca\" in query.lower() or \"california\" in query.lower():\n",
    "        return \"It's 20*C degrees and Cold.\"\n",
    "    return \"It's 40*C degrees and scootching heat.\""
   ]
  },
  {
   "cell_type": "code",
   "execution_count": 79,
   "metadata": {},
   "outputs": [
    {
     "data": {
      "text/plain": [
       "\"It's 20*C degrees and Cold.\""
      ]
     },
     "execution_count": 79,
     "metadata": {},
     "output_type": "execute_result"
    }
   ],
   "source": [
    "search.invoke(\"what is the weather in CALIFORNIA?\")"
   ]
  },
  {
   "cell_type": "code",
   "execution_count": 80,
   "metadata": {},
   "outputs": [
    {
     "data": {
      "text/plain": [
       "\"It's 20*C degrees and Cold.\""
      ]
     },
     "execution_count": 80,
     "metadata": {},
     "output_type": "execute_result"
    }
   ],
   "source": [
    "search.invoke(\"what is the weather in CA?\")"
   ]
  },
  {
   "cell_type": "code",
   "execution_count": 81,
   "metadata": {},
   "outputs": [
    {
     "data": {
      "text/plain": [
       "\"It's 20*C degrees and Cold.\""
      ]
     },
     "execution_count": 81,
     "metadata": {},
     "output_type": "execute_result"
    }
   ],
   "source": [
    "search.invoke(\"what is the weather in ca?\")"
   ]
  },
  {
   "cell_type": "code",
   "execution_count": 82,
   "metadata": {},
   "outputs": [
    {
     "data": {
      "text/plain": [
       "\"It's 40*C degrees and scootching heat.\""
      ]
     },
     "execution_count": 82,
     "metadata": {},
     "output_type": "execute_result"
    }
   ],
   "source": [
    "search.invoke(\"what is the weather in Texas?\")"
   ]
  },
  {
   "cell_type": "code",
   "execution_count": 83,
   "metadata": {},
   "outputs": [
    {
     "data": {
      "text/plain": [
       "StructuredTool(name='search', description='this is my custom tool.', args_schema=<class 'langchain_core.utils.pydantic.search'>, func=<function search at 0x000001D558433C70>)"
      ]
     },
     "execution_count": 83,
     "metadata": {},
     "output_type": "execute_result"
    }
   ],
   "source": [
    "search"
   ]
  },
  {
   "cell_type": "code",
   "execution_count": 84,
   "metadata": {},
   "outputs": [],
   "source": [
    "#Create the tool variable\n",
    "tools = [search]"
   ]
  },
  {
   "cell_type": "code",
   "execution_count": 85,
   "metadata": {},
   "outputs": [],
   "source": [
    "#Convert the tool to node\n",
    "#tool_node = ToolNode(\"SEARCH\",tools)\n",
    "\n",
    "tool_node = ToolNode(tools)"
   ]
  },
  {
   "cell_type": "code",
   "execution_count": 86,
   "metadata": {},
   "outputs": [],
   "source": [
    "#Let's bind our tool on top of the LLM and now our LLM will associated with our tool\n",
    "llm_with_tool = llm.bind_tools(tools)"
   ]
  },
  {
   "cell_type": "code",
   "execution_count": 87,
   "metadata": {},
   "outputs": [],
   "source": [
    "#Create the workflow\n",
    "def call_model1(state: MessagesState):\n",
    "    messages = state['messages']\n",
    "    response = llm_with_tool.invoke(messages) #Here we pass the input to the llm_with_tool(llm ond our own tool)\n",
    "    return {\"messages\": [response]}"
   ]
  },
  {
   "cell_type": "code",
   "execution_count": 88,
   "metadata": {},
   "outputs": [],
   "source": [
    "response = call_model1({\"messages\": [\"Hi,how are you?\"]})"
   ]
  },
  {
   "cell_type": "code",
   "execution_count": 89,
   "metadata": {},
   "outputs": [
    {
     "data": {
      "text/plain": [
       "{'messages': [AIMessage(content='', additional_kwargs={'tool_calls': [{'id': 'call_1bca', 'function': {'arguments': '{\"query\":\"how are you\"}', 'name': 'search'}, 'type': 'function'}]}, response_metadata={'token_usage': {'completion_tokens': 82, 'prompt_tokens': 942, 'total_tokens': 1024, 'completion_time': 0.149090909, 'prompt_time': 0.030198098, 'queue_time': 0.023699412000000003, 'total_time': 0.179289007}, 'model_name': 'Gemma2-9b-It', 'system_fingerprint': 'fp_10c08bf97d', 'finish_reason': 'tool_calls', 'logprobs': None}, id='run-e362c83c-7d55-4951-a756-57fa1cf750d6-0', tool_calls=[{'name': 'search', 'args': {'query': 'how are you'}, 'id': 'call_1bca', 'type': 'tool_call'}], usage_metadata={'input_tokens': 942, 'output_tokens': 82, 'total_tokens': 1024})]}"
      ]
     },
     "execution_count": 89,
     "metadata": {},
     "output_type": "execute_result"
    }
   ],
   "source": [
    "response"
   ]
  },
  {
   "cell_type": "code",
   "execution_count": 90,
   "metadata": {},
   "outputs": [],
   "source": [
    "messages = response['messages']"
   ]
  },
  {
   "cell_type": "code",
   "execution_count": 91,
   "metadata": {},
   "outputs": [],
   "source": [
    "last_message = messages[-1]"
   ]
  },
  {
   "cell_type": "code",
   "execution_count": 92,
   "metadata": {},
   "outputs": [
    {
     "data": {
      "text/plain": [
       "[{'name': 'search',\n",
       "  'args': {'query': 'how are you'},\n",
       "  'id': 'call_1bca',\n",
       "  'type': 'tool_call'}]"
      ]
     },
     "execution_count": 92,
     "metadata": {},
     "output_type": "execute_result"
    }
   ],
   "source": [
    "last_message.tool_calls"
   ]
  },
  {
   "cell_type": "code",
   "execution_count": 93,
   "metadata": {},
   "outputs": [],
   "source": [
    "response = call_model1({\"messages\": [\"what is the weather in CALIFORNAI?\"]}) "
   ]
  },
  {
   "cell_type": "code",
   "execution_count": 94,
   "metadata": {},
   "outputs": [
    {
     "data": {
      "text/plain": [
       "{'messages': [AIMessage(content='', additional_kwargs={'tool_calls': [{'id': 'call_th5n', 'function': {'arguments': '{\"query\":\"weather in CALIFORNIA\"}', 'name': 'search'}, 'type': 'function'}]}, response_metadata={'token_usage': {'completion_tokens': 82, 'prompt_tokens': 945, 'total_tokens': 1027, 'completion_time': 0.149090909, 'prompt_time': 0.030510796, 'queue_time': 0.022640794, 'total_time': 0.179601705}, 'model_name': 'Gemma2-9b-It', 'system_fingerprint': 'fp_10c08bf97d', 'finish_reason': 'tool_calls', 'logprobs': None}, id='run-db9a62ac-f558-4664-9b96-46ff10b1e65e-0', tool_calls=[{'name': 'search', 'args': {'query': 'weather in CALIFORNIA'}, 'id': 'call_th5n', 'type': 'tool_call'}], usage_metadata={'input_tokens': 945, 'output_tokens': 82, 'total_tokens': 1027})]}"
      ]
     },
     "execution_count": 94,
     "metadata": {},
     "output_type": "execute_result"
    }
   ],
   "source": [
    "response"
   ]
  },
  {
   "cell_type": "code",
   "execution_count": 95,
   "metadata": {},
   "outputs": [],
   "source": [
    "messages = response['messages']"
   ]
  },
  {
   "cell_type": "code",
   "execution_count": 96,
   "metadata": {},
   "outputs": [],
   "source": [
    "last_message = messages[-1]"
   ]
  },
  {
   "cell_type": "code",
   "execution_count": 97,
   "metadata": {},
   "outputs": [
    {
     "data": {
      "text/plain": [
       "[{'name': 'search',\n",
       "  'args': {'query': 'weather in CALIFORNIA'},\n",
       "  'id': 'call_th5n',\n",
       "  'type': 'tool_call'}]"
      ]
     },
     "execution_count": 97,
     "metadata": {},
     "output_type": "execute_result"
    }
   ],
   "source": [
    "last_message.tool_calls"
   ]
  },
  {
   "cell_type": "code",
   "execution_count": 98,
   "metadata": {},
   "outputs": [],
   "source": [
    "#Route function\n",
    "def router_function(state: MessagesState) -> Literal[\"tools\", END]:\n",
    "    #print(f\"here is a state from should continue {state}\")\n",
    "    messages = state['messages']\n",
    "    last_message = messages[-1]\n",
    "    #print(f\"here is a last message from should continue {last_message}\")\n",
    "    if last_message.tool_calls:\n",
    "        return \"tools\"\n",
    "    return END"
   ]
  },
  {
   "cell_type": "code",
   "execution_count": 109,
   "metadata": {},
   "outputs": [],
   "source": [
    "#Let's create a workflow \n",
    "workflow = StateGraph(MessagesState)\n",
    "\n",
    "workflow.add_node(\"agent\", call_model1)\n",
    "workflow.add_node(\"tools\", tool_node)\n",
    "\n",
    "workflow.add_edge(START, \"agent\")\n",
    "\n",
    "workflow.add_conditional_edges(\"agent\",router_function,{\"tools\": \"tools\", END: END})#Conditional edges\n",
    "\n",
    "app = workflow.compile()"
   ]
  },
  {
   "cell_type": "code",
   "execution_count": 110,
   "metadata": {},
   "outputs": [
    {
     "data": {
      "image/png": "[encoded data removed]",
      "text/plain": [
       "<IPython.core.display.Image object>"
      ]
     },
     "metadata": {},
     "output_type": "display_data"
    }
   ],
   "source": [
    "from IPython.display import Image, display\n",
    "display(Image(app.get_graph().draw_mermaid_png()))"
   ]
  },
  {
   "cell_type": "code",
   "execution_count": 111,
   "metadata": {},
   "outputs": [
    {
     "data": {
      "text/plain": [
       "{'messages': [HumanMessage(content='hi how are you?', additional_kwargs={}, response_metadata={}, id='0932c00a-bf26-439e-a278-0ec7dfe22551'),\n",
       "  AIMessage(content='', additional_kwargs={'tool_calls': [{'id': 'call_k2ch', 'function': {'arguments': '{\"query\":\"hi how are you\"}', 'name': 'search'}, 'type': 'function'}]}, response_metadata={'token_usage': {'completion_tokens': 81, 'prompt_tokens': 941, 'total_tokens': 1022, 'completion_time': 0.147272727, 'prompt_time': 0.030218307, 'queue_time': 0.023226221, 'total_time': 0.177491034}, 'model_name': 'Gemma2-9b-It', 'system_fingerprint': 'fp_10c08bf97d', 'finish_reason': 'tool_calls', 'logprobs': None}, id='run-854dd2bd-abc3-4733-83f3-b6a37ed2b267-0', tool_calls=[{'name': 'search', 'args': {'query': 'hi how are you'}, 'id': 'call_k2ch', 'type': 'tool_call'}], usage_metadata={'input_tokens': 941, 'output_tokens': 81, 'total_tokens': 1022}),\n",
       "  ToolMessage(content=\"It's 40*C degrees and scootching heat.\", name='search', id='8dea279e-12ed-43c7-a1c2-ed0405223d84', tool_call_id='call_k2ch')]}"
      ]
     },
     "execution_count": 111,
     "metadata": {},
     "output_type": "execute_result"
    }
   ],
   "source": [
    "app.invoke({\"messages\": [\"hi how are you?\"]})"
   ]
  },
  {
   "cell_type": "code",
   "execution_count": 112,
   "metadata": {},
   "outputs": [
    {
     "data": {
      "text/plain": [
       "{'messages': [HumanMessage(content='what is the weather in ca?', additional_kwargs={}, response_metadata={}, id='575ade2d-7209-44ba-944d-3eb4bf5f0a42'),\n",
       "  AIMessage(content='', additional_kwargs={'tool_calls': [{'id': 'call_5rzx', 'function': {'arguments': '{\"query\":\"weather in ca\"}', 'name': 'search'}, 'type': 'function'}]}, response_metadata={'token_usage': {'completion_tokens': 80, 'prompt_tokens': 943, 'total_tokens': 1023, 'completion_time': 0.145454545, 'prompt_time': 0.030685466, 'queue_time': 0.024357283, 'total_time': 0.176140011}, 'model_name': 'Gemma2-9b-It', 'system_fingerprint': 'fp_10c08bf97d', 'finish_reason': 'tool_calls', 'logprobs': None}, id='run-bcf306ed-ee27-486b-b410-035b4e32bf46-0', tool_calls=[{'name': 'search', 'args': {'query': 'weather in ca'}, 'id': 'call_5rzx', 'type': 'tool_call'}], usage_metadata={'input_tokens': 943, 'output_tokens': 80, 'total_tokens': 1023}),\n",
       "  ToolMessage(content=\"It's 20*C degrees and Cold.\", name='search', id='a6d3a8bc-d643-472e-ade3-4f25f20cbed8', tool_call_id='call_5rzx')]}"
      ]
     },
     "execution_count": 112,
     "metadata": {},
     "output_type": "execute_result"
    }
   ],
   "source": [
    "app.invoke({\"messages\": [\"what is the weather in ca?\"]})"
   ]
  },
  {
   "cell_type": "code",
   "execution_count": 113,
   "metadata": {},
   "outputs": [
    {
     "name": "stderr",
     "output_type": "stream",
     "text": [
      "Adding an edge to a graph that has already been compiled. This will not be reflected in the compiled graph.\n"
     ]
    },
    {
     "data": {
      "text/plain": [
       "<langgraph.graph.state.StateGraph at 0x1d5584d2b30>"
      ]
     },
     "execution_count": 113,
     "metadata": {},
     "output_type": "execute_result"
    }
   ],
   "source": [
    "#create loop by adding another edge\n",
    "workflow.add_edge(\"tools\", 'agent')"
   ]
  },
  {
   "cell_type": "code",
   "execution_count": 114,
   "metadata": {},
   "outputs": [],
   "source": [
    "#Compile the workflow again\n",
    "app = workflow.compile()"
   ]
  },
  {
   "cell_type": "code",
   "execution_count": 115,
   "metadata": {},
   "outputs": [
    {
     "data": {
      "image/png": "[encoded data removed]",
      "text/plain": [
       "<IPython.core.display.Image object>"
      ]
     },
     "metadata": {},
     "output_type": "display_data"
    }
   ],
   "source": [
    "#Visualize the workflow\n",
    "from IPython.display import Image, display\n",
    "display(Image(app.get_graph().draw_mermaid_png()))"
   ]
  },
  {
   "cell_type": "code",
   "execution_count": 117,
   "metadata": {},
   "outputs": [
    {
     "name": "stdout",
     "output_type": "stream",
     "text": [
      "here is output from agent\n",
      "_______\n",
      "{'messages': [AIMessage(content='', additional_kwargs={'tool_calls': [{'id': 'call_g2t2', 'function': {'arguments': '{\"query\":\"weather in California\"}', 'name': 'search'}, 'type': 'function'}]}, response_metadata={'token_usage': {'completion_tokens': 82, 'prompt_tokens': 943, 'total_tokens': 1025, 'completion_time': 0.149090909, 'prompt_time': 0.039127358, 'queue_time': 0.026034931999999997, 'total_time': 0.188218267}, 'model_name': 'Gemma2-9b-It', 'system_fingerprint': 'fp_10c08bf97d', 'finish_reason': 'tool_calls', 'logprobs': None}, id='run-fdb90ba4-25d3-4d6e-808a-baa95ba8a682-0', tool_calls=[{'name': 'search', 'args': {'query': 'weather in California'}, 'id': 'call_g2t2', 'type': 'tool_call'}], usage_metadata={'input_tokens': 943, 'output_tokens': 82, 'total_tokens': 1025})]}\n",
      "\n",
      "\n",
      "here is output from tools\n",
      "_______\n",
      "{'messages': [ToolMessage(content=\"It's 20*C degrees and Cold.\", name='search', id='ebd059db-bc13-4ec5-8692-7cdaa84407b7', tool_call_id='call_g2t2')]}\n",
      "\n",
      "\n",
      "here is output from agent\n",
      "_______\n",
      "{'messages': [AIMessage(content=\"It's 20*C degrees and Cold. \\n\", additional_kwargs={}, response_metadata={'token_usage': {'completion_tokens': 16, 'prompt_tokens': 1027, 'total_tokens': 1043, 'completion_time': 0.029090909, 'prompt_time': 0.033470346, 'queue_time': 0.024989754000000003, 'total_time': 0.062561255}, 'model_name': 'Gemma2-9b-It', 'system_fingerprint': 'fp_10c08bf97d', 'finish_reason': 'stop', 'logprobs': None}, id='run-8ae1dd27-e84a-4f09-9c18-b1285c955a0a-0', usage_metadata={'input_tokens': 1027, 'output_tokens': 16, 'total_tokens': 1043})]}\n",
      "\n",
      "\n"
     ]
    }
   ],
   "source": [
    "for output in app.stream({\"messages\": [\"what is the weather in California?\"]}):\n",
    "    for key,value in output.items():\n",
    "        print(f\"here is output from {key}\")\n",
    "        print(\"_______\")\n",
    "        print(value)\n",
    "        print(\"\\n\")"
   ]
  },
  {
   "cell_type": "code",
   "execution_count": 118,
   "metadata": {},
   "outputs": [],
   "source": [
    "#Add Memory\n",
    "from langgraph.checkpoint.memory import MemorySaver\n",
    "\n",
    "memory = MemorySaver()"
   ]
  },
  {
   "cell_type": "code",
   "execution_count": 119,
   "metadata": {},
   "outputs": [
    {
     "data": {
      "text/plain": [
       "<langgraph.graph.state.StateGraph at 0x1d55823ba60>"
      ]
     },
     "execution_count": 119,
     "metadata": {},
     "output_type": "execute_result"
    }
   ],
   "source": [
    "#workflow\n",
    "workflow3 = StateGraph(MessagesState)\n",
    "\n",
    "workflow3.add_node(\"agent\", call_model1)\n",
    "workflow3.add_node(\"tools\", tool_node)\n",
    "\n",
    "workflow3.add_edge(START, \"agent\")\n",
    "\n",
    "workflow3.add_conditional_edges(\"agent\",router_function,{\"tools\": \"tools\", END: END})\n",
    "\n",
    "workflow3.add_edge(\"tools\", 'agent')"
   ]
  },
  {
   "cell_type": "code",
   "execution_count": 120,
   "metadata": {},
   "outputs": [],
   "source": [
    "#While compile i pass the Checkpointer along with memory object\n",
    "app3 = workflow3.compile(checkpointer = memory)"
   ]
  },
  {
   "cell_type": "code",
   "execution_count": 121,
   "metadata": {},
   "outputs": [
    {
     "data": {
      "image/png": "[encoded data removed]",
      "text/plain": [
       "<IPython.core.display.Image object>"
      ]
     },
     "metadata": {},
     "output_type": "display_data"
    }
   ],
   "source": [
    "#Visualize the workflow\n",
    "from IPython.display import Image, display\n",
    "\n",
    "try:\n",
    "    display(Image(app3.get_graph().draw_mermaid_png()))\n",
    "except Exception:\n",
    "    # This requires some extra dependencies and is optional\n",
    "    pass"
   ]
  },
  {
   "cell_type": "code",
   "execution_count": 122,
   "metadata": {},
   "outputs": [],
   "source": [
    "config = {\"configurable\": {\"thread_id\": \"1\"}} #thread id 1 indicates that single conversation.\n",
    "\n",
    "#Capture the entire conversation in the memory if i shutdown the workstation then again i can start the conversation from where i left.\n",
    "#That will be my thread 2 and the conversation will be stored in the thread 2."
   ]
  },
  {
   "cell_type": "code",
   "execution_count": 123,
   "metadata": {},
   "outputs": [],
   "source": [
    "events = app3.stream(\n",
    "    {\"messages\": [\"Hi there! My name is Amar.\"]}, config, stream_mode=\"values\"\n",
    ")"
   ]
  },
  {
   "cell_type": "code",
   "execution_count": 124,
   "metadata": {},
   "outputs": [
    {
     "name": "stdout",
     "output_type": "stream",
     "text": [
      "================================\u001b[1m Human Message \u001b[0m=================================\n",
      "\n",
      "Hi there! My name is Amar.\n",
      "==================================\u001b[1m Ai Message \u001b[0m==================================\n",
      "Tool Calls:\n",
      "  search (call_j8mf)\n",
      " Call ID: call_j8mf\n",
      "  Args:\n",
      "    query: Hi there! My name is Amar.\n",
      "=================================\u001b[1m Tool Message \u001b[0m=================================\n",
      "Name: search\n",
      "\n",
      "It's 40*C degrees and scootching heat.\n",
      "==================================\u001b[1m Ai Message \u001b[0m==================================\n",
      "Tool Calls:\n",
      "  search (call_a20s)\n",
      " Call ID: call_a20s\n",
      "  Args:\n",
      "    query: What is the weather like?\n",
      "=================================\u001b[1m Tool Message \u001b[0m=================================\n",
      "Name: search\n",
      "\n",
      "It's 40*C degrees and scootching heat.\n",
      "==================================\u001b[1m Ai Message \u001b[0m==================================\n",
      "\n",
      "It's 40*C degrees and scootching heat.\n"
     ]
    }
   ],
   "source": [
    "#output in the form of stream\n",
    "for event in events:\n",
    "    event[\"messages\"][-1].pretty_print()"
   ]
  },
  {
   "cell_type": "code",
   "execution_count": 125,
   "metadata": {},
   "outputs": [],
   "source": [
    "events = app3.stream(\n",
    "    {\"messages\": [\"can you tell me what was my name?\"]}, config, stream_mode=\"values\"\n",
    ")"
   ]
  },
  {
   "cell_type": "code",
   "execution_count": 126,
   "metadata": {},
   "outputs": [
    {
     "name": "stdout",
     "output_type": "stream",
     "text": [
      "================================\u001b[1m Human Message \u001b[0m=================================\n",
      "\n",
      "can you tell me what was my name?\n",
      "==================================\u001b[1m Ai Message \u001b[0m==================================\n",
      "\n",
      "Amar\n"
     ]
    }
   ],
   "source": [
    "for event in events:\n",
    "    event[\"messages\"][-1].pretty_print()"
   ]
  },
  {
   "cell_type": "code",
   "execution_count": 127,
   "metadata": {},
   "outputs": [
    {
     "data": {
      "text/plain": [
       "{'v': 1,\n",
       " 'ts': '2025-01-24T12:52:15.048038+00:00',\n",
       " 'id': '1efda520-9547-6dff-8008-00a36aa9c107',\n",
       " 'channel_values': {'messages': [HumanMessage(content='Hi there! My name is Amar.', additional_kwargs={}, response_metadata={}, id='08c05fb1-9587-433f-9c73-46a8d6d86816'),\n",
       "   AIMessage(content='', additional_kwargs={'tool_calls': [{'id': 'call_j8mf', 'function': {'arguments': '{\"query\":\"Hi there! My name is Amar.\"}', 'name': 'search'}, 'type': 'function'}]}, response_metadata={'token_usage': {'completion_tokens': 86, 'prompt_tokens': 944, 'total_tokens': 1030, 'completion_time': 0.156363636, 'prompt_time': 0.030163064, 'queue_time': 0.024051916000000003, 'total_time': 0.1865267}, 'model_name': 'Gemma2-9b-It', 'system_fingerprint': 'fp_10c08bf97d', 'finish_reason': 'tool_calls', 'logprobs': None}, id='run-64785eb8-0bb6-49c0-9068-5681007cefec-0', tool_calls=[{'name': 'search', 'args': {'query': 'Hi there! My name is Amar.'}, 'id': 'call_j8mf', 'type': 'tool_call'}], usage_metadata={'input_tokens': 944, 'output_tokens': 86, 'total_tokens': 1030}),\n",
       "   ToolMessage(content=\"It's 40*C degrees and scootching heat.\", name='search', id='95cee976-62be-4628-bda3-9543fc0d10b0', tool_call_id='call_j8mf'),\n",
       "   AIMessage(content='', additional_kwargs={'tool_calls': [{'id': 'call_a20s', 'function': {'arguments': '{\"query\":\"What is the weather like?\"}', 'name': 'search'}, 'type': 'function'}]}, response_metadata={'token_usage': {'completion_tokens': 49, 'prompt_tokens': 1034, 'total_tokens': 1083, 'completion_time': 0.089090909, 'prompt_time': 0.033185987, 'queue_time': 0.025055453, 'total_time': 0.122276896}, 'model_name': 'Gemma2-9b-It', 'system_fingerprint': 'fp_10c08bf97d', 'finish_reason': 'tool_calls', 'logprobs': None}, id='run-04971335-2575-4b10-9de7-51ded8af79cc-0', tool_calls=[{'name': 'search', 'args': {'query': 'What is the weather like?'}, 'id': 'call_a20s', 'type': 'tool_call'}], usage_metadata={'input_tokens': 1034, 'output_tokens': 49, 'total_tokens': 1083}),\n",
       "   ToolMessage(content=\"It's 40*C degrees and scootching heat.\", name='search', id='fe8c579a-6bff-4f6f-8b60-d2ff5745a004', tool_call_id='call_a20s'),\n",
       "   AIMessage(content=\"It's 40*C degrees and scootching heat. \\n\", additional_kwargs={}, response_metadata={'token_usage': {'completion_tokens': 19, 'prompt_tokens': 1124, 'total_tokens': 1143, 'completion_time': 0.034545455, 'prompt_time': 0.036131671, 'queue_time': 0.022291529000000004, 'total_time': 0.070677126}, 'model_name': 'Gemma2-9b-It', 'system_fingerprint': 'fp_10c08bf97d', 'finish_reason': 'stop', 'logprobs': None}, id='run-2adc7404-37d8-4f63-acd3-07dc2f8f41b0-0', usage_metadata={'input_tokens': 1124, 'output_tokens': 19, 'total_tokens': 1143}),\n",
       "   HumanMessage(content='can you tell me what was my name?', additional_kwargs={}, response_metadata={}, id='5b26cba2-9446-4c6d-939b-23c6250fcd0a'),\n",
       "   AIMessage(content='Amar', additional_kwargs={}, response_metadata={'token_usage': {'completion_tokens': 3, 'prompt_tokens': 1160, 'total_tokens': 1163, 'completion_time': 0.005454545, 'prompt_time': 0.037504251, 'queue_time': 0.026158246999999996, 'total_time': 0.042958796}, 'model_name': 'Gemma2-9b-It', 'system_fingerprint': 'fp_10c08bf97d', 'finish_reason': 'stop', 'logprobs': None}, id='run-892db543-8424-412a-93d1-e5bf1ce12ac9-0', usage_metadata={'input_tokens': 1160, 'output_tokens': 3, 'total_tokens': 1163})],\n",
       "  'agent': 'agent'},\n",
       " 'channel_versions': {'__start__': '00000000000000000000000000000009.0.3518336408058317',\n",
       "  'messages': '00000000000000000000000000000010.0.06860966918220512',\n",
       "  'start:agent': '00000000000000000000000000000010.0.24401417672779402',\n",
       "  'agent': '00000000000000000000000000000010.0.30045228356127085',\n",
       "  'branch:agent:router_function:tools': '00000000000000000000000000000006.0.4339143458857796',\n",
       "  'tools': '00000000000000000000000000000007.0.5791138906108562'},\n",
       " 'versions_seen': {'__input__': {},\n",
       "  '__start__': {'__start__': '00000000000000000000000000000008.0.8468259002768986'},\n",
       "  'agent': {'start:agent': '00000000000000000000000000000009.0.5831617892719191',\n",
       "   'tools': '00000000000000000000000000000006.0.29295481756934694'},\n",
       "  'tools': {'branch:agent:router_function:tools': '00000000000000000000000000000005.0.44389877412837275'}},\n",
       " 'pending_sends': []}"
      ]
     },
     "execution_count": 127,
     "metadata": {},
     "output_type": "execute_result"
    }
   ],
   "source": [
    "#memory check\n",
    "memory.get(config)"
   ]
  },
  {
   "cell_type": "code",
   "execution_count": null,
   "metadata": {},
   "outputs": [],
   "source": []
  }
 ],
 "metadata": {
  "kernelspec": {
   "display_name": "langgraphe2e",
   "language": "python",
   "name": "python3"
  },
  "language_info": {
   "codemirror_mode": {
    "name": "ipython",
    "version": 3
   },
   "file_extension": ".py",
   "mimetype": "text/x-python",
   "name": "python",
   "nbconvert_exporter": "python",
   "pygments_lexer": "ipython3",
   "version": "3.10.16"
  }
 },
 "nbformat": 4,
 "nbformat_minor": 2
}
