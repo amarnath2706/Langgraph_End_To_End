{
 "cells": [
  {
   "cell_type": "code",
   "execution_count": 1,
   "metadata": {},
   "outputs": [],
   "source": [
    "from typing import Annotated\n",
    "import operator,json\n",
    "from typing import TypedDict, Annotated, Sequence\n",
    "from typing_extensions import TypedDict\n",
    "from langchain_core.messages import BaseMessage\n",
    "from langgraph.checkpoint.memory import MemorySaver\n",
    "from langgraph.graph import StateGraph,END,START\n",
    "from langgraph.graph.message import add_messages\n",
    "from langgraph.prebuilt import ToolNode, tools_condition\n",
    "from langchain_core.tools import tool\n",
    "from langchain_community.tools.tavily_search import TavilySearchResults"
   ]
  },
  {
   "cell_type": "code",
   "execution_count": 2,
   "metadata": {},
   "outputs": [],
   "source": [
    "from langchain_groq import ChatGroq\n",
    "llm=ChatGroq(model_name=\"Gemma2-9b-It\")"
   ]
  },
  {
   "cell_type": "code",
   "execution_count": 3,
   "metadata": {},
   "outputs": [
    {
     "data": {
      "text/plain": [
       "AIMessage(content='Hello! 👋\\n\\nHow can I help you today? 😊\\n', additional_kwargs={}, response_metadata={'token_usage': {'completion_tokens': 15, 'prompt_tokens': 10, 'total_tokens': 25, 'completion_time': 0.027272727, 'prompt_time': 6.2e-07, 'queue_time': 0.024373859, 'total_time': 0.027273347}, 'model_name': 'Gemma2-9b-It', 'system_fingerprint': 'fp_10c08bf97d', 'finish_reason': 'stop', 'logprobs': None}, id='run-ce147400-ea90-43dd-8d0c-c659e5a93702-0', usage_metadata={'input_tokens': 10, 'output_tokens': 15, 'total_tokens': 25})"
      ]
     },
     "execution_count": 3,
     "metadata": {},
     "output_type": "execute_result"
    }
   ],
   "source": [
    "llm.invoke(\"hi\")"
   ]
  },
  {
   "cell_type": "code",
   "execution_count": 4,
   "metadata": {},
   "outputs": [
    {
     "data": {
      "text/plain": [
       "'Hello! 👋  How can I help you today?\\n'"
      ]
     },
     "execution_count": 4,
     "metadata": {},
     "output_type": "execute_result"
    }
   ],
   "source": [
    "llm.invoke(\"hi\").content"
   ]
  },
  {
   "cell_type": "code",
   "execution_count": 5,
   "metadata": {},
   "outputs": [],
   "source": [
    "@tool\n",
    "def multiply(first_number:int, second_number:int)->int:\n",
    "    \"\"\"multiply two integer number\"\"\"\n",
    "    return first_number * second_number"
   ]
  },
  {
   "cell_type": "code",
   "execution_count": 6,
   "metadata": {},
   "outputs": [
    {
     "name": "stderr",
     "output_type": "stream",
     "text": [
      "C:\\Users\\Toshiba\\AppData\\Local\\Temp\\ipykernel_3780\\623416424.py:1: LangChainDeprecationWarning: The method `BaseTool.__call__` was deprecated in langchain-core 0.1.47 and will be removed in 1.0. Use :meth:`~invoke` instead.\n",
      "  multiply({\"first_number\":20,\"second_number\":27})\n"
     ]
    },
    {
     "data": {
      "text/plain": [
       "540"
      ]
     },
     "execution_count": 6,
     "metadata": {},
     "output_type": "execute_result"
    }
   ],
   "source": [
    "multiply({\"first_number\":20,\"second_number\":27})"
   ]
  },
  {
   "cell_type": "code",
   "execution_count": 7,
   "metadata": {},
   "outputs": [
    {
     "data": {
      "text/plain": [
       "540"
      ]
     },
     "execution_count": 7,
     "metadata": {},
     "output_type": "execute_result"
    }
   ],
   "source": [
    "multiply.invoke({\"first_number\":20,\"second_number\":27})"
   ]
  },
  {
   "cell_type": "code",
   "execution_count": 8,
   "metadata": {},
   "outputs": [],
   "source": [
    "@tool\n",
    "def search(query:str):\n",
    "    \"\"\"perform the web search on the user query\"\"\"\n",
    "    tavily=TavilySearchResults()\n",
    "    result=tavily.invoke(query)\n",
    "    return result"
   ]
  },
  {
   "cell_type": "code",
   "execution_count": 9,
   "metadata": {},
   "outputs": [
    {
     "data": {
      "text/plain": [
       "[{'url': 'https://www.bbc.co.uk/newsround/articles/ce3nq0rexqeo',\n",
       "  'content': 'Donald Trump officially becomes new US president - BBC Newsround Donald Trump officially becomes new US president In a special ceremony called an inauguration, President Trump took over from Joe Biden as America\\'s new leader. In his first speech as president after swearing the oath, Mr Trump promised to make America \"greater, stronger, and far more exceptional than ever before\". It\\'s the second time that Mr Trump has taken on the role - having previously served as president before Joe Biden, between 2017-2021. Donald Trump: What happens at the inauguration of the new US president? What are Donald Trump\\'s plans as president? Following his oath, Mr Trump gave his first speech as president - which is known as the Inaugural Address.'},\n",
       " {'url': 'https://www.usa.gov/presidents',\n",
       "  'content': 'Vice president of the United States\\nThe vice president of the United States presides over the U.S. Senate and takes over the role of president of the United States if the president is unable to perform his or her duties. President of the United States\\nThe president of the United States is the:\\nCurrent president\\nThe 46th and current president of the United States is Joseph R. Biden, Jr. First lady\\nThe First lady of the United States has traditionally been the wife or other close female relative of the president of the United States. Requirements to be eligible to become president\\nAccording to Article II of the U.S. Constitution, the president must:\\nLearn about the U.S. presidential election process.\\n If the vice president is not able to fulfill the duties of president, the role is passed to another leader in the order of presidential succession.\\n'},\n",
       " {'url': 'https://www.pbs.org/newshour/politics/donald-trump-sworn-in-as-47th-president-of-the-united-states',\n",
       "  'content': 'Donald Trump sworn in as 47th president of the United States | PBS News https://www.pbs.org/newshour/politics/donald-trump-sworn-in-as-47th-president-of-the-united-states You can watch all Inauguration Day events Monday on our livestream here, find a planned lineup of events, review President-elect Donald Trump’s sweeping promises and learn what’s changed since he was sworn into office eight years ago. During his second in 2014, he paired it with a Bible that had belonged to the Rev. Martin Luther King Jr. Left: WASHINGTON, DC - JANUARY 20: U.S. President-elect Donald Trump arrives for inauguration ceremonies in the Rotunda of the U.S. Capitol on January 20, 2025 in Washington, DC. Donald Trump takes office for his second term as the 47th president of the United States.'},\n",
       " {'url': 'https://news.sky.com/story/donald-trump-sworn-in-as-us-president-for-second-time-13293105',\n",
       "  'content': 'Donald Trump sworn in as US president for second time, telling Americans: \\'The golden age begins right now\\' | US News | Sky News Donald Trump sworn in as US president for second time, telling Americans: \\'The golden age begins right now\\' \\'I was saved by God to make America great again,\" President Donald Trump said in his inaugural address. Donald Trump has been sworn in as the 47th President of the United States, completing perhaps the most remarkable political comeback in American history. Proclaiming that a \"golden age begins right now\", Mr Trump also said he would rename the Gulf of Mexico the \"Gulf of America\" and take back the Panama Canal in his inauguration address. Image: Donald Trump sings the freedom of speech executive order during the inaugural parade.'},\n",
       " {'url': 'https://www.nbcnews.com/politics/2024-election/trump-wins-election-president-harris-defeat-2024-race-rcna176107',\n",
       "  'content': 'Donald Trump defeats Kamala Harris to become the next U.S. president, NBC News projects BREAKING: Donald Trump is elected 47th president of the United States, NBC News projects Donald Trump defeats Kamala Harris to become the next U.S. president, NBC News projects Donald Trump defeats Kamala Harris to become the next U.S. president, NBC News projects Trump will make history as the 45th and now 47th president, NBC News projects, saying he will fix an ailing country and despite warnings he will rule as an authoritarian. NBC News projects Donald Trump is elected 47th president of the United States NBC News projected the Trump victory over Harris, who was the first woman of color to win a major party nomination for president, early Wednesday morning.'}]"
      ]
     },
     "execution_count": 9,
     "metadata": {},
     "output_type": "execute_result"
    }
   ],
   "source": [
    "search(\"who is the new president of USA?\")"
   ]
  },
  {
   "cell_type": "code",
   "execution_count": 10,
   "metadata": {},
   "outputs": [
    {
     "data": {
      "text/plain": [
       "[{'url': 'https://www.usnews.com/news/politics/articles/2025-01-20/inauguration-day-latest-biden-pardons-fauci-milley-and-jan-6-committee-before-trump-takes-office',\n",
       "  'content': 'President Joe Biden and President-elect Donald Trump walk out to the presidential limousine, as they depart the White House, Monday, Jan. 20, 2025, in Washington, enroute to the Capitol. WASHINGTON (AP) — Donald Trump, who overcame impeachments, criminal indictments and a pair of assassination attempts to win another term in the White House, will be sworn in Monday as the 47th U.S. president taking charge as Republicans claim unified control of Washington and set out to reshape the country’s institutions. “Feel great,” said House Majority Leader Steve Scalise, R-La. President-elect Donald Trump and Vice President-elect JD Vance arrive at the Capitol ahead of their inauguration “Welcome home,” Biden said to Trump after the president-elect stepped out of the car.'},\n",
       " {'url': 'https://www.usa.gov/presidents',\n",
       "  'content': 'Vice president of the United States\\nThe vice president of the United States presides over the U.S. Senate and takes over the role of president of the United States if the president is unable to perform his or her duties. President of the United States\\nThe president of the United States is the:\\nCurrent president\\nThe 46th and current president of the United States is Joseph R. Biden, Jr. First lady\\nThe First lady of the United States has traditionally been the wife or other close female relative of the president of the United States. Requirements to be eligible to become president\\nAccording to Article II of the U.S. Constitution, the president must:\\nLearn about the U.S. presidential election process.\\n If the vice president is not able to fulfill the duties of president, the role is passed to another leader in the order of presidential succession.\\n'},\n",
       " {'url': 'https://www.bbc.com/news/world-us-canada-55736856',\n",
       "  'content': 'The new president took his oath of office with Chief Justice John G Roberts. Highlighting a message of unity after the turbulent Trump years, he promised to be a president \"for all Americans'},\n",
       " {'url': 'https://www.nbcnews.com/politics/2024-election/trump-wins-election-president-harris-defeat-2024-race-rcna176107',\n",
       "  'content': 'Donald Trump defeats Kamala Harris to become the next U.S. president, NBC News projects BREAKING: Donald Trump is elected 47th president of the United States, NBC News projects Donald Trump defeats Kamala Harris to become the next U.S. president, NBC News projects Donald Trump defeats Kamala Harris to become the next U.S. president, NBC News projects Trump will make history as the 45th and now 47th president, NBC News projects, saying he will fix an ailing country and despite warnings he will rule as an authoritarian. NBC News projects Donald Trump is elected 47th president of the United States NBC News projected the Trump victory over Harris, who was the first woman of color to win a major party nomination for president, early Wednesday morning.'},\n",
       " {'url': 'https://www.cnn.com/politics/live-news/2024-election-trump-harris/index.html',\n",
       "  'content': 'Live updates: 2024 presidential election | CNN Politics CNN10 CNN 5 Things About CNN Work for CNN Getty ImagesLive Updates Harris and Trump in final sprint to Election Day • Vice President Kamala Harris and former President Donald Trump are holding their final campaign events in battleground states ahead of Election Day. Harris is speaking in Pennsylvania while Trump delivers remarks in Michigan. In those eight elections since 1988, the only time the blue wall states went to a Republican was in 2016, when they were won by Trump. Ahead of election night, read up on the 2024 candidates on the Democratic and Republican tickets vying to win the White House. CNN10 CNN 5 Things About CNN Work for CNN'}]"
      ]
     },
     "execution_count": 10,
     "metadata": {},
     "output_type": "execute_result"
    }
   ],
   "source": [
    "search.invoke(\"who is the new president of USA?\")"
   ]
  },
  {
   "cell_type": "code",
   "execution_count": 11,
   "metadata": {},
   "outputs": [],
   "source": [
    "tools=[search,multiply]"
   ]
  },
  {
   "cell_type": "code",
   "execution_count": 12,
   "metadata": {},
   "outputs": [],
   "source": [
    "model_with_tools = llm.bind_tools(tools)"
   ]
  },
  {
   "cell_type": "code",
   "execution_count": 13,
   "metadata": {},
   "outputs": [],
   "source": [
    "tool_mapping={tool.name: tool for tool in tools}"
   ]
  },
  {
   "cell_type": "code",
   "execution_count": 14,
   "metadata": {},
   "outputs": [
    {
     "data": {
      "text/plain": [
       "{'search': StructuredTool(name='search', description='perform the web search on the user query', args_schema=<class 'langchain_core.utils.pydantic.search'>, func=<function search at 0x000002290A1C4AF0>),\n",
       " 'multiply': StructuredTool(name='multiply', description='multiply two integer number', args_schema=<class 'langchain_core.utils.pydantic.multiply'>, func=<function multiply at 0x0000022906722DD0>)}"
      ]
     },
     "execution_count": 14,
     "metadata": {},
     "output_type": "execute_result"
    }
   ],
   "source": [
    "tool_mapping"
   ]
  },
  {
   "cell_type": "code",
   "execution_count": 23,
   "metadata": {},
   "outputs": [],
   "source": [
    "response = model_with_tools.invoke(\"who is the new president of USA?\")"
   ]
  },
  {
   "cell_type": "code",
   "execution_count": 25,
   "metadata": {},
   "outputs": [
    {
     "data": {
      "text/plain": [
       "AIMessage(content='', additional_kwargs={'tool_calls': [{'id': 'call_km3n', 'function': {'arguments': '{\"query\":\"who is the new president of USA\"}', 'name': 'search'}, 'type': 'function'}]}, response_metadata={'token_usage': {'completion_tokens': 85, 'prompt_tokens': 1076, 'total_tokens': 1161, 'completion_time': 0.154545455, 'prompt_time': 0.034723759, 'queue_time': 0.023374611000000003, 'total_time': 0.189269214}, 'model_name': 'Gemma2-9b-It', 'system_fingerprint': 'fp_10c08bf97d', 'finish_reason': 'tool_calls', 'logprobs': None}, id='run-02c7649f-435f-471e-a5b1-2761d078c2d2-0', tool_calls=[{'name': 'search', 'args': {'query': 'who is the new president of USA'}, 'id': 'call_km3n', 'type': 'tool_call'}], usage_metadata={'input_tokens': 1076, 'output_tokens': 85, 'total_tokens': 1161})"
      ]
     },
     "execution_count": 25,
     "metadata": {},
     "output_type": "execute_result"
    }
   ],
   "source": [
    "response #here it is not returning the result because it is in the process of calling the search tool only"
   ]
  },
  {
   "cell_type": "code",
   "execution_count": 26,
   "metadata": {},
   "outputs": [],
   "source": [
    "tool_details=response.additional_kwargs.get(\"tool_calls\")"
   ]
  },
  {
   "cell_type": "code",
   "execution_count": 27,
   "metadata": {},
   "outputs": [
    {
     "data": {
      "text/plain": [
       "[{'id': 'call_km3n',\n",
       "  'function': {'arguments': '{\"query\":\"who is the new president of USA\"}',\n",
       "   'name': 'search'},\n",
       "  'type': 'function'}]"
      ]
     },
     "execution_count": 27,
     "metadata": {},
     "output_type": "execute_result"
    }
   ],
   "source": [
    "tool_details"
   ]
  },
  {
   "cell_type": "code",
   "execution_count": 28,
   "metadata": {},
   "outputs": [
    {
     "data": {
      "text/plain": [
       "'search'"
      ]
     },
     "execution_count": 28,
     "metadata": {},
     "output_type": "execute_result"
    }
   ],
   "source": [
    "tool_details[0][\"function\"][\"name\"]"
   ]
  },
  {
   "cell_type": "code",
   "execution_count": 29,
   "metadata": {},
   "outputs": [
    {
     "data": {
      "text/plain": [
       "'{\"query\":\"who is the new president of USA\"}'"
      ]
     },
     "execution_count": 29,
     "metadata": {},
     "output_type": "execute_result"
    }
   ],
   "source": [
    "tool_details[0][\"function\"][\"arguments\"]"
   ]
  },
  {
   "cell_type": "code",
   "execution_count": 31,
   "metadata": {},
   "outputs": [
    {
     "data": {
      "text/plain": [
       "{'query': 'who is the new president of USA'}"
      ]
     },
     "execution_count": 31,
     "metadata": {},
     "output_type": "execute_result"
    }
   ],
   "source": [
    "json.loads(tool_details[0][\"function\"][\"arguments\"])"
   ]
  },
  {
   "cell_type": "code",
   "execution_count": 30,
   "metadata": {},
   "outputs": [
    {
     "data": {
      "text/plain": [
       "[{'url': 'https://www.bbc.co.uk/newsround/articles/ce3nq0rexqeo',\n",
       "  'content': 'Donald Trump officially becomes new US president - BBC Newsround Donald Trump officially becomes new US president In a special ceremony called an inauguration, President Trump took over from Joe Biden as America\\'s new leader. In his first speech as president after swearing the oath, Mr Trump promised to make America \"greater, stronger, and far more exceptional than ever before\". It\\'s the second time that Mr Trump has taken on the role - having previously served as president before Joe Biden, between 2017-2021. Donald Trump: What happens at the inauguration of the new US president? What are Donald Trump\\'s plans as president? Following his oath, Mr Trump gave his first speech as president - which is known as the Inaugural Address.'},\n",
       " {'url': 'https://www.rollingstone.com/politics/politics-news/donald-trump-sworn-in-47th-president-united-states-1235241770/',\n",
       "  'content': 'Outgoing President Joe Biden greeted incoming President Donald Trump at the north portico of the White House on Monday with an enthusiastic “Welcome home!” The first families enjoyed tea together, and a few hours later Trump, a convicted felon who attempted to overturn the results of a free and fair election four years ago, was sworn in as the 47th president inside the Capitol his supporters violently attacked in an effort to keep him in power. Michael Fanone, a retired D.C. police officer who was assaulted by pro-Trump rioters on Jan. 6, told The New York Times that it’s “insane that we live in a country where the president of the United States feels the need to offer a pre-emptive pardon to American citizens who testified in an investigation regarding an insurrection which was incited by the incoming president because he’s promised to enact, or exact, vengeance on those participants and the body that investigated them.”'},\n",
       " {'url': 'https://www.usa.gov/presidents',\n",
       "  'content': 'Vice president of the United States\\nThe vice president of the United States presides over the U.S. Senate and takes over the role of president of the United States if the president is unable to perform his or her duties. President of the United States\\nThe president of the United States is the:\\nCurrent president\\nThe 46th and current president of the United States is Joseph R. Biden, Jr. First lady\\nThe First lady of the United States has traditionally been the wife or other close female relative of the president of the United States. Requirements to be eligible to become president\\nAccording to Article II of the U.S. Constitution, the president must:\\nLearn about the U.S. presidential election process.\\n If the vice president is not able to fulfill the duties of president, the role is passed to another leader in the order of presidential succession.\\n'},\n",
       " {'url': 'https://www.pbs.org/newshour/politics/donald-trump-sworn-in-as-47th-president-of-the-united-states',\n",
       "  'content': 'Donald Trump sworn in as 47th president of the United States | PBS News https://www.pbs.org/newshour/politics/donald-trump-sworn-in-as-47th-president-of-the-united-states You can watch all Inauguration Day events Monday on our livestream here, find a planned lineup of events, review President-elect Donald Trump’s sweeping promises and learn what’s changed since he was sworn into office eight years ago. During his second in 2014, he paired it with a Bible that had belonged to the Rev. Martin Luther King Jr. Left: WASHINGTON, DC - JANUARY 20: U.S. President-elect Donald Trump arrives for inauguration ceremonies in the Rotunda of the U.S. Capitol on January 20, 2025 in Washington, DC. Donald Trump takes office for his second term as the 47th president of the United States.'},\n",
       " {'url': 'https://news.sky.com/story/donald-trump-sworn-in-as-us-president-for-second-time-13293105',\n",
       "  'content': 'Donald Trump sworn in as US president for second time, telling Americans: \\'The golden age begins right now\\' | US News | Sky News Donald Trump sworn in as US president for second time, telling Americans: \\'The golden age begins right now\\' \\'I was saved by God to make America great again,\" President Donald Trump said in his inaugural address. Donald Trump has been sworn in as the 47th President of the United States, completing perhaps the most remarkable political comeback in American history. Proclaiming that a \"golden age begins right now\", Mr Trump also said he would rename the Gulf of Mexico the \"Gulf of America\" and take back the Panama Canal in his inauguration address. Image: Donald Trump sings the freedom of speech executive order during the inaugural parade.'}]"
      ]
     },
     "execution_count": 30,
     "metadata": {},
     "output_type": "execute_result"
    }
   ],
   "source": [
    "tool_mapping[tool_details[0][\"function\"][\"name\"]].invoke(json.loads(tool_details[0][\"function\"][\"arguments\"]))"
   ]
  },
  {
   "cell_type": "code",
   "execution_count": 15,
   "metadata": {},
   "outputs": [],
   "source": [
    "class AgentState(TypedDict): #Capture the message [list] of the entire execution.\n",
    "    messages: Annotated[Sequence[BaseMessage], operator.add]"
   ]
  },
  {
   "cell_type": "code",
   "execution_count": 16,
   "metadata": {},
   "outputs": [],
   "source": [
    "def invoke_model(state:AgentState):\n",
    "    messages = state['messages']\n",
    "    question = messages[-1]   ## Fetching the user question\n",
    "    return {\"messages\":[model_with_tools.invoke(question)]}"
   ]
  },
  {
   "cell_type": "code",
   "execution_count": 17,
   "metadata": {},
   "outputs": [],
   "source": [
    "def invoke_tool(state:AgentState):\n",
    "    tool_details= state['messages'][-1].additional_kwargs.get(\"tool_calls\", [])[0]\n",
    "    \n",
    "    if tool_details is None:\n",
    "        raise Exception(\"no tool call found\")\n",
    "    \n",
    "    print(f'Selected tool: {tool_details.get(\"function\").get(\"name\")}')\n",
    "    \n",
    "    if tool_details.get(\"function\").get(\"name\")==\"search\": #Human intervention\n",
    "        response = input(prompt=f\"[y/n] continue with expensive web search?\")\n",
    "        if response == \"n\":\n",
    "            raise Exception(\"web search discard\")\n",
    "    #Final call with custom logic\n",
    "    response = tool_mapping[tool_details['function']['name']].invoke(json.loads(tool_details.get(\"function\").get(\"arguments\")))\n",
    "    return {\"messages\" : [response]}"
   ]
  },
  {
   "cell_type": "code",
   "execution_count": 18,
   "metadata": {},
   "outputs": [],
   "source": [
    "def router(state):\n",
    "    tool_calls = state['messages'][-1].additional_kwargs.get(\"tool_calls\", [])\n",
    "    if len(tool_calls):\n",
    "        return \"tool\"\n",
    "    else:\n",
    "        return \"end\""
   ]
  },
  {
   "cell_type": "code",
   "execution_count": 19,
   "metadata": {},
   "outputs": [
    {
     "data": {
      "text/plain": [
       "<langgraph.graph.state.StateGraph at 0x2290a1e1540>"
      ]
     },
     "execution_count": 19,
     "metadata": {},
     "output_type": "execute_result"
    }
   ],
   "source": [
    "graph = StateGraph(AgentState) ### StateGraph with AgentState\n",
    "\n",
    "graph.add_node(\"ai_assistant\", invoke_model)\n",
    "\n",
    "graph.add_node(\"tool\", invoke_tool)"
   ]
  },
  {
   "cell_type": "code",
   "execution_count": 20,
   "metadata": {},
   "outputs": [
    {
     "data": {
      "text/plain": [
       "<langgraph.graph.state.StateGraph at 0x2290a1e1540>"
      ]
     },
     "execution_count": 20,
     "metadata": {},
     "output_type": "execute_result"
    }
   ],
   "source": [
    "graph.add_conditional_edges(\"ai_assistant\", router, {\"tool\": \"tool\",\"end\": END,})\n",
    "\n",
    "graph.add_edge(\"tool\", END)\n",
    "\n",
    "#graph.add_edge(\"tool\", \"ai_assistant\")\n",
    "\n",
    "graph.set_entry_point(\"ai_assistant\")"
   ]
  },
  {
   "cell_type": "code",
   "execution_count": 21,
   "metadata": {},
   "outputs": [],
   "source": [
    "app = graph.compile()"
   ]
  },
  {
   "cell_type": "code",
   "execution_count": 22,
   "metadata": {},
   "outputs": [
    {
     "data": {
      "image/png": "[encoded data removed]",
      "text/plain": [
       "<IPython.core.display.Image object>"
      ]
     },
     "metadata": {},
     "output_type": "display_data"
    }
   ],
   "source": [
    "from IPython.display import Image, display\n",
    "display(Image(app.get_graph().draw_mermaid_png()))"
   ]
  },
  {
   "cell_type": "code",
   "execution_count": 32,
   "metadata": {},
   "outputs": [
    {
     "name": "stdout",
     "output_type": "stream",
     "text": [
      "{'messages': [AIMessage(content='', additional_kwargs={'tool_calls': [{'id': 'call_jnq5', 'function': {'arguments': '{\"query\":\"who is the new president of USA\"}', 'name': 'search'}, 'type': 'function'}]}, response_metadata={'token_usage': {'completion_tokens': 86, 'prompt_tokens': 1076, 'total_tokens': 1162, 'completion_time': 0.156363636, 'prompt_time': 0.034526679, 'queue_time': 0.024503990000000003, 'total_time': 0.190890315}, 'model_name': 'Gemma2-9b-It', 'system_fingerprint': 'fp_10c08bf97d', 'finish_reason': 'tool_calls', 'logprobs': None}, id='run-50411af7-370e-47c6-bf48-ae5d8c6cfb57-0', tool_calls=[{'name': 'search', 'args': {'query': 'who is the new president of USA'}, 'id': 'call_jnq5', 'type': 'tool_call'}], usage_metadata={'input_tokens': 1076, 'output_tokens': 86, 'total_tokens': 1162})]}\n",
      "----\n",
      "Selected tool: search\n",
      "{'messages': [[{'url': 'https://www.bbc.co.uk/newsround/articles/ce3nq0rexqeo', 'content': 'Donald Trump officially becomes new US president - BBC Newsround Donald Trump officially becomes new US president In a special ceremony called an inauguration, President Trump took over from Joe Biden as America\\'s new leader. In his first speech as president after swearing the oath, Mr Trump promised to make America \"greater, stronger, and far more exceptional than ever before\". It\\'s the second time that Mr Trump has taken on the role - having previously served as president before Joe Biden, between 2017-2021. Donald Trump: What happens at the inauguration of the new US president? What are Donald Trump\\'s plans as president? Following his oath, Mr Trump gave his first speech as president - which is known as the Inaugural Address.'}, {'url': 'https://www.usa.gov/presidents', 'content': 'Vice president of the United States\\nThe vice president of the United States presides over the U.S. Senate and takes over the role of president of the United States if the president is unable to perform his or her duties. President of the United States\\nThe president of the United States is the:\\nCurrent president\\nThe 46th and current president of the United States is Joseph R. Biden, Jr. First lady\\nThe First lady of the United States has traditionally been the wife or other close female relative of the president of the United States. Requirements to be eligible to become president\\nAccording to Article II of the U.S. Constitution, the president must:\\nLearn about the U.S. presidential election process.\\n If the vice president is not able to fulfill the duties of president, the role is passed to another leader in the order of presidential succession.\\n'}, {'url': 'https://www.pbs.org/newshour/politics/donald-trump-sworn-in-as-47th-president-of-the-united-states', 'content': 'Donald Trump sworn in as 47th president of the United States | PBS News https://www.pbs.org/newshour/politics/donald-trump-sworn-in-as-47th-president-of-the-united-states You can watch all Inauguration Day events Monday on our livestream here, find a planned lineup of events, review President-elect Donald Trump’s sweeping promises and learn what’s changed since he was sworn into office eight years ago. During his second in 2014, he paired it with a Bible that had belonged to the Rev. Martin Luther King Jr. Left: WASHINGTON, DC - JANUARY 20: U.S. President-elect Donald Trump arrives for inauguration ceremonies in the Rotunda of the U.S. Capitol on January 20, 2025 in Washington, DC. Donald Trump takes office for his second term as the 47th president of the United States.'}, {'url': 'https://news.sky.com/story/donald-trump-sworn-in-as-us-president-for-second-time-13293105', 'content': 'Donald Trump sworn in as US president for second time, telling Americans: \\'The golden age begins right now\\' | US News | Sky News Donald Trump sworn in as US president for second time, telling Americans: \\'The golden age begins right now\\' \\'I was saved by God to make America great again,\" President Donald Trump said in his inaugural address. Donald Trump has been sworn in as the 47th President of the United States, completing perhaps the most remarkable political comeback in American history. Proclaiming that a \"golden age begins right now\", Mr Trump also said he would rename the Gulf of Mexico the \"Gulf of America\" and take back the Panama Canal in his inauguration address. Image: Donald Trump sings the freedom of speech executive order during the inaugural parade.'}, {'url': 'https://www.nbcnews.com/politics/2024-election/trump-wins-election-president-harris-defeat-2024-race-rcna176107', 'content': 'Donald Trump defeats Kamala Harris to become the next U.S. president, NBC News projects BREAKING: Donald Trump is elected 47th president of the United States, NBC News projects Donald Trump defeats Kamala Harris to become the next U.S. president, NBC News projects Donald Trump defeats Kamala Harris to become the next U.S. president, NBC News projects Trump will make history as the 45th and now 47th president, NBC News projects, saying he will fix an ailing country and despite warnings he will rule as an authoritarian. NBC News projects Donald Trump is elected 47th president of the United States NBC News projected the Trump victory over Harris, who was the first woman of color to win a major party nomination for president, early Wednesday morning.'}]]}\n",
      "----\n"
     ]
    }
   ],
   "source": [
    "for s in app.stream({\"messages\": [\"who is the new president of USA?\"]}):\n",
    "    print(list(s.values())[0])\n",
    "    print(\"----\")"
   ]
  },
  {
   "cell_type": "code",
   "execution_count": 33,
   "metadata": {},
   "outputs": [
    {
     "name": "stdout",
     "output_type": "stream",
     "text": [
      "{'messages': [AIMessage(content='', additional_kwargs={'tool_calls': [{'id': 'call_gmf5', 'function': {'arguments': '{\"first_number\":20,\"second_number\":6}', 'name': 'multiply'}, 'type': 'function'}]}, response_metadata={'token_usage': {'completion_tokens': 90, 'prompt_tokens': 1077, 'total_tokens': 1167, 'completion_time': 0.163636364, 'prompt_time': 0.034475916, 'queue_time': 0.023676624, 'total_time': 0.19811228}, 'model_name': 'Gemma2-9b-It', 'system_fingerprint': 'fp_10c08bf97d', 'finish_reason': 'tool_calls', 'logprobs': None}, id='run-89d2c5a1-9e72-45df-bee6-8983153efb8c-0', tool_calls=[{'name': 'multiply', 'args': {'first_number': 20, 'second_number': 6}, 'id': 'call_gmf5', 'type': 'tool_call'}], usage_metadata={'input_tokens': 1077, 'output_tokens': 90, 'total_tokens': 1167})]}\n",
      "----\n",
      "Selected tool: multiply\n",
      "{'messages': [120]}\n",
      "----\n"
     ]
    }
   ],
   "source": [
    "for s in app.stream({\"messages\": [\"multiplication of 20 and 6?\"]}):\n",
    "    print(list(s.values())[0])\n",
    "    print(\"----\")"
   ]
  },
  {
   "cell_type": "code",
   "execution_count": 34,
   "metadata": {},
   "outputs": [
    {
     "name": "stdout",
     "output_type": "stream",
     "text": [
      "{'messages': [AIMessage(content='', additional_kwargs={'tool_calls': [{'id': 'call_xqsg', 'function': {'arguments': '{\"query\":\"how many countries are in the world\"}', 'name': 'search'}, 'type': 'function'}]}, response_metadata={'token_usage': {'completion_tokens': 86, 'prompt_tokens': 1077, 'total_tokens': 1163, 'completion_time': 0.156363636, 'prompt_time': 0.0354565, 'queue_time': 0.022902936999999998, 'total_time': 0.191820136}, 'model_name': 'Gemma2-9b-It', 'system_fingerprint': 'fp_10c08bf97d', 'finish_reason': 'tool_calls', 'logprobs': None}, id='run-6042934f-e227-440b-8af3-15d16a1ad1d7-0', tool_calls=[{'name': 'search', 'args': {'query': 'how many countries are in the world'}, 'id': 'call_xqsg', 'type': 'tool_call'}], usage_metadata={'input_tokens': 1077, 'output_tokens': 86, 'total_tokens': 1163})]}\n",
      "----\n",
      "Selected tool: search\n",
      "{'messages': [[{'url': 'https://www.geeksforgeeks.org/how-many-countries-are-there-in-the-world/', 'content': \"List of countries in the world: Have you ever wondered how many countries are there in the world? so, here's the answer, there are 195 countries in the world.Among them, the 193 countries are part of United Nations (UN) and they are Member States of the UN, and 2 countries are Non-Member Observer States - The Holy See and Palestine.There are 48 countries in Asia, 44 countries in Europe, 54\"}, {'url': 'https://www.worldometers.info/geography/how-many-countries-are-there-in-the-world/', 'content': 'There are 195 countries in the world today, according to Worldometer. See the full table of countries ranked by population, share of world population, and land area, as well as flags and maps.'}, {'url': 'https://www.countries-ofthe-world.com/how-many-countries.html', 'content': 'The web page claims that there are 197 countries in the world based on the UN membership and recognition. It also explains the status of Taiwan, Kosovo and other partially recognized entities.'}, {'url': 'https://worldpopulationreview.com/country-rankings/how-many-countries-are-there', 'content': 'The number of countries in the world depends on the source and the criteria of nationhood. The U.N. recognizes 193 countries, while Britannica and Wikipedia add more sovereign states. See the list of 234 countries by population and area.'}, {'url': 'https://www.worldatlas.com/geography/how-many-countries-are-there-in-the-world.html', 'content': 'The web page explains that there are 195 countries based on the UN membership, but some sources count 197 countries with Taiwan and Kosovo. It also discusses the disputed status of Kosovo, Taiwan, and the UK constituent countries.'}]]}\n",
      "----\n"
     ]
    }
   ],
   "source": [
    "for s in app.stream({\"messages\": [\"How many countries are exists over the earth?\"]}):\n",
    "    print(list(s.values())[0])\n",
    "    print(\"----\")"
   ]
  },
  {
   "cell_type": "code",
   "execution_count": 66,
   "metadata": {},
   "outputs": [],
   "source": [
    "#Langgraph inbuilt agents pattern human in loop\n",
    "\n",
    "from langchain_groq import ChatGroq\n",
    "llm=ChatGroq(model_name=\"Gemma2-9b-It\")"
   ]
  },
  {
   "cell_type": "code",
   "execution_count": 67,
   "metadata": {},
   "outputs": [],
   "source": [
    "class AgentState(TypedDict):\n",
    "    messages: Annotated[list, add_messages]"
   ]
  },
  {
   "cell_type": "code",
   "execution_count": 68,
   "metadata": {},
   "outputs": [],
   "source": [
    "tavily=TavilySearchResults()"
   ]
  },
  {
   "cell_type": "code",
   "execution_count": 69,
   "metadata": {},
   "outputs": [],
   "source": [
    "tools = [tavily]"
   ]
  },
  {
   "cell_type": "code",
   "execution_count": 70,
   "metadata": {},
   "outputs": [],
   "source": [
    "llm_with_tools = llm.bind_tools(tools)"
   ]
  },
  {
   "cell_type": "code",
   "execution_count": 71,
   "metadata": {},
   "outputs": [],
   "source": [
    "def ai_assistant(state: AgentState):\n",
    "    return {\"messages\": [llm_with_tools.invoke(state[\"messages\"])]}"
   ]
  },
  {
   "cell_type": "code",
   "execution_count": 72,
   "metadata": {},
   "outputs": [],
   "source": [
    "memory = MemorySaver()"
   ]
  },
  {
   "cell_type": "code",
   "execution_count": 73,
   "metadata": {},
   "outputs": [
    {
     "data": {
      "text/plain": [
       "<langgraph.graph.state.StateGraph at 0x2290a6ce170>"
      ]
     },
     "execution_count": 73,
     "metadata": {},
     "output_type": "execute_result"
    }
   ],
   "source": [
    "graph_builder = StateGraph(AgentState)\n",
    "graph_builder.add_node(\"ai_assistant\", ai_assistant)\n",
    "\n",
    "tool_node = ToolNode(tools=tools)\n",
    "graph_builder.add_node(\"tools\", tool_node)"
   ]
  },
  {
   "cell_type": "code",
   "execution_count": 74,
   "metadata": {},
   "outputs": [
    {
     "data": {
      "text/plain": [
       "<langgraph.graph.state.StateGraph at 0x2290a6ce170>"
      ]
     },
     "execution_count": 74,
     "metadata": {},
     "output_type": "execute_result"
    }
   ],
   "source": [
    "graph_builder.add_edge(START, \"ai_assistant\")\n",
    "\n",
    "graph_builder.add_conditional_edges(\n",
    "    \"ai_assistant\",\n",
    "    tools_condition,\n",
    ")\n",
    "graph_builder.add_edge(\"tools\", \"ai_assistant\")"
   ]
  },
  {
   "cell_type": "code",
   "execution_count": 75,
   "metadata": {},
   "outputs": [],
   "source": [
    "app2 = graph_builder.compile(\n",
    "    checkpointer=memory,\n",
    "    # This is new!\n",
    "    interrupt_before=[\"tools\"],\n",
    "    # Note: can also interrupt __after__ tools, if desired.\n",
    "    # interrupt_after=[\"tools\"]\n",
    ")"
   ]
  },
  {
   "cell_type": "code",
   "execution_count": 76,
   "metadata": {},
   "outputs": [
    {
     "data": {
      "image/png": "[encoded data removed]",
      "text/plain": [
       "<IPython.core.display.Image object>"
      ]
     },
     "metadata": {},
     "output_type": "display_data"
    }
   ],
   "source": [
    "from IPython.display import Image, display\n",
    "display(Image(app2.get_graph().draw_mermaid_png()))"
   ]
  },
  {
   "cell_type": "code",
   "execution_count": 77,
   "metadata": {},
   "outputs": [],
   "source": [
    "user_input = \"what is the capital of Newzeland?\"\n",
    "config = {\"configurable\": {\"thread_id\": \"1\"}}"
   ]
  },
  {
   "cell_type": "code",
   "execution_count": 78,
   "metadata": {},
   "outputs": [],
   "source": [
    "# The config is the **second positional argument** to stream() or invoke()!\n",
    "events = app2.stream(\n",
    "    {\"messages\": [(\"user\", user_input)]}, config, stream_mode=\"values\"\n",
    ")"
   ]
  },
  {
   "cell_type": "code",
   "execution_count": 79,
   "metadata": {},
   "outputs": [
    {
     "name": "stdout",
     "output_type": "stream",
     "text": [
      "================================\u001b[1m Human Message \u001b[0m=================================\n",
      "\n",
      "what is the capital of Newzeland?\n",
      "==================================\u001b[1m Ai Message \u001b[0m==================================\n",
      "Tool Calls:\n",
      "  tavily_search_results_json (call_59ze)\n",
      " Call ID: call_59ze\n",
      "  Args:\n",
      "    query: capital of New Zealand\n"
     ]
    }
   ],
   "source": [
    "for event in events:\n",
    "    if \"messages\" in event:\n",
    "        event[\"messages\"][-1].pretty_print()\n",
    "#Here it will stop the process and it didn't give any response"
   ]
  },
  {
   "cell_type": "code",
   "execution_count": 80,
   "metadata": {},
   "outputs": [],
   "source": [
    "snapshot = app2.get_state(config)"
   ]
  },
  {
   "cell_type": "code",
   "execution_count": 81,
   "metadata": {},
   "outputs": [
    {
     "data": {
      "text/plain": [
       "('tools',)"
      ]
     },
     "execution_count": 81,
     "metadata": {},
     "output_type": "execute_result"
    }
   ],
   "source": [
    "snapshot.next"
   ]
  },
  {
   "cell_type": "code",
   "execution_count": 82,
   "metadata": {},
   "outputs": [],
   "source": [
    "#How to give permission to the next process\n",
    "last_message=snapshot.values[\"messages\"][-1]"
   ]
  },
  {
   "cell_type": "code",
   "execution_count": 83,
   "metadata": {},
   "outputs": [
    {
     "data": {
      "text/plain": [
       "[{'name': 'tavily_search_results_json',\n",
       "  'args': {'query': 'capital of New Zealand'},\n",
       "  'id': 'call_59ze',\n",
       "  'type': 'tool_call'}]"
      ]
     },
     "execution_count": 83,
     "metadata": {},
     "output_type": "execute_result"
    }
   ],
   "source": [
    "last_message.tool_calls"
   ]
  },
  {
   "cell_type": "code",
   "execution_count": 84,
   "metadata": {},
   "outputs": [],
   "source": [
    "# `None` will append nothing new to the current state, letting it resume as if it had never been interrupted\n",
    "events = app2.stream(None, config, stream_mode=\"values\")"
   ]
  },
  {
   "cell_type": "code",
   "execution_count": 85,
   "metadata": {},
   "outputs": [
    {
     "name": "stdout",
     "output_type": "stream",
     "text": [
      "==================================\u001b[1m Ai Message \u001b[0m==================================\n",
      "Tool Calls:\n",
      "  tavily_search_results_json (call_59ze)\n",
      " Call ID: call_59ze\n",
      "  Args:\n",
      "    query: capital of New Zealand\n",
      "=================================\u001b[1m Tool Message \u001b[0m=================================\n",
      "Name: tavily_search_results_json\n",
      "\n",
      "[{\"url\": \"https://en.wikipedia.org/wiki/Capital_of_New_Zealand\", \"content\": \"Learn about the history and location of the capital city of New Zealand, from Old Russell to Wellington. Find out how Wellington was chosen as the capital in 1865 and what other cities were considered.\"}, {\"url\": \"https://www.worldatlas.com/articles/what-is-the-capital-of-new-zealand.html\", \"content\": \"Learn about the history, location, and role of Wellington as the capital of New Zealand since 1865. Find out how it became the political and cultural center of the country and why it is a popular destination for tourists.\"}, {\"url\": \"https://en.wikipedia.org/wiki/Wellington\", \"content\": \"Wellington is the capital city of New Zealand, located at the south-western tip of the North Island. It has a population of 214,200, a temperate maritime climate, and a diverse and youth-driven culture.\"}, {\"url\": \"https://facts.net/world/cities/43-facts-about-wellington/\", \"content\": \"Wellington is the capital city of New Zealand, located at the southern tip of the North Island. It is known for its vibrant arts scene, stunning landscapes, and thriving coffee and craft beer culture. Learn more about its history, culture, and attractions in this article.\"}, {\"url\": \"https://simple.wikipedia.org/wiki/Wellington\", \"content\": \"Wellington is the second largest city and the capital of New Zealand since 1865. It is located at the south end of the North Island, near Cook Strait, and has a temperate marine climate with moderate temperatures and high rainfall.\"}]\n",
      "==================================\u001b[1m Ai Message \u001b[0m==================================\n",
      "\n",
      "Wellington\n"
     ]
    }
   ],
   "source": [
    "for event in events:\n",
    "    if \"messages\" in event:\n",
    "        event[\"messages\"][-1].pretty_print()"
   ]
  },
  {
   "cell_type": "code",
   "execution_count": 104,
   "metadata": {},
   "outputs": [],
   "source": [
    "user_input = \"what is the current temperature in degree celcius there?\"\n",
    "\n",
    "config = {\"configurable\": {\"thread_id\": \"1\"}}"
   ]
  },
  {
   "cell_type": "code",
   "execution_count": 105,
   "metadata": {},
   "outputs": [],
   "source": [
    "# The config is the **second positional argument** to stream() or invoke()!\n",
    "events = app2.stream(\n",
    "    {\"messages\": [(\"user\", user_input)]}, config, stream_mode=\"values\"\n",
    ")\n",
    "  "
   ]
  },
  {
   "cell_type": "code",
   "execution_count": 106,
   "metadata": {},
   "outputs": [
    {
     "name": "stdout",
     "output_type": "stream",
     "text": [
      "================================\u001b[1m Human Message \u001b[0m=================================\n",
      "\n",
      "what is the current temperature in degree celcius there?\n",
      "==================================\u001b[1m Ai Message \u001b[0m==================================\n",
      "Tool Calls:\n",
      "  tavily_search_results_json (call_ratf)\n",
      " Call ID: call_ratf\n",
      "  Args:\n",
      "    query: convert 56.86 fahrenheit to celsius\n"
     ]
    }
   ],
   "source": [
    "for event in events:\n",
    "    if \"messages\" in event:\n",
    "        event[\"messages\"][-1].pretty_print()"
   ]
  },
  {
   "cell_type": "code",
   "execution_count": 107,
   "metadata": {},
   "outputs": [],
   "source": [
    "snapshot = app2.get_state(config)"
   ]
  },
  {
   "cell_type": "code",
   "execution_count": 108,
   "metadata": {},
   "outputs": [
    {
     "data": {
      "text/plain": [
       "('tools',)"
      ]
     },
     "execution_count": 108,
     "metadata": {},
     "output_type": "execute_result"
    }
   ],
   "source": [
    "snapshot.next"
   ]
  },
  {
   "cell_type": "code",
   "execution_count": 109,
   "metadata": {},
   "outputs": [],
   "source": [
    "last_message=snapshot.values[\"messages\"][-1]"
   ]
  },
  {
   "cell_type": "code",
   "execution_count": 110,
   "metadata": {},
   "outputs": [
    {
     "data": {
      "text/plain": [
       "[{'name': 'tavily_search_results_json',\n",
       "  'args': {'query': 'convert 56.86 fahrenheit to celsius'},\n",
       "  'id': 'call_ratf',\n",
       "  'type': 'tool_call'}]"
      ]
     },
     "execution_count": 110,
     "metadata": {},
     "output_type": "execute_result"
    }
   ],
   "source": [
    "last_message.tool_calls"
   ]
  },
  {
   "cell_type": "code",
   "execution_count": 111,
   "metadata": {},
   "outputs": [],
   "source": [
    "# `None` will append nothing new to the current state, letting it resume as if it had never been interrupted\n",
    "events = app2.stream(None, config, stream_mode=\"values\")"
   ]
  },
  {
   "cell_type": "code",
   "execution_count": 112,
   "metadata": {},
   "outputs": [
    {
     "name": "stdout",
     "output_type": "stream",
     "text": [
      "==================================\u001b[1m Ai Message \u001b[0m==================================\n",
      "Tool Calls:\n",
      "  tavily_search_results_json (call_ratf)\n",
      " Call ID: call_ratf\n",
      "  Args:\n",
      "    query: convert 56.86 fahrenheit to celsius\n",
      "=================================\u001b[1m Tool Message \u001b[0m=================================\n",
      "Name: tavily_search_results_json\n",
      "\n",
      "[{\"url\": \"https://www.softseotools.com/temperature-converter/56-86-f-to-c\", \"content\": \"The formula to convert Fahrenheit to Celsius is subtracting 32 from the Fahrenheit value and then multiplying by 5/9. For 56.86 degrees Fahrenheit: (56.86 °F - 32) × 5/9 = 13.81 °C. Through this calculation, we find that 56.86 degrees Fahrenheit is approximately equal to 13.81 degrees Celsius.\"}, {\"url\": \"https://www.papertoys.com/calculate/temperature/fahrenheit/5686\", \"content\": \"The formula to convert Fahrenheit to Celsius is (F - 32) / 1.8. So to convert 56.86 Fahrenheit, the formula would be (56.86 - 32) / 1.8. That equals 13.811111111111° in Celsius. About How hot? How cold? Convert 56.86 FtoC. 56.86fahrenheittocelsius. Type into the calculator to calculate a different number.\"}, {\"url\": \"https://convertilo.com/56-86-fahrenheit-to-celsius\", \"content\": \"56.86 °F in °C. Convert 56.86 Fahrenheit to Celsius. How many Celsius is 56.86 Fahrenheit.\"}, {\"url\": \"https://tempconverter.net/56-fahrenheit-to-celsius/\", \"content\": \"Convert 56 Fahrenheit to Celsius easily with this guide. Learn how to change 56 °F to °C using the formula, with a quick and accurate result! ... (56 °F) equals 13.33 degrees Celsius (°C), providing a precise conversion between these two common temperature scales. For those wanting to calculate this themselves, simply use the standard\"}, {\"url\": \"https://www.vacations.info/metric/f-to-c.php?f=56\", \"content\": \"Convert 56 Degrees Fahrenheit to Celsius 56 degrees Fahrenheit = 13.33 degrees Celsius. Use this calculator to convert 56°f to Celsius. How many degrees Celsius in 56°f? 56°f to degrees Celsius is 13.33°c. How hot is 56°f in Celsius? How cold? Type the information into the input boxes and the degrees in Celsius will update automatically.\"}]\n",
      "==================================\u001b[1m Ai Message \u001b[0m==================================\n",
      "\n",
      "The current temperature in Wellington is 13.81 degrees Celsius.\n"
     ]
    }
   ],
   "source": [
    "for event in events:\n",
    "    if \"messages\" in event:\n",
    "        event[\"messages\"][-1].pretty_print()"
   ]
  },
  {
   "cell_type": "code",
   "execution_count": 113,
   "metadata": {},
   "outputs": [
    {
     "data": {
      "text/plain": [
       "StateSnapshot(values={'messages': [HumanMessage(content='what is the capital of Newzeland?', additional_kwargs={}, response_metadata={}, id='a7cb044f-9a65-4ac4-a08c-e2fa205515c9'), AIMessage(content='', additional_kwargs={'tool_calls': [{'id': 'call_59ze', 'function': {'arguments': '{\"query\":\"capital of New Zealand\"}', 'name': 'tavily_search_results_json'}, 'type': 'function'}]}, response_metadata={'token_usage': {'completion_tokens': 90, 'prompt_tokens': 990, 'total_tokens': 1080, 'completion_time': 0.163636364, 'prompt_time': 0.031512786, 'queue_time': 0.024656493, 'total_time': 0.19514915}, 'model_name': 'Gemma2-9b-It', 'system_fingerprint': 'fp_10c08bf97d', 'finish_reason': 'tool_calls', 'logprobs': None}, id='run-3f8667a6-237d-4875-902b-3db012ab541e-0', tool_calls=[{'name': 'tavily_search_results_json', 'args': {'query': 'capital of New Zealand'}, 'id': 'call_59ze', 'type': 'tool_call'}], usage_metadata={'input_tokens': 990, 'output_tokens': 90, 'total_tokens': 1080}), ToolMessage(content='[{\"url\": \"https://en.wikipedia.org/wiki/Capital_of_New_Zealand\", \"content\": \"Learn about the history and location of the capital city of New Zealand, from Old Russell to Wellington. Find out how Wellington was chosen as the capital in 1865 and what other cities were considered.\"}, {\"url\": \"https://www.worldatlas.com/articles/what-is-the-capital-of-new-zealand.html\", \"content\": \"Learn about the history, location, and role of Wellington as the capital of New Zealand since 1865. Find out how it became the political and cultural center of the country and why it is a popular destination for tourists.\"}, {\"url\": \"https://en.wikipedia.org/wiki/Wellington\", \"content\": \"Wellington is the capital city of New Zealand, located at the south-western tip of the North Island. It has a population of 214,200, a temperate maritime climate, and a diverse and youth-driven culture.\"}, {\"url\": \"https://facts.net/world/cities/43-facts-about-wellington/\", \"content\": \"Wellington is the capital city of New Zealand, located at the southern tip of the North Island. It is known for its vibrant arts scene, stunning landscapes, and thriving coffee and craft beer culture. Learn more about its history, culture, and attractions in this article.\"}, {\"url\": \"https://simple.wikipedia.org/wiki/Wellington\", \"content\": \"Wellington is the second largest city and the capital of New Zealand since 1865. It is located at the south end of the North Island, near Cook Strait, and has a temperate marine climate with moderate temperatures and high rainfall.\"}]', name='tavily_search_results_json', id='9a30b2ab-d3cb-4856-84d8-820e5e6c5469', tool_call_id='call_59ze', artifact={'query': 'capital of New Zealand', 'follow_up_questions': None, 'answer': None, 'images': [], 'results': [{'title': 'Capital of New Zealand - Wikipedia', 'url': 'https://en.wikipedia.org/wiki/Capital_of_New_Zealand', 'content': 'Learn about the history and location of the capital city of New Zealand, from Old Russell to Wellington. Find out how Wellington was chosen as the capital in 1865 and what other cities were considered.', 'score': 0.8941352, 'raw_content': None}, {'title': 'What Is The Capital Of New Zealand? - WorldAtlas', 'url': 'https://www.worldatlas.com/articles/what-is-the-capital-of-new-zealand.html', 'content': 'Learn about the history, location, and role of Wellington as the capital of New Zealand since 1865. Find out how it became the political and cultural center of the country and why it is a popular destination for tourists.', 'score': 0.8785752, 'raw_content': None}, {'title': 'Wellington - Wikipedia', 'url': 'https://en.wikipedia.org/wiki/Wellington', 'content': 'Wellington is the capital city of New Zealand, located at the south-western tip of the North Island. It has a population of 214,200, a temperate maritime climate, and a diverse and youth-driven culture.', 'score': 0.8732259, 'raw_content': None}, {'title': '43 Facts About WELLINGTON', 'url': 'https://facts.net/world/cities/43-facts-about-wellington/', 'content': 'Wellington is the capital city of New Zealand, located at the southern tip of the North Island. It is known for its vibrant arts scene, stunning landscapes, and thriving coffee and craft beer culture. Learn more about its history, culture, and attractions in this article.', 'score': 0.853046, 'raw_content': None}, {'title': 'Wellington - Simple English Wikipedia, the free encyclopedia', 'url': 'https://simple.wikipedia.org/wiki/Wellington', 'content': 'Wellington is the second largest city and the capital of New Zealand since 1865. It is located at the south end of the North Island, near Cook Strait, and has a temperate marine climate with moderate temperatures and high rainfall.', 'score': 0.8449346, 'raw_content': None}], 'response_time': 1.7}), AIMessage(content='Wellington', additional_kwargs={}, response_metadata={'token_usage': {'completion_tokens': 3, 'prompt_tokens': 1444, 'total_tokens': 1447, 'completion_time': 0.005454545, 'prompt_time': 0.046429042, 'queue_time': 0.02284969800000001, 'total_time': 0.051883587}, 'model_name': 'Gemma2-9b-It', 'system_fingerprint': 'fp_10c08bf97d', 'finish_reason': 'stop', 'logprobs': None}, id='run-0ecc4f83-4d6c-4475-b96f-e14c12948915-0', usage_metadata={'input_tokens': 1444, 'output_tokens': 3, 'total_tokens': 1447}), HumanMessage(content='what is a weather there?', additional_kwargs={}, response_metadata={}, id='03e48184-a919-45f2-bfb4-ee80ce761943'), AIMessage(content='', additional_kwargs={'tool_calls': [{'id': 'call_ps5h', 'function': {'arguments': '{\"query\":\"weather in Wellington New Zealand\"}', 'name': 'tavily_search_results_json'}, 'type': 'function'}]}, response_metadata={'token_usage': {'completion_tokens': 53, 'prompt_tokens': 1461, 'total_tokens': 1514, 'completion_time': 0.096363636, 'prompt_time': 0.047420172, 'queue_time': 0.023956118, 'total_time': 0.143783808}, 'model_name': 'Gemma2-9b-It', 'system_fingerprint': 'fp_10c08bf97d', 'finish_reason': 'tool_calls', 'logprobs': None}, id='run-c58e7d8c-7649-45bf-9262-c9d8dc04d402-0', tool_calls=[{'name': 'tavily_search_results_json', 'args': {'query': 'weather in Wellington New Zealand'}, 'id': 'call_ps5h', 'type': 'tool_call'}], usage_metadata={'input_tokens': 1461, 'output_tokens': 53, 'total_tokens': 1514}), ToolMessage(content='[{\"url\": \"https://www.weatherapi.com/\", \"content\": \"{\\'location\\': {\\'name\\': \\'Wellington\\', \\'region\\': \\'\\', \\'country\\': \\'New Zealand\\', \\'lat\\': -41.3, \\'lon\\': 174.7833, \\'tz_id\\': \\'Pacific/Auckland\\', \\'localtime_epoch\\': 1737853791, \\'localtime\\': \\'2025-01-26 14:09\\'}, \\'current\\': {\\'last_updated_epoch\\': 1737853200, \\'last_updated\\': \\'2025-01-26 14:00\\', \\'temp_c\\': 19.6, \\'temp_f\\': 67.4, \\'is_day\\': 1, \\'condition\\': {\\'text\\': \\'Cloudy\\', \\'icon\\': \\'//cdn.weatherapi.com/weather/64x64/day/119.png\\', \\'code\\': 1006}, \\'wind_mph\\': 6.3, \\'wind_kph\\': 10.1, \\'wind_degree\\': 339, \\'wind_dir\\': \\'NNW\\', \\'pressure_mb\\': 998.0, \\'pressure_in\\': 29.48, \\'precip_mm\\': 0.0, \\'precip_in\\': 0.0, \\'humidity\\': 76, \\'cloud\\': 78, \\'feelslike_c\\': 19.6, \\'feelslike_f\\': 67.4, \\'windchill_c\\': 19.6, \\'windchill_f\\': 67.4, \\'heatindex_c\\': 19.6, \\'heatindex_f\\': 67.4, \\'dewpoint_c\\': 15.2, \\'dewpoint_f\\': 59.4, \\'vis_km\\': 10.0, \\'vis_miles\\': 6.0, \\'uv\\': 3.4, \\'gust_mph\\': 10.1, \\'gust_kph\\': 16.3}}\"}, {\"url\": \"https://en.climate-data.org/oceania/new-zealand/wellington/wellington-2/t/january-1/\", \"content\": \"New Zealand > Wellington > ... Wellington Weather in January Are you planning a holiday with hopefully nice weather in Wellington in January 2025? Here you can find all information about the weather in Wellington in January: Overview: Wellington Weather and Climate in January ... 26. January: 16 °C | 61 °F : 18 °C | 64 °F: 14 °C | 58 °F\"}, {\"url\": \"https://www.easeweather.com/oceania/new-zealand/wellington/january\", \"content\": \"Temperatures; Until now, January 2025 in Wellington is cooler than usual, with temperatures averaging 16 ° C, this is -2.2 ° C below the typical seasonal average.. The forecast for the next days in Wellington predicts temperatures to be around 19 ° C, close to the historical average.. In general, the average temperature in Wellington at the beginning of January is 17.4 ° C.\"}, {\"url\": \"https://www.weather25.com/oceania/new-zealand?page=date&date=26-1\", \"content\": \"Expected weather in New Zealand for Sunday, 26 January 2025 , average temperature and weather. ... New Zealand weather forecast for Sunday, 26 January 2025. Previous day. 3 Hours Hour by Hour. Next day. 00:00: 03:00: 06:00: 09:00: 12:00: ... Auckland Christchurch Dunedin Hamilton Milford Sound Napier Nelson Queenstown Tauranga Wellington. See\"}, {\"url\": \"https://www.weather-atlas.com/en/new-zealand/wellington-weather-january\", \"content\": \"January weather for Wellington, New Zealand: Wellington, New Zealand, measures an average high-temperature of a still enjoyable 18.5°C (65.3°F) in January, nearly consistent with the preceding month. A summer month in Wellington, January paints a picture of warm days and relatively comfortable nights.\"}]', name='tavily_search_results_json', id='2c18e688-6291-4a04-b156-e9c8c42c0105', tool_call_id='call_ps5h', artifact={'query': 'weather in Wellington New Zealand', 'follow_up_questions': None, 'answer': None, 'images': [], 'results': [{'title': 'Weather in Wellington, New Zealand', 'url': 'https://www.weatherapi.com/', 'content': \"{'location': {'name': 'Wellington', 'region': '', 'country': 'New Zealand', 'lat': -41.3, 'lon': 174.7833, 'tz_id': 'Pacific/Auckland', 'localtime_epoch': 1737853791, 'localtime': '2025-01-26 14:09'}, 'current': {'last_updated_epoch': 1737853200, 'last_updated': '2025-01-26 14:00', 'temp_c': 19.6, 'temp_f': 67.4, 'is_day': 1, 'condition': {'text': 'Cloudy', 'icon': '//cdn.weatherapi.com/weather/64x64/day/119.png', 'code': 1006}, 'wind_mph': 6.3, 'wind_kph': 10.1, 'wind_degree': 339, 'wind_dir': 'NNW', 'pressure_mb': 998.0, 'pressure_in': 29.48, 'precip_mm': 0.0, 'precip_in': 0.0, 'humidity': 76, 'cloud': 78, 'feelslike_c': 19.6, 'feelslike_f': 67.4, 'windchill_c': 19.6, 'windchill_f': 67.4, 'heatindex_c': 19.6, 'heatindex_f': 67.4, 'dewpoint_c': 15.2, 'dewpoint_f': 59.4, 'vis_km': 10.0, 'vis_miles': 6.0, 'uv': 3.4, 'gust_mph': 10.1, 'gust_kph': 16.3}}\", 'score': 0.9465366, 'raw_content': None}, {'title': 'Weather Wellington in January 2025: Temperature & Climate', 'url': 'https://en.climate-data.org/oceania/new-zealand/wellington/wellington-2/t/january-1/', 'content': 'New Zealand > Wellington > ... Wellington Weather in January Are you planning a holiday with hopefully nice weather in Wellington in January 2025? Here you can find all information about the weather in Wellington in January: Overview: Wellington Weather and Climate in January ... 26. January: 16 °C | 61 °F : 18 °C | 64 °F: 14 °C | 58 °F', 'score': 0.9242583, 'raw_content': None}, {'title': 'Weather in Wellington in January 2025 - Detailed Forecast', 'url': 'https://www.easeweather.com/oceania/new-zealand/wellington/january', 'content': 'Temperatures; Until now, January 2025 in Wellington is cooler than usual, with temperatures averaging 16 ° C, this is -2.2 ° C below the typical seasonal average.. The forecast for the next days in Wellington predicts temperatures to be around 19 ° C, close to the historical average.. In general, the average temperature in Wellington at the beginning of January is 17.4 ° C.', 'score': 0.8877607, 'raw_content': None}, {'title': 'New Zealand weather forecast for Sunday, 26 January 2025', 'url': 'https://www.weather25.com/oceania/new-zealand?page=date&date=26-1', 'content': 'Expected weather in New Zealand for Sunday, 26 January 2025 , average temperature and weather. ... New Zealand weather forecast for Sunday, 26 January 2025. Previous day. 3 Hours Hour by Hour. Next day. 00:00: 03:00: 06:00: 09:00: 12:00: ... Auckland Christchurch Dunedin Hamilton Milford Sound Napier Nelson Queenstown Tauranga Wellington. See', 'score': 0.8742601, 'raw_content': None}, {'title': 'January weather - Summer 2025 - Wellington, New Zealand', 'url': 'https://www.weather-atlas.com/en/new-zealand/wellington-weather-january', 'content': 'January weather for Wellington, New Zealand: Wellington, New Zealand, measures an average high-temperature of a still enjoyable 18.5°C (65.3°F) in January, nearly consistent with the preceding month. A summer month in Wellington, January paints a picture of warm days and relatively comfortable nights.', 'score': 0.83290404, 'raw_content': None}], 'response_time': 2.35}), AIMessage(content='It is currently cloudy in Wellington.', additional_kwargs={}, response_metadata={'token_usage': {'completion_tokens': 9, 'prompt_tokens': 2512, 'total_tokens': 2521, 'completion_time': 0.016363636, 'prompt_time': 0.113626597, 'queue_time': 0.025203855999999997, 'total_time': 0.129990233}, 'model_name': 'Gemma2-9b-It', 'system_fingerprint': 'fp_10c08bf97d', 'finish_reason': 'stop', 'logprobs': None}, id='run-b62c93da-d6c0-4989-85a4-c0707e61797f-0', usage_metadata={'input_tokens': 2512, 'output_tokens': 9, 'total_tokens': 2521}), HumanMessage(content='what is the current there?', additional_kwargs={}, response_metadata={}, id='8985ab0e-6b73-46d8-871f-d27c6d9ef8d7'), AIMessage(content='', additional_kwargs={'tool_calls': [{'id': 'call_4ta3', 'function': {'arguments': '{\"query\":\"current temperature in Wellington New Zealand\"}', 'name': 'tavily_search_results_json'}, 'type': 'function'}]}, response_metadata={'token_usage': {'completion_tokens': 55, 'prompt_tokens': 2535, 'total_tokens': 2590, 'completion_time': 0.1, 'prompt_time': 0.08174639, 'queue_time': 0.026696785, 'total_time': 0.18174639}, 'model_name': 'Gemma2-9b-It', 'system_fingerprint': 'fp_10c08bf97d', 'finish_reason': 'tool_calls', 'logprobs': None}, id='run-f1a6252d-9666-4125-bda8-952ae4e5278d-0', tool_calls=[{'name': 'tavily_search_results_json', 'args': {'query': 'current temperature in Wellington New Zealand'}, 'id': 'call_4ta3', 'type': 'tool_call'}], usage_metadata={'input_tokens': 2535, 'output_tokens': 55, 'total_tokens': 2590}), ToolMessage(content='[{\"url\": \"https://www.theweathernow.net/new_zealand/wellington\", \"content\": \"Find out Wellington weather forecast and weather conditions. Get the Wellington current temperature, 5-day forecast and more. THE. ... The Weather Now in Wellington Wellington, New Zealand at 8:10:41 pm. Temperature in Wellington right now. Light rain. Temperature. 56.86°F. Feels like.\"}, {\"url\": \"https://www.timeanddate.com/worldclock/new-zealand/wellington\", \"content\": \"Current local time in New Zealand - Wellington. Get Wellington\\'s weather and area codes, time zone and DST. ... Current Local Time in Wellington, New Zealand (Pōneke) Time/General; Weather . Weather Today/Tomorrow ; ... Weather. 79 °F. Clear. 76 / 63 °F. Sun 26. 76 / 63 °F: Mon 27.\"}, {\"url\": \"https://www.wunderground.com/weather/nz/wellington\", \"content\": \"Current Weather for Popular Cities . San Francisco, CA 51 ... Wellington, Wellington, New Zealand Weather Conditions star_ratehome. 73\"}, {\"url\": \"https://www.weather-atlas.com/en/new-zealand/wellington\", \"content\": \"Wellington, New Zealand - Current temperature and weather conditions. Detailed hourly weather forecast for today - including weather conditions, temperature, pressure, humidity, precipitation, dewpoint, wind, visibility, and UV index data.\"}, {\"url\": \"https://www.accuweather.com/en/nz/wellington/250938/current-weather/250938\", \"content\": \"Current weather in Wellington, Wellington, New Zealand. Check current conditions in Wellington, Wellington, New Zealand with radar, hourly, and more.\"}]', name='tavily_search_results_json', id='8876e4ad-fe61-4148-b725-bfbbd9fea61b', tool_call_id='call_4ta3', artifact={'query': 'current temperature in Wellington New Zealand', 'follow_up_questions': None, 'answer': None, 'images': [], 'results': [{'title': 'The Weather Now in Wellington', 'url': 'https://www.theweathernow.net/new_zealand/wellington', 'content': 'Find out Wellington weather forecast and weather conditions. Get the Wellington current temperature, 5-day forecast and more. THE. ... The Weather Now in Wellington Wellington, New Zealand at 8:10:41 pm. Temperature in Wellington right now. Light rain. Temperature. 56.86°F. Feels like.', 'score': 0.8974172, 'raw_content': None}, {'title': 'Current Local Time in Wellington, New Zealand (Pōneke) - timeanddate.com', 'url': 'https://www.timeanddate.com/worldclock/new-zealand/wellington', 'content': \"Current local time in New Zealand - Wellington. Get Wellington's weather and area codes, time zone and DST. ... Current Local Time in Wellington, New Zealand (Pōneke) Time/General; Weather . Weather Today/Tomorrow ; ... Weather. 79 °F. Clear. 76 / 63 °F. Sun 26. 76 / 63 °F: Mon 27.\", 'score': 0.80014634, 'raw_content': None}, {'title': 'Wellington, Wellington, New Zealand Weather Conditions', 'url': 'https://www.wunderground.com/weather/nz/wellington', 'content': 'Current Weather for Popular Cities . San Francisco, CA 51 ... Wellington, Wellington, New Zealand Weather Conditions star_ratehome. 73', 'score': 0.64986813, 'raw_content': None}, {'title': 'Weather today - Wellington, New Zealand', 'url': 'https://www.weather-atlas.com/en/new-zealand/wellington', 'content': 'Wellington, New Zealand - Current temperature and weather conditions. Detailed hourly weather forecast for today - including weather conditions, temperature, pressure, humidity, precipitation, dewpoint, wind, visibility, and UV index data.', 'score': 0.5462305, 'raw_content': None}, {'title': 'Wellington, Wellington, New Zealand Current Weather | AccuWeather', 'url': 'https://www.accuweather.com/en/nz/wellington/250938/current-weather/250938', 'content': 'Current weather in Wellington, Wellington, New Zealand. Check current conditions in Wellington, Wellington, New Zealand with radar, hourly, and more.', 'score': 0.5393963, 'raw_content': None}], 'response_time': 1.54}), AIMessage(content='The current temperature in Wellington is 56.86 degrees Fahrenheit.', additional_kwargs={}, response_metadata={'token_usage': {'completion_tokens': 17, 'prompt_tokens': 3029, 'total_tokens': 3046, 'completion_time': 0.030909091, 'prompt_time': 0.120404378, 'queue_time': 0.023263645, 'total_time': 0.151313469}, 'model_name': 'Gemma2-9b-It', 'system_fingerprint': 'fp_10c08bf97d', 'finish_reason': 'stop', 'logprobs': None}, id='run-df39e841-aa76-4e21-b688-002eb56f9018-0', usage_metadata={'input_tokens': 3029, 'output_tokens': 17, 'total_tokens': 3046}), HumanMessage(content='what is the current temperature in degree celcius there?', additional_kwargs={}, response_metadata={}, id='38417a48-2ac7-421d-bd5a-4b8471348faa'), AIMessage(content='', additional_kwargs={'tool_calls': [{'id': 'call_ratf', 'function': {'arguments': '{\"query\":\"convert 56.86 fahrenheit to celsius\"}', 'name': 'tavily_search_results_json'}, 'type': 'function'}]}, response_metadata={'token_usage': {'completion_tokens': 62, 'prompt_tokens': 3065, 'total_tokens': 3127, 'completion_time': 0.112727273, 'prompt_time': 0.099019612, 'queue_time': 0.027498121999999986, 'total_time': 0.211746885}, 'model_name': 'Gemma2-9b-It', 'system_fingerprint': 'fp_10c08bf97d', 'finish_reason': 'tool_calls', 'logprobs': None}, id='run-07917ca1-b3fe-429f-8798-9f1f34254347-0', tool_calls=[{'name': 'tavily_search_results_json', 'args': {'query': 'convert 56.86 fahrenheit to celsius'}, 'id': 'call_ratf', 'type': 'tool_call'}], usage_metadata={'input_tokens': 3065, 'output_tokens': 62, 'total_tokens': 3127}), ToolMessage(content='[{\"url\": \"https://www.softseotools.com/temperature-converter/56-86-f-to-c\", \"content\": \"The formula to convert Fahrenheit to Celsius is subtracting 32 from the Fahrenheit value and then multiplying by 5/9. For 56.86 degrees Fahrenheit: (56.86 °F - 32) × 5/9 = 13.81 °C. Through this calculation, we find that 56.86 degrees Fahrenheit is approximately equal to 13.81 degrees Celsius.\"}, {\"url\": \"https://www.papertoys.com/calculate/temperature/fahrenheit/5686\", \"content\": \"The formula to convert Fahrenheit to Celsius is (F - 32) / 1.8. So to convert 56.86 Fahrenheit, the formula would be (56.86 - 32) / 1.8. That equals 13.811111111111° in Celsius. About How hot? How cold? Convert 56.86 FtoC. 56.86fahrenheittocelsius. Type into the calculator to calculate a different number.\"}, {\"url\": \"https://convertilo.com/56-86-fahrenheit-to-celsius\", \"content\": \"56.86 °F in °C. Convert 56.86 Fahrenheit to Celsius. How many Celsius is 56.86 Fahrenheit.\"}, {\"url\": \"https://tempconverter.net/56-fahrenheit-to-celsius/\", \"content\": \"Convert 56 Fahrenheit to Celsius easily with this guide. Learn how to change 56 °F to °C using the formula, with a quick and accurate result! ... (56 °F) equals 13.33 degrees Celsius (°C), providing a precise conversion between these two common temperature scales. For those wanting to calculate this themselves, simply use the standard\"}, {\"url\": \"https://www.vacations.info/metric/f-to-c.php?f=56\", \"content\": \"Convert 56 Degrees Fahrenheit to Celsius 56 degrees Fahrenheit = 13.33 degrees Celsius. Use this calculator to convert 56°f to Celsius. How many degrees Celsius in 56°f? 56°f to degrees Celsius is 13.33°c. How hot is 56°f in Celsius? How cold? Type the information into the input boxes and the degrees in Celsius will update automatically.\"}]', name='tavily_search_results_json', id='454f88cb-dd3f-4bbf-903b-bb17fa247139', tool_call_id='call_ratf', artifact={'query': 'convert 56.86 fahrenheit to celsius', 'follow_up_questions': None, 'answer': None, 'images': [], 'results': [{'title': 'Temperature Converter - Convert 56.86 Fahrenheit to Celsius', 'url': 'https://www.softseotools.com/temperature-converter/56-86-f-to-c', 'content': 'The formula to convert Fahrenheit to Celsius is subtracting 32 from the Fahrenheit value and then multiplying by 5/9. For 56.86 degrees Fahrenheit: (56.86 °F - 32) × 5/9 = 13.81 °C. Through this calculation, we find that 56.86 degrees Fahrenheit is approximately equal to 13.81 degrees Celsius.', 'score': 0.964459, 'raw_content': None}, {'title': '56.86 degrees Fahrenheit in Celsius. What is 56.86F in C? - Paper Toys', 'url': 'https://www.papertoys.com/calculate/temperature/fahrenheit/5686', 'content': 'The formula to convert Fahrenheit to Celsius is (F - 32) / 1.8. So to convert 56.86 Fahrenheit, the formula would be (56.86 - 32) / 1.8. That equals 13.811111111111° in Celsius. About How hot? How cold? Convert 56.86 FtoC. 56.86fahrenheittocelsius. Type into the calculator to calculate a different number.', 'score': 0.95143646, 'raw_content': None}, {'title': '56.86 Fahrenheit to Celsius | 56.86 °F to °C - Convertilo', 'url': 'https://convertilo.com/56-86-fahrenheit-to-celsius', 'content': '56.86 °F in °C. Convert 56.86 Fahrenheit to Celsius. How many Celsius is 56.86 Fahrenheit.', 'score': 0.92176014, 'raw_content': None}, {'title': '56 Fahrenheit to Celsius | 56 °F to °C - Temp Converter', 'url': 'https://tempconverter.net/56-fahrenheit-to-celsius/', 'content': 'Convert 56 Fahrenheit to Celsius easily with this guide. Learn how to change 56 °F to °C using the formula, with a quick and accurate result! ... (56 °F) equals 13.33 degrees Celsius (°C), providing a precise conversion between these two common temperature scales. For those wanting to calculate this themselves, simply use the standard', 'score': 0.8446273, 'raw_content': None}, {'title': '56 degrees Fahrenheit to Celsius - Temperature Conversion - Vacations.info', 'url': 'https://www.vacations.info/metric/f-to-c.php?f=56', 'content': 'Convert 56 Degrees Fahrenheit to Celsius 56 degrees Fahrenheit = 13.33 degrees Celsius. Use this calculator to convert 56°f to Celsius. How many degrees Celsius in 56°f? 56°f to degrees Celsius is 13.33°c. How hot is 56°f in Celsius? How cold? Type the information into the input boxes and the degrees in Celsius will update automatically.', 'score': 0.8415267, 'raw_content': None}], 'response_time': 1.68}), AIMessage(content='The current temperature in Wellington is 13.81 degrees Celsius.\\n', additional_kwargs={}, response_metadata={'token_usage': {'completion_tokens': 18, 'prompt_tokens': 3717, 'total_tokens': 3735, 'completion_time': 0.032727273, 'prompt_time': 0.120796829, 'queue_time': 0.025576084, 'total_time': 0.153524102}, 'model_name': 'Gemma2-9b-It', 'system_fingerprint': 'fp_10c08bf97d', 'finish_reason': 'stop', 'logprobs': None}, id='run-221f87b7-72c8-41f8-b5b8-bc25ca5a0b16-0', usage_metadata={'input_tokens': 3717, 'output_tokens': 18, 'total_tokens': 3735})]}, next=(), config={'configurable': {'thread_id': '1', 'checkpoint_ns': '', 'checkpoint_id': '1efdb827-9cbd-6eaa-8012-06dce436cec7'}}, metadata={'source': 'loop', 'writes': {'ai_assistant': {'messages': [AIMessage(content='The current temperature in Wellington is 13.81 degrees Celsius.\\n', additional_kwargs={}, response_metadata={'token_usage': {'completion_tokens': 18, 'prompt_tokens': 3717, 'total_tokens': 3735, 'completion_time': 0.032727273, 'prompt_time': 0.120796829, 'queue_time': 0.025576084, 'total_time': 0.153524102}, 'model_name': 'Gemma2-9b-It', 'system_fingerprint': 'fp_10c08bf97d', 'finish_reason': 'stop', 'logprobs': None}, id='run-221f87b7-72c8-41f8-b5b8-bc25ca5a0b16-0', usage_metadata={'input_tokens': 3717, 'output_tokens': 18, 'total_tokens': 3735})]}}, 'thread_id': '1', 'step': 18, 'parents': {}}, created_at='2025-01-26T01:11:30.741009+00:00', parent_config={'configurable': {'thread_id': '1', 'checkpoint_ns': '', 'checkpoint_id': '1efdb827-9361-6e28-8011-8e1b939f45c3'}}, tasks=())"
      ]
     },
     "execution_count": 113,
     "metadata": {},
     "output_type": "execute_result"
    }
   ],
   "source": [
    "app2.get_state(config)"
   ]
  },
  {
   "cell_type": "code",
   "execution_count": 114,
   "metadata": {},
   "outputs": [],
   "source": [
    "snapshot=app2.get_state(config)"
   ]
  },
  {
   "cell_type": "code",
   "execution_count": 115,
   "metadata": {},
   "outputs": [
    {
     "data": {
      "text/plain": [
       "()"
      ]
     },
     "execution_count": 115,
     "metadata": {},
     "output_type": "execute_result"
    }
   ],
   "source": [
    "snapshot.next #tool calling is done so there is no further calling of the tool"
   ]
  },
  {
   "cell_type": "code",
   "execution_count": 116,
   "metadata": {},
   "outputs": [],
   "source": [
    "user_input = \"give me the recent news of it?\"\n",
    "\n",
    "config = {\"configurable\": {\"thread_id\": \"1\"}} "
   ]
  },
  {
   "cell_type": "code",
   "execution_count": 117,
   "metadata": {},
   "outputs": [],
   "source": [
    "# The config is the **second positional argument** to stream() or invoke()!\n",
    "events = app2.stream(\n",
    "    {\"messages\": [(\"user\", user_input)]}, config, stream_mode=\"values\"\n",
    ")"
   ]
  },
  {
   "cell_type": "code",
   "execution_count": 118,
   "metadata": {},
   "outputs": [
    {
     "name": "stdout",
     "output_type": "stream",
     "text": [
      "================================\u001b[1m Human Message \u001b[0m=================================\n",
      "\n",
      "give me the recent news of it?\n",
      "==================================\u001b[1m Ai Message \u001b[0m==================================\n",
      "Tool Calls:\n",
      "  tavily_search_results_json (call_nk4r)\n",
      " Call ID: call_nk4r\n",
      "  Args:\n",
      "    query: recent news about Wellington New Zealand\n"
     ]
    }
   ],
   "source": [
    "for event in events:\n",
    "    if \"messages\" in event:\n",
    "        event[\"messages\"][-1].pretty_print()"
   ]
  },
  {
   "cell_type": "code",
   "execution_count": 119,
   "metadata": {},
   "outputs": [],
   "source": [
    "snapshot=app2.get_state(config)"
   ]
  },
  {
   "cell_type": "code",
   "execution_count": 120,
   "metadata": {},
   "outputs": [],
   "source": [
    "current_message = snapshot.values[\"messages\"][-1]"
   ]
  },
  {
   "cell_type": "code",
   "execution_count": 121,
   "metadata": {},
   "outputs": [
    {
     "name": "stdout",
     "output_type": "stream",
     "text": [
      "==================================\u001b[1m Ai Message \u001b[0m==================================\n",
      "Tool Calls:\n",
      "  tavily_search_results_json (call_nk4r)\n",
      " Call ID: call_nk4r\n",
      "  Args:\n",
      "    query: recent news about Wellington New Zealand\n"
     ]
    }
   ],
   "source": [
    "current_message.pretty_print()"
   ]
  },
  {
   "cell_type": "code",
   "execution_count": 122,
   "metadata": {},
   "outputs": [],
   "source": [
    "tool_call_id = current_message.tool_calls[0][\"id\"] "
   ]
  },
  {
   "cell_type": "code",
   "execution_count": 123,
   "metadata": {},
   "outputs": [
    {
     "data": {
      "text/plain": [
       "'call_nk4r'"
      ]
     },
     "execution_count": 123,
     "metadata": {},
     "output_type": "execute_result"
    }
   ],
   "source": [
    "tool_call_id"
   ]
  },
  {
   "cell_type": "code",
   "execution_count": 124,
   "metadata": {},
   "outputs": [],
   "source": [
    "from langchain_core.messages import AIMessage, ToolMessage"
   ]
  },
  {
   "cell_type": "code",
   "execution_count": 125,
   "metadata": {},
   "outputs": [],
   "source": [
    "#custom own output data\n",
    "answer = \"it is extremely cold and sometimes it is raining\""
   ]
  },
  {
   "cell_type": "code",
   "execution_count": 126,
   "metadata": {},
   "outputs": [],
   "source": [
    "new_messages = [\n",
    "    ToolMessage(content=answer, tool_call_id=tool_call_id),\n",
    "    AIMessage(content=answer),\n",
    "]"
   ]
  },
  {
   "cell_type": "code",
   "execution_count": 127,
   "metadata": {},
   "outputs": [
    {
     "data": {
      "text/plain": [
       "{'configurable': {'thread_id': '1',\n",
       "  'checkpoint_ns': '',\n",
       "  'checkpoint_id': '1efdb833-e2cf-6865-8016-30273c9ce05b'}}"
      ]
     },
     "execution_count": 127,
     "metadata": {},
     "output_type": "execute_result"
    }
   ],
   "source": [
    "app2.update_state(\n",
    "    config,\n",
    "    {\"messages\": new_messages},\n",
    ")"
   ]
  },
  {
   "cell_type": "code",
   "execution_count": null,
   "metadata": {},
   "outputs": [],
   "source": []
  }
 ],
 "metadata": {
  "kernelspec": {
   "display_name": "langgraphe2e",
   "language": "python",
   "name": "python3"
  },
  "language_info": {
   "codemirror_mode": {
    "name": "ipython",
    "version": 3
   },
   "file_extension": ".py",
   "mimetype": "text/x-python",
   "name": "python",
   "nbconvert_exporter": "python",
   "pygments_lexer": "ipython3",
   "version": "3.10.16"
  }
 },
 "nbformat": 4,
 "nbformat_minor": 2
}
