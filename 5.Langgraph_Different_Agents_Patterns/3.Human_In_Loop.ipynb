{
 "cells": [
  {
   "cell_type": "code",
   "execution_count": 1,
   "metadata": {},
   "outputs": [],
   "source": [
    "from typing import Annotated\n",
    "import operator,json\n",
    "from typing import TypedDict, Annotated, Sequence\n",
    "from typing_extensions import TypedDict\n",
    "from langchain_core.messages import BaseMessage\n",
    "from langgraph.checkpoint.memory import MemorySaver\n",
    "from langgraph.graph import StateGraph,END,START\n",
    "from langgraph.graph.message import add_messages\n",
    "from langgraph.prebuilt import ToolNode, tools_condition\n",
    "from langchain_core.tools import tool\n",
    "from langchain_community.tools.tavily_search import TavilySearchResults"
   ]
  },
  {
   "cell_type": "code",
   "execution_count": 2,
   "metadata": {},
   "outputs": [],
   "source": [
    "from langchain_groq import ChatGroq\n",
    "llm=ChatGroq(model_name=\"Gemma2-9b-It\")"
   ]
  },
  {
   "cell_type": "code",
   "execution_count": 3,
   "metadata": {},
   "outputs": [
    {
     "data": {
      "text/plain": [
       "AIMessage(content='Hello! 👋\\n\\nHow can I help you today? 😊\\n', additional_kwargs={}, response_metadata={'token_usage': {'completion_tokens': 15, 'prompt_tokens': 10, 'total_tokens': 25, 'completion_time': 0.027272727, 'prompt_time': 6.2e-07, 'queue_time': 0.024373859, 'total_time': 0.027273347}, 'model_name': 'Gemma2-9b-It', 'system_fingerprint': 'fp_10c08bf97d', 'finish_reason': 'stop', 'logprobs': None}, id='run-ce147400-ea90-43dd-8d0c-c659e5a93702-0', usage_metadata={'input_tokens': 10, 'output_tokens': 15, 'total_tokens': 25})"
      ]
     },
     "execution_count": 3,
     "metadata": {},
     "output_type": "execute_result"
    }
   ],
   "source": [
    "llm.invoke(\"hi\")"
   ]
  },
  {
   "cell_type": "code",
   "execution_count": 4,
   "metadata": {},
   "outputs": [
    {
     "data": {
      "text/plain": [
       "'Hello! 👋  How can I help you today?\\n'"
      ]
     },
     "execution_count": 4,
     "metadata": {},
     "output_type": "execute_result"
    }
   ],
   "source": [
    "llm.invoke(\"hi\").content"
   ]
  },
  {
   "cell_type": "code",
   "execution_count": 5,
   "metadata": {},
   "outputs": [],
   "source": [
    "@tool\n",
    "def multiply(first_number:int, second_number:int)->int:\n",
    "    \"\"\"multiply two integer number\"\"\"\n",
    "    return first_number * second_number"
   ]
  },
  {
   "cell_type": "code",
   "execution_count": 6,
   "metadata": {},
   "outputs": [
    {
     "name": "stderr",
     "output_type": "stream",
     "text": [
      "C:\\Users\\Toshiba\\AppData\\Local\\Temp\\ipykernel_3780\\623416424.py:1: LangChainDeprecationWarning: The method `BaseTool.__call__` was deprecated in langchain-core 0.1.47 and will be removed in 1.0. Use :meth:`~invoke` instead.\n",
      "  multiply({\"first_number\":20,\"second_number\":27})\n"
     ]
    },
    {
     "data": {
      "text/plain": [
       "540"
      ]
     },
     "execution_count": 6,
     "metadata": {},
     "output_type": "execute_result"
    }
   ],
   "source": [
    "multiply({\"first_number\":20,\"second_number\":27})"
   ]
  },
  {
   "cell_type": "code",
   "execution_count": 7,
   "metadata": {},
   "outputs": [
    {
     "data": {
      "text/plain": [
       "540"
      ]
     },
     "execution_count": 7,
     "metadata": {},
     "output_type": "execute_result"
    }
   ],
   "source": [
    "multiply.invoke({\"first_number\":20,\"second_number\":27})"
   ]
  },
  {
   "cell_type": "code",
   "execution_count": 8,
   "metadata": {},
   "outputs": [],
   "source": [
    "@tool\n",
    "def search(query:str):\n",
    "    \"\"\"perform the web search on the user query\"\"\"\n",
    "    tavily=TavilySearchResults()\n",
    "    result=tavily.invoke(query)\n",
    "    return result"
   ]
  },
  {
   "cell_type": "code",
   "execution_count": 9,
   "metadata": {},
   "outputs": [
    {
     "data": {
      "text/plain": [
       "[{'url': 'https://www.bbc.co.uk/newsround/articles/ce3nq0rexqeo',\n",
       "  'content': 'Donald Trump officially becomes new US president - BBC Newsround Donald Trump officially becomes new US president In a special ceremony called an inauguration, President Trump took over from Joe Biden as America\\'s new leader. In his first speech as president after swearing the oath, Mr Trump promised to make America \"greater, stronger, and far more exceptional than ever before\". It\\'s the second time that Mr Trump has taken on the role - having previously served as president before Joe Biden, between 2017-2021. Donald Trump: What happens at the inauguration of the new US president? What are Donald Trump\\'s plans as president? Following his oath, Mr Trump gave his first speech as president - which is known as the Inaugural Address.'},\n",
       " {'url': 'https://www.usa.gov/presidents',\n",
       "  'content': 'Vice president of the United States\\nThe vice president of the United States presides over the U.S. Senate and takes over the role of president of the United States if the president is unable to perform his or her duties. President of the United States\\nThe president of the United States is the:\\nCurrent president\\nThe 46th and current president of the United States is Joseph R. Biden, Jr. First lady\\nThe First lady of the United States has traditionally been the wife or other close female relative of the president of the United States. Requirements to be eligible to become president\\nAccording to Article II of the U.S. Constitution, the president must:\\nLearn about the U.S. presidential election process.\\n If the vice president is not able to fulfill the duties of president, the role is passed to another leader in the order of presidential succession.\\n'},\n",
       " {'url': 'https://www.pbs.org/newshour/politics/donald-trump-sworn-in-as-47th-president-of-the-united-states',\n",
       "  'content': 'Donald Trump sworn in as 47th president of the United States | PBS News https://www.pbs.org/newshour/politics/donald-trump-sworn-in-as-47th-president-of-the-united-states You can watch all Inauguration Day events Monday on our livestream here, find a planned lineup of events, review President-elect Donald Trump’s sweeping promises and learn what’s changed since he was sworn into office eight years ago. During his second in 2014, he paired it with a Bible that had belonged to the Rev. Martin Luther King Jr. Left: WASHINGTON, DC - JANUARY 20: U.S. President-elect Donald Trump arrives for inauguration ceremonies in the Rotunda of the U.S. Capitol on January 20, 2025 in Washington, DC. Donald Trump takes office for his second term as the 47th president of the United States.'},\n",
       " {'url': 'https://news.sky.com/story/donald-trump-sworn-in-as-us-president-for-second-time-13293105',\n",
       "  'content': 'Donald Trump sworn in as US president for second time, telling Americans: \\'The golden age begins right now\\' | US News | Sky News Donald Trump sworn in as US president for second time, telling Americans: \\'The golden age begins right now\\' \\'I was saved by God to make America great again,\" President Donald Trump said in his inaugural address. Donald Trump has been sworn in as the 47th President of the United States, completing perhaps the most remarkable political comeback in American history. Proclaiming that a \"golden age begins right now\", Mr Trump also said he would rename the Gulf of Mexico the \"Gulf of America\" and take back the Panama Canal in his inauguration address. Image: Donald Trump sings the freedom of speech executive order during the inaugural parade.'},\n",
       " {'url': 'https://www.nbcnews.com/politics/2024-election/trump-wins-election-president-harris-defeat-2024-race-rcna176107',\n",
       "  'content': 'Donald Trump defeats Kamala Harris to become the next U.S. president, NBC News projects BREAKING: Donald Trump is elected 47th president of the United States, NBC News projects Donald Trump defeats Kamala Harris to become the next U.S. president, NBC News projects Donald Trump defeats Kamala Harris to become the next U.S. president, NBC News projects Trump will make history as the 45th and now 47th president, NBC News projects, saying he will fix an ailing country and despite warnings he will rule as an authoritarian. NBC News projects Donald Trump is elected 47th president of the United States NBC News projected the Trump victory over Harris, who was the first woman of color to win a major party nomination for president, early Wednesday morning.'}]"
      ]
     },
     "execution_count": 9,
     "metadata": {},
     "output_type": "execute_result"
    }
   ],
   "source": [
    "search(\"who is the new president of USA?\")"
   ]
  },
  {
   "cell_type": "code",
   "execution_count": 10,
   "metadata": {},
   "outputs": [
    {
     "data": {
      "text/plain": [
       "[{'url': 'https://www.usnews.com/news/politics/articles/2025-01-20/inauguration-day-latest-biden-pardons-fauci-milley-and-jan-6-committee-before-trump-takes-office',\n",
       "  'content': 'President Joe Biden and President-elect Donald Trump walk out to the presidential limousine, as they depart the White House, Monday, Jan. 20, 2025, in Washington, enroute to the Capitol. WASHINGTON (AP) — Donald Trump, who overcame impeachments, criminal indictments and a pair of assassination attempts to win another term in the White House, will be sworn in Monday as the 47th U.S. president taking charge as Republicans claim unified control of Washington and set out to reshape the country’s institutions. “Feel great,” said House Majority Leader Steve Scalise, R-La. President-elect Donald Trump and Vice President-elect JD Vance arrive at the Capitol ahead of their inauguration “Welcome home,” Biden said to Trump after the president-elect stepped out of the car.'},\n",
       " {'url': 'https://www.usa.gov/presidents',\n",
       "  'content': 'Vice president of the United States\\nThe vice president of the United States presides over the U.S. Senate and takes over the role of president of the United States if the president is unable to perform his or her duties. President of the United States\\nThe president of the United States is the:\\nCurrent president\\nThe 46th and current president of the United States is Joseph R. Biden, Jr. First lady\\nThe First lady of the United States has traditionally been the wife or other close female relative of the president of the United States. Requirements to be eligible to become president\\nAccording to Article II of the U.S. Constitution, the president must:\\nLearn about the U.S. presidential election process.\\n If the vice president is not able to fulfill the duties of president, the role is passed to another leader in the order of presidential succession.\\n'},\n",
       " {'url': 'https://www.bbc.com/news/world-us-canada-55736856',\n",
       "  'content': 'The new president took his oath of office with Chief Justice John G Roberts. Highlighting a message of unity after the turbulent Trump years, he promised to be a president \"for all Americans'},\n",
       " {'url': 'https://www.nbcnews.com/politics/2024-election/trump-wins-election-president-harris-defeat-2024-race-rcna176107',\n",
       "  'content': 'Donald Trump defeats Kamala Harris to become the next U.S. president, NBC News projects BREAKING: Donald Trump is elected 47th president of the United States, NBC News projects Donald Trump defeats Kamala Harris to become the next U.S. president, NBC News projects Donald Trump defeats Kamala Harris to become the next U.S. president, NBC News projects Trump will make history as the 45th and now 47th president, NBC News projects, saying he will fix an ailing country and despite warnings he will rule as an authoritarian. NBC News projects Donald Trump is elected 47th president of the United States NBC News projected the Trump victory over Harris, who was the first woman of color to win a major party nomination for president, early Wednesday morning.'},\n",
       " {'url': 'https://www.cnn.com/politics/live-news/2024-election-trump-harris/index.html',\n",
       "  'content': 'Live updates: 2024 presidential election | CNN Politics CNN10 CNN 5 Things About CNN Work for CNN Getty ImagesLive Updates Harris and Trump in final sprint to Election Day • Vice President Kamala Harris and former President Donald Trump are holding their final campaign events in battleground states ahead of Election Day. Harris is speaking in Pennsylvania while Trump delivers remarks in Michigan. In those eight elections since 1988, the only time the blue wall states went to a Republican was in 2016, when they were won by Trump. Ahead of election night, read up on the 2024 candidates on the Democratic and Republican tickets vying to win the White House. CNN10 CNN 5 Things About CNN Work for CNN'}]"
      ]
     },
     "execution_count": 10,
     "metadata": {},
     "output_type": "execute_result"
    }
   ],
   "source": [
    "search.invoke(\"who is the new president of USA?\")"
   ]
  },
  {
   "cell_type": "code",
   "execution_count": 11,
   "metadata": {},
   "outputs": [],
   "source": [
    "tools=[search,multiply]"
   ]
  },
  {
   "cell_type": "code",
   "execution_count": 12,
   "metadata": {},
   "outputs": [],
   "source": [
    "model_with_tools = llm.bind_tools(tools)"
   ]
  },
  {
   "cell_type": "code",
   "execution_count": 13,
   "metadata": {},
   "outputs": [],
   "source": [
    "tool_mapping={tool.name: tool for tool in tools}"
   ]
  },
  {
   "cell_type": "code",
   "execution_count": 14,
   "metadata": {},
   "outputs": [
    {
     "data": {
      "text/plain": [
       "{'search': StructuredTool(name='search', description='perform the web search on the user query', args_schema=<class 'langchain_core.utils.pydantic.search'>, func=<function search at 0x000002290A1C4AF0>),\n",
       " 'multiply': StructuredTool(name='multiply', description='multiply two integer number', args_schema=<class 'langchain_core.utils.pydantic.multiply'>, func=<function multiply at 0x0000022906722DD0>)}"
      ]
     },
     "execution_count": 14,
     "metadata": {},
     "output_type": "execute_result"
    }
   ],
   "source": [
    "tool_mapping"
   ]
  },
  {
   "cell_type": "code",
   "execution_count": 23,
   "metadata": {},
   "outputs": [],
   "source": [
    "response = model_with_tools.invoke(\"who is the new president of USA?\")"
   ]
  },
  {
   "cell_type": "code",
   "execution_count": 25,
   "metadata": {},
   "outputs": [
    {
     "data": {
      "text/plain": [
       "AIMessage(content='', additional_kwargs={'tool_calls': [{'id': 'call_km3n', 'function': {'arguments': '{\"query\":\"who is the new president of USA\"}', 'name': 'search'}, 'type': 'function'}]}, response_metadata={'token_usage': {'completion_tokens': 85, 'prompt_tokens': 1076, 'total_tokens': 1161, 'completion_time': 0.154545455, 'prompt_time': 0.034723759, 'queue_time': 0.023374611000000003, 'total_time': 0.189269214}, 'model_name': 'Gemma2-9b-It', 'system_fingerprint': 'fp_10c08bf97d', 'finish_reason': 'tool_calls', 'logprobs': None}, id='run-02c7649f-435f-471e-a5b1-2761d078c2d2-0', tool_calls=[{'name': 'search', 'args': {'query': 'who is the new president of USA'}, 'id': 'call_km3n', 'type': 'tool_call'}], usage_metadata={'input_tokens': 1076, 'output_tokens': 85, 'total_tokens': 1161})"
      ]
     },
     "execution_count": 25,
     "metadata": {},
     "output_type": "execute_result"
    }
   ],
   "source": [
    "response #here it is not returning the result because it is in the process of calling the search tool only"
   ]
  },
  {
   "cell_type": "code",
   "execution_count": 26,
   "metadata": {},
   "outputs": [],
   "source": [
    "tool_details=response.additional_kwargs.get(\"tool_calls\")"
   ]
  },
  {
   "cell_type": "code",
   "execution_count": 27,
   "metadata": {},
   "outputs": [
    {
     "data": {
      "text/plain": [
       "[{'id': 'call_km3n',\n",
       "  'function': {'arguments': '{\"query\":\"who is the new president of USA\"}',\n",
       "   'name': 'search'},\n",
       "  'type': 'function'}]"
      ]
     },
     "execution_count": 27,
     "metadata": {},
     "output_type": "execute_result"
    }
   ],
   "source": [
    "tool_details"
   ]
  },
  {
   "cell_type": "code",
   "execution_count": 28,
   "metadata": {},
   "outputs": [
    {
     "data": {
      "text/plain": [
       "'search'"
      ]
     },
     "execution_count": 28,
     "metadata": {},
     "output_type": "execute_result"
    }
   ],
   "source": [
    "tool_details[0][\"function\"][\"name\"]"
   ]
  },
  {
   "cell_type": "code",
   "execution_count": 29,
   "metadata": {},
   "outputs": [
    {
     "data": {
      "text/plain": [
       "'{\"query\":\"who is the new president of USA\"}'"
      ]
     },
     "execution_count": 29,
     "metadata": {},
     "output_type": "execute_result"
    }
   ],
   "source": [
    "tool_details[0][\"function\"][\"arguments\"]"
   ]
  },
  {
   "cell_type": "code",
   "execution_count": 31,
   "metadata": {},
   "outputs": [
    {
     "data": {
      "text/plain": [
       "{'query': 'who is the new president of USA'}"
      ]
     },
     "execution_count": 31,
     "metadata": {},
     "output_type": "execute_result"
    }
   ],
   "source": [
    "json.loads(tool_details[0][\"function\"][\"arguments\"])"
   ]
  },
  {
   "cell_type": "code",
   "execution_count": 30,
   "metadata": {},
   "outputs": [
    {
     "data": {
      "text/plain": [
       "[{'url': 'https://www.bbc.co.uk/newsround/articles/ce3nq0rexqeo',\n",
       "  'content': 'Donald Trump officially becomes new US president - BBC Newsround Donald Trump officially becomes new US president In a special ceremony called an inauguration, President Trump took over from Joe Biden as America\\'s new leader. In his first speech as president after swearing the oath, Mr Trump promised to make America \"greater, stronger, and far more exceptional than ever before\". It\\'s the second time that Mr Trump has taken on the role - having previously served as president before Joe Biden, between 2017-2021. Donald Trump: What happens at the inauguration of the new US president? What are Donald Trump\\'s plans as president? Following his oath, Mr Trump gave his first speech as president - which is known as the Inaugural Address.'},\n",
       " {'url': 'https://www.rollingstone.com/politics/politics-news/donald-trump-sworn-in-47th-president-united-states-1235241770/',\n",
       "  'content': 'Outgoing President Joe Biden greeted incoming President Donald Trump at the north portico of the White House on Monday with an enthusiastic “Welcome home!” The first families enjoyed tea together, and a few hours later Trump, a convicted felon who attempted to overturn the results of a free and fair election four years ago, was sworn in as the 47th president inside the Capitol his supporters violently attacked in an effort to keep him in power. Michael Fanone, a retired D.C. police officer who was assaulted by pro-Trump rioters on Jan. 6, told The New York Times that it’s “insane that we live in a country where the president of the United States feels the need to offer a pre-emptive pardon to American citizens who testified in an investigation regarding an insurrection which was incited by the incoming president because he’s promised to enact, or exact, vengeance on those participants and the body that investigated them.”'},\n",
       " {'url': 'https://www.usa.gov/presidents',\n",
       "  'content': 'Vice president of the United States\\nThe vice president of the United States presides over the U.S. Senate and takes over the role of president of the United States if the president is unable to perform his or her duties. President of the United States\\nThe president of the United States is the:\\nCurrent president\\nThe 46th and current president of the United States is Joseph R. Biden, Jr. First lady\\nThe First lady of the United States has traditionally been the wife or other close female relative of the president of the United States. Requirements to be eligible to become president\\nAccording to Article II of the U.S. Constitution, the president must:\\nLearn about the U.S. presidential election process.\\n If the vice president is not able to fulfill the duties of president, the role is passed to another leader in the order of presidential succession.\\n'},\n",
       " {'url': 'https://www.pbs.org/newshour/politics/donald-trump-sworn-in-as-47th-president-of-the-united-states',\n",
       "  'content': 'Donald Trump sworn in as 47th president of the United States | PBS News https://www.pbs.org/newshour/politics/donald-trump-sworn-in-as-47th-president-of-the-united-states You can watch all Inauguration Day events Monday on our livestream here, find a planned lineup of events, review President-elect Donald Trump’s sweeping promises and learn what’s changed since he was sworn into office eight years ago. During his second in 2014, he paired it with a Bible that had belonged to the Rev. Martin Luther King Jr. Left: WASHINGTON, DC - JANUARY 20: U.S. President-elect Donald Trump arrives for inauguration ceremonies in the Rotunda of the U.S. Capitol on January 20, 2025 in Washington, DC. Donald Trump takes office for his second term as the 47th president of the United States.'},\n",
       " {'url': 'https://news.sky.com/story/donald-trump-sworn-in-as-us-president-for-second-time-13293105',\n",
       "  'content': 'Donald Trump sworn in as US president for second time, telling Americans: \\'The golden age begins right now\\' | US News | Sky News Donald Trump sworn in as US president for second time, telling Americans: \\'The golden age begins right now\\' \\'I was saved by God to make America great again,\" President Donald Trump said in his inaugural address. Donald Trump has been sworn in as the 47th President of the United States, completing perhaps the most remarkable political comeback in American history. Proclaiming that a \"golden age begins right now\", Mr Trump also said he would rename the Gulf of Mexico the \"Gulf of America\" and take back the Panama Canal in his inauguration address. Image: Donald Trump sings the freedom of speech executive order during the inaugural parade.'}]"
      ]
     },
     "execution_count": 30,
     "metadata": {},
     "output_type": "execute_result"
    }
   ],
   "source": [
    "tool_mapping[tool_details[0][\"function\"][\"name\"]].invoke(json.loads(tool_details[0][\"function\"][\"arguments\"]))"
   ]
  },
  {
   "cell_type": "code",
   "execution_count": 15,
   "metadata": {},
   "outputs": [],
   "source": [
    "class AgentState(TypedDict): #Capture the message [list] of the entire execution.\n",
    "    messages: Annotated[Sequence[BaseMessage], operator.add]"
   ]
  },
  {
   "cell_type": "code",
   "execution_count": 16,
   "metadata": {},
   "outputs": [],
   "source": [
    "def invoke_model(state:AgentState):\n",
    "    messages = state['messages']\n",
    "    question = messages[-1]   ## Fetching the user question\n",
    "    return {\"messages\":[model_with_tools.invoke(question)]}"
   ]
  },
  {
   "cell_type": "code",
   "execution_count": 17,
   "metadata": {},
   "outputs": [],
   "source": [
    "def invoke_tool(state:AgentState):\n",
    "    tool_details= state['messages'][-1].additional_kwargs.get(\"tool_calls\", [])[0]\n",
    "    \n",
    "    if tool_details is None:\n",
    "        raise Exception(\"no tool call found\")\n",
    "    \n",
    "    print(f'Selected tool: {tool_details.get(\"function\").get(\"name\")}')\n",
    "    \n",
    "    if tool_details.get(\"function\").get(\"name\")==\"search\": #Human intervention\n",
    "        response = input(prompt=f\"[y/n] continue with expensive web search?\")\n",
    "        if response == \"n\":\n",
    "            raise Exception(\"web search discard\")\n",
    "    #Final call with custom logic\n",
    "    response = tool_mapping[tool_details['function']['name']].invoke(json.loads(tool_details.get(\"function\").get(\"arguments\")))\n",
    "    return {\"messages\" : [response]}"
   ]
  },
  {
   "cell_type": "code",
   "execution_count": 18,
   "metadata": {},
   "outputs": [],
   "source": [
    "def router(state):\n",
    "    tool_calls = state['messages'][-1].additional_kwargs.get(\"tool_calls\", [])\n",
    "    if len(tool_calls):\n",
    "        return \"tool\"\n",
    "    else:\n",
    "        return \"end\""
   ]
  },
  {
   "cell_type": "code",
   "execution_count": 19,
   "metadata": {},
   "outputs": [
    {
     "data": {
      "text/plain": [
       "<langgraph.graph.state.StateGraph at 0x2290a1e1540>"
      ]
     },
     "execution_count": 19,
     "metadata": {},
     "output_type": "execute_result"
    }
   ],
   "source": [
    "graph = StateGraph(AgentState) ### StateGraph with AgentState\n",
    "\n",
    "graph.add_node(\"ai_assistant\", invoke_model)\n",
    "\n",
    "graph.add_node(\"tool\", invoke_tool)"
   ]
  },
  {
   "cell_type": "code",
   "execution_count": 20,
   "metadata": {},
   "outputs": [
    {
     "data": {
      "text/plain": [
       "<langgraph.graph.state.StateGraph at 0x2290a1e1540>"
      ]
     },
     "execution_count": 20,
     "metadata": {},
     "output_type": "execute_result"
    }
   ],
   "source": [
    "graph.add_conditional_edges(\"ai_assistant\", router, {\"tool\": \"tool\",\"end\": END,})\n",
    "\n",
    "graph.add_edge(\"tool\", END)\n",
    "\n",
    "#graph.add_edge(\"tool\", \"ai_assistant\")\n",
    "\n",
    "graph.set_entry_point(\"ai_assistant\")"
   ]
  },
  {
   "cell_type": "code",
   "execution_count": 21,
   "metadata": {},
   "outputs": [],
   "source": [
    "app = graph.compile()"
   ]
  },
  {
   "cell_type": "code",
   "execution_count": 22,
   "metadata": {},
   "outputs": [
    {
     "data": {
      "image/png": "[encoded data removed]",
      "text/plain": [
       "<IPython.core.display.Image object>"
      ]
     },
     "metadata": {},
     "output_type": "display_data"
    }
   ],
   "source": [
    "from IPython.display import Image, display\n",
    "display(Image(app.get_graph().draw_mermaid_png()))"
   ]
  },
  {
   "cell_type": "code",
   "execution_count": 32,
   "metadata": {},
   "outputs": [
    {
     "name": "stdout",
     "output_type": "stream",
     "text": [
      "{'messages': [AIMessage(content='', additional_kwargs={'tool_calls': [{'id': 'call_jnq5', 'function': {'arguments': '{\"query\":\"who is the new president of USA\"}', 'name': 'search'}, 'type': 'function'}]}, response_metadata={'token_usage': {'completion_tokens': 86, 'prompt_tokens': 1076, 'total_tokens': 1162, 'completion_time': 0.156363636, 'prompt_time': 0.034526679, 'queue_time': 0.024503990000000003, 'total_time': 0.190890315}, 'model_name': 'Gemma2-9b-It', 'system_fingerprint': 'fp_10c08bf97d', 'finish_reason': 'tool_calls', 'logprobs': None}, id='run-50411af7-370e-47c6-bf48-ae5d8c6cfb57-0', tool_calls=[{'name': 'search', 'args': {'query': 'who is the new president of USA'}, 'id': 'call_jnq5', 'type': 'tool_call'}], usage_metadata={'input_tokens': 1076, 'output_tokens': 86, 'total_tokens': 1162})]}\n",
      "----\n",
      "Selected tool: search\n",
      "{'messages': [[{'url': 'https://www.bbc.co.uk/newsround/articles/ce3nq0rexqeo', 'content': 'Donald Trump officially becomes new US president - BBC Newsround Donald Trump officially becomes new US president In a special ceremony called an inauguration, President Trump took over from Joe Biden as America\\'s new leader. In his first speech as president after swearing the oath, Mr Trump promised to make America \"greater, stronger, and far more exceptional than ever before\". It\\'s the second time that Mr Trump has taken on the role - having previously served as president before Joe Biden, between 2017-2021. Donald Trump: What happens at the inauguration of the new US president? What are Donald Trump\\'s plans as president? Following his oath, Mr Trump gave his first speech as president - which is known as the Inaugural Address.'}, {'url': 'https://www.usa.gov/presidents', 'content': 'Vice president of the United States\\nThe vice president of the United States presides over the U.S. Senate and takes over the role of president of the United States if the president is unable to perform his or her duties. President of the United States\\nThe president of the United States is the:\\nCurrent president\\nThe 46th and current president of the United States is Joseph R. Biden, Jr. First lady\\nThe First lady of the United States has traditionally been the wife or other close female relative of the president of the United States. Requirements to be eligible to become president\\nAccording to Article II of the U.S. Constitution, the president must:\\nLearn about the U.S. presidential election process.\\n If the vice president is not able to fulfill the duties of president, the role is passed to another leader in the order of presidential succession.\\n'}, {'url': 'https://www.pbs.org/newshour/politics/donald-trump-sworn-in-as-47th-president-of-the-united-states', 'content': 'Donald Trump sworn in as 47th president of the United States | PBS News https://www.pbs.org/newshour/politics/donald-trump-sworn-in-as-47th-president-of-the-united-states You can watch all Inauguration Day events Monday on our livestream here, find a planned lineup of events, review President-elect Donald Trump’s sweeping promises and learn what’s changed since he was sworn into office eight years ago. During his second in 2014, he paired it with a Bible that had belonged to the Rev. Martin Luther King Jr. Left: WASHINGTON, DC - JANUARY 20: U.S. President-elect Donald Trump arrives for inauguration ceremonies in the Rotunda of the U.S. Capitol on January 20, 2025 in Washington, DC. Donald Trump takes office for his second term as the 47th president of the United States.'}, {'url': 'https://news.sky.com/story/donald-trump-sworn-in-as-us-president-for-second-time-13293105', 'content': 'Donald Trump sworn in as US president for second time, telling Americans: \\'The golden age begins right now\\' | US News | Sky News Donald Trump sworn in as US president for second time, telling Americans: \\'The golden age begins right now\\' \\'I was saved by God to make America great again,\" President Donald Trump said in his inaugural address. Donald Trump has been sworn in as the 47th President of the United States, completing perhaps the most remarkable political comeback in American history. Proclaiming that a \"golden age begins right now\", Mr Trump also said he would rename the Gulf of Mexico the \"Gulf of America\" and take back the Panama Canal in his inauguration address. Image: Donald Trump sings the freedom of speech executive order during the inaugural parade.'}, {'url': 'https://www.nbcnews.com/politics/2024-election/trump-wins-election-president-harris-defeat-2024-race-rcna176107', 'content': 'Donald Trump defeats Kamala Harris to become the next U.S. president, NBC News projects BREAKING: Donald Trump is elected 47th president of the United States, NBC News projects Donald Trump defeats Kamala Harris to become the next U.S. president, NBC News projects Donald Trump defeats Kamala Harris to become the next U.S. president, NBC News projects Trump will make history as the 45th and now 47th president, NBC News projects, saying he will fix an ailing country and despite warnings he will rule as an authoritarian. NBC News projects Donald Trump is elected 47th president of the United States NBC News projected the Trump victory over Harris, who was the first woman of color to win a major party nomination for president, early Wednesday morning.'}]]}\n",
      "----\n"
     ]
    }
   ],
   "source": [
    "for s in app.stream({\"messages\": [\"who is the new president of USA?\"]}):\n",
    "    print(list(s.values())[0])\n",
    "    print(\"----\")"
   ]
  },
  {
   "cell_type": "code",
   "execution_count": 33,
   "metadata": {},
   "outputs": [
    {
     "name": "stdout",
     "output_type": "stream",
     "text": [
      "{'messages': [AIMessage(content='', additional_kwargs={'tool_calls': [{'id': 'call_gmf5', 'function': {'arguments': '{\"first_number\":20,\"second_number\":6}', 'name': 'multiply'}, 'type': 'function'}]}, response_metadata={'token_usage': {'completion_tokens': 90, 'prompt_tokens': 1077, 'total_tokens': 1167, 'completion_time': 0.163636364, 'prompt_time': 0.034475916, 'queue_time': 0.023676624, 'total_time': 0.19811228}, 'model_name': 'Gemma2-9b-It', 'system_fingerprint': 'fp_10c08bf97d', 'finish_reason': 'tool_calls', 'logprobs': None}, id='run-89d2c5a1-9e72-45df-bee6-8983153efb8c-0', tool_calls=[{'name': 'multiply', 'args': {'first_number': 20, 'second_number': 6}, 'id': 'call_gmf5', 'type': 'tool_call'}], usage_metadata={'input_tokens': 1077, 'output_tokens': 90, 'total_tokens': 1167})]}\n",
      "----\n",
      "Selected tool: multiply\n",
      "{'messages': [120]}\n",
      "----\n"
     ]
    }
   ],
   "source": [
    "for s in app.stream({\"messages\": [\"multiplication of 20 and 6?\"]}):\n",
    "    print(list(s.values())[0])\n",
    "    print(\"----\")"
   ]
  },
  {
   "cell_type": "code",
   "execution_count": 34,
   "metadata": {},
   "outputs": [
    {
     "name": "stdout",
     "output_type": "stream",
     "text": [
      "{'messages': [AIMessage(content='', additional_kwargs={'tool_calls': [{'id': 'call_xqsg', 'function': {'arguments': '{\"query\":\"how many countries are in the world\"}', 'name': 'search'}, 'type': 'function'}]}, response_metadata={'token_usage': {'completion_tokens': 86, 'prompt_tokens': 1077, 'total_tokens': 1163, 'completion_time': 0.156363636, 'prompt_time': 0.0354565, 'queue_time': 0.022902936999999998, 'total_time': 0.191820136}, 'model_name': 'Gemma2-9b-It', 'system_fingerprint': 'fp_10c08bf97d', 'finish_reason': 'tool_calls', 'logprobs': None}, id='run-6042934f-e227-440b-8af3-15d16a1ad1d7-0', tool_calls=[{'name': 'search', 'args': {'query': 'how many countries are in the world'}, 'id': 'call_xqsg', 'type': 'tool_call'}], usage_metadata={'input_tokens': 1077, 'output_tokens': 86, 'total_tokens': 1163})]}\n",
      "----\n",
      "Selected tool: search\n",
      "{'messages': [[{'url': 'https://www.geeksforgeeks.org/how-many-countries-are-there-in-the-world/', 'content': \"List of countries in the world: Have you ever wondered how many countries are there in the world? so, here's the answer, there are 195 countries in the world.Among them, the 193 countries are part of United Nations (UN) and they are Member States of the UN, and 2 countries are Non-Member Observer States - The Holy See and Palestine.There are 48 countries in Asia, 44 countries in Europe, 54\"}, {'url': 'https://www.worldometers.info/geography/how-many-countries-are-there-in-the-world/', 'content': 'There are 195 countries in the world today, according to Worldometer. See the full table of countries ranked by population, share of world population, and land area, as well as flags and maps.'}, {'url': 'https://www.countries-ofthe-world.com/how-many-countries.html', 'content': 'The web page claims that there are 197 countries in the world based on the UN membership and recognition. It also explains the status of Taiwan, Kosovo and other partially recognized entities.'}, {'url': 'https://worldpopulationreview.com/country-rankings/how-many-countries-are-there', 'content': 'The number of countries in the world depends on the source and the criteria of nationhood. The U.N. recognizes 193 countries, while Britannica and Wikipedia add more sovereign states. See the list of 234 countries by population and area.'}, {'url': 'https://www.worldatlas.com/geography/how-many-countries-are-there-in-the-world.html', 'content': 'The web page explains that there are 195 countries based on the UN membership, but some sources count 197 countries with Taiwan and Kosovo. It also discusses the disputed status of Kosovo, Taiwan, and the UK constituent countries.'}]]}\n",
      "----\n"
     ]
    }
   ],
   "source": [
    "for s in app.stream({\"messages\": [\"How many countries are exists over the earth?\"]}):\n",
    "    print(list(s.values())[0])\n",
    "    print(\"----\")"
   ]
  },
  {
   "cell_type": "code",
   "execution_count": null,
   "metadata": {},
   "outputs": [],
   "source": []
  }
 ],
 "metadata": {
  "kernelspec": {
   "display_name": "langgraphe2e",
   "language": "python",
   "name": "python3"
  },
  "language_info": {
   "codemirror_mode": {
    "name": "ipython",
    "version": 3
   },
   "file_extension": ".py",
   "mimetype": "text/x-python",
   "name": "python",
   "nbconvert_exporter": "python",
   "pygments_lexer": "ipython3",
   "version": "3.10.16"
  }
 },
 "nbformat": 4,
 "nbformat_minor": 2
}
