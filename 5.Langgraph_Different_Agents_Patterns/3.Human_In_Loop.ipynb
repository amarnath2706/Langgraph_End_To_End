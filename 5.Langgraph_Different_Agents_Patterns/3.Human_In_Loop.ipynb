{
 "cells": [
  {
   "cell_type": "code",
   "execution_count": 1,
   "metadata": {},
   "outputs": [],
   "source": [
    "from typing import Annotated\n",
    "import operator,json\n",
    "from typing import TypedDict, Annotated, Sequence\n",
    "from typing_extensions import TypedDict\n",
    "from langchain_core.messages import BaseMessage\n",
    "from langgraph.checkpoint.memory import MemorySaver\n",
    "from langgraph.graph import StateGraph,END,START\n",
    "from langgraph.graph.message import add_messages\n",
    "from langgraph.prebuilt import ToolNode, tools_condition\n",
    "from langchain_core.tools import tool\n",
    "from langchain_community.tools.tavily_search import TavilySearchResults"
   ]
  },
  {
   "cell_type": "code",
   "execution_count": 2,
   "metadata": {},
   "outputs": [],
   "source": [
    "from langchain_groq import ChatGroq\n",
    "llm=ChatGroq(model_name=\"Gemma2-9b-It\")"
   ]
  },
  {
   "cell_type": "code",
   "execution_count": 3,
   "metadata": {},
   "outputs": [
    {
     "data": {
      "text/plain": [
       "AIMessage(content='Hi there! 👋  How can I help you today?\\n', additional_kwargs={}, response_metadata={'token_usage': {'completion_tokens': 15, 'prompt_tokens': 10, 'total_tokens': 25, 'completion_time': 0.027272727, 'prompt_time': 4.1e-07, 'queue_time': 0.023117989000000002, 'total_time': 0.027273137}, 'model_name': 'Gemma2-9b-It', 'system_fingerprint': 'fp_10c08bf97d', 'finish_reason': 'stop', 'logprobs': None}, id='run-b2c10669-d41a-4fa1-90c5-49fafd86ee4d-0', usage_metadata={'input_tokens': 10, 'output_tokens': 15, 'total_tokens': 25})"
      ]
     },
     "execution_count": 3,
     "metadata": {},
     "output_type": "execute_result"
    }
   ],
   "source": [
    "llm.invoke(\"hi\")"
   ]
  },
  {
   "cell_type": "code",
   "execution_count": 4,
   "metadata": {},
   "outputs": [
    {
     "data": {
      "text/plain": [
       "'Hello! 👋\\n\\nHow can I help you today?\\n'"
      ]
     },
     "execution_count": 4,
     "metadata": {},
     "output_type": "execute_result"
    }
   ],
   "source": [
    "llm.invoke(\"hi\").content"
   ]
  },
  {
   "cell_type": "code",
   "execution_count": 5,
   "metadata": {},
   "outputs": [],
   "source": [
    "@tool\n",
    "def multiply(first_number:int, second_number:int)->int:\n",
    "    \"\"\"multiply two integer number\"\"\"\n",
    "    return first_number * second_number"
   ]
  },
  {
   "cell_type": "code",
   "execution_count": 6,
   "metadata": {},
   "outputs": [
    {
     "name": "stderr",
     "output_type": "stream",
     "text": [
      "C:\\Users\\Toshiba\\AppData\\Local\\Temp\\ipykernel_13224\\623416424.py:1: LangChainDeprecationWarning: The method `BaseTool.__call__` was deprecated in langchain-core 0.1.47 and will be removed in 1.0. Use :meth:`~invoke` instead.\n",
      "  multiply({\"first_number\":20,\"second_number\":27})\n"
     ]
    },
    {
     "data": {
      "text/plain": [
       "540"
      ]
     },
     "execution_count": 6,
     "metadata": {},
     "output_type": "execute_result"
    }
   ],
   "source": [
    "multiply({\"first_number\":20,\"second_number\":27})"
   ]
  },
  {
   "cell_type": "code",
   "execution_count": 7,
   "metadata": {},
   "outputs": [
    {
     "data": {
      "text/plain": [
       "540"
      ]
     },
     "execution_count": 7,
     "metadata": {},
     "output_type": "execute_result"
    }
   ],
   "source": [
    "multiply.invoke({\"first_number\":20,\"second_number\":27})"
   ]
  },
  {
   "cell_type": "code",
   "execution_count": 8,
   "metadata": {},
   "outputs": [],
   "source": [
    "@tool\n",
    "def search(query:str):\n",
    "    \"\"\"perform the web search on the user query\"\"\"\n",
    "    tavily=TavilySearchResults()\n",
    "    result=tavily.invoke(query)\n",
    "    return result"
   ]
  },
  {
   "cell_type": "code",
   "execution_count": 9,
   "metadata": {},
   "outputs": [
    {
     "data": {
      "text/plain": [
       "[{'url': 'https://www.bbc.co.uk/newsround/articles/ce3nq0rexqeo',\n",
       "  'content': 'Donald Trump officially becomes new US president - BBC Newsround Donald Trump officially becomes new US president In a special ceremony called an inauguration, President Trump took over from Joe Biden as America\\'s new leader. In his first speech as president after swearing the oath, Mr Trump promised to make America \"greater, stronger, and far more exceptional than ever before\". It\\'s the second time that Mr Trump has taken on the role - having previously served as president before Joe Biden, between 2017-2021. Donald Trump: What happens at the inauguration of the new US president? What are Donald Trump\\'s plans as president? Following his oath, Mr Trump gave his first speech as president - which is known as the Inaugural Address.'},\n",
       " {'url': 'https://www.usnews.com/news/politics/articles/2025-01-20/inauguration-day-latest-biden-pardons-fauci-milley-and-jan-6-committee-before-trump-takes-office',\n",
       "  'content': 'President Joe Biden and President-elect Donald Trump walk out to the presidential limousine, as they depart the White House, Monday, Jan. 20, 2025, in Washington, enroute to the Capitol. WASHINGTON (AP) — Donald Trump, who overcame impeachments, criminal indictments and a pair of assassination attempts to win another term in the White House, will be sworn in Monday as the 47th U.S. president taking charge as Republicans claim unified control of Washington and set out to reshape the country’s institutions. “Feel great,” said House Majority Leader Steve Scalise, R-La. President-elect Donald Trump and Vice President-elect JD Vance arrive at the Capitol ahead of their inauguration “Welcome home,” Biden said to Trump after the president-elect stepped out of the car.'},\n",
       " {'url': 'https://www.rollingstone.com/politics/politics-news/donald-trump-sworn-in-47th-president-united-states-1235241770/',\n",
       "  'content': 'Outgoing President Joe Biden greeted incoming President Donald Trump at the north portico of the White House on Monday with an enthusiastic “Welcome home!” The first families enjoyed tea together, and a few hours later Trump, a convicted felon who attempted to overturn the results of a free and fair election four years ago, was sworn in as the 47th president inside the Capitol his supporters violently attacked in an effort to keep him in power. Michael Fanone, a retired D.C. police officer who was assaulted by pro-Trump rioters on Jan. 6, told The New York Times that it’s “insane that we live in a country where the president of the United States feels the need to offer a pre-emptive pardon to American citizens who testified in an investigation regarding an insurrection which was incited by the incoming president because he’s promised to enact, or exact, vengeance on those participants and the body that investigated them.”'},\n",
       " {'url': 'https://www.usa.gov/presidents',\n",
       "  'content': 'Vice president of the United States\\nThe vice president of the United States presides over the U.S. Senate and takes over the role of president of the United States if the president is unable to perform his or her duties. President of the United States\\nThe president of the United States is the:\\nCurrent president\\nThe 46th and current president of the United States is Joseph R. Biden, Jr. First lady\\nThe First lady of the United States has traditionally been the wife or other close female relative of the president of the United States. Requirements to be eligible to become president\\nAccording to Article II of the U.S. Constitution, the president must:\\nLearn about the U.S. presidential election process.\\n If the vice president is not able to fulfill the duties of president, the role is passed to another leader in the order of presidential succession.\\n'},\n",
       " {'url': 'https://www.pbs.org/newshour/politics/donald-trump-sworn-in-as-47th-president-of-the-united-states',\n",
       "  'content': 'Donald Trump sworn in as 47th president of the United States | PBS News https://www.pbs.org/newshour/politics/donald-trump-sworn-in-as-47th-president-of-the-united-states You can watch all Inauguration Day events Monday on our livestream here, find a planned lineup of events, review President-elect Donald Trump’s sweeping promises and learn what’s changed since he was sworn into office eight years ago. During his second in 2014, he paired it with a Bible that had belonged to the Rev. Martin Luther King Jr. Left: WASHINGTON, DC - JANUARY 20: U.S. President-elect Donald Trump arrives for inauguration ceremonies in the Rotunda of the U.S. Capitol on January 20, 2025 in Washington, DC. Donald Trump takes office for his second term as the 47th president of the United States.'}]"
      ]
     },
     "execution_count": 9,
     "metadata": {},
     "output_type": "execute_result"
    }
   ],
   "source": [
    "search(\"who is the new president of USA?\")"
   ]
  },
  {
   "cell_type": "code",
   "execution_count": 10,
   "metadata": {},
   "outputs": [
    {
     "data": {
      "text/plain": [
       "[{'url': 'https://www.bbc.co.uk/newsround/articles/ce3nq0rexqeo',\n",
       "  'content': 'Donald Trump officially becomes new US president - BBC Newsround Donald Trump officially becomes new US president In a special ceremony called an inauguration, President Trump took over from Joe Biden as America\\'s new leader. In his first speech as president after swearing the oath, Mr Trump promised to make America \"greater, stronger, and far more exceptional than ever before\". It\\'s the second time that Mr Trump has taken on the role - having previously served as president before Joe Biden, between 2017-2021. Donald Trump: What happens at the inauguration of the new US president? What are Donald Trump\\'s plans as president? Following his oath, Mr Trump gave his first speech as president - which is known as the Inaugural Address.'},\n",
       " {'url': 'https://www.usa.gov/presidents',\n",
       "  'content': 'Vice president of the United States\\nThe vice president of the United States presides over the U.S. Senate and takes over the role of president of the United States if the president is unable to perform his or her duties. President of the United States\\nThe president of the United States is the:\\nCurrent president\\nThe 46th and current president of the United States is Joseph R. Biden, Jr. First lady\\nThe First lady of the United States has traditionally been the wife or other close female relative of the president of the United States. Requirements to be eligible to become president\\nAccording to Article II of the U.S. Constitution, the president must:\\nLearn about the U.S. presidential election process.\\n If the vice president is not able to fulfill the duties of president, the role is passed to another leader in the order of presidential succession.\\n'},\n",
       " {'url': 'https://www.pbs.org/newshour/politics/donald-trump-sworn-in-as-47th-president-of-the-united-states',\n",
       "  'content': 'Donald Trump sworn in as 47th president of the United States | PBS News https://www.pbs.org/newshour/politics/donald-trump-sworn-in-as-47th-president-of-the-united-states You can watch all Inauguration Day events Monday on our livestream here, find a planned lineup of events, review President-elect Donald Trump’s sweeping promises and learn what’s changed since he was sworn into office eight years ago. During his second in 2014, he paired it with a Bible that had belonged to the Rev. Martin Luther King Jr. Left: WASHINGTON, DC - JANUARY 20: U.S. President-elect Donald Trump arrives for inauguration ceremonies in the Rotunda of the U.S. Capitol on January 20, 2025 in Washington, DC. Donald Trump takes office for his second term as the 47th president of the United States.'},\n",
       " {'url': 'https://www.nbcnews.com/politics/2024-election/trump-wins-election-president-harris-defeat-2024-race-rcna176107',\n",
       "  'content': 'Donald Trump defeats Kamala Harris to become the next U.S. president, NBC News projects BREAKING: Donald Trump is elected 47th president of the United States, NBC News projects Donald Trump defeats Kamala Harris to become the next U.S. president, NBC News projects Donald Trump defeats Kamala Harris to become the next U.S. president, NBC News projects Trump will make history as the 45th and now 47th president, NBC News projects, saying he will fix an ailing country and despite warnings he will rule as an authoritarian. NBC News projects Donald Trump is elected 47th president of the United States NBC News projected the Trump victory over Harris, who was the first woman of color to win a major party nomination for president, early Wednesday morning.'},\n",
       " {'url': 'https://www.usatoday.com/story/news/politics/elections/2025/01/20/donald-trump-sworn-in-as-47-president-inauguration/77755765007/',\n",
       "  'content': \"Donald Trump is sworn in as president for a second term, completing a remarkable political comeback. Trump is just the second former president to return to office after losing an election, joining Grover Cleveland who arrived back in the White House for his second term in 1893. Inauguration live updates: Donald Trump sworn in as 47th president in historic ceremony Presidential inauguration fact check: Analyzing claims from and about Trump Trump on the cusp: Aggressive transition period signals disruptive second term History buff? Donald Trump is sworn in as president for a second term, completing a remarkable political comeback. Michelle Obama not the only person to skip Trump's second inaugurationFormer First Lady Michelle Obama part of high-profile group who can’t - or won’t - make Trump’s inauguration.USA TODAY\"}]"
      ]
     },
     "execution_count": 10,
     "metadata": {},
     "output_type": "execute_result"
    }
   ],
   "source": [
    "search.invoke(\"who is the new president of USA?\")"
   ]
  },
  {
   "cell_type": "code",
   "execution_count": 11,
   "metadata": {},
   "outputs": [],
   "source": [
    "tools=[search,multiply]"
   ]
  },
  {
   "cell_type": "code",
   "execution_count": 12,
   "metadata": {},
   "outputs": [],
   "source": [
    "model_with_tools = llm.bind_tools(tools)"
   ]
  },
  {
   "cell_type": "code",
   "execution_count": 13,
   "metadata": {},
   "outputs": [],
   "source": [
    "tool_mapping={tool.name: tool for tool in tools}"
   ]
  },
  {
   "cell_type": "code",
   "execution_count": 14,
   "metadata": {},
   "outputs": [
    {
     "data": {
      "text/plain": [
       "{'search': StructuredTool(name='search', description='perform the web search on the user query', args_schema=<class 'langchain_core.utils.pydantic.search'>, func=<function search at 0x000001BE28D75090>),\n",
       " 'multiply': StructuredTool(name='multiply', description='multiply two integer number', args_schema=<class 'langchain_core.utils.pydantic.multiply'>, func=<function multiply at 0x000001BE28D74B80>)}"
      ]
     },
     "execution_count": 14,
     "metadata": {},
     "output_type": "execute_result"
    }
   ],
   "source": [
    "tool_mapping"
   ]
  },
  {
   "cell_type": "code",
   "execution_count": null,
   "metadata": {},
   "outputs": [],
   "source": []
  }
 ],
 "metadata": {
  "kernelspec": {
   "display_name": "langgraphe2e",
   "language": "python",
   "name": "python3"
  },
  "language_info": {
   "codemirror_mode": {
    "name": "ipython",
    "version": 3
   },
   "file_extension": ".py",
   "mimetype": "text/x-python",
   "name": "python",
   "nbconvert_exporter": "python",
   "pygments_lexer": "ipython3",
   "version": "3.10.16"
  }
 },
 "nbformat": 4,
 "nbformat_minor": 2
}
