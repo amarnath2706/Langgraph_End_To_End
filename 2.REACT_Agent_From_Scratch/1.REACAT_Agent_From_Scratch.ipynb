{
 "cells": [
  {
   "cell_type": "code",
   "execution_count": 1,
   "metadata": {},
   "outputs": [
    {
     "data": {
      "text/plain": [
       "True"
      ]
     },
     "execution_count": 1,
     "metadata": {},
     "output_type": "execute_result"
    }
   ],
   "source": [
    "import os\n",
    "from dotenv import load_dotenv\n",
    "load_dotenv()"
   ]
  },
  {
   "cell_type": "code",
   "execution_count": 2,
   "metadata": {},
   "outputs": [],
   "source": [
    "GOOGLE_API_KEY = os.getenv(\"GOOGLE_API_KEY\")\n",
    "GROQ_API_KEY = os.getenv(\"GROQ_API_KEY\")\n",
    "TAVILY_API_KEY = os.getenv(\"TAVILY_API_KEY\")\n",
    "LANGCHAIN_API_KEY = os.getenv(\"LANGCHAIN_API_KEY\")\n",
    "LANGCHAIN_PROJECT = os.getenv(\"LANGCHAIN_PROJECT\")"
   ]
  },
  {
   "cell_type": "code",
   "execution_count": 3,
   "metadata": {},
   "outputs": [],
   "source": [
    "os.environ[\"GOOGLE_API_KEY\"] = GOOGLE_API_KEY\n",
    "os.environ[\"TAVILY_API_KEY\"] = TAVILY_API_KEY\n",
    "os.environ[\"GROQ_API_KEY\"]= GROQ_API_KEY\n",
    "os.environ[\"LANGCHAIN_API_KEY\"] = LANGCHAIN_API_KEY\n",
    "os.environ[\"LANGCHAIN_TRACING_V2\"] = \"true\" #tracing using langsmith\n",
    "os.environ[\"LANGCHAIN_ENDPOINT\"] = \"https://api.smith.langchain.com\"\n",
    "os.environ[\"LANGCHAIN_PROJECT\"] = LANGCHAIN_PROJECT"
   ]
  },
  {
   "cell_type": "code",
   "execution_count": 4,
   "metadata": {},
   "outputs": [],
   "source": [
    "from langchain_groq import ChatGroq\n",
    "llm_groq=ChatGroq(model_name=\"Gemma2-9b-It\")"
   ]
  },
  {
   "cell_type": "code",
   "execution_count": 5,
   "metadata": {},
   "outputs": [
    {
     "data": {
      "text/plain": [
       "AIMessage(content=\"ISRO stands for **Indian Space Research Organisation**. \\n\\nHere's some key information about ISRO:\\n\\n* **What it is:** ISRO is the national space agency of India, responsible for the country's space program.\\n* **Established:** 15 August 1969\\n* **Headquarters:** Bengaluru, Karnataka, India\\n* **Mission:** To harness space technology for national development, particularly in communication, education, meteorology, and resource management.\\n* **Achievements:** ISRO has achieved numerous milestones, including:\\n    * Launching its first satellite, Aryabhata, in 1975.\\n    * Developing its own launch vehicles, such as the Polar Satellite Launch Vehicle (PSLV) and Geosynchronous Satellite Launch Vehicle (GSLV).\\n    * Placing India's first human in space, Rakesh Sharma, in 1984.\\n    * Successfully landing the Chandrayaan-3 spacecraft on the Moon in 2023, making India the fourth country to achieve a soft landing on the lunar surface.\\n* **Future plans:** ISRO has ambitious plans for future missions, including:\\n    * Launching the Gaganyaan, India's first human spaceflight program.\\n    * Sending a mission to Venus.\\n    * Developing a reusable launch vehicle.\\n\\nISRO is considered one of the leading space agencies in the world, known for its cost-effectiveness and technological prowess.\\n\\n\\nLet me know if you have any other questions about ISRO!\\n\", additional_kwargs={}, response_metadata={'token_usage': {'completion_tokens': 316, 'prompt_tokens': 11, 'total_tokens': 327, 'completion_time': 0.574545455, 'prompt_time': 9.5689e-05, 'queue_time': 0.021106999, 'total_time': 0.574641144}, 'model_name': 'Gemma2-9b-It', 'system_fingerprint': 'fp_10c08bf97d', 'finish_reason': 'stop', 'logprobs': None}, id='run-5d406d4e-561e-4955-b96b-cdd9422d7788-0', usage_metadata={'input_tokens': 11, 'output_tokens': 316, 'total_tokens': 327})"
      ]
     },
     "execution_count": 5,
     "metadata": {},
     "output_type": "execute_result"
    }
   ],
   "source": [
    "llm_groq.invoke(\"ISRO\")"
   ]
  },
  {
   "cell_type": "code",
   "execution_count": 10,
   "metadata": {},
   "outputs": [],
   "source": [
    "#give input to the model\n",
    "message=[{\"role\":\"system\",\"content\":\"you are a helpful assistant\"}, #model behaviour\n",
    "         {\"role\":\"user\",\"content\":\"ISRO?\"}] #question "
   ]
  },
  {
   "cell_type": "code",
   "execution_count": 11,
   "metadata": {},
   "outputs": [
    {
     "name": "stdout",
     "output_type": "stream",
     "text": [
      "While I can provide information about ISRO and space exploration, I am not directly connected to ISRO or any government organization.\n",
      "\n",
      "Think of me as a knowledgeable friend who has read a lot about space! I can answer your questions about ISRO's missions, history, achievements, and more.\n",
      "\n",
      "What would you like to know about ISRO?\n",
      "\n"
     ]
    }
   ],
   "source": [
    "result = llm_groq.invoke(message)\n",
    "print(result.content)"
   ]
  },
  {
   "cell_type": "code",
   "execution_count": 18,
   "metadata": {},
   "outputs": [],
   "source": [
    "#For implementing agents i required a class called chatbot\n",
    "class Chatbot():\n",
    "    def __init__(self):\n",
    "        print(\"hi from init fn\")\n",
    "        \n",
    "    \n",
    "    def __call__(self):\n",
    "        print(\"hi from call fn\")\n",
    "        \n",
    "\n",
    "    def execute(self):\n",
    "        print(\"hi from execute fn\")\n",
    "        "
   ]
  },
  {
   "cell_type": "code",
   "execution_count": 19,
   "metadata": {},
   "outputs": [
    {
     "name": "stdout",
     "output_type": "stream",
     "text": [
      "hi from init fn\n"
     ]
    }
   ],
   "source": [
    "bot = Chatbot()"
   ]
  },
  {
   "cell_type": "code",
   "execution_count": 20,
   "metadata": {},
   "outputs": [
    {
     "name": "stdout",
     "output_type": "stream",
     "text": [
      "hi from call fn\n"
     ]
    }
   ],
   "source": [
    "bot()"
   ]
  },
  {
   "cell_type": "code",
   "execution_count": 21,
   "metadata": {},
   "outputs": [
    {
     "name": "stdout",
     "output_type": "stream",
     "text": [
      "hi from execute fn\n"
     ]
    }
   ],
   "source": [
    "bot.execute()"
   ]
  },
  {
   "cell_type": "code",
   "execution_count": null,
   "metadata": {},
   "outputs": [],
   "source": [
    "#React agent is purely based on the prompt\n",
    "prompt = \"\"\"\n",
    "\n",
    " \"\"\""
   ]
  },
  {
   "cell_type": "code",
   "execution_count": null,
   "metadata": {},
   "outputs": [],
   "source": [
    "#Regular expression\n",
    "import re\n",
    "action_re = re.compile('^Action: (\\w+): (.*)')"
   ]
  },
  {
   "cell_type": "code",
   "execution_count": null,
   "metadata": {},
   "outputs": [],
   "source": [
    "#wikipedia tool\n",
    "import httpx\n",
    "def wikipedia(query):\n",
    "    pass"
   ]
  },
  {
   "cell_type": "code",
   "execution_count": null,
   "metadata": {},
   "outputs": [],
   "source": [
    "def httpx\n",
    "def simon_blog_search(query):\n",
    "    pass"
   ]
  },
  {
   "cell_type": "code",
   "execution_count": null,
   "metadata": {},
   "outputs": [],
   "source": [
    "def calculate(number):\n",
    "    return eval(number)"
   ]
  },
  {
   "cell_type": "code",
   "execution_count": null,
   "metadata": {},
   "outputs": [],
   "source": [
    "#dictionar to match each and every tool\n",
    "known_actions = {\n",
    "    \"wikipedia\": wikipedia,\n",
    "    \"calculate\": calculate,\n",
    "    \"simon_blog_search\": simon_blog_search\n",
    "}"
   ]
  },
  {
   "cell_type": "code",
   "execution_count": null,
   "metadata": {},
   "outputs": [],
   "source": [
    "#logic for the react agent\n",
    "def query(question,max_turns=5):\n",
    "    i = 0\n",
    "    bot = Chatbot(prompt)\n",
    "    next_prompt = question\n",
    "    while i < max_turns:\n",
    "        pass"
   ]
  },
  {
   "cell_type": "code",
   "execution_count": null,
   "metadata": {},
   "outputs": [],
   "source": [
    "#query to the particular method\n",
    "query()"
   ]
  }
 ],
 "metadata": {
  "kernelspec": {
   "display_name": "langgraphe2e",
   "language": "python",
   "name": "python3"
  },
  "language_info": {
   "codemirror_mode": {
    "name": "ipython",
    "version": 3
   },
   "file_extension": ".py",
   "mimetype": "text/x-python",
   "name": "python",
   "nbconvert_exporter": "python",
   "pygments_lexer": "ipython3",
   "version": "3.10.16"
  }
 },
 "nbformat": 4,
 "nbformat_minor": 2
}
