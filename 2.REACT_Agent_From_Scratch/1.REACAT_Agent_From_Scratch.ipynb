{
 "cells": [
  {
   "cell_type": "code",
   "execution_count": 1,
   "metadata": {},
   "outputs": [
    {
     "data": {
      "text/plain": [
       "True"
      ]
     },
     "execution_count": 1,
     "metadata": {},
     "output_type": "execute_result"
    }
   ],
   "source": [
    "import os\n",
    "from dotenv import load_dotenv\n",
    "load_dotenv()"
   ]
  },
  {
   "cell_type": "code",
   "execution_count": 2,
   "metadata": {},
   "outputs": [],
   "source": [
    "GOOGLE_API_KEY = os.getenv(\"GOOGLE_API_KEY\")\n",
    "GROQ_API_KEY = os.getenv(\"GROQ_API_KEY\")\n",
    "TAVILY_API_KEY = os.getenv(\"TAVILY_API_KEY\")\n",
    "LANGCHAIN_API_KEY = os.getenv(\"LANGCHAIN_API_KEY\")\n",
    "LANGCHAIN_PROJECT = os.getenv(\"LANGCHAIN_PROJECT\")"
   ]
  },
  {
   "cell_type": "code",
   "execution_count": 3,
   "metadata": {},
   "outputs": [],
   "source": [
    "os.environ[\"GOOGLE_API_KEY\"] = GOOGLE_API_KEY\n",
    "os.environ[\"TAVILY_API_KEY\"] = TAVILY_API_KEY\n",
    "os.environ[\"GROQ_API_KEY\"]= GROQ_API_KEY\n",
    "os.environ[\"LANGCHAIN_API_KEY\"] = LANGCHAIN_API_KEY\n",
    "os.environ[\"LANGCHAIN_TRACING_V2\"] = \"true\" #tracing using langsmith\n",
    "os.environ[\"LANGCHAIN_ENDPOINT\"] = \"https://api.smith.langchain.com\"\n",
    "os.environ[\"LANGCHAIN_PROJECT\"] = LANGCHAIN_PROJECT"
   ]
  },
  {
   "cell_type": "code",
   "execution_count": 4,
   "metadata": {},
   "outputs": [],
   "source": [
    "from langchain_groq import ChatGroq\n",
    "llm_groq=ChatGroq(model_name=\"Gemma2-9b-It\")"
   ]
  },
  {
   "cell_type": "code",
   "execution_count": 5,
   "metadata": {},
   "outputs": [
    {
     "data": {
      "text/plain": [
       "AIMessage(content=\"ISRO stands for **Indian Space Research Organisation**. \\n\\nHere's some key information about ISRO:\\n\\n* **What it is:** ISRO is the national space agency of India, responsible for the country's space program.\\n* **Established:** 15 August 1969\\n* **Headquarters:** Bengaluru, Karnataka, India\\n* **Mission:** To harness space technology for national development, particularly in communication, education, meteorology, and resource management.\\n* **Achievements:** ISRO has achieved numerous milestones, including:\\n    * Launching its first satellite, Aryabhata, in 1975.\\n    * Developing its own launch vehicles, such as the Polar Satellite Launch Vehicle (PSLV) and Geosynchronous Satellite Launch Vehicle (GSLV).\\n    * Placing India's first human in space, Rakesh Sharma, in 1984.\\n    * Successfully landing the Chandrayaan-3 spacecraft on the Moon in 2023, making India the fourth country to achieve a soft landing on the lunar surface.\\n* **Future plans:** ISRO has ambitious plans for future missions, including:\\n    * Launching the Gaganyaan, India's first human spaceflight program.\\n    * Sending a mission to Venus.\\n    * Developing a reusable launch vehicle.\\n\\nISRO is considered one of the leading space agencies in the world, known for its cost-effectiveness and technological prowess.\\n\\n\\nLet me know if you have any other questions about ISRO!\\n\", additional_kwargs={}, response_metadata={'token_usage': {'completion_tokens': 316, 'prompt_tokens': 11, 'total_tokens': 327, 'completion_time': 0.574545455, 'prompt_time': 9.5689e-05, 'queue_time': 0.021106999, 'total_time': 0.574641144}, 'model_name': 'Gemma2-9b-It', 'system_fingerprint': 'fp_10c08bf97d', 'finish_reason': 'stop', 'logprobs': None}, id='run-5d406d4e-561e-4955-b96b-cdd9422d7788-0', usage_metadata={'input_tokens': 11, 'output_tokens': 316, 'total_tokens': 327})"
      ]
     },
     "execution_count": 5,
     "metadata": {},
     "output_type": "execute_result"
    }
   ],
   "source": [
    "llm_groq.invoke(\"ISRO\")"
   ]
  },
  {
   "cell_type": "code",
   "execution_count": 10,
   "metadata": {},
   "outputs": [],
   "source": [
    "#give input to the model\n",
    "message=[{\"role\":\"system\",\"content\":\"you are a helpful assistant\"}, #model behaviour\n",
    "         {\"role\":\"user\",\"content\":\"ISRO?\"}] #question "
   ]
  },
  {
   "cell_type": "code",
   "execution_count": 11,
   "metadata": {},
   "outputs": [
    {
     "name": "stdout",
     "output_type": "stream",
     "text": [
      "While I can provide information about ISRO and space exploration, I am not directly connected to ISRO or any government organization.\n",
      "\n",
      "Think of me as a knowledgeable friend who has read a lot about space! I can answer your questions about ISRO's missions, history, achievements, and more.\n",
      "\n",
      "What would you like to know about ISRO?\n",
      "\n"
     ]
    }
   ],
   "source": [
    "result = llm_groq.invoke(message)\n",
    "print(result.content)"
   ]
  },
  {
   "cell_type": "code",
   "execution_count": 22,
   "metadata": {},
   "outputs": [],
   "source": [
    "#For implementing agents i required a class called chatbot\n",
    "class Chatbot:\n",
    "    def __init__(self,system=\"\"): #capture the message,system message\n",
    "        self.system=system\n",
    "        self.message=[]\n",
    "        if self.system:\n",
    "            self.message.append({\"role\":\"system\",\"content\":system})\n",
    "    def __call__(self,message): #executing the llm\n",
    "        self.message.append({\"role\":\"user\",\"content\":message})\n",
    "        result=self.execute()\n",
    "        self.message.append({\"role\":\"assistant\",\"content\":result})\n",
    "        return result\n",
    "        \n",
    "    def execute(self):\n",
    "        llm = ChatGroq(model_name=\"Gemma2-9b-It\")\n",
    "        result = llm.invoke(self.message)\n",
    "        return result.content\n",
    "        "
   ]
  },
  {
   "cell_type": "code",
   "execution_count": 23,
   "metadata": {},
   "outputs": [],
   "source": [
    "bot = Chatbot(system=\"you are a helpful assistant\")"
   ]
  },
  {
   "cell_type": "code",
   "execution_count": 24,
   "metadata": {},
   "outputs": [
    {
     "data": {
      "text/plain": [
       "\"As an AI, I don't have feelings, but I'm here and ready to assist you! How can I help you today? 😊\\n\""
      ]
     },
     "execution_count": 24,
     "metadata": {},
     "output_type": "execute_result"
    }
   ],
   "source": [
    "bot(\"hi how are you?\")"
   ]
  },
  {
   "cell_type": "code",
   "execution_count": 25,
   "metadata": {},
   "outputs": [
    {
     "data": {
      "text/plain": [
       "[{'role': 'system', 'content': 'you are a helpful assistant'},\n",
       " {'role': 'user', 'content': 'hi how are you?'},\n",
       " {'role': 'assistant',\n",
       "  'content': \"As an AI, I don't have feelings, but I'm here and ready to assist you! How can I help you today? 😊\\n\"}]"
      ]
     },
     "execution_count": 25,
     "metadata": {},
     "output_type": "execute_result"
    }
   ],
   "source": [
    "#history\n",
    "bot.message"
   ]
  },
  {
   "cell_type": "code",
   "execution_count": 21,
   "metadata": {},
   "outputs": [
    {
     "name": "stdout",
     "output_type": "stream",
     "text": [
      "hi from execute fn\n"
     ]
    }
   ],
   "source": [
    "bot.execute()"
   ]
  },
  {
   "cell_type": "code",
   "execution_count": 29,
   "metadata": {},
   "outputs": [],
   "source": [
    "#React agent is purely based on the prompt so we have created the prompt specific to the react agent\n",
    "prompt = \"\"\"\n",
    "You run in a loop of Thought, Action, PAUSE, Observation.\n",
    "At the end of the loop your output an Answer.\n",
    "Use Thought to describe your thoughts about the question you have been asked.\n",
    "Use Action to run one of the actions available to you - then return PAUSE.\n",
    "Observation will be the result of running those actions.\n",
    "\n",
    "\n",
    "Your available actions are:\n",
    "calculate:\n",
    "e.g. calculate: 4 * 7 / 3\n",
    "Runs a calculation and returns the number - uses Python so be sure to use floating point\n",
    "syntax if necessary\n",
    "\n",
    "wikipedia:\n",
    "e.g. wikipedia: Django\n",
    "Returns a summary from searching Wikipedia\n",
    "\n",
    "simon_blog_search:\n",
    "e.g. simon_blog_search: Python\n",
    "Search Simon's blog for that term\n",
    "\n",
    "Example session:\n",
    "Question: What is the capital of France?\n",
    "Thought: I should look up France on Wikipedia\n",
    "Action: wikipedia: France\n",
    "PAUSE\n",
    "\n",
    "You will be called again with this:\n",
    "Observation: France is a country. The capital is Paris.\n",
    "\n",
    "You then output:\n",
    "Answer: The capital of France is Paris\n",
    "\n",
    "Please Note: if you get basic conversation questions like \"hi\",\"hello\",\"how are you?\",\\n\n",
    "you have to answer \"hi\",\"hello\",\"i am good\".\n",
    "\"\"\".strip()"
   ]
  },
  {
   "cell_type": "code",
   "execution_count": 31,
   "metadata": {},
   "outputs": [],
   "source": [
    "#Regular expression\n",
    "import re\n",
    "action_re = re.compile('^Action: (\\w+): (.*)')"
   ]
  },
  {
   "cell_type": "markdown",
   "metadata": {},
   "source": [
    "Pattern Breakdown:\n",
    "\n",
    "^: This matches the start of a string. It means the string must begin with what follows.\n",
    "\n",
    "Action:: This is a literal match. It means the string must have the text \"Action:\" at the beginning.\n",
    "\n",
    "(\\w+):\n",
    "\n",
    "The parentheses () define a capture group. This allows you to extract part of the string that matches this section.\n",
    "\n",
    "\\w+ matches one or more word characters (letters, digits, and underscores). This will capture a word that follows \"Action:\".\n",
    "\n",
    ":: This is a literal colon that separates the word matched by (\\w+) from the rest of the string.\n",
    "\n",
    "(.*):\n",
    "\n",
    "This is another capture group, where .* matches any character (.) zero or more times (*), which means it captures everything that comes after the second colon.\n",
    "\n",
    "What does it do?\n",
    "\n",
    "This regex is looking for a string that:\n",
    "\n",
    "Starts with the text \"Action:\".\n",
    "\n",
    "Has a word right after it, separated by a colon.\n",
    "\n",
    "Then, after another colon, it captures everything that follow"
   ]
  },
  {
   "cell_type": "code",
   "execution_count": 32,
   "metadata": {},
   "outputs": [],
   "source": [
    "# Sample strings\n",
    "text1 = \"Action: Move: North\"\n",
    "text2 = \"Action: Jump: High\"\n",
    "text3 = \"Error: Not an Action\""
   ]
  },
  {
   "cell_type": "code",
   "execution_count": 35,
   "metadata": {},
   "outputs": [],
   "source": [
    "#Testing the pattern\n",
    "match1 = action_re.match(text1)"
   ]
  },
  {
   "cell_type": "code",
   "execution_count": 36,
   "metadata": {},
   "outputs": [
    {
     "data": {
      "text/plain": [
       "<re.Match object; span=(0, 19), match='Action: Move: North'>"
      ]
     },
     "execution_count": 36,
     "metadata": {},
     "output_type": "execute_result"
    }
   ],
   "source": [
    "match1"
   ]
  },
  {
   "cell_type": "code",
   "execution_count": 37,
   "metadata": {},
   "outputs": [
    {
     "data": {
      "text/plain": [
       "('Move', 'North')"
      ]
     },
     "execution_count": 37,
     "metadata": {},
     "output_type": "execute_result"
    }
   ],
   "source": [
    "match1.group(1), match1.group(2)"
   ]
  },
  {
   "cell_type": "code",
   "execution_count": 38,
   "metadata": {},
   "outputs": [],
   "source": [
    "match2 = action_re.match(text3)"
   ]
  },
  {
   "cell_type": "code",
   "execution_count": 39,
   "metadata": {},
   "outputs": [],
   "source": [
    "match2.group(1)\n",
    "#will give you an error"
   ]
  },
  {
   "cell_type": "code",
   "execution_count": 30,
   "metadata": {},
   "outputs": [],
   "source": [
    "#wikipedia tool\n",
    "import httpx\n",
    "def wikipedia(query):\n",
    "    response = httpx.get(\"https://en.wikipedia.org/w/api.php\", params={\n",
    "        \"action\": \"query\",\n",
    "        \"list\": \"search\",\n",
    "        \"srsearch\": query,\n",
    "        \"format\": \"json\"\n",
    "    })\n",
    "    return response.json()[\"query\"][\"search\"][0][\"snippet\"]"
   ]
  },
  {
   "cell_type": "code",
   "execution_count": 26,
   "metadata": {},
   "outputs": [],
   "source": [
    "#it a opensource database on top of that we implemented sql query \n",
    "import httpx\n",
    "def simon_blog_search(query):\n",
    "    response = httpx.get(\"https://datasette.simonwillison.net/simonwillisonblog.json\", params={\n",
    "        \"sql\": \"\"\"\n",
    "        select\n",
    "          blog_entry.title || ': ' || substr(html_strip_tags(blog_entry.body), 0, 1000) as text,\n",
    "          blog_entry.created\n",
    "        from\n",
    "          blog_entry join blog_entry_fts on blog_entry.rowid = blog_entry_fts.rowid\n",
    "        where\n",
    "          blog_entry_fts match escape_fts(:q)\n",
    "        order by\n",
    "          blog_entry_fts.rank\n",
    "        limit\n",
    "          1\n",
    "        \"\"\".strip(),\n",
    "        \"_shape\": \"array\",\n",
    "        \"q\": query,\n",
    "    })\n",
    "    return response.json()[0][\"text\"]"
   ]
  },
  {
   "cell_type": "code",
   "execution_count": 71,
   "metadata": {},
   "outputs": [],
   "source": [
    "def calculate(number):\n",
    "    return eval(number)"
   ]
  },
  {
   "cell_type": "code",
   "execution_count": 72,
   "metadata": {},
   "outputs": [
    {
     "data": {
      "text/plain": [
       "47"
      ]
     },
     "execution_count": 72,
     "metadata": {},
     "output_type": "execute_result"
    }
   ],
   "source": [
    "calculate(\"20+27\")"
   ]
  },
  {
   "cell_type": "code",
   "execution_count": null,
   "metadata": {},
   "outputs": [],
   "source": [
    "#dictionary to match each and every tool\n",
    "known_actions = {\n",
    "    \"wikipedia\": wikipedia,\n",
    "    \"calculate\": calculate,\n",
    "    \"simon_blog_search\": simon_blog_search\n",
    "}"
   ]
  },
  {
   "cell_type": "code",
   "execution_count": 74,
   "metadata": {},
   "outputs": [],
   "source": [
    "#logic for the react agent - responsible for either to search the query to LLM or to the Agents\n",
    "def query(question,max_turns=5):\n",
    "    i = 0\n",
    "    bot = Chatbot(prompt)\n",
    "    next_prompt = question\n",
    "    while i < max_turns:\n",
    "        i += 1\n",
    "        result = bot(next_prompt)\n",
    "        print(result)\n",
    "        actions = [action_re.match(a) for a in result.split('\\n') if action_re.match(a)]\n",
    "        if actions:\n",
    "            action, action_input = actions[0].groups()\n",
    "            if action not in known_actions:\n",
    "                raise Exception(f\"Unknown action: {action}: {action_input}\")\n",
    "            print(\" -- running {} {}\".format(action, action_input))\n",
    "            observation = known_actions[action](action_input)\n",
    "            print(\"Observation:\", observation)\n",
    "            next_prompt = f\"Observation: {observation}\"\n",
    "        else:\n",
    "            return result\n",
    "    "
   ]
  },
  {
   "cell_type": "code",
   "execution_count": 75,
   "metadata": {},
   "outputs": [
    {
     "data": {
      "text/plain": [
       "'You run in a loop of Thought, Action, PAUSE, Observation.\\nAt the end of the loop your output an Answer.\\nUse Thought to describe your thoughts about the question you have been asked.\\nUse Action to run one of the actions available to you - then return PAUSE.\\nObservation will be the result of running those actions.\\n\\n\\nYour available actions are:\\ncalculate:\\ne.g. calculate: 4 * 7 / 3\\nRuns a calculation and returns the number - uses Python so be sure to use floating point\\nsyntax if necessary\\n\\nwikipedia:\\ne.g. wikipedia: Django\\nReturns a summary from searching Wikipedia\\n\\nsimon_blog_search:\\ne.g. simon_blog_search: Python\\nSearch Simon\\'s blog for that term\\n\\nExample session:\\nQuestion: What is the capital of France?\\nThought: I should look up France on Wikipedia\\nAction: wikipedia: France\\nPAUSE\\n\\nYou will be called again with this:\\nObservation: France is a country. The capital is Paris.\\n\\nYou then output:\\nAnswer: The capital of France is Paris\\n\\nPlease Note: if you get basic conversation questions like \"hi\",\"hello\",\"how are you?\",\\n\\nyou have to answer \"hi\",\"hello\",\"i am good\".'"
      ]
     },
     "execution_count": 75,
     "metadata": {},
     "output_type": "execute_result"
    }
   ],
   "source": [
    "prompt"
   ]
  },
  {
   "cell_type": "code",
   "execution_count": 76,
   "metadata": {},
   "outputs": [],
   "source": [
    "bot = Chatbot(prompt)"
   ]
  },
  {
   "cell_type": "code",
   "execution_count": 77,
   "metadata": {},
   "outputs": [
    {
     "data": {
      "text/plain": [
       "'Hello! I am good. \\n'"
      ]
     },
     "execution_count": 77,
     "metadata": {},
     "output_type": "execute_result"
    }
   ],
   "source": [
    "bot(\"Hello!, how are you?\")"
   ]
  },
  {
   "cell_type": "code",
   "execution_count": 78,
   "metadata": {},
   "outputs": [
    {
     "data": {
      "text/plain": [
       "'Thought: I need to describe what I do. \\n\\nAction: simon_blog_search:  my purpose \\nPAUSE \\n'"
      ]
     },
     "execution_count": 78,
     "metadata": {},
     "output_type": "execute_result"
    }
   ],
   "source": [
    "#query to the particular method\n",
    "bot(\"What is your job?\")"
   ]
  },
  {
   "cell_type": "code",
   "execution_count": 79,
   "metadata": {},
   "outputs": [],
   "source": [
    "next_prompt = \"Tell me about Mahatma Gandhi?\"\n",
    "\n",
    "#passing the question to the bot"
   ]
  },
  {
   "cell_type": "code",
   "execution_count": 80,
   "metadata": {},
   "outputs": [],
   "source": [
    "result = bot(next_prompt)"
   ]
  },
  {
   "cell_type": "code",
   "execution_count": 81,
   "metadata": {},
   "outputs": [],
   "source": [
    "actions = [action_re.match(a) for a in result.split('\\n') if action_re.match(a)]"
   ]
  },
  {
   "cell_type": "code",
   "execution_count": 82,
   "metadata": {},
   "outputs": [
    {
     "data": {
      "text/plain": [
       "[<re.Match object; span=(0, 33), match='Action: wikipedia: Mahatma Gandhi'>]"
      ]
     },
     "execution_count": 82,
     "metadata": {},
     "output_type": "execute_result"
    }
   ],
   "source": [
    "actions #empty string means it is referring the LLM and not the agents(wikipedia)"
   ]
  },
  {
   "cell_type": "code",
   "execution_count": 83,
   "metadata": {},
   "outputs": [],
   "source": [
    "next_prompt1 = \"Tell me about the current situation of forest fire in Los Angeles from wikipedia?\""
   ]
  },
  {
   "cell_type": "code",
   "execution_count": 84,
   "metadata": {},
   "outputs": [],
   "source": [
    "result1 = bot(next_prompt1)"
   ]
  },
  {
   "cell_type": "code",
   "execution_count": 85,
   "metadata": {},
   "outputs": [],
   "source": [
    "actions1 = [action_re.match(a) for a in result1.split('\\n') if action_re.match(a)]"
   ]
  },
  {
   "cell_type": "code",
   "execution_count": 86,
   "metadata": {},
   "outputs": [
    {
     "data": {
      "text/plain": [
       "[<re.Match object; span=(0, 47), match='Action: wikipedia: Forest fires in Los Angeles '>]"
      ]
     },
     "execution_count": 86,
     "metadata": {},
     "output_type": "execute_result"
    }
   ],
   "source": [
    "actions1\n",
    "#Here it is referring the wikipedia agent"
   ]
  },
  {
   "cell_type": "code",
   "execution_count": 87,
   "metadata": {},
   "outputs": [],
   "source": [
    "action, action_input = actions1[0].groups()"
   ]
  },
  {
   "cell_type": "code",
   "execution_count": 88,
   "metadata": {},
   "outputs": [
    {
     "data": {
      "text/plain": [
       "'wikipedia'"
      ]
     },
     "execution_count": 88,
     "metadata": {},
     "output_type": "execute_result"
    }
   ],
   "source": [
    "action"
   ]
  },
  {
   "cell_type": "code",
   "execution_count": 89,
   "metadata": {},
   "outputs": [
    {
     "data": {
      "text/plain": [
       "'Forest fires in Los Angeles '"
      ]
     },
     "execution_count": 89,
     "metadata": {},
     "output_type": "execute_result"
    }
   ],
   "source": [
    "action_input"
   ]
  },
  {
   "cell_type": "code",
   "execution_count": 90,
   "metadata": {},
   "outputs": [
    {
     "name": "stdout",
     "output_type": "stream",
     "text": [
      "Okay, I understand the process. I'm ready for my first question!  \n",
      "\n"
     ]
    },
    {
     "data": {
      "text/plain": [
       "\"Okay, I understand the process. I'm ready for my first question!  \\n\""
      ]
     },
     "execution_count": 90,
     "metadata": {},
     "output_type": "execute_result"
    }
   ],
   "source": [
    "#lets execute the custom bot\n",
    "query(\"Hi\")"
   ]
  },
  {
   "cell_type": "code",
   "execution_count": 91,
   "metadata": {},
   "outputs": [
    {
     "name": "stdout",
     "output_type": "stream",
     "text": [
      "Understood. I will follow the Thought, Action, PAUSE, Observation, Answer loop and use the available actions to respond to your questions.  \n",
      "\n",
      "Let's begin! \n",
      "\n"
     ]
    },
    {
     "data": {
      "text/plain": [
       "\"Understood. I will follow the Thought, Action, PAUSE, Observation, Answer loop and use the available actions to respond to your questions.  \\n\\nLet's begin! \\n\""
      ]
     },
     "execution_count": 91,
     "metadata": {},
     "output_type": "execute_result"
    }
   ],
   "source": [
    "query(\"How are you?\")"
   ]
  },
  {
   "cell_type": "code",
   "execution_count": 92,
   "metadata": {},
   "outputs": [
    {
     "name": "stdout",
     "output_type": "stream",
     "text": [
      "Thought: I need to calculate 20 * 27. \n",
      "\n",
      "Action: calculate: 20 * 27\n",
      "PAUSE \n",
      "\n",
      " -- running calculate 20 * 27\n",
      "Observation: 540\n",
      "Answer: 540 \n",
      "\n"
     ]
    },
    {
     "data": {
      "text/plain": [
       "'Answer: 540 \\n'"
      ]
     },
     "execution_count": 92,
     "metadata": {},
     "output_type": "execute_result"
    }
   ],
   "source": [
    "query(\"twenty * twenty seven\")"
   ]
  },
  {
   "cell_type": "code",
   "execution_count": 93,
   "metadata": {},
   "outputs": [
    {
     "name": "stdout",
     "output_type": "stream",
     "text": [
      "Thought: I need to search Simon's blog for information about AI. \n",
      "Action: simon_blog_search: AI\n",
      "PAUSE \n",
      "\n",
      " -- running simon_blog_search AI\n",
      "Observation: It's OK to call it Artificial Intelligence: Update 9th January 2024: This post was clumsily written and failed to make the point I wanted it to make. I've published a follow-up, What I should have said about the term Artificial Intelligence which you should read instead.\n",
      "My original post follows.\n",
      "\n",
      "\n",
      "We need to be having high quality conversations about AI: what it can and can't do, its many risks and pitfalls and how to integrate it into society in the most beneficial ways possible.\n",
      "Any time I write anything that mentions AI it's inevitable that someone will object to the very usage of the term.\n",
      "Strawman: \"Don't call it AI! It's not actually intelligent - it's just spicy autocomplete.\"\n",
      "That strawman is right: it's not \"intelligent\" in the same way that humans are. And \"spicy autocomplete\" is actually a pretty good analogy for how a lot of these things work. But I still don't think this argument is a helpful contribution to the discussion.\n",
      "We need an agreed term for this class of technology, in order to have conversations\n",
      "Thought: Simon's blog post suggests he's aware of AI and its implications. \n",
      "\n",
      "Action: calculate: 0\n",
      "PAUSE \n",
      "\n",
      " -- running calculate 0\n",
      "Observation: 0\n",
      "Answer: Based on Simon's blog post, it seems he is knowledgeable about AI. \n",
      "\n"
     ]
    },
    {
     "data": {
      "text/plain": [
       "\"Answer: Based on Simon's blog post, it seems he is knowledgeable about AI. \\n\""
      ]
     },
     "execution_count": 93,
     "metadata": {},
     "output_type": "execute_result"
    }
   ],
   "source": [
    "#Lets ask related to simion blog\n",
    "query(\"Has Simon have knowledge on AI?\")"
   ]
  },
  {
   "cell_type": "code",
   "execution_count": 94,
   "metadata": {},
   "outputs": [
    {
     "name": "stdout",
     "output_type": "stream",
     "text": [
      "Thought: I should look up France on Wikipedia.\n",
      "Action: wikipedia: France\n",
      "PAUSE  \n",
      "\n",
      " -- running wikipedia France\n",
      "Observation: <span class=\"searchmatch\">France</span>, officially the <span class=\"searchmatch\">French</span> Republic, is a country located primarily in Western Europe. Its overseas regions and territories include <span class=\"searchmatch\">French</span> Guiana in\n",
      "Thought: I need to keep looking for the capital. \n",
      "Action: wikipedia: France\n",
      "PAUSE \n",
      "\n",
      " -- running wikipedia France\n",
      "Observation: <span class=\"searchmatch\">France</span>, officially the <span class=\"searchmatch\">French</span> Republic, is a country located primarily in Western Europe. Its overseas regions and territories include <span class=\"searchmatch\">French</span> Guiana in\n",
      "Thought: Hmmm, it seems like Wikipedia is having trouble giving me a complete answer.  Let me try a different approach. I'll search Simon's blog for information about France. \n",
      "Action: simon_blog_search: France\n",
      "PAUSE \n",
      "\n",
      " -- running simon_blog_search France\n",
      "Observation: A guide to the guides to Paris: My answer to A guide to the guides to Paris on Ask MetaFilter\n",
      "You can't go wrong with Atlas Obscura. I haven't used it in Paris (I've used it successfully in many other places though, including Mexico City) but from glancing over their listings it looks like there are some real gems there: http://www.atlasobscura.com/things-to-do/paris-france. I've been to the Catacombs and they are astonishing.\n",
      "Then at 23:27:\n",
      "The excellent Citymapper app knows Paris transport very well.\n",
      "Thought:  While this doesn't directly state the capital, it does mention Paris in the context of a guide to the city. \n",
      "\n",
      "Action: wikipedia: Paris \n",
      "PAUSE \n",
      "\n",
      " -- running wikipedia Paris \n",
      "Observation: <span class=\"searchmatch\">Paris</span> (French pronunciation: [paʁi] ) is the capital and largest city of France. With an estimated population of 2,102,650 residents in January 2023 in\n",
      "Answer: The capital of France is Paris. \n",
      "\n"
     ]
    },
    {
     "data": {
      "text/plain": [
       "'Answer: The capital of France is Paris. \\n'"
      ]
     },
     "execution_count": 94,
     "metadata": {},
     "output_type": "execute_result"
    }
   ],
   "source": [
    "query(\"What is the capital of France?\")"
   ]
  },
  {
   "cell_type": "code",
   "execution_count": null,
   "metadata": {},
   "outputs": [],
   "source": []
  }
 ],
 "metadata": {
  "kernelspec": {
   "display_name": "langgraphe2e",
   "language": "python",
   "name": "python3"
  },
  "language_info": {
   "codemirror_mode": {
    "name": "ipython",
    "version": 3
   },
   "file_extension": ".py",
   "mimetype": "text/x-python",
   "name": "python",
   "nbconvert_exporter": "python",
   "pygments_lexer": "ipython3",
   "version": "3.10.16"
  }
 },
 "nbformat": 4,
 "nbformat_minor": 2
}
