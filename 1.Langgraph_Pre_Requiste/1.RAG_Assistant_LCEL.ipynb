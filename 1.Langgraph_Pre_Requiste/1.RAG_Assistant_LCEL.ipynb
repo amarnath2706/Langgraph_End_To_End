{
 "cells": [
  {
   "cell_type": "code",
   "execution_count": 1,
   "metadata": {},
   "outputs": [
    {
     "data": {
      "text/plain": [
       "True"
      ]
     },
     "execution_count": 1,
     "metadata": {},
     "output_type": "execute_result"
    }
   ],
   "source": [
    "import os\n",
    "from dotenv import load_dotenv\n",
    "load_dotenv()"
   ]
  },
  {
   "cell_type": "code",
   "execution_count": null,
   "metadata": {},
   "outputs": [],
   "source": [
    "#Reading the variables from the .env file\n",
    "GOOGLE_API_KEY = os.getenv(\"GOOGLE_API_KEY\")\n",
    "GROQ_API_KEY = os.getenv(\"GROQ_API_KEY\")\n",
    "TAVILY_API_KEY = os.getenv(\"TAVILY_API_KEY\")\n",
    "LANGCHAIN_API_KEY = os.getenv(\"LANGCHAIN_API_KEY\")\n",
    "LANGCHAIN_PROJECT = os.getenv(\"LANGCHAIN_PROJECT\")"
   ]
  },
  {
   "cell_type": "code",
   "execution_count": null,
   "metadata": {},
   "outputs": [],
   "source": [
    "#Setting the environment variables\n",
    "os.environ[\"GOOGLE_API_KEY\"] = GOOGLE_API_KEY\n",
    "os.environ[\"TAVILY_API_KEY\"] = TAVILY_API_KEY\n",
    "os.environ[\"GROQ_API_KEY\"]= GROQ_API_KEY\n",
    "os.environ[\"LANGCHAIN_API_KEY\"] = LANGCHAIN_API_KEY\n",
    "os.environ[\"LANGCHAIN_TRACING_V2\"] = \"true\" #tracing or perform logging using langsmith\n",
    "os.environ[\"LANGCHAIN_ENDPOINT\"] = \"https://api.smith.langchain.com\"\n",
    "os.environ[\"LANGCHAIN_PROJECT\"] = LANGCHAIN_PROJECT"
   ]
  },
  {
   "cell_type": "code",
   "execution_count": null,
   "metadata": {},
   "outputs": [
    {
     "name": "stderr",
     "output_type": "stream",
     "text": [
      "c:\\Users\\Toshiba\\anaconda3\\envs\\langgraphe2e\\lib\\site-packages\\tqdm\\auto.py:21: TqdmWarning: IProgress not found. Please update jupyter and ipywidgets. See https://ipywidgets.readthedocs.io/en/stable/user_install.html\n",
      "  from .autonotebook import tqdm as notebook_tqdm\n"
     ]
    }
   ],
   "source": [
    "#Load embedding model\n",
    "from langchain_google_genai import GoogleGenerativeAIEmbeddings\n",
    "embeddings = GoogleGenerativeAIEmbeddings(model=\"models/embedding-001\")\n",
    "#Load LLM model\n",
    "from langchain_google_genai import ChatGoogleGenerativeAI\n",
    "llm_google = ChatGoogleGenerativeAI(model=\"gemini-1.0-pro\")"
   ]
  },
  {
   "cell_type": "code",
   "execution_count": null,
   "metadata": {},
   "outputs": [],
   "source": [
    "#Using Groq\n",
    "from langchain_groq import ChatGroq\n",
    "import os\n",
    "llm_groq=ChatGroq(model_name=\"Gemma2-9b-It\")"
   ]
  },
  {
   "cell_type": "code",
   "execution_count": 6,
   "metadata": {},
   "outputs": [
    {
     "name": "stdout",
     "output_type": "stream",
     "text": [
      "**Indian Space Research Organisation (ISRO)**\n",
      "\n",
      "**Mission:**\n",
      "\n",
      "* To advance space science and technology for national development and global benefit.\n",
      "\n",
      "**Key Areas of Focus:**\n",
      "\n",
      "* **Satellite Technology:** Design, development, and launch of satellites for various applications, including communication, navigation, remote sensing, and earth observation.\n",
      "* **Launch Vehicle Technology:** Development and operation of rockets and launch vehicles to carry satellites into orbit.\n",
      "* **Space Science:** Research in astrophysics, planetary science, and space exploration.\n",
      "* **Space Applications:** Utilization of space technology for societal benefits in areas such as agriculture, disaster management, healthcare, and education.\n",
      "\n",
      "**Major Achievements:**\n",
      "\n",
      "* **Launch of Aryabhata:** India's first satellite, launched in 1975.\n",
      "* **Chandrayaan-1:** India's first lunar mission, launched in 2008.\n",
      "* **Mars Orbiter Mission (MOM):** India's first mission to Mars, launched in 2013.\n",
      "* **Gaganyaan:** India's first human spaceflight mission, planned for 2023.\n",
      "* **Development of PSLV (Polar Satellite Launch Vehicle):** One of the most reliable and cost-effective launch vehicles in the world.\n",
      "\n",
      "**Organization Structure:**\n",
      "\n",
      "* **Headquarters:** Bengaluru, Karnataka\n",
      "* **Centers:** Spread across India, specializing in various aspects of space technology.\n",
      "* **Governing Body:** Space Commission and the Department of Space\n",
      "\n",
      "**International Collaborations:**\n",
      "\n",
      "* Partnerships with global space agencies, including NASA, ESA, and JAXA.\n",
      "* Collaboration on missions, such as the Chandrayaan-2 lunar mission with the Japanese Space Agency (JAXA).\n",
      "\n",
      "**Impact on India:**\n",
      "\n",
      "* Enhanced communication and connectivity through satellites.\n",
      "* Improved disaster preparedness and response through earth observation satellites.\n",
      "* Economic benefits through the commercialization of space technology.\n",
      "* Inspiration and advancement of scientific research and innovation.\n",
      "\n",
      "**Future Goals:**\n",
      "\n",
      "* Continued development of launch vehicles and satellite technology.\n",
      "* Exploration of deep space and planetary missions.\n",
      "* Human spaceflight and establishment of a space station.\n",
      "* Utilization of space technology for sustainable development and societal welfare.\n",
      "goodbye take care yourself\n"
     ]
    }
   ],
   "source": [
    "#Simple AI Assistant uisng Google model\n",
    "while True:\n",
    "    question=input(\"type your question. if you want to quit the chat write quit\")\n",
    "    if question !=\"quit\":\n",
    "        print(llm_google.invoke(question).content)\n",
    "    else:\n",
    "        print(\"goodbye take care yourself\")\n",
    "        break"
   ]
  },
  {
   "cell_type": "code",
   "execution_count": 7,
   "metadata": {},
   "outputs": [
    {
     "name": "stdout",
     "output_type": "stream",
     "text": [
      "NASA stands for **National Aeronautics and Space Administration**.  \n",
      "\n",
      "It's the United States' government agency responsible for the civilian space program, as well as aeronautics and aerospace research. \n",
      "\n",
      "What would you like to know about NASA? \n",
      "\n",
      "Here are some things I can tell you about:\n",
      "\n",
      "* **History:** When it was founded, its major missions, and its role in space exploration.\n",
      "* **Current missions:** What projects NASA is working on right now, including those on Earth and in space.\n",
      "* **Astronauts:** Information about famous astronauts and the selection process.\n",
      "* **Space exploration:** Details about planets, stars, galaxies, and NASA's efforts to understand the universe.\n",
      "* **Technology:** How NASA develops new technologies for space travel and other applications.\n",
      "\n",
      "\n",
      "\n",
      "Let me know what interests you!\n",
      "\n",
      "goodbye take care yourself\n"
     ]
    }
   ],
   "source": [
    "#Using GROQ Model\n",
    "while True:\n",
    "    question=input(\"type your question. if you want to quit the chat write quit\")\n",
    "    if question !=\"quit\":\n",
    "        print(llm_groq.invoke(question).content)\n",
    "    else:\n",
    "        print(\"goodbye take care yourself\")\n",
    "        break"
   ]
  },
  {
   "cell_type": "code",
   "execution_count": 8,
   "metadata": {},
   "outputs": [],
   "source": [
    "#Memeory\n",
    "from langchain_core.chat_history import BaseChatMessageHistory\n",
    "from langchain_core.chat_history import InMemoryChatMessageHistory\n",
    "from langchain_core.runnables.history import RunnableWithMessageHistory\n",
    "from langchain_core.messages import AIMessage"
   ]
  },
  {
   "cell_type": "code",
   "execution_count": 9,
   "metadata": {},
   "outputs": [],
   "source": [
    "store={} #keep the entire memory in the form dictionary"
   ]
  },
  {
   "cell_type": "code",
   "execution_count": 10,
   "metadata": {},
   "outputs": [],
   "source": [
    "#for every conversation i will create one id\n",
    "def get_session_history(session_id: str) -> BaseChatMessageHistory:\n",
    "    if session_id not in store:\n",
    "        store[session_id] = InMemoryChatMessageHistory()\n",
    "    return store[session_id]"
   ]
  },
  {
   "cell_type": "code",
   "execution_count": 11,
   "metadata": {},
   "outputs": [],
   "source": [
    "config = {\"configurable\": {\"session_id\": \"firstchat\"}}"
   ]
  },
  {
   "cell_type": "code",
   "execution_count": 12,
   "metadata": {},
   "outputs": [],
   "source": [
    "model_with_memory=RunnableWithMessageHistory(llm_groq,get_session_history)"
   ]
  },
  {
   "cell_type": "code",
   "execution_count": 13,
   "metadata": {},
   "outputs": [
    {
     "data": {
      "text/plain": [
       "'Hello Amarnath! 👋\\n\\nNice to meet you. What can I do for you today? 😄  \\n\\n'"
      ]
     },
     "execution_count": 13,
     "metadata": {},
     "output_type": "execute_result"
    }
   ],
   "source": [
    "model_with_memory.invoke((\"Hi! I'm Amarnath\"),config=config).content"
   ]
  },
  {
   "cell_type": "code",
   "execution_count": 14,
   "metadata": {},
   "outputs": [
    {
     "data": {
      "text/plain": [
       "\"That's great!  🐶  Dogs are wonderful companions. \\n\\nDo you have a dog of your own? What breed is your favorite? 🦴 🐾  \\n\\n\\n\\n\\n\""
      ]
     },
     "execution_count": 14,
     "metadata": {},
     "output_type": "execute_result"
    }
   ],
   "source": [
    "model_with_memory.invoke((\"I like pet dogs \"),config=config).content"
   ]
  },
  {
   "cell_type": "code",
   "execution_count": 15,
   "metadata": {},
   "outputs": [
    {
     "data": {
      "text/plain": [
       "\"Hill stations are amazing!  🏔️  The fresh air, the views, the cool breeze... it's so relaxing. \\n\\nWhere is your favorite hill station to visit?  What do you enjoy doing there? ☕🌲  \\n\\n\\n\\n\\n\""
      ]
     },
     "execution_count": 15,
     "metadata": {},
     "output_type": "execute_result"
    }
   ],
   "source": [
    "model_with_memory.invoke((\"I love to visit hill stations for my vacation\"),config=config).content"
   ]
  },
  {
   "cell_type": "code",
   "execution_count": 16,
   "metadata": {},
   "outputs": [
    {
     "data": {
      "text/plain": [
       "'Yes, I do!  \\n\\nYou introduced yourself as Amarnath earlier. 😊  Is there anything else I can help you with?  \\n\\n\\n\\n\\n'"
      ]
     },
     "execution_count": 16,
     "metadata": {},
     "output_type": "execute_result"
    }
   ],
   "source": [
    "model_with_memory.invoke((\"Do you know my name?\"),config=config).content"
   ]
  },
  {
   "cell_type": "code",
   "execution_count": 17,
   "metadata": {},
   "outputs": [
    {
     "data": {
      "text/plain": [
       "'You said you like pet dogs!  🐶  \\n\\nDo you have a favorite breed?  🐾\\n\\n\\n\\n\\n'"
      ]
     },
     "execution_count": 17,
     "metadata": {},
     "output_type": "execute_result"
    }
   ],
   "source": [
    "model_with_memory.invoke((\"Which animal I like?\"),config=config).content"
   ]
  },
  {
   "cell_type": "code",
   "execution_count": 18,
   "metadata": {},
   "outputs": [
    {
     "data": {
      "text/plain": [
       "'You told me you love to visit hill stations for your vacations!  🏔️  \\n\\nDo you have a favorite hill station you like to go to?  \\n\\n\\n\\n'"
      ]
     },
     "execution_count": 18,
     "metadata": {},
     "output_type": "execute_result"
    }
   ],
   "source": [
    "model_with_memory.invoke((\"which is my favourite vacation?\"),config=config).content"
   ]
  },
  {
   "cell_type": "code",
   "execution_count": 19,
   "metadata": {},
   "outputs": [
    {
     "data": {
      "text/plain": [
       "{'firstchat': InMemoryChatMessageHistory(messages=[HumanMessage(content=\"Hi! I'm Amarnath\", additional_kwargs={}, response_metadata={}), AIMessage(content='Hello Amarnath! 👋\\n\\nNice to meet you. What can I do for you today? 😄  \\n\\n', additional_kwargs={}, response_metadata={'token_usage': {'completion_tokens': 25, 'prompt_tokens': 16, 'total_tokens': 41, 'completion_time': 0.045454545, 'prompt_time': 9.2679e-05, 'queue_time': 0.019620279, 'total_time': 0.045547224}, 'model_name': 'Gemma2-9b-It', 'system_fingerprint': 'fp_10c08bf97d', 'finish_reason': 'stop', 'logprobs': None}, id='run-9557caa4-5ce4-475c-a789-193d2ee42003-0', usage_metadata={'input_tokens': 16, 'output_tokens': 25, 'total_tokens': 41}), HumanMessage(content='I like pet dogs ', additional_kwargs={}, response_metadata={}), AIMessage(content=\"That's great!  🐶  Dogs are wonderful companions. \\n\\nDo you have a dog of your own? What breed is your favorite? 🦴 🐾  \\n\\n\\n\\n\\n\", additional_kwargs={}, response_metadata={'token_usage': {'completion_tokens': 39, 'prompt_tokens': 53, 'total_tokens': 92, 'completion_time': 0.070909091, 'prompt_time': 0.001826481, 'queue_time': 0.018680567, 'total_time': 0.072735572}, 'model_name': 'Gemma2-9b-It', 'system_fingerprint': 'fp_10c08bf97d', 'finish_reason': 'stop', 'logprobs': None}, id='run-adec4ab8-28d7-4529-85ef-11238368b5a6-0', usage_metadata={'input_tokens': 53, 'output_tokens': 39, 'total_tokens': 92}), HumanMessage(content='I love to visit hill stations for my vacation', additional_kwargs={}, response_metadata={}), AIMessage(content=\"Hill stations are amazing!  🏔️  The fresh air, the views, the cool breeze... it's so relaxing. \\n\\nWhere is your favorite hill station to visit?  What do you enjoy doing there? ☕🌲  \\n\\n\\n\\n\\n\", additional_kwargs={}, response_metadata={'token_usage': {'completion_tokens': 53, 'prompt_tokens': 108, 'total_tokens': 161, 'completion_time': 0.096363636, 'prompt_time': 0.003444684, 'queue_time': 0.021827226, 'total_time': 0.09980832}, 'model_name': 'Gemma2-9b-It', 'system_fingerprint': 'fp_10c08bf97d', 'finish_reason': 'stop', 'logprobs': None}, id='run-eda1d2b6-8a48-45e3-a8c0-fc553241c1a4-0', usage_metadata={'input_tokens': 108, 'output_tokens': 53, 'total_tokens': 161}), HumanMessage(content='Do you know my name?', additional_kwargs={}, response_metadata={}), AIMessage(content='Yes, I do!  \\n\\nYou introduced yourself as Amarnath earlier. 😊  Is there anything else I can help you with?  \\n\\n\\n\\n\\n', additional_kwargs={}, response_metadata={'token_usage': {'completion_tokens': 32, 'prompt_tokens': 174, 'total_tokens': 206, 'completion_time': 0.058181818, 'prompt_time': 0.005350215, 'queue_time': 0.023151712999999997, 'total_time': 0.063532033}, 'model_name': 'Gemma2-9b-It', 'system_fingerprint': 'fp_10c08bf97d', 'finish_reason': 'stop', 'logprobs': None}, id='run-67241c94-a626-494e-80d6-fc1c2f4a7318-0', usage_metadata={'input_tokens': 174, 'output_tokens': 32, 'total_tokens': 206}), HumanMessage(content='Which animal I like?', additional_kwargs={}, response_metadata={}), AIMessage(content='You said you like pet dogs!  🐶  \\n\\nDo you have a favorite breed?  🐾\\n\\n\\n\\n\\n', additional_kwargs={}, response_metadata={'token_usage': {'completion_tokens': 23, 'prompt_tokens': 218, 'total_tokens': 241, 'completion_time': 0.041818182, 'prompt_time': 0.006847447, 'queue_time': 0.02054757, 'total_time': 0.048665629}, 'model_name': 'Gemma2-9b-It', 'system_fingerprint': 'fp_10c08bf97d', 'finish_reason': 'stop', 'logprobs': None}, id='run-465ae8a9-859b-4252-9ffc-0da3ddc002df-0', usage_metadata={'input_tokens': 218, 'output_tokens': 23, 'total_tokens': 241}), HumanMessage(content='which is my favourite vacation?', additional_kwargs={}, response_metadata={}), AIMessage(content='You told me you love to visit hill stations for your vacations!  🏔️  \\n\\nDo you have a favorite hill station you like to go to?  \\n\\n\\n\\n', additional_kwargs={}, response_metadata={'token_usage': {'completion_tokens': 35, 'prompt_tokens': 255, 'total_tokens': 290, 'completion_time': 0.063636364, 'prompt_time': 0.008340461, 'queue_time': 0.021272176, 'total_time': 0.071976825}, 'model_name': 'Gemma2-9b-It', 'system_fingerprint': 'fp_10c08bf97d', 'finish_reason': 'stop', 'logprobs': None}, id='run-dc5c4925-7c2f-4f83-bafd-103cdfe53a35-0', usage_metadata={'input_tokens': 255, 'output_tokens': 35, 'total_tokens': 290})])}"
      ]
     },
     "execution_count": 19,
     "metadata": {},
     "output_type": "execute_result"
    }
   ],
   "source": [
    "store"
   ]
  },
  {
   "cell_type": "code",
   "execution_count": 20,
   "metadata": {},
   "outputs": [],
   "source": [
    "# RAG with LCEL\n",
    "\n",
    "from langchain_community.document_loaders import TextLoader, DirectoryLoader\n",
    "from langchain.text_splitter import RecursiveCharacterTextSplitter\n",
    "from langchain_community.vectorstores import Chroma\n",
    "from langchain import PromptTemplate\n",
    "from langchain_core.runnables import RunnableParallel, RunnablePassthrough , RunnableLambda\n",
    "from langchain_core.output_parsers import StrOutputParser"
   ]
  },
  {
   "cell_type": "code",
   "execution_count": 21,
   "metadata": {},
   "outputs": [],
   "source": [
    "# Reading the txt files from source directory\n",
    "\n",
    "loader = DirectoryLoader('../data', glob=\"./*.txt\", loader_cls=TextLoader)\n",
    "docs = loader.load()"
   ]
  },
  {
   "cell_type": "code",
   "execution_count": 22,
   "metadata": {},
   "outputs": [
    {
     "data": {
      "text/plain": [
       "[Document(metadata={'source': '..\\\\data\\\\llama3.txt'}, page_content='Llama (Large Language Model Meta AI) is a family of autoregressive large language models released by Meta AI starting in February 2023.[2][3] The latest version is Llama 3 released in April 2024.[4]\\n\\nModel weights for the first version of Llama were released to the research community under a non-commercial license.[5][3] Subsequent versions of Llama were made accessible outside academia and released under licenses that permitted some commercial use.[6][7] Llama models are trained at different parameter sizes, typically ranging between 7B and 70B.[4] Originally, Llama was only available as a foundation model.[8] Starting with Llama 2, Meta AI started releasing instruction fine-tuned versions alongside foundation models.[7]\\n\\nLlama models have been compared favorably against other large language models. Meta AI reported the original 13B parameter model\\'s performance on most NLP benchmarks exceeded that of the much larger GPT-3 (with 175B parameters) and that the largest model was competitive with state of the art models such as PaLM and Chinchilla.[2]. Meta AI\\'s testing shows that Llama 3 70B beats Gemini, and Claude in most benchmarks.[9][10] Wired describes the 8B parameter version of Llama 3 as being \"surprisingly capable\" given it\\'s size.[11]\\n\\nAlongside the release of Llama 3, Meta added virtual assistant features to Facebook and WhatsApp in select regions, and a standalone website. Both services use a Llama 3 model.[12] Reception was mixed, with some users confused after Meta AI told a parental group that it had a child.[13]')]"
      ]
     },
     "execution_count": 22,
     "metadata": {},
     "output_type": "execute_result"
    }
   ],
   "source": [
    "docs"
   ]
  },
  {
   "cell_type": "code",
   "execution_count": 23,
   "metadata": {},
   "outputs": [],
   "source": [
    "# Create Chunks using RecursiveCharacterTextSplitter\n",
    "\n",
    "text_splitter = RecursiveCharacterTextSplitter(\n",
    "    chunk_size=50,\n",
    "    chunk_overlap=10,\n",
    "    length_function=len\n",
    ")\n",
    "new_docs = text_splitter.split_documents(documents=docs)\n",
    "doc_strings = [doc.page_content for doc in new_docs]"
   ]
  },
  {
   "cell_type": "code",
   "execution_count": 24,
   "metadata": {},
   "outputs": [
    {
     "data": {
      "text/plain": [
       "['Llama (Large Language Model Meta AI) is a family',\n",
       " 'a family of autoregressive large language models',\n",
       " 'models released by Meta AI starting in February',\n",
       " 'February 2023.[2][3] The latest version is Llama',\n",
       " 'is Llama 3 released in April 2024.[4]',\n",
       " 'Model weights for the first version of Llama were',\n",
       " 'were released to the research community under a',\n",
       " 'under a non-commercial license.[5][3] Subsequent',\n",
       " 'versions of Llama were made accessible outside',\n",
       " 'outside academia and released under licenses that',\n",
       " 'that permitted some commercial use.[6][7] Llama',\n",
       " 'Llama models are trained at different parameter',\n",
       " 'parameter sizes, typically ranging between 7B and',\n",
       " '7B and 70B.[4] Originally, Llama was only',\n",
       " 'was only available as a foundation model.[8]',\n",
       " 'model.[8] Starting with Llama 2, Meta AI started',\n",
       " 'started releasing instruction fine-tuned versions',\n",
       " 'versions alongside foundation models.[7]',\n",
       " 'Llama models have been compared favorably against',\n",
       " 'against other large language models. Meta AI',\n",
       " 'Meta AI reported the original 13B parameter',\n",
       " \"parameter model's performance on most NLP\",\n",
       " 'most NLP benchmarks exceeded that of the much',\n",
       " 'the much larger GPT-3 (with 175B parameters) and',\n",
       " 'and that the largest model was competitive with',\n",
       " 'with state of the art models such as PaLM and',\n",
       " \"PaLM and Chinchilla.[2]. Meta AI's testing shows\",\n",
       " 'shows that Llama 3 70B beats Gemini, and Claude',\n",
       " 'Claude in most benchmarks.[9][10] Wired describes',\n",
       " 'describes the 8B parameter version of Llama 3 as',\n",
       " '3 as being \"surprisingly capable\" given it\\'s',\n",
       " \"it's size.[11]\",\n",
       " 'Alongside the release of Llama 3, Meta added',\n",
       " 'added virtual assistant features to Facebook and',\n",
       " 'and WhatsApp in select regions, and a standalone',\n",
       " 'website. Both services use a Llama 3 model.[12]',\n",
       " 'Reception was mixed, with some users confused',\n",
       " 'confused after Meta AI told a parental group that',\n",
       " 'that it had a child.[13]']"
      ]
     },
     "execution_count": 24,
     "metadata": {},
     "output_type": "execute_result"
    }
   ],
   "source": [
    "doc_strings"
   ]
  },
  {
   "cell_type": "code",
   "execution_count": 26,
   "metadata": {},
   "outputs": [],
   "source": [
    "from langchain_google_genai import GoogleGenerativeAIEmbeddings\n",
    "\n",
    "vectorstore = Chroma.from_documents(documents=new_docs, embedding=GoogleGenerativeAIEmbeddings(model=\"models/embedding-001\"))"
   ]
  },
  {
   "cell_type": "code",
   "execution_count": 27,
   "metadata": {},
   "outputs": [],
   "source": [
    "retriever = vectorstore.as_retriever(search_kwargs={\"k\": 2})"
   ]
  },
  {
   "cell_type": "code",
   "execution_count": 28,
   "metadata": {},
   "outputs": [],
   "source": [
    "template = \"\"\"Answer the question based only on the following context:\n",
    "{context}\n",
    "\n",
    "Question: {question}\n",
    "\"\"\"\n",
    "prompt = PromptTemplate.from_template(template)"
   ]
  },
  {
   "cell_type": "code",
   "execution_count": 29,
   "metadata": {},
   "outputs": [],
   "source": [
    "retrieval_chain = (\n",
    "    RunnableParallel({\"context\": retriever, \"question\": RunnablePassthrough()})\n",
    "    | prompt\n",
    "    | llm_groq\n",
    "    | StrOutputParser()\n",
    "    )"
   ]
  },
  {
   "cell_type": "code",
   "execution_count": 30,
   "metadata": {},
   "outputs": [
    {
     "name": "stdout",
     "output_type": "stream",
     "text": [
      "Llama 3 is an 8B parameter language model released in April 2024.  \n",
      "\n",
      "Here are two important points:\n",
      "\n",
      "* **Parameter count:** It has 8 billion parameters.\n",
      "* **Release date:** It was released in April 2024. \n",
      "\n",
      "\n",
      "\n"
     ]
    }
   ],
   "source": [
    "question =\"what is llama3? can you highlight 2 important points?\"\n",
    "print(retrieval_chain.invoke(question))"
   ]
  },
  {
   "cell_type": "code",
   "execution_count": 31,
   "metadata": {},
   "outputs": [],
   "source": [
    "#Agents and Tools\n",
    "from langchain_community.tools import WikipediaQueryRun\n",
    "from langchain_community.utilities import WikipediaAPIWrapper"
   ]
  },
  {
   "cell_type": "code",
   "execution_count": 32,
   "metadata": {},
   "outputs": [],
   "source": [
    "api_wrapper=WikipediaAPIWrapper()"
   ]
  },
  {
   "cell_type": "code",
   "execution_count": 33,
   "metadata": {},
   "outputs": [],
   "source": [
    "tool=WikipediaQueryRun(api_wrapper=api_wrapper)"
   ]
  },
  {
   "cell_type": "code",
   "execution_count": 34,
   "metadata": {},
   "outputs": [
    {
     "data": {
      "text/plain": [
       "'wikipedia'"
      ]
     },
     "execution_count": 34,
     "metadata": {},
     "output_type": "execute_result"
    }
   ],
   "source": [
    "tool.name"
   ]
  },
  {
   "cell_type": "code",
   "execution_count": 35,
   "metadata": {},
   "outputs": [
    {
     "data": {
      "text/plain": [
       "'A wrapper around Wikipedia. Useful for when you need to answer general questions about people, places, companies, facts, historical events, or other subjects. Input should be a search query.'"
      ]
     },
     "execution_count": 35,
     "metadata": {},
     "output_type": "execute_result"
    }
   ],
   "source": [
    "tool.description"
   ]
  },
  {
   "cell_type": "code",
   "execution_count": 36,
   "metadata": {},
   "outputs": [
    {
     "data": {
      "text/plain": [
       "{'query': {'description': 'query to look up on wikipedia',\n",
       "  'title': 'Query',\n",
       "  'type': 'string'}}"
      ]
     },
     "execution_count": 36,
     "metadata": {},
     "output_type": "execute_result"
    }
   ],
   "source": [
    "tool.args"
   ]
  },
  {
   "cell_type": "code",
   "execution_count": 41,
   "metadata": {},
   "outputs": [
    {
     "name": "stdout",
     "output_type": "stream",
     "text": [
      "Page: ISRO\n",
      "Summary: The Indian Space Research Organisation (ISRO ) is India's national space agency. It serves as the principal research and development arm of the Department of Space (DoS), overseen by the Prime Minister of India, with the Chairman of ISRO also serving as the chief executive of the DoS. It is primarily responsible for space-based operations, space exploration, international space cooperation and the development of related technologies. The agency maintains a constellation of imaging, communication and remote sensing satellites. It operates the GAGAN and IRNSS satellite navigation systems. It has sent three missions to the Moon and one mission to Mars.\n",
      "Formerly known as the Indian National Committee for Space Research (INCOSPAR), it was set up in 1962 by then-Prime Minister Jawaharlal Nehru on the recommendation of scientist Vikram Sarabhai. It was renamed as ISRO in 1969 and was subsumed into the Department of Atomic Energy (DAE). The establishment of ISRO institutionalised space research activities in India. In 1972, the Government set up a Space Commission and the DoS, bringing ISRO under its purview. It has since then been managed by the DoS, which also governs various other institutions in the domain of astronomy and space technology.\n",
      "ISRO built India's first satellite Aryabhata which was launched by the Soviet space agency Interkosmos in 1975. In 1980, it launched the satellite RS-1 onboard the indigenously built launch vehicle SLV-3, making India the seventh country to undertake orbital launches. It has subsequently developed various small-lift and medium-lift launch vehicles, enabling the agency to launch various satellites and deep space missions. It is one of the six government space agencies in the world that possess full launch capabilities with the ability to deploy cryogenic engines, launch extraterrestrial missions and artificial satellites. It is also one of only four governmental space agencies in to have demonstrated unmanned soft landing capabilities.\n",
      "ISRO's programmes have played a significant role in socio-economic development. It has supported both civilian and military domains in various aspects such as disaster management, telemedicine, navigation and reconnaissance. ISRO's spin-off technologies have also aided in new innovations in engineering and other allied domains.\n",
      "\n",
      "Page: Chairperson of the Indian Space Research Organisation\n",
      "Summary: The Chairman of the Indian Space Research Organisation is the statutory head of the Indian Space Research Organisation (ISRO). The officeholder is a secretary to the Government of India and an executive of the Department of Space (DOS) which directly reports to the Prime Minister of India.\n",
      "The Indian National Committee for Space Research (INCOSPAR) was founded in 1962 under the Department of Atomic Energy (DAE) with Vikram Sarabhai as its chairperson which in 1969 became ISRO. In 1972, government of India had set up a space commission and DOS and brought ISRO under DOS.\n",
      "Since Sarabhai has assumed the position, there have been eleven chairmen of the ISRO, with Satish Dhawan serving the longest term of 12 years as the chairman.\n",
      "Recently on 8 January 2025, The Central Government has appointed Dr V Narayanan, currently the director of Liquid Propulsion Systems Centre (LPSC), Thiruvananthapuram, as the new chairperson of the Indian Space Research Organisation (Isro), and also as the secretary of the Department of Space.\n",
      "\n",
      "Page: List of ISRO missions\n",
      "Summary: This is a list of Indian Space Research Organisation (ISRO) missions. ISRO has carried out 125 spacecraft missions, 92 launch missions and planned several missions including the Gaganyaan (crewed/robotic) and Interplanetary mission such as Lunar Polar Exploration Mission, Chandrayaan-4, Shukrayaan and Mangalyaan-2 (MOM 2).\n"
     ]
    }
   ],
   "source": [
    "print(tool.run({\"query\": \"ISRO\"}))"
   ]
  },
  {
   "cell_type": "code",
   "execution_count": 38,
   "metadata": {},
   "outputs": [],
   "source": [
    "from langchain_community.tools import YouTubeSearchTool"
   ]
  },
  {
   "cell_type": "code",
   "execution_count": 39,
   "metadata": {},
   "outputs": [],
   "source": [
    "tool2=YouTubeSearchTool()"
   ]
  },
  {
   "cell_type": "code",
   "execution_count": 40,
   "metadata": {},
   "outputs": [
    {
     "data": {
      "text/plain": [
       "'youtube_search'"
      ]
     },
     "execution_count": 40,
     "metadata": {},
     "output_type": "execute_result"
    }
   ],
   "source": [
    "tool2.name"
   ]
  },
  {
   "cell_type": "code",
   "execution_count": 42,
   "metadata": {},
   "outputs": [
    {
     "data": {
      "text/plain": [
       "\"['https://www.youtube.com/watch?v=Ad8aR3S1DRU&pp=ygUMQnV5aW5nIGZhY3Rz', 'https://www.youtube.com/watch?v=r2HIxAcCovM&pp=ygUMQnV5aW5nIGZhY3Rz']\""
      ]
     },
     "execution_count": 42,
     "metadata": {},
     "output_type": "execute_result"
    }
   ],
   "source": [
    "tool2.run(\"Buying facts\")"
   ]
  },
  {
   "cell_type": "code",
   "execution_count": 44,
   "metadata": {},
   "outputs": [],
   "source": [
    "#Tools for websearch\n",
    "from langchain_community.tools.tavily_search import TavilySearchResults"
   ]
  },
  {
   "cell_type": "code",
   "execution_count": 45,
   "metadata": {},
   "outputs": [],
   "source": [
    "tool3=TavilySearchResults()"
   ]
  },
  {
   "cell_type": "code",
   "execution_count": 47,
   "metadata": {},
   "outputs": [
    {
     "data": {
      "text/plain": [
       "[{'url': 'https://www.cbsnews.com/live-updates/la-fires-southern-california-containment-efforts/',\n",
       "  'content': 'Los Angeles County Sheriff Robert Luna said Thursday there are \"multiple reasons\" why authorities cannot let people into the Palisades and Eaton fire areas as search and rescue operations continue in both areas. Five were reported missing on Wednesday, with four in the Eaton Fire area and one near the Palisades, said Los Angeles County Sheriff Robert Luna. There are 82,400 people under mandatory evacuation orders Thursday in Los Angeles County, said Sheriff Robert Luna at a news conference. The last 24 hours has seen \"little to no fire growth\" in the L.A.-area wildfires, although the Palisades Fire is an exception, an official said at a news conference Thursday morning.'},\n",
       " {'url': 'https://www.cnn.com/weather/live-news/fire-los-angeles-california-palisades-ventura-eaton-01-15-25-hnk/index.html',\n",
       "  'content': 'Live updates: Los Angeles wildfires, Palisades and Eaton fires, Auto fire in Ventura | CNN The Los Angeles Fire Department did not pre-position about 1,000 available firefighters and dozens of fire engines on January 7 as winds picked up, ahead of the destructive Palisades Fire, the Los Angeles Times reported on Tuesday, citing interviews with current and former LAFD officials and internal LAFD records. Republicans in Congress will consider “culpability” when approving any disaster aid for Democratic-led California, said House Speaker Mike Johnson Tuesday, as deadly wildfires ravage Los Angeles County for a second week. Less than a month before the fires swept across Los Angeles County, a group of longtime firefighters gathered at City Hall to plead for more resources, according to the report by CNN Investigates.'},\n",
       " {'url': 'https://www.bbc.com/news/articles/clyxypryrnko',\n",
       "  'content': \"LA fires: What's happening in Los Angeles, and what caused the wildfires? Out-of-control wildfires are ripping across parts of Los Angeles, leading to at least five deaths, burning down hundreds of buildings, and prompting more than 130,000 people to flee their homes in America's second-largest city. Paris Hilton and Adam Brody among celebrities to lose homes in wildfires ------------------------------------------------------------------------ 1 hr ago US & Canada 3 hrs ago  In maps: Thousands of acres on fire in LA ----------------------------------------- Maps and images showing how the fires currently affecting the Los Angeles area are developing. 3 hrs ago  Watch: Moment house collapses as LA wildfires rage on ----------------------------------------------------- Footage shows the moment a four-storey home collapses after being engulfed by flames. About the BBC\"},\n",
       " {'url': 'https://www.nbcnews.com/weather/wildfires/california-wildfires-what-know-cause-maps-palisades-eaton-los-angeles-rcna187289',\n",
       "  'content': 'Fueled by powerful winds and dry conditions, a series of ferocious wildfires erupted Tuesday and roared across the Los Angeles area, destroying hundreds of homes and killing at least 13 people, including some who died trying to prevent the fires from engulfing their homes. A Los Angeles County fire official said an untold number of significant injuries were linked to two of the fires, and a city official in Los Angeles\\xa0described Tuesday night as “one of the most devastating and terrifying” that she had seen in her corner of the city. As of Friday afternoon, at least 13 people had died in the fires, according to the Los Angeles County officials.'},\n",
       " {'url': 'https://www.nytimes.com/live/2025/01/15/us/los-angeles-wildfires-california',\n",
       "  'content': 'California Wildfires Live Updates: Los Angeles Winds and Low Humidity Heighten Fire Risk - The New York Times Residents of the Los Angeles area faced a third consecutive day of strong wind warnings and remained at risk for new fires on Wednesday, more than a week after devastating blazes began tearing through Southern California. “We’re going to show Los Angeles to the world, that we have the grit and resilience to again build ourselves better than we were,” said Mr. Hochman, whose office so far had charged a dozen people with either looting or arson. Firefighters in Los Angeles have thus far been able to prevent the wildfires from spreading into the Brentwood neighborhood where Vice President Kamala Harris owns a home.Credit...Mark Abramson for The New York Times'}]"
      ]
     },
     "execution_count": 47,
     "metadata": {},
     "output_type": "execute_result"
    }
   ],
   "source": [
    "tool3.invoke({\"query\": \"What is the current situation of Los Angeles forest fire?\"})"
   ]
  },
  {
   "cell_type": "code",
   "execution_count": 48,
   "metadata": {},
   "outputs": [],
   "source": [
    "#Own agent\n",
    "from langchain.agents import AgentType\n",
    "from langchain.agents import load_tools \n",
    "from langchain.agents import initialize_agent"
   ]
  },
  {
   "cell_type": "code",
   "execution_count": 50,
   "metadata": {},
   "outputs": [],
   "source": [
    "tool=load_tools([\"wikipedia\"],llm=llm_groq)"
   ]
  },
  {
   "cell_type": "code",
   "execution_count": 60,
   "metadata": {},
   "outputs": [],
   "source": [
    "agent=initialize_agent(tool,llm_groq,agent=AgentType.ZERO_SHOT_REACT_DESCRIPTION,verbose=True,k=2)"
   ]
  },
  {
   "cell_type": "code",
   "execution_count": 61,
   "metadata": {},
   "outputs": [
    {
     "name": "stdout",
     "output_type": "stream",
     "text": [
      "\n",
      "\n",
      "\u001b[1m> Entering new AgentExecutor chain...\u001b[0m\n",
      "\u001b[32;1m\u001b[1;3mThought: I need to find information about the current status of forest fires in Los Angeles.\n",
      "Action: wikipedia\n",
      "Action Input: Los Angeles forest fires\u001b[0m\n",
      "Observation: \u001b[36;1m\u001b[1;3mPage: Bobcat Fire\n",
      "Summary: The Bobcat Fire was a large wildfire in Los Angeles County during the 2020 California wildfire season. The fire ignited on September 6, 2020, and burned 115,997 acres (46,942 ha) before it was fully contained by November 27. The Bobcat Fire primarily burned in the central San Gabriel Mountains, in and around the Angeles National Forest, and is one of the largest fires on record in Los Angeles County to date.\n",
      "\n",
      "Page: January 2025 Southern California wildfires\n",
      "Summary: Since January 7, 2025, a series of 30 wildfires have affected the Los Angeles metropolitan area and surrounding regions. As of January 17, 2025, two fires remain active, which are the two largest.\n",
      "The fires have been exacerbated by drought conditions, low humidity, a build-up of vegetation the previous winter, and hurricane-force Santa Ana winds, which in some places have reached 100 miles per hour (160 km/h; 45 m/s). As of January 16, 2025, the wildfires have killed at least 27 people, forced over 200,000 to evacuate, and destroyed or damaged more than 12,401 structures.\n",
      "Most of the damage has been done by the two largest fires: the Palisades Fire in Pacific Palisades and the Eaton Fire in Altadena. They are likely the fourth and second most destructive fires in California's history, respectively.\n",
      "\n",
      "Page: Palisades Fire\n",
      "Summary: The Palisades Fire is a wildfire burning in the Santa Monica Mountains of Los Angeles County in Southern California which has killed at least ten people. As of January 13, 2025, at 11:13 a.m. PST, the fire had spread to 23,713 acres (9,596 ha; 95.96 km2; 37.052 sq mi), destroying large areas of Pacific Palisades, Topanga and Malibu. It is the first and largest of a series of wildfires in and around the city of Los Angeles being driven by an extreme Santa Ana wind event. On January 8, Wildfire Alliance statistics indicated that the fire is the most destructive fire in Los Angeles history, surpassing the Sayre Fire in Sylmar in 2008 which destroyed 604 structures. The cause of the fire is still under investigation.\u001b[0m\n",
      "Thought:\u001b[32;1m\u001b[1;3mThought: I need to find information about the current status of forest fires in Los Angeles.\n",
      "Action: wikipedia\n",
      "Action Input: Los Angeles forest fires\u001b[0m\n",
      "Observation: \u001b[36;1m\u001b[1;3mPage: Bobcat Fire\n",
      "Summary: The Bobcat Fire was a large wildfire in Los Angeles County during the 2020 California wildfire season. The fire ignited on September 6, 2020, and burned 115,997 acres (46,942 ha) before it was fully contained by November 27. The Bobcat Fire primarily burned in the central San Gabriel Mountains, in and around the Angeles National Forest, and is one of the largest fires on record in Los Angeles County to date.\n",
      "\n",
      "Page: January 2025 Southern California wildfires\n",
      "Summary: Since January 7, 2025, a series of 30 wildfires have affected the Los Angeles metropolitan area and surrounding regions. As of January 17, 2025, two fires remain active, which are the two largest.\n",
      "The fires have been exacerbated by drought conditions, low humidity, a build-up of vegetation the previous winter, and hurricane-force Santa Ana winds, which in some places have reached 100 miles per hour (160 km/h; 45 m/s). As of January 16, 2025, the wildfires have killed at least 27 people, forced over 200,000 to evacuate, and destroyed or damaged more than 12,401 structures.\n",
      "Most of the damage has been done by the two largest fires: the Palisades Fire in Pacific Palisades and the Eaton Fire in Altadena. They are likely the fourth and second most destructive fires in California's history, respectively.\n",
      "\n",
      "Page: Palisades Fire\n",
      "Summary: The Palisades Fire is a wildfire burning in the Santa Monica Mountains of Los Angeles County in Southern California which has killed at least ten people. As of January 13, 2025, at 11:13 a.m. PST, the fire had spread to 23,713 acres (9,596 ha; 95.96 km2; 37.052 sq mi), destroying large areas of Pacific Palisades, Topanga and Malibu. It is the first and largest of a series of wildfires in and around the city of Los Angeles being driven by an extreme Santa Ana wind event. On January 8, Wildfire Alliance statistics indicated that the fire is the most destructive fire in Los Angeles history, surpassing the Sayre Fire in Sylmar in 2008 which destroyed 604 structures. The cause of the fire is still under investigation.\u001b[0m\n",
      "Thought:\u001b[32;1m\u001b[1;3mQuestion: What is the current situation of Los Angeles forest fire?\n",
      "Thought: I need to find information about the current status of forest fires in Los Angeles.\n",
      "Action: wikipedia\n",
      "Action Input: Los Angeles forest fires\u001b[0m\n",
      "Observation: \u001b[36;1m\u001b[1;3mPage: Bobcat Fire\n",
      "Summary: The Bobcat Fire was a large wildfire in Los Angeles County during the 2020 California wildfire season. The fire ignited on September 6, 2020, and burned 115,997 acres (46,942 ha) before it was fully contained by November 27. The Bobcat Fire primarily burned in the central San Gabriel Mountains, in and around the Angeles National Forest, and is one of the largest fires on record in Los Angeles County to date.\n",
      "\n",
      "Page: January 2025 Southern California wildfires\n",
      "Summary: Since January 7, 2025, a series of 30 wildfires have affected the Los Angeles metropolitan area and surrounding regions. As of January 17, 2025, two fires remain active, which are the two largest.\n",
      "The fires have been exacerbated by drought conditions, low humidity, a build-up of vegetation the previous winter, and hurricane-force Santa Ana winds, which in some places have reached 100 miles per hour (160 km/h; 45 m/s). As of January 16, 2025, the wildfires have killed at least 27 people, forced over 200,000 to evacuate, and destroyed or damaged more than 12,401 structures.\n",
      "Most of the damage has been done by the two largest fires: the Palisades Fire in Pacific Palisades and the Eaton Fire in Altadena. They are likely the fourth and second most destructive fires in California's history, respectively.\n",
      "\n",
      "Page: Palisades Fire\n",
      "Summary: The Palisades Fire is a wildfire burning in the Santa Monica Mountains of Los Angeles County in Southern California which has killed at least ten people. As of January 13, 2025, at 11:13 a.m. PST, the fire had spread to 23,713 acres (9,596 ha; 95.96 km2; 37.052 sq mi), destroying large areas of Pacific Palisades, Topanga and Malibu. It is the first and largest of a series of wildfires in and around the city of Los Angeles being driven by an extreme Santa Ana wind event. On January 8, Wildfire Alliance statistics indicated that the fire is the most destructive fire in Los Angeles history, surpassing the Sayre Fire in Sylmar in 2008 which destroyed 604 structures. The cause of the fire is still under investigation.\u001b[0m\n",
      "Thought:\u001b[32;1m\u001b[1;3mQuestion: What is the current situation of Los Angeles forest fire?\n",
      "Thought: I need to find information about the current status of forest fires in Los Angeles.\n",
      "Action: wikipedia\n",
      "Action Input: Los Angeles forest fires\u001b[0m\n",
      "Observation: \u001b[36;1m\u001b[1;3mPage: Bobcat Fire\n",
      "Summary: The Bobcat Fire was a large wildfire in Los Angeles County during the 2020 California wildfire season. The fire ignited on September 6, 2020, and burned 115,997 acres (46,942 ha) before it was fully contained by November 27. The Bobcat Fire primarily burned in the central San Gabriel Mountains, in and around the Angeles National Forest, and is one of the largest fires on record in Los Angeles County to date.\n",
      "\n",
      "Page: January 2025 Southern California wildfires\n",
      "Summary: Since January 7, 2025, a series of 30 wildfires have affected the Los Angeles metropolitan area and surrounding regions. As of January 17, 2025, two fires remain active, which are the two largest.\n",
      "The fires have been exacerbated by drought conditions, low humidity, a build-up of vegetation the previous winter, and hurricane-force Santa Ana winds, which in some places have reached 100 miles per hour (160 km/h; 45 m/s). As of January 16, 2025, the wildfires have killed at least 27 people, forced over 200,000 to evacuate, and destroyed or damaged more than 12,401 structures.\n",
      "Most of the damage has been done by the two largest fires: the Palisades Fire in Pacific Palisades and the Eaton Fire in Altadena. They are likely the fourth and second most destructive fires in California's history, respectively.\n",
      "\n",
      "Page: Palisades Fire\n",
      "Summary: The Palisades Fire is a wildfire burning in the Santa Monica Mountains of Los Angeles County in Southern California which has killed at least ten people. As of January 13, 2025, at 11:13 a.m. PST, the fire had spread to 23,713 acres (9,596 ha; 95.96 km2; 37.052 sq mi), destroying large areas of Pacific Palisades, Topanga and Malibu. It is the first and largest of a series of wildfires in and around the city of Los Angeles being driven by an extreme Santa Ana wind event. On January 8, Wildfire Alliance statistics indicated that the fire is the most destructive fire in Los Angeles history, surpassing the Sayre Fire in Sylmar in 2008 which destroyed 604 structures. The cause of the fire is still under investigation.\u001b[0m\n",
      "Thought:\u001b[32;1m\u001b[1;3mThought:  There are currently two large wildfires burning in Los Angeles: the Palisades Fire and the Eaton Fire.\n",
      "Final Answer: There are currently two large wildfires burning in Los Angeles: the Palisades Fire and the Eaton Fire. \n",
      "\n",
      "\n",
      "\u001b[0m\n",
      "\n",
      "\u001b[1m> Finished chain.\u001b[0m\n"
     ]
    },
    {
     "data": {
      "text/plain": [
       "'There are currently two large wildfires burning in Los Angeles: the Palisades Fire and the Eaton Fire.'"
      ]
     },
     "execution_count": 61,
     "metadata": {},
     "output_type": "execute_result"
    }
   ],
   "source": [
    "agent.run(\"What is the current situation of Los Angeles forest fire?\")"
   ]
  },
  {
   "cell_type": "code",
   "execution_count": null,
   "metadata": {},
   "outputs": [],
   "source": []
  }
 ],
 "metadata": {
  "kernelspec": {
   "display_name": "langgraphe2e",
   "language": "python",
   "name": "python3"
  },
  "language_info": {
   "codemirror_mode": {
    "name": "ipython",
    "version": 3
   },
   "file_extension": ".py",
   "mimetype": "text/x-python",
   "name": "python",
   "nbconvert_exporter": "python",
   "pygments_lexer": "ipython3",
   "version": "3.10.16"
  }
 },
 "nbformat": 4,
 "nbformat_minor": 2
}
