{
 "cells": [
  {
   "cell_type": "code",
   "execution_count": 1,
   "metadata": {},
   "outputs": [
    {
     "data": {
      "text/plain": [
       "True"
      ]
     },
     "execution_count": 1,
     "metadata": {},
     "output_type": "execute_result"
    }
   ],
   "source": [
    "import os\n",
    "from dotenv import load_dotenv\n",
    "load_dotenv()"
   ]
  },
  {
   "cell_type": "code",
   "execution_count": 2,
   "metadata": {},
   "outputs": [],
   "source": [
    "GOOGLE_API_KEY = os.getenv(\"GOOGLE_API_KEY\")\n",
    "GROQ_API_KEY = os.getenv(\"GROQ_API_KEY\")\n",
    "TAVILY_API_KEY = os.getenv(\"TAVILY_API_KEY\")\n",
    "LANGCHAIN_API_KEY = os.getenv(\"LANGCHAIN_API_KEY\")\n",
    "LANGCHAIN_PROJECT = os.getenv(\"LANGCHAIN_PROJECT\")"
   ]
  },
  {
   "cell_type": "code",
   "execution_count": 3,
   "metadata": {},
   "outputs": [],
   "source": [
    "os.environ[\"GOOGLE_API_KEY\"] = GOOGLE_API_KEY\n",
    "os.environ[\"TAVILY_API_KEY\"] = TAVILY_API_KEY\n",
    "os.environ[\"GROQ_API_KEY\"]= GROQ_API_KEY\n",
    "os.environ[\"LANGCHAIN_API_KEY\"] = LANGCHAIN_API_KEY\n",
    "os.environ[\"LANGCHAIN_TRACING_V2\"] = \"true\" #tracing using langsmith\n",
    "os.environ[\"LANGCHAIN_ENDPOINT\"] = \"https://api.smith.langchain.com\"\n",
    "os.environ[\"LANGCHAIN_PROJECT\"] = LANGCHAIN_PROJECT"
   ]
  },
  {
   "cell_type": "code",
   "execution_count": 4,
   "metadata": {},
   "outputs": [],
   "source": [
    "from langchain_groq import ChatGroq\n",
    "llm_groq=ChatGroq(model_name=\"Gemma2-9b-It\")"
   ]
  },
  {
   "cell_type": "code",
   "execution_count": 5,
   "metadata": {},
   "outputs": [
    {
     "name": "stderr",
     "output_type": "stream",
     "text": [
      "c:\\Users\\Toshiba\\anaconda3\\envs\\langgraphe2e\\lib\\site-packages\\tqdm\\auto.py:21: TqdmWarning: IProgress not found. Please update jupyter and ipywidgets. See https://ipywidgets.readthedocs.io/en/stable/user_install.html\n",
      "  from .autonotebook import tqdm as notebook_tqdm\n"
     ]
    }
   ],
   "source": [
    "from langchain_google_genai import GoogleGenerativeAIEmbeddings\n",
    "embedding=GoogleGenerativeAIEmbeddings(model=\"models/embedding-001\")"
   ]
  },
  {
   "cell_type": "code",
   "execution_count": 6,
   "metadata": {},
   "outputs": [
    {
     "data": {
      "text/plain": [
       "AIMessage(content='ISRO stands for **Indian Space Research Organisation**. \\n\\nIt is the national space agency of India headquartered in Bengaluru. \\n\\nHere are some key facts about ISRO:\\n\\n* **Established:** 15 August 1969\\n* **Mission:** To harness space technology for national development, particularly in communication, broadcasting, meteorology, earth observation, and space exploration.\\n* **Achievements:**\\n    * Successfully launched its first satellite, Aryabhata, in 1975.\\n    * Developed and launched its own launch vehicles, including the Polar Satellite Launch Vehicle (PSLV) and the Geosynchronous Satellite Launch Vehicle (GSLV).\\n    * Placed India among the top spacefaring nations with the successful launch of its Mars Orbiter Mission (Mangalyaan) in 2013.\\n    * Operationalized the Indian Regional Navigation Satellite System (IRNSS) for regional navigation.\\n    * Deployed numerous communication, earth observation, and scientific satellites.\\n\\n* **Future Plans:**\\n    * Developing the Gaganyaan human spaceflight program.\\n    * Exploring the Moon with the Chandrayaan-3 mission.\\n    * Expanding its space exploration capabilities with missions to Venus and other celestial bodies.\\n\\n\\n\\nLet me know if you have any specific questions about ISRO!\\n', additional_kwargs={}, response_metadata={'token_usage': {'completion_tokens': 270, 'prompt_tokens': 11, 'total_tokens': 281, 'completion_time': 0.490909091, 'prompt_time': 9.566e-05, 'queue_time': 0.021215619999999998, 'total_time': 0.491004751}, 'model_name': 'Gemma2-9b-It', 'system_fingerprint': 'fp_10c08bf97d', 'finish_reason': 'stop', 'logprobs': None}, id='run-e6c69e03-4469-4832-a96e-72b434320074-0', usage_metadata={'input_tokens': 11, 'output_tokens': 270, 'total_tokens': 281})"
      ]
     },
     "execution_count": 6,
     "metadata": {},
     "output_type": "execute_result"
    }
   ],
   "source": [
    "llm_groq.invoke(\"ISRO\")"
   ]
  },
  {
   "cell_type": "code",
   "execution_count": 7,
   "metadata": {},
   "outputs": [
    {
     "name": "stdout",
     "output_type": "stream",
     "text": [
      "Page: ISRO\n",
      "Summary: The Indian Space Research Organisation (ISRO ) is India's national space agency. It serves as the principal research and development arm of the Department of Space (DoS), overseen by the Prime Minister of India, with the Chairman of ISRO also serving as the chief executive of the DoS. It is primarily responsible for space-based operations, space exploration, international space cooperation and the development of related technologies. The agency maintains a constellation of imaging, communication and remote sensing satellites. It operates the GAGAN and IRNSS satellite navigation systems. It has sent three missions to the Moon and one mission to Mars.\n",
      "Formerly known as the Indian National Committee for Space Research (INCOSPAR), it was set up in 1962 by then-Prime Minister Jawaharlal Nehru on the recommendation of scientist Vikram Sarabhai. It was renamed as ISRO in 1969 and was subsumed into the Department of Atomic Energy (DAE). The establishment of ISRO institutionalised space research activities in India. In 1972, the Government set up a Space Commission and the DoS, bringing ISRO under its purview. It has since then been managed by the DoS, which also governs various other institutions in the domain of astronomy and space technology.\n",
      "ISRO built India's first satellite Aryabhata which was launched by the Soviet space agency Interkosmos in 1975. In 1980, it launched the satellite RS-1 onboard the indigenously built launch vehicle SLV-3, making India the seventh country to undertake orbital launches. It has subsequently developed various small-lift and medium-lift launch vehicles, enabling the agency to launch various satellites and deep space missions. It is one of the six government space agencies in the world that possess full launch capabilities with the ability to deploy cryogenic engines, launch extraterrestrial missions and artificial satellites. It is also one of only four governmental space agencies in to have demonstrated unmanned soft landing capabilities.\n",
      "ISRO's programmes have played a significant role in socio-economic development. It has supported both civilian and military domains in various aspects such as disaster management, telemedicine, navigation and reconnaissance. ISRO's spin-off technologies have also aided in new innovations in engineering and other allied domains.\n",
      "\n",
      "Page: Chairperson of the Indian Space Research Organisation\n",
      "Summary: The Chairman of the Indian Space Research Organisation is the statutory head of the Indian Space Research Organisation (ISRO). The officeholder is a secretary to the Government of India and an executive of the Department of Space (DOS) which directly reports to the Prime Minister of India.\n",
      "The Indian National Committee for Space Research (INCOSPAR) was founded in 1962 under the Department of Atomic Energy (DAE) with Vikram Sarabhai as its chairperson which in 1969 became ISRO. In 1972, government of India had set up a space commission and DOS and brought ISRO under DOS.\n",
      "Since Sarabhai has assumed the position, there have been eleven chairmen of the ISRO, with Satish Dhawan serving the longest term of 12 years as the chairman.\n",
      "Recently on 8 January 2025, The Central Government has appointed Dr V Narayanan, currently the director of Liquid Propulsion Systems Centre (LPSC), Thiruvananthapuram, as the new chairperson of the Indian Space Research Organisation (Isro), and also as the secretary of the Department of Space.\n",
      "\n",
      "Page: List of ISRO missions\n",
      "Summary: This is a list of Indian Space Research Organisation (ISRO) missions. ISRO has carried out 125 spacecraft missions, 92 launch missions and planned several missions including the Gaganyaan (crewed/robotic) and Interplanetary mission such as Lunar Polar Exploration Mission, Chandrayaan-4, Shukrayaan and Mangalyaan-2 (MOM 2).\n"
     ]
    }
   ],
   "source": [
    "#Tool - predefine functionality\n",
    "#Agents and Tools\n",
    "from langchain_community.tools import WikipediaQueryRun\n",
    "from langchain_community.utilities import WikipediaAPIWrapper\n",
    "\n",
    "api_wrapper=WikipediaAPIWrapper()\n",
    "tool=WikipediaQueryRun(api_wrapper=api_wrapper)\n",
    "print(tool.run({\"query\": \"ISRO\"}))"
   ]
  },
  {
   "cell_type": "code",
   "execution_count": 8,
   "metadata": {},
   "outputs": [
    {
     "name": "stdout",
     "output_type": "stream",
     "text": [
      "['https://www.youtube.com/watch?v=5f2jJbwOs9I&pp=ygUMQnV5aW5nIGZhY3Rz', 'https://www.youtube.com/watch?v=1FcXUvH98C8&pp=ygUMQnV5aW5nIGZhY3Rz']\n"
     ]
    }
   ],
   "source": [
    "from langchain_community.tools import YouTubeSearchTool\n",
    "\n",
    "tool2=YouTubeSearchTool()\n",
    "print(tool2.run(\"Buying facts\"))\n"
   ]
  },
  {
   "cell_type": "code",
   "execution_count": 11,
   "metadata": {},
   "outputs": [
    {
     "data": {
      "text/plain": [
       "[{'url': 'https://www.cbsnews.com/live-updates/la-fires-southern-california-containment-efforts/',\n",
       "  'content': 'Los Angeles County Sheriff Robert Luna said Thursday there are \"multiple reasons\" why authorities cannot let people into the Palisades and Eaton fire areas as search and rescue operations continue in both areas. Five were reported missing on Wednesday, with four in the Eaton Fire area and one near the Palisades, said Los Angeles County Sheriff Robert Luna. There are 82,400 people under mandatory evacuation orders Thursday in Los Angeles County, said Sheriff Robert Luna at a news conference. The last 24 hours has seen \"little to no fire growth\" in the L.A.-area wildfires, although the Palisades Fire is an exception, an official said at a news conference Thursday morning.'},\n",
       " {'url': 'https://www.cnn.com/weather/live-news/fire-los-angeles-california-palisades-ventura-eaton-01-15-25-hnk/index.html',\n",
       "  'content': 'Live updates: Los Angeles wildfires, Palisades and Eaton fires, Auto fire in Ventura | CNN The Los Angeles Fire Department did not pre-position about 1,000 available firefighters and dozens of fire engines on January 7 as winds picked up, ahead of the destructive Palisades Fire, the Los Angeles Times reported on Tuesday, citing interviews with current and former LAFD officials and internal LAFD records. Republicans in Congress will consider “culpability” when approving any disaster aid for Democratic-led California, said House Speaker Mike Johnson Tuesday, as deadly wildfires ravage Los Angeles County for a second week. Less than a month before the fires swept across Los Angeles County, a group of longtime firefighters gathered at City Hall to plead for more resources, according to the report by CNN Investigates.'},\n",
       " {'url': 'https://www.bbc.com/news/articles/clyxypryrnko',\n",
       "  'content': \"LA fires: What's happening in Los Angeles, and what caused the wildfires? Out-of-control wildfires are ripping across parts of Los Angeles, leading to at least five deaths, burning down hundreds of buildings, and prompting more than 130,000 people to flee their homes in America's second-largest city. Paris Hilton and Adam Brody among celebrities to lose homes in wildfires ------------------------------------------------------------------------ 1 hr ago US & Canada 3 hrs ago  In maps: Thousands of acres on fire in LA ----------------------------------------- Maps and images showing how the fires currently affecting the Los Angeles area are developing. 3 hrs ago  Watch: Moment house collapses as LA wildfires rage on ----------------------------------------------------- Footage shows the moment a four-storey home collapses after being engulfed by flames. About the BBC\"},\n",
       " {'url': 'https://www.nytimes.com/live/2025/01/15/us/los-angeles-wildfires-california',\n",
       "  'content': 'California Wildfires Live Updates: Los Angeles Winds and Low Humidity Heighten Fire Risk - The New York Times Residents of the Los Angeles area faced a third consecutive day of strong wind warnings and remained at risk for new fires on Wednesday, more than a week after devastating blazes began tearing through Southern California. “We’re going to show Los Angeles to the world, that we have the grit and resilience to again build ourselves better than we were,” said Mr. Hochman, whose office so far had charged a dozen people with either looting or arson. Firefighters in Los Angeles have thus far been able to prevent the wildfires from spreading into the Brentwood neighborhood where Vice President Kamala Harris owns a home.Credit...Mark Abramson for The New York Times'},\n",
       " {'url': 'https://abcnews.go.com/US/live-updates/la-fires-live-updates-2nd-fire-escalates-quickly/?id=117448186',\n",
       "  'content': 'LA fires live updates: Firefighter injured, burn injuries reported in Palisades Fire - ABC News A building burns during the Palisades Fire in the Pacific Palisades neighborhood of west Los Angeles, California, on Jan. 7, 2025. One firefighter has been injured and \"multiple\" people burned in the Palisades blaze, according to the Los Angeles Fire Department. A woman waters the area in front of her house before leaving following an evacuation order, as a wildfire burns in the Pacific Palisades neighborhood of west Los Angeles, in Santa Monica, California, on Jan. 7, 2025. LA fires live updates: Firefighter injured, burn injuries reported in Palisades Fire ------------------------------------------------------------------------------------ * 19 minutes ago'}]"
      ]
     },
     "execution_count": 11,
     "metadata": {},
     "output_type": "execute_result"
    }
   ],
   "source": [
    "#Tools for websearch\n",
    "from langchain_community.tools.tavily_search import TavilySearchResults\n",
    "\n",
    "tool3=TavilySearchResults()\n",
    "tool3.invoke({\"query\": \"What is the current situation of Los Angeles forest fire?\"})"
   ]
  },
  {
   "cell_type": "code",
   "execution_count": 20,
   "metadata": {},
   "outputs": [],
   "source": [
    "#Create a Custom length tool\n",
    "from langchain.agents import tool\n",
    "@tool\n",
    "def get_word_length_tool(word:str)->int:\n",
    "    \"Return the lenth of a word\"\n",
    "    return len(word)"
   ]
  },
  {
   "cell_type": "code",
   "execution_count": 21,
   "metadata": {},
   "outputs": [
    {
     "data": {
      "text/plain": [
       "10"
      ]
     },
     "execution_count": 21,
     "metadata": {},
     "output_type": "execute_result"
    }
   ],
   "source": [
    "get_word_length_tool.invoke(\"AGENTIC_AI\")"
   ]
  },
  {
   "cell_type": "code",
   "execution_count": 30,
   "metadata": {},
   "outputs": [],
   "source": [
    "#Custom addition tool\n",
    "@tool\n",
    "def add_tool(a : int, b :int)->int:\n",
    "    \"Adding two numbers\"\n",
    "    return (a+b)"
   ]
  },
  {
   "cell_type": "code",
   "execution_count": 31,
   "metadata": {},
   "outputs": [
    {
     "data": {
      "text/plain": [
       "47"
      ]
     },
     "execution_count": 31,
     "metadata": {},
     "output_type": "execute_result"
    }
   ],
   "source": [
    "add_tool.invoke({'a':20,'b':27})"
   ]
  },
  {
   "cell_type": "code",
   "execution_count": null,
   "metadata": {},
   "outputs": [],
   "source": [
    "#Custom multiplication tool\n",
    "@tool\n",
    "def multiply_tool(a : int, b :int)->int:\n",
    "    \"Adding two numbers\"\n",
    "    return (a*b)"
   ]
  },
  {
   "cell_type": "code",
   "execution_count": 33,
   "metadata": {},
   "outputs": [
    {
     "data": {
      "text/plain": [
       "540"
      ]
     },
     "execution_count": 33,
     "metadata": {},
     "output_type": "execute_result"
    }
   ],
   "source": [
    "multiply_tool.invoke({'a':20,'b':27})"
   ]
  },
  {
   "cell_type": "code",
   "execution_count": null,
   "metadata": {},
   "outputs": [],
   "source": [
    "#Important Concepts Of Agents\n",
    "#Older version(legacy-Version 1 - Depreciated one (Don't use now))\n",
    "\n",
    "#Tool calling agent\n",
    "\n",
    "from langchain.agents import AgentType\n",
    "from langchain.agents import load_tools \n",
    "from langchain.agents import initialize_agent\n"
   ]
  },
  {
   "cell_type": "code",
   "execution_count": null,
   "metadata": {},
   "outputs": [],
   "source": [
    "#Tool and llm\n",
    "tool=load_tools([\"wikipedia\"],llm=llm_groq)"
   ]
  },
  {
   "cell_type": "code",
   "execution_count": null,
   "metadata": {},
   "outputs": [
    {
     "name": "stderr",
     "output_type": "stream",
     "text": [
      "C:\\Users\\Toshiba\\AppData\\Local\\Temp\\ipykernel_13380\\246002197.py:1: LangChainDeprecationWarning: LangChain agents will continue to be supported, but it is recommended for new use cases to be built with LangGraph. LangGraph offers a more flexible and full-featured framework for building agents, including support for tool-calling, persistence of state, and human-in-the-loop workflows. For details, refer to the `LangGraph documentation <https://langchain-ai.github.io/langgraph/>`_ as well as guides for `Migrating from AgentExecutor <https://python.langchain.com/docs/how_to/migrate_agent/>`_ and LangGraph's `Pre-built ReAct agent <https://langchain-ai.github.io/langgraph/how-tos/create-react-agent/>`_.\n",
      "  agent=initialize_agent(tool,llm_groq,agent=AgentType.ZERO_SHOT_REACT_DESCRIPTION,verbose=True)\n"
     ]
    }
   ],
   "source": [
    "#React agent\n",
    "agent=initialize_agent(tool,llm_groq,agent=AgentType.ZERO_SHOT_REACT_DESCRIPTION,verbose=True)"
   ]
  },
  {
   "cell_type": "code",
   "execution_count": 38,
   "metadata": {},
   "outputs": [
    {
     "name": "stderr",
     "output_type": "stream",
     "text": [
      "C:\\Users\\Toshiba\\AppData\\Local\\Temp\\ipykernel_13380\\1733481556.py:1: LangChainDeprecationWarning: The method `Chain.run` was deprecated in langchain 0.1.0 and will be removed in 1.0. Use :meth:`~invoke` instead.\n",
      "  agent.run(\"ISRO?\")\n"
     ]
    },
    {
     "name": "stdout",
     "output_type": "stream",
     "text": [
      "\n",
      "\n",
      "\u001b[1m> Entering new AgentExecutor chain...\u001b[0m\n",
      "\u001b[32;1m\u001b[1;3mThought: I need to know what ISRO stands for to answer this question. \n",
      "Action: wikipedia\n",
      "Action Input: ISRO\u001b[0m\n",
      "Observation: \u001b[36;1m\u001b[1;3mPage: ISRO\n",
      "Summary: The Indian Space Research Organisation (ISRO ) is India's national space agency. It serves as the principal research and development arm of the Department of Space (DoS), overseen by the Prime Minister of India, with the Chairman of ISRO also serving as the chief executive of the DoS. It is primarily responsible for space-based operations, space exploration, international space cooperation and the development of related technologies. The agency maintains a constellation of imaging, communication and remote sensing satellites. It operates the GAGAN and IRNSS satellite navigation systems. It has sent three missions to the Moon and one mission to Mars.\n",
      "Formerly known as the Indian National Committee for Space Research (INCOSPAR), it was set up in 1962 by then-Prime Minister Jawaharlal Nehru on the recommendation of scientist Vikram Sarabhai. It was renamed as ISRO in 1969 and was subsumed into the Department of Atomic Energy (DAE). The establishment of ISRO institutionalised space research activities in India. In 1972, the Government set up a Space Commission and the DoS, bringing ISRO under its purview. It has since then been managed by the DoS, which also governs various other institutions in the domain of astronomy and space technology.\n",
      "ISRO built India's first satellite Aryabhata which was launched by the Soviet space agency Interkosmos in 1975. In 1980, it launched the satellite RS-1 onboard the indigenously built launch vehicle SLV-3, making India the seventh country to undertake orbital launches. It has subsequently developed various small-lift and medium-lift launch vehicles, enabling the agency to launch various satellites and deep space missions. It is one of the six government space agencies in the world that possess full launch capabilities with the ability to deploy cryogenic engines, launch extraterrestrial missions and artificial satellites. It is also one of only four governmental space agencies in to have demonstrated unmanned soft landing capabilities.\n",
      "ISRO's programmes have played a significant role in socio-economic development. It has supported both civilian and military domains in various aspects such as disaster management, telemedicine, navigation and reconnaissance. ISRO's spin-off technologies have also aided in new innovations in engineering and other allied domains.\n",
      "\n",
      "Page: Chairperson of the Indian Space Research Organisation\n",
      "Summary: The Chairman of the Indian Space Research Organisation is the statutory head of the Indian Space Research Organisation (ISRO). The officeholder is a secretary to the Government of India and an executive of the Department of Space (DOS) which directly reports to the Prime Minister of India.\n",
      "The Indian National Committee for Space Research (INCOSPAR) was founded in 1962 under the Department of Atomic Energy (DAE) with Vikram Sarabhai as its chairperson which in 1969 became ISRO. In 1972, government of India had set up a space commission and DOS and brought ISRO under DOS.\n",
      "Since Sarabhai has assumed the position, there have been eleven chairmen of the ISRO, with Satish Dhawan serving the longest term of 12 years as the chairman.\n",
      "Recently on 8 January 2025, The Central Government has appointed Dr V Narayanan, currently the director of Liquid Propulsion Systems Centre (LPSC), Thiruvananthapuram, as the new chairperson of the Indian Space Research Organisation (Isro), and also as the secretary of the Department of Space.\n",
      "\n",
      "Page: List of ISRO missions\n",
      "Summary: This is a list of Indian Space Research Organisation (ISRO) missions. ISRO has carried out 125 spacecraft missions, 92 launch missions and planned several missions including the Gaganyaan (crewed/robotic) and Interplanetary mission such as Lunar Polar Exploration Mission, Chandrayaan-4, Shukrayaan and Mangalyaan-2 (MOM 2).\u001b[0m\n",
      "Thought:\u001b[32;1m\u001b[1;3mThought: I now know the final answer\n",
      "Final Answer: ISRO stands for the Indian Space Research Organisation. It is India's national space agency. \n",
      "\n",
      "\n",
      "\u001b[0m\n",
      "\n",
      "\u001b[1m> Finished chain.\u001b[0m\n"
     ]
    },
    {
     "data": {
      "text/plain": [
       "\"ISRO stands for the Indian Space Research Organisation. It is India's national space agency.\""
      ]
     },
     "execution_count": 38,
     "metadata": {},
     "output_type": "execute_result"
    }
   ],
   "source": [
    "agent.run(\"ISRO?\")"
   ]
  },
  {
   "cell_type": "code",
   "execution_count": 39,
   "metadata": {},
   "outputs": [
    {
     "data": {
      "text/plain": [
       "[{'url': 'https://www.weatherapi.com/',\n",
       "  'content': \"{'location': {'name': 'Trichy', 'region': 'Tamil Nadu', 'country': 'India', 'lat': 10.805, 'lon': 78.6856, 'tz_id': 'Asia/Kolkata', 'localtime_epoch': 1737177489, 'localtime': '2025-01-18 10:48'}, 'current': {'last_updated_epoch': 1737177300, 'last_updated': '2025-01-18 10:45', 'temp_c': 26.0, 'temp_f': 78.8, 'is_day': 1, 'condition': {'text': 'Mist', 'icon': '//cdn.weatherapi.com/weather/64x64/day/143.png', 'code': 1030}, 'wind_mph': 13.6, 'wind_kph': 22.0, 'wind_degree': 22, 'wind_dir': 'NNE', 'pressure_mb': 1013.0, 'pressure_in': 29.91, 'precip_mm': 0.0, 'precip_in': 0.0, 'humidity': 84, 'cloud': 75, 'feelslike_c': 27.2, 'feelslike_f': 80.9, 'windchill_c': 26.3, 'windchill_f': 79.3, 'heatindex_c': 27.5, 'heatindex_f': 81.4, 'dewpoint_c': 17.8, 'dewpoint_f': 64.1, 'vis_km': 3.0, 'vis_miles': 1.0, 'uv': 6.1, 'gust_mph': 15.7, 'gust_kph': 25.3}}\"},\n",
       " {'url': 'https://www.weatheravenue.com/en/asia/in/tamil-nadu/trichy-weather-15-days.html',\n",
       "  'content': '☼ Trichy Tamil Nadu India 15 Day Weather Forecast. Today Trichy Tamil Nadu India: Haze with a temperature of 29°C and a wind North-East speed of 22 Km/h. The humidity will be 62% and there will be 0.0 mm of precipitation. ... Saturday 18 January 2025 . Trichy. Overcast : 27°C 81°F | 20°C 69°F : 17 Km/h 11 mph: 100% : 60% . More details'},\n",
       " {'url': 'https://m.weatheravenue.com/en/asia/in/tamil-nadu/trichy-weather-15-days.html',\n",
       "  'content': '☼ Trichy Tamil Nadu India 15 Day Weather Forecast. Today Trichy Tamil Nadu India: Haze with a temperature of 31°C and a wind East-North-East speed of 17 Km/h. ... Monday 13 January 2025. Haze . Temperature : 31°C 88°F | 22°C 72°F Felt : ... Saturday 18 January 2025. Patchy rain nearby . Temperature : 27°C 81°F | 21°C 69°F Felt :'},\n",
       " {'url': 'https://www.weather-atlas.com/en/india/tiruchirappalli-weather-january',\n",
       "  'content': \"January, the same as December, is a moderately hot winter month in Tiruchirappalli, India, with an average temperature ranging between min 20.3°C (68.5°F) and max 29.4°C (84.9°F). Temperature Tiruchirappalli records an average high-temperature of a still warm 29.4°C (84.9°F) in January, maintaining a close correlation with December's 29.1°C (84.4°F).\"},\n",
       " {'url': 'https://www.meteoblue.com/en/weather/week/trichy_india_7603116',\n",
       "  'content': 'Temperatures peaking at 80 °F. Overnight into Sunday blows a light breeze (4 to 8 mph). In the course of day a gentle breeze is expected (8 to 12 mph). Gusts to 20 mph are possible. Winds blowing overnight from North and by day from Northeast. The weather forecast for Trichy for Sunday can be accurate in parts but deviations are expected.'}]"
      ]
     },
     "execution_count": 39,
     "metadata": {},
     "output_type": "execute_result"
    }
   ],
   "source": [
    "from langchain_community.tools.tavily_search import TavilySearchResults\n",
    "search = TavilySearchResults()\n",
    "search.invoke(\"what is the Current weather in Trichy\")"
   ]
  },
  {
   "cell_type": "code",
   "execution_count": 40,
   "metadata": {},
   "outputs": [],
   "source": [
    "tools = [search]"
   ]
  },
  {
   "cell_type": "code",
   "execution_count": 51,
   "metadata": {},
   "outputs": [],
   "source": [
    "#import the prompt from langchain hub\n",
    "from langchain import hub\n",
    "prompt = hub.pull(\"hwchase17/openai-tools-agent\")"
   ]
  },
  {
   "cell_type": "code",
   "execution_count": null,
   "metadata": {},
   "outputs": [],
   "source": [
    "from langchain.agents import create_tool_calling_agent\n",
    "agent = create_tool_calling_agent(llm_groq, tools, prompt)"
   ]
  },
  {
   "cell_type": "code",
   "execution_count": 53,
   "metadata": {},
   "outputs": [
    {
     "data": {
      "text/plain": [
       "ChatPromptTemplate(input_variables=['agent_scratchpad', 'input'], optional_variables=['chat_history'], input_types={'chat_history': list[typing.Annotated[typing.Union[typing.Annotated[langchain_core.messages.ai.AIMessage, Tag(tag='ai')], typing.Annotated[langchain_core.messages.human.HumanMessage, Tag(tag='human')], typing.Annotated[langchain_core.messages.chat.ChatMessage, Tag(tag='chat')], typing.Annotated[langchain_core.messages.system.SystemMessage, Tag(tag='system')], typing.Annotated[langchain_core.messages.function.FunctionMessage, Tag(tag='function')], typing.Annotated[langchain_core.messages.tool.ToolMessage, Tag(tag='tool')], typing.Annotated[langchain_core.messages.ai.AIMessageChunk, Tag(tag='AIMessageChunk')], typing.Annotated[langchain_core.messages.human.HumanMessageChunk, Tag(tag='HumanMessageChunk')], typing.Annotated[langchain_core.messages.chat.ChatMessageChunk, Tag(tag='ChatMessageChunk')], typing.Annotated[langchain_core.messages.system.SystemMessageChunk, Tag(tag='SystemMessageChunk')], typing.Annotated[langchain_core.messages.function.FunctionMessageChunk, Tag(tag='FunctionMessageChunk')], typing.Annotated[langchain_core.messages.tool.ToolMessageChunk, Tag(tag='ToolMessageChunk')]], FieldInfo(annotation=NoneType, required=True, discriminator=Discriminator(discriminator=<function _get_type at 0x0000022C50689090>, custom_error_type=None, custom_error_message=None, custom_error_context=None))]], 'agent_scratchpad': list[typing.Annotated[typing.Union[typing.Annotated[langchain_core.messages.ai.AIMessage, Tag(tag='ai')], typing.Annotated[langchain_core.messages.human.HumanMessage, Tag(tag='human')], typing.Annotated[langchain_core.messages.chat.ChatMessage, Tag(tag='chat')], typing.Annotated[langchain_core.messages.system.SystemMessage, Tag(tag='system')], typing.Annotated[langchain_core.messages.function.FunctionMessage, Tag(tag='function')], typing.Annotated[langchain_core.messages.tool.ToolMessage, Tag(tag='tool')], typing.Annotated[langchain_core.messages.ai.AIMessageChunk, Tag(tag='AIMessageChunk')], typing.Annotated[langchain_core.messages.human.HumanMessageChunk, Tag(tag='HumanMessageChunk')], typing.Annotated[langchain_core.messages.chat.ChatMessageChunk, Tag(tag='ChatMessageChunk')], typing.Annotated[langchain_core.messages.system.SystemMessageChunk, Tag(tag='SystemMessageChunk')], typing.Annotated[langchain_core.messages.function.FunctionMessageChunk, Tag(tag='FunctionMessageChunk')], typing.Annotated[langchain_core.messages.tool.ToolMessageChunk, Tag(tag='ToolMessageChunk')]], FieldInfo(annotation=NoneType, required=True, discriminator=Discriminator(discriminator=<function _get_type at 0x0000022C50689090>, custom_error_type=None, custom_error_message=None, custom_error_context=None))]]}, partial_variables={'chat_history': []}, metadata={'lc_hub_owner': 'hwchase17', 'lc_hub_repo': 'openai-tools-agent', 'lc_hub_commit_hash': 'c18672812789a3b9697656dd539edf0120285dcae36396d0b548ae42a4ed66f5'}, messages=[SystemMessagePromptTemplate(prompt=PromptTemplate(input_variables=[], input_types={}, partial_variables={}, template='You are a helpful assistant'), additional_kwargs={}), MessagesPlaceholder(variable_name='chat_history', optional=True), HumanMessagePromptTemplate(prompt=PromptTemplate(input_variables=['input'], input_types={}, partial_variables={}, template='{input}'), additional_kwargs={}), MessagesPlaceholder(variable_name='agent_scratchpad')])"
      ]
     },
     "execution_count": 53,
     "metadata": {},
     "output_type": "execute_result"
    }
   ],
   "source": [
    "prompt"
   ]
  },
  {
   "cell_type": "code",
   "execution_count": null,
   "metadata": {},
   "outputs": [],
   "source": [
    "#In langchain legacy version the agent executor is used to run the agent\n",
    "from langchain.agents import AgentExecutor\n",
    "agent_executor = AgentExecutor(agent=agent, tools=tools, verbose=True)"
   ]
  },
  {
   "cell_type": "code",
   "execution_count": null,
   "metadata": {},
   "outputs": [
    {
     "name": "stdout",
     "output_type": "stream",
     "text": [
      "\n",
      "\n",
      "\u001b[1m> Entering new AgentExecutor chain...\u001b[0m\n",
      "\u001b[32;1m\u001b[1;3m\n",
      "Invoking: `tavily_search_results_json` with `{'query': 'how are you'}`\n",
      "\n",
      "\n",
      "\u001b[0m\u001b[36;1m\u001b[1;3m[{'url': 'https://eslspeaking.org/ways-to-answer-how-are-you/', 'content': 'Different Ways to Answer How Are You\\nCreative Ways to Answer How Are You\\nThe following are more creative reply to the question “how are you?”\\nFAQs About How Are You Replies\\nHere are some of the most frequently asked questions about how to answer “how are you?” qusetion.\\n Following are some good ways to reply nicely to “how are you?”\\nDaily English Resources\\nIf you are looking for more English speaking resources like this one, check out the following topics.\\nWays to Answer How Are You: Join the Conversation\\nHow do you usually reply when someone says “how are you?” The Most Common 4 Letter Words from A to Z\\nAnimal Names: Animals that Start with the Letter E\\nDifferent Ways to Say Good Night in English\\nThe Most Common 5 Letter Words from A to Z\\nJackie Bolen has been talking ESL speaking since 2014 and the goal is to bring you the best recommendations for English conversation games, activities, lesson plans and more. Following are some flirty responses to “How are you?”:\\nIs it polite to say how are you?\\nYes, asking “how are you” is considered polite and a common social nicety. in ESL Speaking Resources· Learn English\\nDifferent Ways to Answer the Question “How Are You?”\\nThe most commonly asked question in English is probably “How are you?”'}, {'url': 'https://www.broadlearners.com/t/10-different-ways-to-say-how-are-you-in-english/1522', 'content': \"Asking someone how they are is a common greeting in English, but there are many different ways to ask this question. This is a casual and friendly way to ask someone how they are. Person A: How are you doing? Person B: I'm doing well, thanks for asking. This is another casual and common way to ask about someone's well-being. Person A: Hey, how's it going? Person A: How are things? Person B: Things are going well. Person B: Not much, just enjoying my day. Person A: How's everything? Person B: Everything is going well. Person A: Hi, how's your day going? Person B: It's been busy, but good overall. Person A: Hey, what's new? Person B: Life's been good to me lately.\"}, {'url': 'https://eslforums.com/how-are-you/', 'content': 'However, you can also use the question as a simple greeting and move on to a different topic of conversation.\\nWays to Ask “How are you?”\\nTo ask “how are you?”, you can use any of the phrases I provided in my previous responses. How Are You\\nWays to Respond to “How are you?”\\nTo answer the question, you can use any of the phrases I provided as well. Table of Contents\\n“How are you?”\\nHow to Use “How are you?”?\\n or “I’ve been feeling a bit down, but I’m trying to focus on the good things in my life.”\\nResponding to “How are you?” In this lesson, you will learn a list of 16 sentences you can use instead of “How are you?” in English and how to respond to it.'}, {'url': 'https://cleverreplies.com/other-ways-to-ask-how-are-you/', 'content': '25 New Ways to Ask ‘How Are You?’ (2024) ‘How Are You?’ – 25 Casual, formal & funny Ways to Ask | Clever Replies ‘How Are You?’ – 25 Casual, formal & funny Ways to Ask | Clever Replies Casual Ways to Ask ‘How Are You?’ Formal Ways to Ask ‘How Are You?’ Funny Ways to Ask ‘How Are You?’ This is also an example of a light-hearted way to ask ‘how someone is doing’ or ‘what’s going on.’ For example, In Casual conversations questions like ‘What’s new with you?’ are suitable as they are more friendly, but for more formal inquiries you cannot obviously go with ‘What’s new’ – here you can use something like ‘How have you been?’'}, {'url': 'https://7esl.com/how-are-you/', 'content': '7ESL » Expressions » Phrases » 40 Other Ways to Ask “How Are You” in English\\n40 Other Ways to Ask “How Are You” in English\\nThe way that you ask someone “how are you?” may vary depending on who is being asked and in what setting the conversation is taking place. Related links:\\n21 thoughts on “40 Other Ways to Ask “How Are You” in English”\\nComment navigation\\nWhat’s new\\nI like lessons\\nThank you\\nGood\\nTHANKS ALOT! How’s it rolling?\\nComment navigation\\nLeave a Comment Cancel reply\\nComment\\nΔ\\nFree Courses\\nLevel Tests\\nCompany\\nFollow Us The list below shows different ways to ask “How Are You” in English that you can use in your daily English conversations.\\n Idiomatic Ways to Ask “How Are You?”\\nThese are playful, casual ways to find out how your buddy or pal is doing.'}]\u001b[0m\u001b[32;1m\u001b[1;3mI am doing well, thank you for asking.\u001b[0m\n",
      "\n",
      "\u001b[1m> Finished chain.\u001b[0m\n"
     ]
    },
    {
     "data": {
      "text/plain": [
       "{'input': 'hello how are you?',\n",
       " 'output': 'I am doing well, thank you for asking.'}"
      ]
     },
     "execution_count": 55,
     "metadata": {},
     "output_type": "execute_result"
    }
   ],
   "source": [
    "agent_executor.invoke({\"input\": \"hello how are you?\"})\n",
    "\n",
    "#If you see below it is unnecessarily calling the tool for simple response"
   ]
  },
  {
   "cell_type": "code",
   "execution_count": null,
   "metadata": {},
   "outputs": [
    {
     "name": "stdout",
     "output_type": "stream",
     "text": [
      "\n",
      "\n",
      "\u001b[1m> Entering new AgentExecutor chain...\u001b[0m\n",
      "\u001b[32;1m\u001b[1;3m\n",
      "Invoking: `tavily_search_results_json` with `{'query': 'Current temperature in Trichy'}`\n",
      "\n",
      "\n",
      "\u001b[0m\u001b[36;1m\u001b[1;3m[{'url': 'https://www.theweathernetwork.com/en/city/in/tamil-nadu/trichy/current', 'content': 'Trichy, TN, IN Current Weather ; Evening. Partly cloudy. 26°. Feels 26 · 20% ; Overnight. Partly cloudy. 22°. Feels 23 · 20% ; Morning. A mix of sun and clouds. 26°.'}, {'url': 'https://www.timeanddate.com/weather/india/tiruchirapalli/ext', 'content': 'Night Sky · TodayHourly14 DaysPastClimate. Currently: 77 °F. Fog. (Weather station: Tiruchchirapalli, India). See more current weather ... Temperature, Weather'}, {'url': 'https://timesofindia.indiatimes.com/travel/tiruchirappalli/weather', 'content': \"Today's temperature in Tiruchirappalli is 23°c. Day's maximum temperature would hover at 31°c, while minimum temperature is predicted to be 22°c. Best Time\"}, {'url': 'https://www.timeanddate.com/weather/india/tiruchirapalli', 'content': 'Night Sky · TodayHourly14 DaysPastClimate. Now 75 °F. Fog. Feels Like: 75 °F Forecast: 86 / 72 °F Wind: 10 mph ↑ from Northeast. Location: Tiruchchirapalli.'}, {'url': 'https://www.accuweather.com/en/in/tiruchirappalli/190803/current-weather/190803', 'content': 'Current Weather. 4:55 AM. 75°F. Light fog. RealFeel® 77°. Pleasant. RealFeel Guide. Pleasant. 63° to 81°. Most consider this temperature range ideal. LEARN MORE.'}]\u001b[0m\u001b[32;1m\u001b[1;3m26°  \u001b[0m\n",
      "\n",
      "\u001b[1m> Finished chain.\u001b[0m\n"
     ]
    },
    {
     "data": {
      "text/plain": [
       "{'input': 'Current temperature in Trichy?', 'output': '26°  '}"
      ]
     },
     "execution_count": 56,
     "metadata": {},
     "output_type": "execute_result"
    }
   ],
   "source": [
    "agent_executor.invoke({\"input\": \"Current temperature in Trichy?\"})\n",
    "\n",
    "#Here it is calling the tool for the response."
   ]
  },
  {
   "cell_type": "code",
   "execution_count": null,
   "metadata": {},
   "outputs": [],
   "source": [
    "#Here we are going to create one more tool and append inside the previous execution\n",
    "\n",
    "#RAG Implementation\n",
    "\n",
    "from langchain_community.document_loaders import WebBaseLoader\n",
    "from langchain_community.vectorstores import FAISS\n",
    "from langchain_text_splitters import RecursiveCharacterTextSplitter"
   ]
  },
  {
   "cell_type": "code",
   "execution_count": 61,
   "metadata": {},
   "outputs": [],
   "source": [
    "loader = WebBaseLoader(\"https://blog.langchain.dev/langgraph-studio-the-first-agent-ide/\")\n",
    "docs = loader.load()"
   ]
  },
  {
   "cell_type": "code",
   "execution_count": 62,
   "metadata": {},
   "outputs": [
    {
     "data": {
      "text/plain": [
       "[Document(metadata={'source': 'https://blog.langchain.dev/langgraph-studio-the-first-agent-ide/', 'title': 'LangGraph Studio: The first agent IDE', 'description': 'LangGraph Studio provides a specialized agent IDE for visualizing, interacting with, and debugging complex agentic applications. See how to use it on your desktop today.', 'language': 'en'}, page_content=\"\\n\\n\\nLangGraph Studio: The first agent IDE\\n\\n\\n\\n\\n\\n\\n\\n\\n\\n\\n\\n\\n\\n\\n\\n\\n\\n\\n\\n\\n\\n\\n\\n\\n\\n\\n\\n\\n\\n\\n\\n\\n\\n\\n\\n\\n\\n\\n\\n\\n\\n\\n\\n\\n\\n\\n\\n\\n\\n\\nSkip to content\\n\\n\\n\\n\\n\\n\\n\\n\\n\\n\\n\\n\\n\\n\\n\\n\\nCase Studies\\n\\n\\n\\n\\nIn the Loop\\n\\n\\n\\n\\nLangChain\\n\\n\\n\\n\\nDocs\\n\\n\\n\\n\\nChangelog\\n\\n\\n\\n\\n\\nSign in\\nSubscribe\\n\\n\\n\\n\\n\\n\\n\\n\\n\\n\\n\\n\\n\\n\\n\\n\\n\\n\\n\\nLangGraph Studio: The first agent IDE\\nLangGraph Studio provides a specialized agent IDE for visualizing, interacting with, and debugging complex agentic applications. See how to use it on your desktop today.\\n\\n4 min read\\nAug 1, 2024\\n\\n\\n\\n\\n\\nLLMs have paved the way for the development of new types of agentic applications — and as LLM applications evolve, so must the tooling needed to efficiently develop them. Today, we're announcing LangGraph Studio - the first IDE designed specifically for agent development - in open beta.LangGraph Studio offers a new way to develop LLM applications, providing a specialized agent IDE for visualizing, interacting with, and debugging complex agentic applications. In this blog, we'll give a brief overview of LangGraph and then explore how LangGraph Studio streamlines the development of agentic applications.LangGraph: Balancing agent control with agency  In January 2023, we launched LangGraph, a highly controllable, low-level orchestration framework for building agentic applications. Since then, we've seen  teams build more complex agentic applications for production; in turn, we've heavily invested in LangGraph, leading to a stable 0.1 release this past June.LangGraph features a persistence layer that enables human-in-the-loop interactions, and it excels at building complex (i.e. more than a single LLM call) applications that require highly domain-specific cognitive architecture. Most of the agents we see in production fit this description.LangGraph is fully open source, available in both Python and Javascript. It works with or without LangChain, and integrates seamlessly with LangSmith.LangGraph Studio: Visualize and interact with agent graphs for quick iterationWhile LangGraph offers a new framework for developing agentic applications, we also strongly believe that new tooling is needed to make the development process easier. Building LLM applications differs from traditional software development, requiring different tooling outside of the traditional code editor.Coding is still important to developing LLM applications — after all, production-ready LangGraph applications have complicated custom logic in the nodes and edges of the graphs that are created. We don't aim to replace code editors but, instead, to augment the development experience with tools tailored for LangGraph applications. LangGraph Studio facilitates this by making it easy to visualize and interact with agent graphs, even if development still primarily happens in code. Visualizing graphs helps developers understand their structure. Furthermore, you can modify an agent result (or the logic underlying a specific node) halfway through the agent's trajectory. This creates an iterative process, by letting you interact with and manipulate the state at that point in time.While there is much more to explore, we're excited to introduce LangGraph Studio to start with bringing some of the core features of an agent IDE to the world.How to use LangGraph StudioLangGraph Studio is a desktop app, currently available for Apple Silicon. You can download a version here. Support for more platforms is coming soon.After you download and open LangGraph Studio, you will be prompted to log in with your LangSmith account. All users of LangSmith (including those with free accounts) currently have access to LangGraph Studio while it is in beta. You can sign up for a LangSmith account here.After downloading LangSmith, you can open a directory. At a bare minimum, this directory needs to contain a Python file with a graph defined in it. Next, you will need to create a langgraph.json file containing details such as where the agent is defined, which dependencies to install, and which environment variables to load. This file can be created in the UI, or can exist as a file in the directory already. For an example repository which meets these requirements, see this GitHub repo.After you open a directory, we will build an environment for you agent to run. After it builds, you should see a visualization of the graph along with a box for interacting with the agent.When you interact with the agent, you'll get a stream of real-time information about what steps are happening. You can see the agent decide which tools to call, call those tools, and then continue looping. You can interrupt the agent at any time if veers off course, or you can interrupt the agent to run it in a “debug mode” where it pauses after each step of the graph (so you can walk-through step by step).\\n\\n\\n\\n\\n\\n\\n\\n\\n\\n\\n\\n\\n\\n\\n\\n\\n\\n\\n\\n\\n\\n\\n0:00\\n\\n                            /0:19\\n\\n\\n1×\\n\\n\\n\\n\\n\\n\\n\\n\\n\\n\\n\\n\\n\\n\\n💡At any point, you can interact with the state of the agent.If you don’t like what the agent responded with at a specific step, you can directly modify the response and then continue with that new response. This can be useful for simulating what would have happened if the agent or a tool returned something different.\\n\\n\\n\\n\\n\\n\\n\\n\\n\\n\\n\\n\\n\\n\\n\\n\\n\\n\\n\\n\\n\\n\\n0:00\\n\\n                            /0:14\\n\\n\\n1×\\n\\n\\n\\n\\n\\n\\n\\n\\n\\n\\n\\n\\n\\n\\nYou can also modify the underlying code and then replay the node. LangGraph Studio detects changes to the underlying code files, allowing you to update prompts in your code editor and rerun nodes if an agent responds poorly. This can make it much easier to iterate on long-running agents.\\n\\n\\n\\n\\n\\n\\n\\n\\n\\n\\n\\n\\n\\n\\n\\n\\n\\n\\n\\n\\n\\n\\n0:00\\n\\n                            /0:20\\n\\n\\n1×\\n\\n\\n\\n\\n\\n\\n\\n\\n\\n\\n\\n\\n\\n\\nConclusionBuilding agentic applications differs from traditional software development. While code editors remain important, new IDEs designed for agents are also needed. LangGraph Studio is a step in this direction, and we're excited to see how it enhances your workflow.For more on LangGraph Studio, check out our documentation. You can also watch a video walkthrough on YouTube if that's more your style. You can\\xa0sign up for LangSmith\\xa0today to try out LangGraph Studio for free.We'd also love your feedback - drop us a line at hello@langchain.dev or on Twitter to share your thoughts.\\n\\n\\nJoin our newsletter\\nUpdates from the LangChain team and community\\n\\n\\nEnter your email\\n\\nSubscribe\\n\\nProcessing your application...\\nSuccess! Please check your inbox and click the link to confirm your subscription.\\nSorry, something went wrong. Please try again.\\n\\n\\n\\n\\n\\n\\n\\n\\n\\n\\n\\n\\n\\nSign up\\n\\n\\n\\n\\n\\n            © LangChain Blog 2025\\n        \\n\\n\\n\\n\\n\\n\\n\")]"
      ]
     },
     "execution_count": 62,
     "metadata": {},
     "output_type": "execute_result"
    }
   ],
   "source": [
    "docs"
   ]
  },
  {
   "cell_type": "code",
   "execution_count": null,
   "metadata": {},
   "outputs": [],
   "source": [
    "#Chunking the documents\n",
    "documents = RecursiveCharacterTextSplitter(\n",
    "    chunk_size=1000, chunk_overlap=200\n",
    ").split_documents(docs)"
   ]
  },
  {
   "cell_type": "code",
   "execution_count": 65,
   "metadata": {},
   "outputs": [],
   "source": [
    "from langchain_google_genai import GoogleGenerativeAIEmbeddings\n",
    "embedding=GoogleGenerativeAIEmbeddings(model=\"models/embedding-001\")"
   ]
  },
  {
   "cell_type": "code",
   "execution_count": 66,
   "metadata": {},
   "outputs": [],
   "source": [
    "vectorstore = FAISS.from_documents(documents,embedding )"
   ]
  },
  {
   "cell_type": "code",
   "execution_count": 67,
   "metadata": {},
   "outputs": [],
   "source": [
    "retriever = vectorstore.as_retriever()"
   ]
  },
  {
   "cell_type": "code",
   "execution_count": 73,
   "metadata": {},
   "outputs": [
    {
     "data": {
      "text/plain": [
       "[Document(id='df2c934b-c467-4e75-a275-d511cceab8ec', metadata={'source': 'https://blog.langchain.dev/langgraph-studio-the-first-agent-ide/', 'title': 'LangGraph Studio: The first agent IDE', 'description': 'LangGraph Studio provides a specialized agent IDE for visualizing, interacting with, and debugging complex agentic applications. See how to use it on your desktop today.', 'language': 'en'}, page_content=\"we've seen  teams build more complex agentic applications for production; in turn, we've heavily invested in LangGraph, leading to a stable 0.1 release this past June.LangGraph features a persistence layer that enables human-in-the-loop interactions, and it excels at building complex (i.e. more than a single LLM call) applications that require highly domain-specific cognitive architecture. Most of the agents we see in production fit this description.LangGraph is fully open source, available in both Python and Javascript. It works with or without LangChain, and integrates seamlessly with LangSmith.LangGraph Studio: Visualize and interact with agent graphs for quick iterationWhile LangGraph offers a new framework for developing agentic applications, we also strongly believe that new tooling is needed to make the development process easier. Building LLM applications differs from traditional software development, requiring different tooling outside of the traditional code editor.Coding is\"),\n",
       " Document(id='015aa154-bc2f-4b2b-9eac-82e986d57ab9', metadata={'source': 'https://blog.langchain.dev/langgraph-studio-the-first-agent-ide/', 'title': 'LangGraph Studio: The first agent IDE', 'description': 'LangGraph Studio provides a specialized agent IDE for visualizing, interacting with, and debugging complex agentic applications. See how to use it on your desktop today.', 'language': 'en'}, page_content=\"is needed to make the development process easier. Building LLM applications differs from traditional software development, requiring different tooling outside of the traditional code editor.Coding is still important to developing LLM applications — after all, production-ready LangGraph applications have complicated custom logic in the nodes and edges of the graphs that are created. We don't aim to replace code editors but, instead, to augment the development experience with tools tailored for LangGraph applications. LangGraph Studio facilitates this by making it easy to visualize and interact with agent graphs, even if development still primarily happens in code. Visualizing graphs helps developers understand their structure. Furthermore, you can modify an agent result (or the logic underlying a specific node) halfway through the agent's trajectory. This creates an iterative process, by letting you interact with and manipulate the state at that point in time.While there is much more\"),\n",
       " Document(id='ace46225-393b-461a-8880-d1ebe3fd9e64', metadata={'source': 'https://blog.langchain.dev/langgraph-studio-the-first-agent-ide/', 'title': 'LangGraph Studio: The first agent IDE', 'description': 'LangGraph Studio provides a specialized agent IDE for visualizing, interacting with, and debugging complex agentic applications. See how to use it on your desktop today.', 'language': 'en'}, page_content=\"LLMs have paved the way for the development of new types of agentic applications — and as LLM applications evolve, so must the tooling needed to efficiently develop them. Today, we're announcing LangGraph Studio - the first IDE designed specifically for agent development - in open beta.LangGraph Studio offers a new way to develop LLM applications, providing a specialized agent IDE for visualizing, interacting with, and debugging complex agentic applications. In this blog, we'll give a brief overview of LangGraph and then explore how LangGraph Studio streamlines the development of agentic applications.LangGraph: Balancing agent control with agency  In January 2023, we launched LangGraph, a highly controllable, low-level orchestration framework for building agentic applications. Since then, we've seen  teams build more complex agentic applications for production; in turn, we've heavily invested in LangGraph, leading to a stable 0.1 release this past June.LangGraph features a persistence\"),\n",
       " Document(id='60c4c883-911d-48ff-b57e-90f7d44cb623', metadata={'source': 'https://blog.langchain.dev/langgraph-studio-the-first-agent-ide/', 'title': 'LangGraph Studio: The first agent IDE', 'description': 'LangGraph Studio provides a specialized agent IDE for visualizing, interacting with, and debugging complex agentic applications. See how to use it on your desktop today.', 'language': 'en'}, page_content=\"a specific node) halfway through the agent's trajectory. This creates an iterative process, by letting you interact with and manipulate the state at that point in time.While there is much more to explore, we're excited to introduce LangGraph Studio to start with bringing some of the core features of an agent IDE to the world.How to use LangGraph StudioLangGraph Studio is a desktop app, currently available for Apple Silicon. You can download a version here. Support for more platforms is coming soon.After you download and open LangGraph Studio, you will be prompted to log in with your LangSmith account. All users of LangSmith (including those with free accounts) currently have access to LangGraph Studio while it is in beta. You can sign up for a LangSmith account here.After downloading LangSmith, you can open a directory. At a bare minimum, this directory needs to contain a Python file with a graph defined in it. Next, you will need to create a langgraph.json file containing details\")]"
      ]
     },
     "execution_count": 73,
     "metadata": {},
     "output_type": "execute_result"
    }
   ],
   "source": [
    "retriever.invoke(\"What is langgraph?\")"
   ]
  },
  {
   "cell_type": "code",
   "execution_count": 74,
   "metadata": {},
   "outputs": [
    {
     "data": {
      "text/plain": [
       "Document(id='df2c934b-c467-4e75-a275-d511cceab8ec', metadata={'source': 'https://blog.langchain.dev/langgraph-studio-the-first-agent-ide/', 'title': 'LangGraph Studio: The first agent IDE', 'description': 'LangGraph Studio provides a specialized agent IDE for visualizing, interacting with, and debugging complex agentic applications. See how to use it on your desktop today.', 'language': 'en'}, page_content=\"we've seen  teams build more complex agentic applications for production; in turn, we've heavily invested in LangGraph, leading to a stable 0.1 release this past June.LangGraph features a persistence layer that enables human-in-the-loop interactions, and it excels at building complex (i.e. more than a single LLM call) applications that require highly domain-specific cognitive architecture. Most of the agents we see in production fit this description.LangGraph is fully open source, available in both Python and Javascript. It works with or without LangChain, and integrates seamlessly with LangSmith.LangGraph Studio: Visualize and interact with agent graphs for quick iterationWhile LangGraph offers a new framework for developing agentic applications, we also strongly believe that new tooling is needed to make the development process easier. Building LLM applications differs from traditional software development, requiring different tooling outside of the traditional code editor.Coding is\")"
      ]
     },
     "execution_count": 74,
     "metadata": {},
     "output_type": "execute_result"
    }
   ],
   "source": [
    "retriever.invoke(\"What is langgraph?\")[0]"
   ]
  },
  {
   "cell_type": "code",
   "execution_count": null,
   "metadata": {},
   "outputs": [],
   "source": [
    "#Here iam going to create a tool for the retriever\n",
    "\n",
    "from langchain.tools.retriever import create_retriever_tool\n",
    "retriever_tool = create_retriever_tool(\n",
    "    retriever,\n",
    "    \"langgraph_Tool\", #name of the tool\n",
    "    \"Search for information about LangGraph. For any questions about LangGraph, you must use this tool!\",#description\n",
    ")"
   ]
  },
  {
   "cell_type": "code",
   "execution_count": 76,
   "metadata": {},
   "outputs": [],
   "source": [
    "#creating a list of tools and which is called as \"tool kit\"\n",
    "tools = [search, retriever_tool]"
   ]
  },
  {
   "cell_type": "code",
   "execution_count": 77,
   "metadata": {},
   "outputs": [],
   "source": [
    "# Create agent\n",
    "from langchain.agents import create_tool_calling_agent\n",
    "\n",
    "agent = create_tool_calling_agent(llm_groq, tools, prompt)"
   ]
  },
  {
   "cell_type": "code",
   "execution_count": 78,
   "metadata": {},
   "outputs": [],
   "source": [
    "#Create agent executor\n",
    "from langchain.agents import AgentExecutor\n",
    "\n",
    "agent_executor = AgentExecutor(agent=agent, tools=tools, verbose=True)"
   ]
  },
  {
   "cell_type": "code",
   "execution_count": 79,
   "metadata": {},
   "outputs": [
    {
     "name": "stdout",
     "output_type": "stream",
     "text": [
      "\n",
      "\n",
      "\u001b[1m> Entering new AgentExecutor chain...\u001b[0m\n",
      "\u001b[32;1m\u001b[1;3m\n",
      "Invoking: `langgraph_studio` with `{'query': 'what is langgraph studio and how to utilize it'}`\n",
      "\n",
      "\n",
      "\u001b[0m\u001b[33;1m\u001b[1;3ma specific node) halfway through the agent's trajectory. This creates an iterative process, by letting you interact with and manipulate the state at that point in time.While there is much more to explore, we're excited to introduce LangGraph Studio to start with bringing some of the core features of an agent IDE to the world.How to use LangGraph StudioLangGraph Studio is a desktop app, currently available for Apple Silicon. You can download a version here. Support for more platforms is coming soon.After you download and open LangGraph Studio, you will be prompted to log in with your LangSmith account. All users of LangSmith (including those with free accounts) currently have access to LangGraph Studio while it is in beta. You can sign up for a LangSmith account here.After downloading LangSmith, you can open a directory. At a bare minimum, this directory needs to contain a Python file with a graph defined in it. Next, you will need to create a langgraph.json file containing details\n",
      "\n",
      "is needed to make the development process easier. Building LLM applications differs from traditional software development, requiring different tooling outside of the traditional code editor.Coding is still important to developing LLM applications — after all, production-ready LangGraph applications have complicated custom logic in the nodes and edges of the graphs that are created. We don't aim to replace code editors but, instead, to augment the development experience with tools tailored for LangGraph applications. LangGraph Studio facilitates this by making it easy to visualize and interact with agent graphs, even if development still primarily happens in code. Visualizing graphs helps developers understand their structure. Furthermore, you can modify an agent result (or the logic underlying a specific node) halfway through the agent's trajectory. This creates an iterative process, by letting you interact with and manipulate the state at that point in time.While there is much more\n",
      "\n",
      "LLMs have paved the way for the development of new types of agentic applications — and as LLM applications evolve, so must the tooling needed to efficiently develop them. Today, we're announcing LangGraph Studio - the first IDE designed specifically for agent development - in open beta.LangGraph Studio offers a new way to develop LLM applications, providing a specialized agent IDE for visualizing, interacting with, and debugging complex agentic applications. In this blog, we'll give a brief overview of LangGraph and then explore how LangGraph Studio streamlines the development of agentic applications.LangGraph: Balancing agent control with agency  In January 2023, we launched LangGraph, a highly controllable, low-level orchestration framework for building agentic applications. Since then, we've seen  teams build more complex agentic applications for production; in turn, we've heavily invested in LangGraph, leading to a stable 0.1 release this past June.LangGraph features a persistence\n",
      "\n",
      "0:00\n",
      "\n",
      "                            /0:20\n",
      "\n",
      "\n",
      "1×\n",
      "\n",
      "\n",
      "\n",
      "\n",
      "\n",
      "\n",
      "\n",
      "\n",
      "\n",
      "\n",
      "\n",
      "\n",
      "\n",
      "\n",
      "ConclusionBuilding agentic applications differs from traditional software development. While code editors remain important, new IDEs designed for agents are also needed. LangGraph Studio is a step in this direction, and we're excited to see how it enhances your workflow.For more on LangGraph Studio, check out our documentation. You can also watch a video walkthrough on YouTube if that's more your style. You can sign up for LangSmith today to try out LangGraph Studio for free.We'd also love your feedback - drop us a line at hello@langchain.dev or on Twitter to share your thoughts.\n",
      "\n",
      "\n",
      "Join our newsletter\n",
      "Updates from the LangChain team and community\n",
      "\n",
      "\n",
      "Enter your email\n",
      "\n",
      "Subscribe\n",
      "\n",
      "Processing your application...\n",
      "Success! Please check your inbox and click the link to confirm your subscription.\n",
      "Sorry, something went wrong. Please try again.\n",
      "\n",
      "\n",
      "\n",
      "\n",
      "\n",
      "\n",
      "\n",
      "\n",
      "\n",
      "\n",
      "\n",
      "\n",
      "\n",
      "Sign up\n",
      "\n",
      "\n",
      "\n",
      "\n",
      "\n",
      "            © LangChain Blog 2025\u001b[0m\u001b[32;1m\u001b[1;3mLangGraph Studio is a desktop app, currently available for Apple Silicon. You can download it here. After downloading and opening LangGraph Studio, you will be prompted to log in with your LangSmith account. Support for more platforms is coming soon.  LangGraph Studio facilitates the development of LLM applications by making it easy to visualize and interact with agent graphs.  You can modify an agent result (or the logic underlying a specific node) halfway through the agent's trajectory. \n",
      "\n",
      "\n",
      "\n",
      "\u001b[0m\n",
      "\n",
      "\u001b[1m> Finished chain.\u001b[0m\n"
     ]
    },
    {
     "data": {
      "text/plain": [
       "{'input': 'hi! can you describe what is a langgraph studio and how to utilize it?',\n",
       " 'output': \"LangGraph Studio is a desktop app, currently available for Apple Silicon. You can download it here. After downloading and opening LangGraph Studio, you will be prompted to log in with your LangSmith account. Support for more platforms is coming soon.  LangGraph Studio facilitates the development of LLM applications by making it easy to visualize and interact with agent graphs.  You can modify an agent result (or the logic underlying a specific node) halfway through the agent's trajectory. \\n\\n\\n\\n\"}"
      ]
     },
     "execution_count": 79,
     "metadata": {},
     "output_type": "execute_result"
    }
   ],
   "source": [
    "agent_executor.invoke({\"input\": \"hi! can you describe what is a langgraph studio and how to utilize it?\"})\n",
    "\n",
    "#here it is calling the langgraph_studio agent and not the tavily agent"
   ]
  },
  {
   "cell_type": "code",
   "execution_count": 82,
   "metadata": {},
   "outputs": [
    {
     "name": "stdout",
     "output_type": "stream",
     "text": [
      "\n",
      "\n",
      "\u001b[1m> Entering new AgentExecutor chain...\u001b[0m\n",
      "\u001b[32;1m\u001b[1;3m\n",
      "Invoking: `tavily_search_results_json` with `{'query': 'weather in Trichy'}`\n",
      "\n",
      "\n",
      "\u001b[0m\u001b[36;1m\u001b[1;3m[{'url': 'https://www.weatherapi.com/', 'content': \"{'location': {'name': 'Trichy', 'region': 'Tamil Nadu', 'country': 'India', 'lat': 10.805, 'lon': 78.6856, 'tz_id': 'Asia/Kolkata', 'localtime_epoch': 1737201288, 'localtime': '2025-01-18 17:24'}, 'current': {'last_updated_epoch': 1737200700, 'last_updated': '2025-01-18 17:15', 'temp_c': 23.4, 'temp_f': 74.1, 'is_day': 1, 'condition': {'text': 'Light rain', 'icon': '//cdn.weatherapi.com/weather/64x64/day/296.png', 'code': 1183}, 'wind_mph': 10.5, 'wind_kph': 16.9, 'wind_degree': 45, 'wind_dir': 'NE', 'pressure_mb': 1010.0, 'pressure_in': 29.83, 'precip_mm': 0.02, 'precip_in': 0.0, 'humidity': 89, 'cloud': 75, 'feelslike_c': 25.3, 'feelslike_f': 77.5, 'windchill_c': 25.8, 'windchill_f': 78.4, 'heatindex_c': 27.5, 'heatindex_f': 81.6, 'dewpoint_c': 20.0, 'dewpoint_f': 68.1, 'vis_km': 1.6, 'vis_miles': 0.0, 'uv': 0.1, 'gust_mph': 15.7, 'gust_kph': 25.2}}\"}, {'url': 'https://www.qweather.com/en/weather30d/trichy-707D7.html', 'content': 'Trichy\\xa030 days weather forecast,\\xa0Trichy\\xa0weather forecast | QWeather Forecast Today 30-Day Map Tamil Nadu - India\\xa0\\xa0\\xa02025-01-18\\xa0\\xa0\\xa0Saturday\\xa0\\xa0\\xa010.83N, 78.69E Weather 30 Days Forecast Tamil Nadu - India In the next 30 days, there will be 6 days of rain, the Max Temp is 35°(12-Feb, 15-Feb) and the Min Temp is 17°(31-Jan, 04-Feb, 05-Feb). ### QWeather APP Visualize Your Weather  ### Weather API/SDK Need weather data service? NEED WEATHER DATA ? Weather Weather API/SDKWidgetOpenWeatherPlusGithub Weather Severe Weather Traffic Weather Weather Data TERM OF USE PRIVACY 京ICP备15048401号-11 京公网安备11010502042548号 中文 English TERM OF USE PRIVACY 京ICP备15048401号-11 京公网安备11010502042548号 中文 English QWeather APP Visualization weather APP Forecast Warning Air Satellite+Radar Weather Map Develop Business Support Blog About Contact Term of use Privacy'}, {'url': 'https://m.weatheravenue.com/en/asia/in/tamil-nadu/trichy-weather-15-days.html', 'content': 'Trichy Tamil Nadu India 15 Day Weather Forecast Weather Trichy 15 Day Weather Forecast for Trichy Patchy light rain  Temperature : 29°C 84°F | 22°C 71°F Partly Cloudy  Temperature : 30°C 85°F | 21°C 70°F Sunny  Temperature : 30°C 85°F | 19°C 67°F Sunny  Temperature : 29°C 84°F | 19°C 67°F Partly Cloudy  Temperature : 30°C 86°F | 20°C 68°F Sunny  Temperature : 29°C 84°F | 20°C 69°F Partly Cloudy  Temperature : 30°C 87°F | 20°C 68°F Light rain shower  Temperature : 29°C 85°F | 23°C 73°F Patchy rain nearby  Temperature : 30°C 85°F | 23°C 73°F Patchy rain nearby  Temperature : 30°C 87°F | 23°C 73°F Weather Trichy Weather Tiruchchinappalli Weather Trinchinopoly Weather Trichinopoly Weather Fort Weather Samayapuram Weather Kannanur'}, {'url': 'https://www.weatheravenue.com/en/asia/in/tamil-nadu/trichy-weather-15-days.html', 'content': 'Search a city:  \\xa0  18/01 : Weather United Arab Emirates 22°C Patchy rain nearby 18/01 : Weather China 12°C Sunny 18/01 : Weather Qatar 21°C Sunny 18/01 : Weather India 28°C Sunny 18/01 : Weather Japan 8°C Partly cloudy 18/01 : Weather South Korea 3°C Sunny 18/01 : Weather Singapore 26°C Light rain Weather 15 Day Weather Forecast 15 Day Weather Forecast for Trichy 5 Day Weather Forecast 15 Day Weather Forecast 15 Day Weather Forecast 5 Day Weather Forecast Weather Tiruchi Weather Tiruchirappalli Weather Tiruchchirappalli Weather Tiruchchinappalli Weather Trinchinopoly Weather Trichinopoly Weather Trichinopoli Weather Trichinapalli Weather Uraiyūr Weather Fort Weather Srirangam Weather Samayapuram Weather Kannanur Weather Lalgudi Weather Thiruvellarai Weather Thiruvallarai Weather Tiruvellarai Weather Tiruppiraitturai Weather Tirupparaltural Weather Tirupparaithural'}, {'url': 'https://www.timeanddate.com/weather/india/tiruchirapalli/hourly', 'content': 'Detailed Hourly Forecast — Next 24 hours Show weather on: Next 24 hours January 14, 2025 January 15, 2025 January 16, 2025 January 17, 2025 January 18, 2025 January 19, 2025 January 20, 2025 January 21, 2025'}]\u001b[0m\u001b[32;1m\u001b[1;3m\n",
      "Invoking: `tavily_search_results_json` with `{'query': 'weather in Trichy'}`\n",
      "\n",
      "\n",
      "\u001b[0m\u001b[36;1m\u001b[1;3m[{'url': 'https://www.weatherapi.com/', 'content': \"{'location': {'name': 'Trichy', 'region': 'Tamil Nadu', 'country': 'India', 'lat': 10.805, 'lon': 78.6856, 'tz_id': 'Asia/Kolkata', 'localtime_epoch': 1737201288, 'localtime': '2025-01-18 17:24'}, 'current': {'last_updated_epoch': 1737200700, 'last_updated': '2025-01-18 17:15', 'temp_c': 23.4, 'temp_f': 74.1, 'is_day': 1, 'condition': {'text': 'Light rain', 'icon': '//cdn.weatherapi.com/weather/64x64/day/296.png', 'code': 1183}, 'wind_mph': 10.5, 'wind_kph': 16.9, 'wind_degree': 45, 'wind_dir': 'NE', 'pressure_mb': 1010.0, 'pressure_in': 29.83, 'precip_mm': 0.02, 'precip_in': 0.0, 'humidity': 89, 'cloud': 75, 'feelslike_c': 25.3, 'feelslike_f': 77.5, 'windchill_c': 25.8, 'windchill_f': 78.4, 'heatindex_c': 27.5, 'heatindex_f': 81.6, 'dewpoint_c': 20.0, 'dewpoint_f': 68.1, 'vis_km': 1.6, 'vis_miles': 0.0, 'uv': 0.1, 'gust_mph': 15.7, 'gust_kph': 25.2}}\"}, {'url': 'https://www.qweather.com/en/weather30d/trichy-707D7.html', 'content': 'Trichy\\xa030 days weather forecast,\\xa0Trichy\\xa0weather forecast | QWeather Forecast Today 30-Day Map Tamil Nadu - India\\xa0\\xa0\\xa02025-01-18\\xa0\\xa0\\xa0Saturday\\xa0\\xa0\\xa010.83N, 78.69E Weather 30 Days Forecast Tamil Nadu - India In the next 30 days, there will be 6 days of rain, the Max Temp is 35°(12-Feb, 15-Feb) and the Min Temp is 17°(31-Jan, 04-Feb, 05-Feb). ### QWeather APP Visualize Your Weather  ### Weather API/SDK Need weather data service? NEED WEATHER DATA ? Weather Weather API/SDKWidgetOpenWeatherPlusGithub Weather Severe Weather Traffic Weather Weather Data TERM OF USE PRIVACY 京ICP备15048401号-11 京公网安备11010502042548号 中文 English TERM OF USE PRIVACY 京ICP备15048401号-11 京公网安备11010502042548号 中文 English QWeather APP Visualization weather APP Forecast Warning Air Satellite+Radar Weather Map Develop Business Support Blog About Contact Term of use Privacy'}, {'url': 'https://en.climate-data.org/asia/india/tamil-nadu/tiruchirappalli-4207/t/january-1/', 'content': 'Are you planning a holiday with hopefully nice weather in Tiruchirappalli in January 2025? Here you can find all information about the weather in Tiruchirappalli in January: Overview: Tiruchirappalli Weather and Climate in January ... 18. January: 24 °C | 76 °F : 30 °C | 86 °F: 19 °C | 67 °F: 2.4 mm | 0.1 inch. 19. January: 25 °C | 76'}, {'url': 'https://www.timeanddate.com/weather/@7603116/ext', 'content': 'Trichy, Tamil Nadu, India 14 day weather forecast Time Zone News Time Zones Time Zones Home Time Zone News Weather Sun Calculator Moon Calculator Calculators Calculators Home Home \\xa0 Weather \\xa0 Trichy \\xa0 Two-week forecast Weather Time Zone Last 2 weeks of weather Jan 20 |  | 84 / 71\\xa0°F | Overcast. Jan 23 |  | 86 / 71\\xa0°F | Overcast. Jan 24 |  | 89 / 69\\xa0°F | Mostly cloudy. Jan 25 |  | 88 / 66\\xa0°F | Cloudy. Jan 26 |  | 84 / 71\\xa0°F | Overcast. Jan 27 |  | 85 / 72\\xa0°F | Overcast. Hour-by-hour weather for Trichy next 7 days Sun & Moon times precise to the second. Time Zones Weather Calculators'}, {'url': 'https://www.weatheravenue.com/en/asia/in/tamil-nadu/trichy-weather-15-days.html', 'content': 'Search a city:  \\xa0  18/01 : Weather United Arab Emirates 22°C Patchy rain nearby 18/01 : Weather China 12°C Sunny 18/01 : Weather Qatar 21°C Sunny 18/01 : Weather India 28°C Sunny 18/01 : Weather Japan 8°C Partly cloudy 18/01 : Weather South Korea 3°C Sunny 18/01 : Weather Singapore 26°C Light rain Weather 15 Day Weather Forecast 15 Day Weather Forecast for Trichy 5 Day Weather Forecast 15 Day Weather Forecast 15 Day Weather Forecast 5 Day Weather Forecast Weather Tiruchi Weather Tiruchirappalli Weather Tiruchchirappalli Weather Tiruchchinappalli Weather Trinchinopoly Weather Trichinopoly Weather Trichinopoli Weather Trichinapalli Weather Uraiyūr Weather Fort Weather Srirangam Weather Samayapuram Weather Kannanur Weather Lalgudi Weather Thiruvellarai Weather Thiruvallarai Weather Tiruvellarai Weather Tiruppiraitturai Weather Tirupparaltural Weather Tirupparaithural'}]\u001b[0m\u001b[32;1m\u001b[1;3mThe weather in Trichy is currently 23.4°C and there is light rain.\n",
      "\n",
      "\n",
      "\u001b[0m\n",
      "\n",
      "\u001b[1m> Finished chain.\u001b[0m\n"
     ]
    },
    {
     "data": {
      "text/plain": [
       "{'input': 'hi! can you get me the weather of the city Trichy?',\n",
       " 'output': 'The weather in Trichy is currently 23.4°C and there is light rain.\\n\\n\\n'}"
      ]
     },
     "execution_count": 82,
     "metadata": {},
     "output_type": "execute_result"
    }
   ],
   "source": [
    "agent_executor.invoke({\"input\": \"hi! can you get me the weather of the city Trichy?\"})\n",
    "\n",
    "#here it is calling the tavily agent and not the langgraph_studio agent"
   ]
  },
  {
   "cell_type": "code",
   "execution_count": null,
   "metadata": {},
   "outputs": [],
   "source": [
    "# REACT Agent - Reasoning and Action or acting agent"
   ]
  },
  {
   "cell_type": "markdown",
   "metadata": {},
   "source": [
    "Definition:\n",
    "\n",
    "The ReAct framework combines reasoning and acting in a single loop to handle tasks. The agent uses natural language reasoning (thinking through steps) and task actions (performing tasks like calculations or data retrieval).\n",
    "\n",
    "The agent uses a combination of reasoning steps to guide actions in real-time, using feedback from those actions to further inform the next step in reasoning.\n",
    "\n",
    "How it works:\n",
    "\n",
    "Step 1: The agent receives a question or task.\n",
    "\n",
    "Step 2: It reasons aloud (in natural language) about how to solve it.\n",
    "\n",
    "Step 3: Based on its reasoning, it takes actions (e.g., searching a database, calculating something).\n",
    "\n",
    "Step 4: The results of these actions are integrated into its reasoning and may trigger further actions.\n",
    "\n",
    "Step 5: It repeats the process until it arrives at a solution.\n",
    "\n",
    "Key points:\n",
    "\n",
    " - > Combines thinking and doing (reasoning and actions).\n",
    "\n",
    "- > Performs iterative steps, updating its process based on action results.\n",
    "\n",
    "- > Typically handles complex decision-making scenarios.\n",
    "\n",
    "Example:\n",
    "\n",
    "Original task: “Calculate the total number of apples in a basket if there are 4 baskets and 7 apples in each.”\n",
    "\n",
    "Reasoning: \"I need to multiply 4 by 7 to get the total number of apples.\"\n",
    "\n",
    "Action: Perform the multiplication.\n",
    "\n",
    "Result: \"There are 28 apples.\"\n",
    "\n",
    "Reasoning: \"I am done.\""
   ]
  },
  {
   "cell_type": "markdown",
   "metadata": {},
   "source": []
  },
  {
   "cell_type": "code",
   "execution_count": 83,
   "metadata": {},
   "outputs": [],
   "source": [
    "from langchain.utilities import GoogleSerperAPIWrapper\n",
    "from langchain.agents import Tool\n",
    "from langchain_core.prompts import PromptTemplate\n",
    "from langchain.agents import AgentExecutor, create_react_agent"
   ]
  },
  {
   "cell_type": "code",
   "execution_count": null,
   "metadata": {},
   "outputs": [],
   "source": [
    "#Google serper API - To Search something in the Google\n",
    "google_search = GoogleSerperAPIWrapper()"
   ]
  },
  {
   "cell_type": "code",
   "execution_count": null,
   "metadata": {},
   "outputs": [],
   "source": [
    "#Create a tool\n",
    "tools = [\n",
    "    Tool(\n",
    "        name=\"Web_Answer\", #name of the tool\n",
    "        func=google_search.run,\n",
    "        description=\"useful for when you need to ask with search\",\n",
    "        verbose=True\n",
    "    )\n",
    "]"
   ]
  },
  {
   "cell_type": "code",
   "execution_count": 86,
   "metadata": {},
   "outputs": [],
   "source": [
    "template = '''Answer the following questions as best you can. You have access to the following tools:\n",
    "{tools}\n",
    "Use the following format:\n",
    "Question: the input question you must answer\n",
    "Thought: you should always think about what to do\n",
    "Action: the action to take, should be one of [{tool_names}]\n",
    "Action Input: the input to the action\n",
    "Observation: the result of the action\n",
    "... (this Thought/Action/Action Input/Observation can repeat N times)\n",
    "Thought: I now know the final answer\n",
    "Final Answer: the final answer to the original input question\n",
    "Begin!\n",
    "Question: {input}\n",
    "Thought:{agent_scratchpad}''' "
   ]
  },
  {
   "cell_type": "code",
   "execution_count": 88,
   "metadata": {},
   "outputs": [],
   "source": [
    "#convert the prompt into a prompt template\n",
    "prompt = PromptTemplate.from_template(template)"
   ]
  },
  {
   "cell_type": "code",
   "execution_count": 89,
   "metadata": {},
   "outputs": [],
   "source": [
    "#Create react agent\n",
    "search_agent = create_react_agent(llm_groq,tools,prompt)"
   ]
  },
  {
   "cell_type": "code",
   "execution_count": null,
   "metadata": {},
   "outputs": [],
   "source": [
    "#Passing to the Agent executor to execute the agent\n",
    "agent_executor = AgentExecutor(\n",
    "    agent=search_agent,\n",
    "    tools=tools,\n",
    "    verbose=True,\n",
    "    return_intermediate_steps=True,\n",
    ")"
   ]
  },
  {
   "cell_type": "code",
   "execution_count": 93,
   "metadata": {},
   "outputs": [
    {
     "name": "stdout",
     "output_type": "stream",
     "text": [
      "\n",
      "\n",
      "\u001b[1m> Entering new AgentExecutor chain...\u001b[0m\n",
      "\u001b[32;1m\u001b[1;3mThought: I need to find out who won the 2024 T20 World Cup to answer this question. \n",
      "Action: Web_Answer\n",
      "Action Input: Who won the 2024 T20 World Cup?\u001b[0m\u001b[36;1m\u001b[1;3m2024 Men's T20 World Cup: Tournament. 2024 Men's T20 World Cup Champion: India national cricket team. 2024 Men's T20 World Cup Location: United States and West Indies. 2024 Men's T20 World Cup Dates: Jun 1, 2024 – Jun 29, 2024. 2024 Men's T20 World Cup Administrator(s): International Cricket Council. 2024 Men's T20 World Cup Cricket format: Twenty20 International. 2024 Men's T20 World Cup Matches: 55. 2024 Men's T20 World Cup Participants: 20. The 2024 ICC Men's T20 World Cup was the ninth edition of the ICC Men's T20 World Cup. It was co-hosted by the West Indies and the United States from 1 to 29 ... Series result, India won the 2024 ICC Men's T20 World Cup ; Match number, T20I no. 2729 ; Match days, 29 June 2024 - day (20-over match) ; Umpires. New Zealand. 2024 Men's T20 World Cup final ; India won by 7 runs ; India won by 7 runs · 29 June 2024 · Kensington Oval, Bridgetown · Virat Kohli (Ind) · Chris Gaffaney (NZ) ICC Men's T20 World Cup, 2024 India script stunning title win | Match Highlights | SA v IND | T20WC 2024 Final 29 June, 2024 How incredible India won ICC T20 World Cup 2024 to end their 13-year wait. Between Kohli's vintage innings and Pandya's moment of redemption, ... Revisit the epic montage from India's T20 World Cup 2024 Final win over South Africa as they face off in a four-match T20I series. Subho ... Stats - India go faster, bigger, stronger in magical T20I year. The T20 World Cup win was the highlight, but right through the year, India set new benchmarks in ... I was witness to tough men outpouring emotions after India triumphed over South Africa in Barbados. Here's my first reaction in the ... 35th Match, Group B • Gros Islet, St Lucia, Daren Sammy National Cricket Stadium. scotland. SCO 180-5 (20). australia. AUS 186-5 (19.4). Australia won by 5 ... That winning feeling #T20WorldCupFinal | #INDvsSA.\u001b[0m\u001b[32;1m\u001b[1;3mThought: I need to find the score of the winning team in the 2024 T20 World Cup final.\n",
      "Action: Web_Answer\n",
      "Action Input: What was the score of the 2024 T20 World Cup final?\u001b[0m\u001b[36;1m\u001b[1;3mFinal, Bridgetown, June 29, 2024, ICC Men's T20 World Cup, IND Flag IND 176/7, SA Flag SA (20 ov, T:177) 169/8, India won by 7 runs India won the toss and electing to bat first, they registered a score of 176/7. In the second innings, South Africa managed to post a score of 169/8 thus India ... South Africa vs India, Final - Live Cricket Score, Commentary ; Arshdeep Singh. 4 · 20. 2 · 0 ; Jasprit Bumrah. 4 · 18. 2 · 0 ; Axar Patel. 4 · 49. 1 · 2. RESULT. Final, Bridgetown, June 29, 2024, ICC Men's T20 World Cup. IND Flag. IND. 176/7. SA Flag. SA. (20 ov, T:177) 169/8. India won by 7 runs. RESULT. 2nd ... Follow RSA 169/8 (20) vs IND 176/7 (Anrich Nortje 1(1) Keshav Maharaj 2(7)) | South Africa vs India, Final, Sat, Jun 29, ICC Mens T20 World Cup 2024 with ... Heinrich Klaasen (52) counter-attacked in spectacular fashion but India's impeccable death-overs bowling restricted South Africa to 169-8. The ... On 7 June 2024, Canada earned their first T20 World Cup victory by beating Ireland by 12 runs. While Afghanistan earned their first win against New Zealand in ... India won by 68 runs. Afghanistan. South Africa. 56/10 (11.5). 60/1 ... India produced a brilliant performance to defeat South Africa by just seven runs in a dramatic men's T20 World Cup final. India beat South Africa seven runs to win the final of the ICC Men's T20 World Cup 2024 at the Kensington Oval in Bridgetown, Barbados. Player ...\u001b[0m\u001b[32;1m\u001b[1;3mThought: I know India won the 2024 T20 World Cup final by 7 runs.  I also know that the final was held in Bridgetown, Barbados.\n",
      "Final Answer: India won the 2024 T20 World Cup final  by 7 runs.  The final was held in Bridgetown, Barbados. \n",
      "\n",
      "\n",
      "\n",
      "\n",
      "\u001b[0m\n",
      "\n",
      "\u001b[1m> Finished chain.\u001b[0m\n"
     ]
    },
    {
     "data": {
      "text/plain": [
       "{'input': 'Where is the hometown of the 2024 T20 worldcup Cricket caption winner and his score?',\n",
       " 'output': 'India won the 2024 T20 World Cup final  by 7 runs.  The final was held in Bridgetown, Barbados.',\n",
       " 'intermediate_steps': [(AgentAction(tool='Web_Answer', tool_input='Who won the 2024 T20 World Cup?', log='Thought: I need to find out who won the 2024 T20 World Cup to answer this question. \\nAction: Web_Answer\\nAction Input: Who won the 2024 T20 World Cup?'),\n",
       "   \"2024 Men's T20 World Cup: Tournament. 2024 Men's T20 World Cup Champion: India national cricket team. 2024 Men's T20 World Cup Location: United States and West Indies. 2024 Men's T20 World Cup Dates: Jun 1, 2024 – Jun 29, 2024. 2024 Men's T20 World Cup Administrator(s): International Cricket Council. 2024 Men's T20 World Cup Cricket format: Twenty20 International. 2024 Men's T20 World Cup Matches: 55. 2024 Men's T20 World Cup Participants: 20. The 2024 ICC Men's T20 World Cup was the ninth edition of the ICC Men's T20 World Cup. It was co-hosted by the West Indies and the United States from 1 to 29 ... Series result, India won the 2024 ICC Men's T20 World Cup ; Match number, T20I no. 2729 ; Match days, 29 June 2024 - day (20-over match) ; Umpires. New Zealand. 2024 Men's T20 World Cup final ; India won by 7 runs ; India won by 7 runs · 29 June 2024 · Kensington Oval, Bridgetown · Virat Kohli (Ind) · Chris Gaffaney (NZ) ICC Men's T20 World Cup, 2024 India script stunning title win | Match Highlights | SA v IND | T20WC 2024 Final 29 June, 2024 How incredible India won ICC T20 World Cup 2024 to end their 13-year wait. Between Kohli's vintage innings and Pandya's moment of redemption, ... Revisit the epic montage from India's T20 World Cup 2024 Final win over South Africa as they face off in a four-match T20I series. Subho ... Stats - India go faster, bigger, stronger in magical T20I year. The T20 World Cup win was the highlight, but right through the year, India set new benchmarks in ... I was witness to tough men outpouring emotions after India triumphed over South Africa in Barbados. Here's my first reaction in the ... 35th Match, Group B • Gros Islet, St Lucia, Daren Sammy National Cricket Stadium. scotland. SCO 180-5 (20). australia. AUS 186-5 (19.4). Australia won by 5 ... That winning feeling #T20WorldCupFinal | #INDvsSA.\"),\n",
       "  (AgentAction(tool='Web_Answer', tool_input='What was the score of the 2024 T20 World Cup final?', log='Thought: I need to find the score of the winning team in the 2024 T20 World Cup final.\\nAction: Web_Answer\\nAction Input: What was the score of the 2024 T20 World Cup final?'),\n",
       "   \"Final, Bridgetown, June 29, 2024, ICC Men's T20 World Cup, IND Flag IND 176/7, SA Flag SA (20 ov, T:177) 169/8, India won by 7 runs India won the toss and electing to bat first, they registered a score of 176/7. In the second innings, South Africa managed to post a score of 169/8 thus India ... South Africa vs India, Final - Live Cricket Score, Commentary ; Arshdeep Singh. 4 · 20. 2 · 0 ; Jasprit Bumrah. 4 · 18. 2 · 0 ; Axar Patel. 4 · 49. 1 · 2. RESULT. Final, Bridgetown, June 29, 2024, ICC Men's T20 World Cup. IND Flag. IND. 176/7. SA Flag. SA. (20 ov, T:177) 169/8. India won by 7 runs. RESULT. 2nd ... Follow RSA 169/8 (20) vs IND 176/7 (Anrich Nortje 1(1) Keshav Maharaj 2(7)) | South Africa vs India, Final, Sat, Jun 29, ICC Mens T20 World Cup 2024 with ... Heinrich Klaasen (52) counter-attacked in spectacular fashion but India's impeccable death-overs bowling restricted South Africa to 169-8. The ... On 7 June 2024, Canada earned their first T20 World Cup victory by beating Ireland by 12 runs. While Afghanistan earned their first win against New Zealand in ... India won by 68 runs. Afghanistan. South Africa. 56/10 (11.5). 60/1 ... India produced a brilliant performance to defeat South Africa by just seven runs in a dramatic men's T20 World Cup final. India beat South Africa seven runs to win the final of the ICC Men's T20 World Cup 2024 at the Kensington Oval in Bridgetown, Barbados. Player ...\")]}"
      ]
     },
     "execution_count": 93,
     "metadata": {},
     "output_type": "execute_result"
    }
   ],
   "source": [
    "agent_executor.invoke({\"input\": \"Where is the hometown of the 2024 T20 worldcup Cricket caption winner and his score?\"})"
   ]
  },
  {
   "cell_type": "code",
   "execution_count": 95,
   "metadata": {},
   "outputs": [
    {
     "name": "stdout",
     "output_type": "stream",
     "text": [
      "\n",
      "\n",
      "\u001b[1m> Entering new AgentExecutor chain...\u001b[0m\n",
      "\u001b[32;1m\u001b[1;3mThought: I need to look up cricket records to find the player with the most hundreds.\n",
      "Action: Web_Answer\n",
      "Action Input: Which player has scored the most hundreds in all forms of cricket?\u001b[0m\u001b[36;1m\u001b[1;3mThis list is a compilation of total centuries scored by international cricketers, split between different formats of the game. Most hundreds in a career in Tests+ODIs+T20Is ; RG Sharma (IND). 2007-2024, 491 ; R Dravid (Asia/ICC/IND). 1996-2012, 509 ; AB de Villiers (Afr/SA). 2004-2018, 420 ... Sachin Tendulkar, the legendary cricketer, holds the record for the most centuries in international cricket, with a staggering total of 100 ... Kohli: 80 (595 innings) · Root: 51 (458 innings) · Sharma: 48 (513 innings) · Williamson: 45 (427 innings) · Smith: 44 (397 innings). Sachin Tendulkar holds the record for most centuries in cricket, with 100 international centuries (51 in Tests and 49 in ODIs). · Virat Kohli is ... Player, Span, 100s ; SR Tendulkar (Ind), 1989-2013, 100 ; Virat Kohli (Ind), 2008-2024, 81 ; RT Ponting (Aus), 1995-2012, 71 ; KC Sangakkara (SL), 2000-2015, 63 ... Most hundreds in a series in Tests ; Mohammad Yousuf (PAK). 2006-2006, 3 ; West Indies in Pakistan Test Series, 2006/07 ; DG Bradman (AUS). 1947-1948, 5 ; India in ... Sachin Tendulkar holds the record for the hundreds in international cricket history, with 100 centuries across all formats. Sachin Tendulkar holds the record for most centuries in cricket with an amazing 100 centuries. Virat Kohli behind him with 80 centuries. Sachin Tendulkar​​ He is the most accomplished batsman of the century and has many unbreakable cricket records to his name. One such record is of ...\u001b[0m\u001b[32;1m\u001b[1;3mThought: Sachin Tendulkar holds the record for most hundreds. Let me list his records.\n",
      "Action: Web_Answer\n",
      "Action Input: Sachin Tendulkar records\u001b[0m\u001b[36;1m\u001b[1;3mSachin Tendulkar · Allround: Batting and fielding. record. 5000 runs and 50 fielding dismissals · Batting: Most runs. 1st. Most runs in career (15921) · Batting ... Sachin Tendulkar was the most complete batter of his time, the most prolific run-maker of all time, and arguably the biggest cricket icon the game has ever ... Sachin Tendulkar ; Competition, Test · ODI · FC · LA. Matches, 200, 463, 310, 551. Runs scored, 15,921, 18,426, 25,396, 21,999. Batting average, 53.78, 44.83 ... Only Sachin Tendulkar has scored more than 2,000 runs in a World Cup of cricket in history. Throughout six World Cups, he totalled 2278 runs. In the 2003 edition of the tournament, Tendulkar scored an astonishing 673 runs in the tournament, going past his own record of 523 runs in a World Cup ... Kohli became the fastest batsman to score 27000 international runs (594 innings), breaking Sachin's previous record of 623 innings. His total of 51 centuries in Test matches is a world record for highest number of centuries by a batsman and his 49 centuries in ODI matches are the second ... The record for most runs in ODI Cricket speaks volumes about how great a batter Sachin Tendulkar was. Sachin accumulated 18,426 runs in 463 ODIs ... SUMMARY · 1: Most Test appearances: · 2: Most Test runs: · 3: Most Test centuries: · 4: Most ODI runs in a calendar year: · 5: Most fours in ODI ...\u001b[0m\u001b[32;1m\u001b[1;3mThought: I now know the final answer\n",
      "Final Answer: Sachin Tendulkar holds the record for most centuries in cricket with a staggering total of 100 international centuries (51 in Tests and 49 in ODIs). \n",
      "\n",
      "\n",
      "\u001b[0m\n",
      "\n",
      "\u001b[1m> Finished chain.\u001b[0m\n"
     ]
    },
    {
     "data": {
      "text/plain": [
       "{'input': 'Which player secured most hundreds in all forms of cricket and mention thier records?',\n",
       " 'output': 'Sachin Tendulkar holds the record for most centuries in cricket with a staggering total of 100 international centuries (51 in Tests and 49 in ODIs).',\n",
       " 'intermediate_steps': [(AgentAction(tool='Web_Answer', tool_input='Which player has scored the most hundreds in all forms of cricket?', log='Thought: I need to look up cricket records to find the player with the most hundreds.\\nAction: Web_Answer\\nAction Input: Which player has scored the most hundreds in all forms of cricket?'),\n",
       "   'This list is a compilation of total centuries scored by international cricketers, split between different formats of the game. Most hundreds in a career in Tests+ODIs+T20Is ; RG Sharma (IND). 2007-2024, 491 ; R Dravid (Asia/ICC/IND). 1996-2012, 509 ; AB de Villiers (Afr/SA). 2004-2018, 420 ... Sachin Tendulkar, the legendary cricketer, holds the record for the most centuries in international cricket, with a staggering total of 100 ... Kohli: 80 (595 innings) · Root: 51 (458 innings) · Sharma: 48 (513 innings) · Williamson: 45 (427 innings) · Smith: 44 (397 innings). Sachin Tendulkar holds the record for most centuries in cricket, with 100 international centuries (51 in Tests and 49 in ODIs). · Virat Kohli is ... Player, Span, 100s ; SR Tendulkar (Ind), 1989-2013, 100 ; Virat Kohli (Ind), 2008-2024, 81 ; RT Ponting (Aus), 1995-2012, 71 ; KC Sangakkara (SL), 2000-2015, 63 ... Most hundreds in a series in Tests ; Mohammad Yousuf (PAK). 2006-2006, 3 ; West Indies in Pakistan Test Series, 2006/07 ; DG Bradman (AUS). 1947-1948, 5 ; India in ... Sachin Tendulkar holds the record for the hundreds in international cricket history, with 100 centuries across all formats. Sachin Tendulkar holds the record for most centuries in cricket with an amazing 100 centuries. Virat Kohli behind him with 80 centuries. Sachin Tendulkar\\u200b\\u200b He is the most accomplished batsman of the century and has many unbreakable cricket records to his name. One such record is of ...'),\n",
       "  (AgentAction(tool='Web_Answer', tool_input='Sachin Tendulkar records', log='Thought: Sachin Tendulkar holds the record for most hundreds. Let me list his records.\\nAction: Web_Answer\\nAction Input: Sachin Tendulkar records'),\n",
       "   \"Sachin Tendulkar · Allround: Batting and fielding. record. 5000 runs and 50 fielding dismissals · Batting: Most runs. 1st. Most runs in career (15921) · Batting ... Sachin Tendulkar was the most complete batter of his time, the most prolific run-maker of all time, and arguably the biggest cricket icon the game has ever ... Sachin Tendulkar ; Competition, Test · ODI · FC · LA. Matches, 200, 463, 310, 551. Runs scored, 15,921, 18,426, 25,396, 21,999. Batting average, 53.78, 44.83 ... Only Sachin Tendulkar has scored more than 2,000 runs in a World Cup of cricket in history. Throughout six World Cups, he totalled 2278 runs. In the 2003 edition of the tournament, Tendulkar scored an astonishing 673 runs in the tournament, going past his own record of 523 runs in a World Cup ... Kohli became the fastest batsman to score 27000 international runs (594 innings), breaking Sachin's previous record of 623 innings. His total of 51 centuries in Test matches is a world record for highest number of centuries by a batsman and his 49 centuries in ODI matches are the second ... The record for most runs in ODI Cricket speaks volumes about how great a batter Sachin Tendulkar was. Sachin accumulated 18,426 runs in 463 ODIs ... SUMMARY · 1: Most Test appearances: · 2: Most Test runs: · 3: Most Test centuries: · 4: Most ODI runs in a calendar year: · 5: Most fours in ODI ...\")]}"
      ]
     },
     "execution_count": 95,
     "metadata": {},
     "output_type": "execute_result"
    }
   ],
   "source": [
    "agent_executor.invoke({\"input\": \"Which player secured most hundreds in all forms of cricket and mention thier records?\"})"
   ]
  },
  {
   "cell_type": "code",
   "execution_count": null,
   "metadata": {},
   "outputs": [],
   "source": [
    "# ReAct with Custom tool\n",
    "@tool\n",
    "def get_employee_id(name):\n",
    "  \"\"\"\n",
    "  To get employee id, it takes employee name as arguments\n",
    "  name(str): Name of the employee\n",
    "  \"\"\"\n",
    "  fake_employees = {\n",
    "    \"Alice\": \"E001\",\n",
    "    \"Bob\": \"E002\",\n",
    "    \"Charlie\": \"E003\",\n",
    "    \"Diana\": \"E004\",\n",
    "    \"Evan\": \"E005\",\n",
    "    \"Fiona\": \"E006\",\n",
    "    \"George\": \"E007\",\n",
    "    \"Hannah\": \"E008\",\n",
    "    \"Ian\": \"E009\",\n",
    "    \"Jasmine\": \"E010\"}\n",
    "  \n",
    "  return fake_employees.get(name,\"Employee not found\")"
   ]
  },
  {
   "cell_type": "code",
   "execution_count": null,
   "metadata": {},
   "outputs": [],
   "source": [
    "# Salary tool\n",
    "@tool\n",
    "def get_employee_salary(employee_id):\n",
    "  \"\"\"\n",
    "  To get the salary of an employee, it takes employee_id as input and return salary\n",
    "  \"\"\"\n",
    "  employee_salaries = {\n",
    "    \"E001\": 56000,\n",
    "    \"E002\": 47000,\n",
    "    \"E003\": 52000,\n",
    "    \"E004\": 61000,\n",
    "    \"E005\": 45000,\n",
    "    \"E006\": 58000,\n",
    "    \"E007\": 49000,\n",
    "    \"E008\": 53000,\n",
    "    \"E009\": 50000,\n",
    "    \"E010\": 55000\n",
    "    }\n",
    "  return employee_salaries.get(employee_id,\"Employee not found\")"
   ]
  },
  {
   "cell_type": "code",
   "execution_count": null,
   "metadata": {},
   "outputs": [],
   "source": [
    "#Pull the react prompt from langchain hub\n",
    "# Saved React Prompt in langchain hub, we could manually type the prompt as well.\n",
    "\n",
    "prompt = hub.pull(\"hwchase17/react\")"
   ]
  },
  {
   "cell_type": "code",
   "execution_count": null,
   "metadata": {},
   "outputs": [],
   "source": [
    "print(prompt.template)"
   ]
  },
  {
   "cell_type": "code",
   "execution_count": null,
   "metadata": {},
   "outputs": [],
   "source": [
    "tools = [get_employee_salary, get_employee_id]"
   ]
  },
  {
   "cell_type": "code",
   "execution_count": null,
   "metadata": {},
   "outputs": [],
   "source": [
    "agent = create_react_agent(llm_groq,tools,prompt)"
   ]
  },
  {
   "cell_type": "code",
   "execution_count": null,
   "metadata": {},
   "outputs": [],
   "source": [
    "agent_executor = AgentExecutor(agent=agent,tools=tools,verbose=True)"
   ]
  },
  {
   "cell_type": "code",
   "execution_count": null,
   "metadata": {},
   "outputs": [],
   "source": [
    "agent_executor.invoke({\"input\":\"What is the Salary of Evan?\"})"
   ]
  },
  {
   "cell_type": "code",
   "execution_count": null,
   "metadata": {},
   "outputs": [],
   "source": [
    "agent_executor.invoke({\"input\":\"What is the Salary of Amar?\"})"
   ]
  },
  {
   "cell_type": "markdown",
   "metadata": {},
   "source": [
    "Self-Ask with Search Agent:\n",
    "\n",
    "Definition:\n",
    "\n",
    "This approach allows the AI to ask itself follow-up questions when it doesn't immediately know the answer. It performs a recursive questioning process to break down complex queries into smaller, more manageable ones.\n",
    "Once the AI generates these follow-up questions, it performs an external search (e.g., through Google or an internal database) to gather the necessary information before formulating a response.\n",
    "\n",
    "How it works:\n",
    "\n",
    "Step 1: Receive a complex question.\n",
    "\n",
    "Step 2: The agent identifies sub-questions or follow-up questions.\n",
    "\n",
    "Step 3: It performs a search or fetches answers to these questions from external resources (like a web search).\n",
    "\n",
    "Step 4: The answers are aggregated to provide a complete response.\n",
    "\n",
    "Key points:\n",
    "\n",
    "Emphasizes question decomposition.\n",
    "\n",
    "Relies on external search for sub-questions.\n",
    "\n",
    "Useful for answering open-ended or broad questions where the answer is not immediately available.\n",
    "\n",
    "Example:\n",
    "\n",
    "Original question: “How many moons does Jupiter have?”\n",
    "\n",
    "Sub-question: “What is Jupiter?” (search)\n",
    "\n",
    "Sub-question: “What are moons?” (search)\n",
    "\n",
    "Finally, it retrieves the answer: \"Jupiter has 79 moons.\""
   ]
  },
  {
   "cell_type": "code",
   "execution_count": 109,
   "metadata": {},
   "outputs": [],
   "source": [
    "from langchain_google_genai import GoogleGenerativeAIEmbeddings\n",
    "embeddings = GoogleGenerativeAIEmbeddings(model=\"models/embedding-001\")\n",
    "from langchain_google_genai import ChatGoogleGenerativeAI\n",
    "llm = ChatGoogleGenerativeAI(model=\"gemini-1.0-pro\")"
   ]
  },
  {
   "cell_type": "code",
   "execution_count": 110,
   "metadata": {},
   "outputs": [],
   "source": [
    "from langchain import hub\n",
    "from langchain.agents import AgentExecutor, create_self_ask_with_search_agent\n",
    "from langchain_community.tools.tavily_search import TavilyAnswer"
   ]
  },
  {
   "cell_type": "code",
   "execution_count": 111,
   "metadata": {},
   "outputs": [],
   "source": [
    "from langchain import hub\n",
    "from langchain.agents import AgentExecutor, create_self_ask_with_search_agent\n",
    "from langchain_community.tools.tavily_search import TavilyAnswer\n",
    "tools = [\n",
    "    Tool(\n",
    "        name=\"Intermediate Answer\",\n",
    "        func=google_search.run,\n",
    "        description=\"useful for when you need to ask with search\",\n",
    "        verbose=True\n",
    "    )\n",
    "]"
   ]
  },
  {
   "cell_type": "code",
   "execution_count": 112,
   "metadata": {},
   "outputs": [],
   "source": [
    "# Get the prompt to use - you can modify this!\n",
    "prompt = hub.pull(\"hwchase17/self-ask-with-search\")"
   ]
  },
  {
   "cell_type": "code",
   "execution_count": 113,
   "metadata": {},
   "outputs": [
    {
     "name": "stdout",
     "output_type": "stream",
     "text": [
      "Question: Who lived longer, Muhammad Ali or Alan Turing?\n",
      "Are follow up questions needed here: Yes.\n",
      "Follow up: How old was Muhammad Ali when he died?\n",
      "Intermediate answer: Muhammad Ali was 74 years old when he died.\n",
      "Follow up: How old was Alan Turing when he died?\n",
      "Intermediate answer: Alan Turing was 41 years old when he died.\n",
      "So the final answer is: Muhammad Ali\n",
      "\n",
      "Question: When was the founder of craigslist born?\n",
      "Are follow up questions needed here: Yes.\n",
      "Follow up: Who was the founder of craigslist?\n",
      "Intermediate answer: Craigslist was founded by Craig Newmark.\n",
      "Follow up: When was Craig Newmark born?\n",
      "Intermediate answer: Craig Newmark was born on December 6, 1952.\n",
      "So the final answer is: December 6, 1952\n",
      "\n",
      "Question: Who was the maternal grandfather of George Washington?\n",
      "Are follow up questions needed here: Yes.\n",
      "Follow up: Who was the mother of George Washington?\n",
      "Intermediate answer: The mother of George Washington was Mary Ball Washington.\n",
      "Follow up: Who was the father of Mary Ball Washington?\n",
      "Intermediate answer: The father of Mary Ball Washington was Joseph Ball.\n",
      "So the final answer is: Joseph Ball\n",
      "\n",
      "Question: Are both the directors of Jaws and Casino Royale from the same country?\n",
      "Are follow up questions needed here: Yes.\n",
      "Follow up: Who is the director of Jaws?\n",
      "Intermediate answer: The director of Jaws is Steven Spielberg.\n",
      "Follow up: Where is Steven Spielberg from?\n",
      "Intermediate answer: The United States.\n",
      "Follow up: Who is the director of Casino Royale?\n",
      "Intermediate answer: The director of Casino Royale is Martin Campbell.\n",
      "Follow up: Where is Martin Campbell from?\n",
      "Intermediate answer: New Zealand.\n",
      "So the final answer is: No\n",
      "\n",
      "Question: {input}\n",
      "Are followup questions needed here:{agent_scratchpad}\n"
     ]
    }
   ],
   "source": [
    "print(prompt.template)"
   ]
  },
  {
   "cell_type": "code",
   "execution_count": 114,
   "metadata": {},
   "outputs": [],
   "source": [
    "# Construct the Self Ask With Search Agent\n",
    "agent = create_self_ask_with_search_agent(llm, tools, prompt)"
   ]
  },
  {
   "cell_type": "code",
   "execution_count": 115,
   "metadata": {},
   "outputs": [],
   "source": [
    "# Create an agent executor by passing in the agent and tools\n",
    "agent_executor = AgentExecutor(agent=agent, tools=tools, verbose=True,handle_parsing_errors=True)"
   ]
  },
  {
   "cell_type": "code",
   "execution_count": 118,
   "metadata": {},
   "outputs": [
    {
     "name": "stdout",
     "output_type": "stream",
     "text": [
      "\n",
      "\n",
      "\u001b[1m> Entering new AgentExecutor chain...\u001b[0m\n",
      "\u001b[32;1m\u001b[1;3mYes.\n",
      "Follow up: What is the population density of each asian country?\u001b[0m\u001b[36;1m\u001b[1;3mPopulation density, people per square km, 2021: Countries Population density, 2021 Global rank Japan 345 14 Vietnam 311 15 Pakistan 300 16 Kuwait 239 17\u001b[0m\u001b[32;1m\u001b[1;3mSo the final answer is: Bangladesh\u001b[0m\n",
      "\n",
      "\u001b[1m> Finished chain.\u001b[0m\n"
     ]
    },
    {
     "data": {
      "text/plain": [
       "{'input': 'which asian country has highest population density?',\n",
       " 'output': 'Bangladesh'}"
      ]
     },
     "execution_count": 118,
     "metadata": {},
     "output_type": "execute_result"
    }
   ],
   "source": [
    "agent_executor.invoke(\n",
    "    {\"input\": \"which asian country has highest population density?\"}\n",
    ")"
   ]
  },
  {
   "cell_type": "code",
   "execution_count": 117,
   "metadata": {},
   "outputs": [
    {
     "name": "stdout",
     "output_type": "stream",
     "text": [
      "\n",
      "\n",
      "\u001b[1m> Entering new AgentExecutor chain...\u001b[0m\n",
      "\u001b[32;1m\u001b[1;3mYes.\n",
      "Follow up: Who was the previous captain of the Indian women's cricket team?\u001b[0m\u001b[36;1m\u001b[1;3mList of Captains for India Women in WODIs Player Span %W M Raj 2004-2022 57.41 J Goswami 2008-2011 48.00 R Dhar 2008-2008 0.00 H Kaur 2013-2024 64.28\u001b[0m\u001b[32;1m\u001b[1;3mFollow up: When did the previous captain of the Indian women's cricket team step down?\u001b[0m\u001b[36;1m\u001b[1;3mMithali Raj, Captain of India Women's cricket team. The WCAI, the governing body for women's cricket, was affiliated to the International Women's Cricket ... Missing: step | Show results with:step. Mithali Raj calls for a leadership change in the Indian women's cricket team after a disappointing 2024 T20 World Cup. Team India endured a forgettable outing in the Women's T20 World Cup, as the. Haarmanpreet Kaur-led side was knocked out in the group stage. This is the list of captains of Indian cricket team who have led the team in at least one international cricket match. Missing: step | Show results with:step. New Delhi: Veteran cricketer and former India women's team captain Mithali Raj has announced on Wednesday, her decision to step down from all ... Kumble's resignation came in the wake of reports claiming rifts between him and Kohli, and just two days after India's embarrassing loss to ... Indian women's cricket team coach Tushar Arothe resigned after his position became untenable due to alleged differences with some of the star players. So, what do you think? Who should become the next captain of Indian women's cricket team. Tell us your thoughts in the comments below. Pages. India's Virat Kohli has stepped down as captain of the Test side following their 2-1 series defeat by South Africa, saying of his time in charge: “I've left ... Indian women's cricket team coach Tushar Arothe resigns after players' revolt. A senior BCCI official said that Arothe was forced to resign ...\u001b[0m\u001b[32;1m\u001b[1;3mSo the final answer is: Harmanpreet Kaur\u001b[0m\n",
      "\n",
      "\u001b[1m> Finished chain.\u001b[0m\n"
     ]
    },
    {
     "data": {
      "text/plain": [
       "{'input': 'who is current captain of indian women cricket team?',\n",
       " 'output': 'Harmanpreet Kaur'}"
      ]
     },
     "execution_count": 117,
     "metadata": {},
     "output_type": "execute_result"
    }
   ],
   "source": [
    "agent_executor.invoke(\n",
    "    {\"input\": \"who is current captain of indian women cricket team?\"}\n",
    ")"
   ]
  },
  {
   "cell_type": "code",
   "execution_count": null,
   "metadata": {},
   "outputs": [],
   "source": []
  }
 ],
 "metadata": {
  "kernelspec": {
   "display_name": "langgraphe2e",
   "language": "python",
   "name": "python3"
  },
  "language_info": {
   "codemirror_mode": {
    "name": "ipython",
    "version": 3
   },
   "file_extension": ".py",
   "mimetype": "text/x-python",
   "name": "python",
   "nbconvert_exporter": "python",
   "pygments_lexer": "ipython3",
   "version": "3.10.16"
  }
 },
 "nbformat": 4,
 "nbformat_minor": 2
}
