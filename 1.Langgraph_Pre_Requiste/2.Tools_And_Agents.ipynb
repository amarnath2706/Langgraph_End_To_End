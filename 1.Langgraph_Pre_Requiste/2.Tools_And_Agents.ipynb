{
 "cells": [
  {
   "cell_type": "code",
   "execution_count": 1,
   "metadata": {},
   "outputs": [
    {
     "data": {
      "text/plain": [
       "True"
      ]
     },
     "execution_count": 1,
     "metadata": {},
     "output_type": "execute_result"
    }
   ],
   "source": [
    "import os\n",
    "from dotenv import load_dotenv\n",
    "load_dotenv()"
   ]
  },
  {
   "cell_type": "code",
   "execution_count": 2,
   "metadata": {},
   "outputs": [],
   "source": [
    "GOOGLE_API_KEY = os.getenv(\"GOOGLE_API_KEY\")\n",
    "GROQ_API_KEY = os.getenv(\"GROQ_API_KEY\")\n",
    "TAVILY_API_KEY = os.getenv(\"TAVILY_API_KEY\")\n",
    "LANGCHAIN_API_KEY = os.getenv(\"LANGCHAIN_API_KEY\")\n",
    "LANGCHAIN_PROJECT = os.getenv(\"LANGCHAIN_PROJECT\")"
   ]
  },
  {
   "cell_type": "code",
   "execution_count": 3,
   "metadata": {},
   "outputs": [],
   "source": [
    "os.environ[\"GOOGLE_API_KEY\"] = GOOGLE_API_KEY\n",
    "os.environ[\"TAVILY_API_KEY\"] = TAVILY_API_KEY\n",
    "os.environ[\"GROQ_API_KEY\"]= GROQ_API_KEY\n",
    "os.environ[\"LANGCHAIN_API_KEY\"] = LANGCHAIN_API_KEY\n",
    "os.environ[\"LANGCHAIN_TRACING_V2\"] = \"true\" #tracing using langsmith\n",
    "os.environ[\"LANGCHAIN_ENDPOINT\"] = \"https://api.smith.langchain.com\"\n",
    "os.environ[\"LANGCHAIN_PROJECT\"] = LANGCHAIN_PROJECT"
   ]
  },
  {
   "cell_type": "code",
   "execution_count": 4,
   "metadata": {},
   "outputs": [],
   "source": [
    "from langchain_groq import ChatGroq\n",
    "llm_groq=ChatGroq(model_name=\"Gemma2-9b-It\")"
   ]
  },
  {
   "cell_type": "code",
   "execution_count": 5,
   "metadata": {},
   "outputs": [
    {
     "name": "stderr",
     "output_type": "stream",
     "text": [
      "c:\\Users\\Toshiba\\anaconda3\\envs\\langgraphe2e\\lib\\site-packages\\tqdm\\auto.py:21: TqdmWarning: IProgress not found. Please update jupyter and ipywidgets. See https://ipywidgets.readthedocs.io/en/stable/user_install.html\n",
      "  from .autonotebook import tqdm as notebook_tqdm\n"
     ]
    }
   ],
   "source": [
    "from langchain_google_genai import GoogleGenerativeAIEmbeddings\n",
    "embedding=GoogleGenerativeAIEmbeddings(model=\"models/embedding-001\")"
   ]
  },
  {
   "cell_type": "code",
   "execution_count": 6,
   "metadata": {},
   "outputs": [
    {
     "data": {
      "text/plain": [
       "AIMessage(content='ISRO stands for **Indian Space Research Organisation**. \\n\\nIt is the national space agency of India headquartered in Bengaluru. \\n\\nHere are some key facts about ISRO:\\n\\n* **Established:** 15 August 1969\\n* **Mission:** To harness space technology for national development, particularly in communication, broadcasting, meteorology, earth observation, and space exploration.\\n* **Achievements:**\\n    * Successfully launched its first satellite, Aryabhata, in 1975.\\n    * Developed and launched its own launch vehicles, including the Polar Satellite Launch Vehicle (PSLV) and the Geosynchronous Satellite Launch Vehicle (GSLV).\\n    * Placed India among the top spacefaring nations with the successful launch of its Mars Orbiter Mission (Mangalyaan) in 2013.\\n    * Operationalized the Indian Regional Navigation Satellite System (IRNSS) for regional navigation.\\n    * Deployed numerous communication, earth observation, and scientific satellites.\\n\\n* **Future Plans:**\\n    * Developing the Gaganyaan human spaceflight program.\\n    * Exploring the Moon with the Chandrayaan-3 mission.\\n    * Expanding its space exploration capabilities with missions to Venus and other celestial bodies.\\n\\n\\n\\nLet me know if you have any specific questions about ISRO!\\n', additional_kwargs={}, response_metadata={'token_usage': {'completion_tokens': 270, 'prompt_tokens': 11, 'total_tokens': 281, 'completion_time': 0.490909091, 'prompt_time': 9.566e-05, 'queue_time': 0.021215619999999998, 'total_time': 0.491004751}, 'model_name': 'Gemma2-9b-It', 'system_fingerprint': 'fp_10c08bf97d', 'finish_reason': 'stop', 'logprobs': None}, id='run-e6c69e03-4469-4832-a96e-72b434320074-0', usage_metadata={'input_tokens': 11, 'output_tokens': 270, 'total_tokens': 281})"
      ]
     },
     "execution_count": 6,
     "metadata": {},
     "output_type": "execute_result"
    }
   ],
   "source": [
    "llm_groq.invoke(\"ISRO\")"
   ]
  },
  {
   "cell_type": "code",
   "execution_count": 7,
   "metadata": {},
   "outputs": [
    {
     "name": "stdout",
     "output_type": "stream",
     "text": [
      "Page: ISRO\n",
      "Summary: The Indian Space Research Organisation (ISRO ) is India's national space agency. It serves as the principal research and development arm of the Department of Space (DoS), overseen by the Prime Minister of India, with the Chairman of ISRO also serving as the chief executive of the DoS. It is primarily responsible for space-based operations, space exploration, international space cooperation and the development of related technologies. The agency maintains a constellation of imaging, communication and remote sensing satellites. It operates the GAGAN and IRNSS satellite navigation systems. It has sent three missions to the Moon and one mission to Mars.\n",
      "Formerly known as the Indian National Committee for Space Research (INCOSPAR), it was set up in 1962 by then-Prime Minister Jawaharlal Nehru on the recommendation of scientist Vikram Sarabhai. It was renamed as ISRO in 1969 and was subsumed into the Department of Atomic Energy (DAE). The establishment of ISRO institutionalised space research activities in India. In 1972, the Government set up a Space Commission and the DoS, bringing ISRO under its purview. It has since then been managed by the DoS, which also governs various other institutions in the domain of astronomy and space technology.\n",
      "ISRO built India's first satellite Aryabhata which was launched by the Soviet space agency Interkosmos in 1975. In 1980, it launched the satellite RS-1 onboard the indigenously built launch vehicle SLV-3, making India the seventh country to undertake orbital launches. It has subsequently developed various small-lift and medium-lift launch vehicles, enabling the agency to launch various satellites and deep space missions. It is one of the six government space agencies in the world that possess full launch capabilities with the ability to deploy cryogenic engines, launch extraterrestrial missions and artificial satellites. It is also one of only four governmental space agencies in to have demonstrated unmanned soft landing capabilities.\n",
      "ISRO's programmes have played a significant role in socio-economic development. It has supported both civilian and military domains in various aspects such as disaster management, telemedicine, navigation and reconnaissance. ISRO's spin-off technologies have also aided in new innovations in engineering and other allied domains.\n",
      "\n",
      "Page: Chairperson of the Indian Space Research Organisation\n",
      "Summary: The Chairman of the Indian Space Research Organisation is the statutory head of the Indian Space Research Organisation (ISRO). The officeholder is a secretary to the Government of India and an executive of the Department of Space (DOS) which directly reports to the Prime Minister of India.\n",
      "The Indian National Committee for Space Research (INCOSPAR) was founded in 1962 under the Department of Atomic Energy (DAE) with Vikram Sarabhai as its chairperson which in 1969 became ISRO. In 1972, government of India had set up a space commission and DOS and brought ISRO under DOS.\n",
      "Since Sarabhai has assumed the position, there have been eleven chairmen of the ISRO, with Satish Dhawan serving the longest term of 12 years as the chairman.\n",
      "Recently on 8 January 2025, The Central Government has appointed Dr V Narayanan, currently the director of Liquid Propulsion Systems Centre (LPSC), Thiruvananthapuram, as the new chairperson of the Indian Space Research Organisation (Isro), and also as the secretary of the Department of Space.\n",
      "\n",
      "Page: List of ISRO missions\n",
      "Summary: This is a list of Indian Space Research Organisation (ISRO) missions. ISRO has carried out 125 spacecraft missions, 92 launch missions and planned several missions including the Gaganyaan (crewed/robotic) and Interplanetary mission such as Lunar Polar Exploration Mission, Chandrayaan-4, Shukrayaan and Mangalyaan-2 (MOM 2).\n"
     ]
    }
   ],
   "source": [
    "#Tool - predefine functionality\n",
    "#Agents and Tools\n",
    "from langchain_community.tools import WikipediaQueryRun\n",
    "from langchain_community.utilities import WikipediaAPIWrapper\n",
    "\n",
    "api_wrapper=WikipediaAPIWrapper()\n",
    "tool=WikipediaQueryRun(api_wrapper=api_wrapper)\n",
    "print(tool.run({\"query\": \"ISRO\"}))"
   ]
  },
  {
   "cell_type": "code",
   "execution_count": 8,
   "metadata": {},
   "outputs": [
    {
     "name": "stdout",
     "output_type": "stream",
     "text": [
      "['https://www.youtube.com/watch?v=5f2jJbwOs9I&pp=ygUMQnV5aW5nIGZhY3Rz', 'https://www.youtube.com/watch?v=1FcXUvH98C8&pp=ygUMQnV5aW5nIGZhY3Rz']\n"
     ]
    }
   ],
   "source": [
    "from langchain_community.tools import YouTubeSearchTool\n",
    "\n",
    "tool2=YouTubeSearchTool()\n",
    "print(tool2.run(\"Buying facts\"))\n"
   ]
  },
  {
   "cell_type": "code",
   "execution_count": 11,
   "metadata": {},
   "outputs": [
    {
     "data": {
      "text/plain": [
       "[{'url': 'https://www.cbsnews.com/live-updates/la-fires-southern-california-containment-efforts/',\n",
       "  'content': 'Los Angeles County Sheriff Robert Luna said Thursday there are \"multiple reasons\" why authorities cannot let people into the Palisades and Eaton fire areas as search and rescue operations continue in both areas. Five were reported missing on Wednesday, with four in the Eaton Fire area and one near the Palisades, said Los Angeles County Sheriff Robert Luna. There are 82,400 people under mandatory evacuation orders Thursday in Los Angeles County, said Sheriff Robert Luna at a news conference. The last 24 hours has seen \"little to no fire growth\" in the L.A.-area wildfires, although the Palisades Fire is an exception, an official said at a news conference Thursday morning.'},\n",
       " {'url': 'https://www.cnn.com/weather/live-news/fire-los-angeles-california-palisades-ventura-eaton-01-15-25-hnk/index.html',\n",
       "  'content': 'Live updates: Los Angeles wildfires, Palisades and Eaton fires, Auto fire in Ventura | CNN The Los Angeles Fire Department did not pre-position about 1,000 available firefighters and dozens of fire engines on January 7 as winds picked up, ahead of the destructive Palisades Fire, the Los Angeles Times reported on Tuesday, citing interviews with current and former LAFD officials and internal LAFD records. Republicans in Congress will consider “culpability” when approving any disaster aid for Democratic-led California, said House Speaker Mike Johnson Tuesday, as deadly wildfires ravage Los Angeles County for a second week. Less than a month before the fires swept across Los Angeles County, a group of longtime firefighters gathered at City Hall to plead for more resources, according to the report by CNN Investigates.'},\n",
       " {'url': 'https://www.bbc.com/news/articles/clyxypryrnko',\n",
       "  'content': \"LA fires: What's happening in Los Angeles, and what caused the wildfires? Out-of-control wildfires are ripping across parts of Los Angeles, leading to at least five deaths, burning down hundreds of buildings, and prompting more than 130,000 people to flee their homes in America's second-largest city. Paris Hilton and Adam Brody among celebrities to lose homes in wildfires ------------------------------------------------------------------------ 1 hr ago US & Canada 3 hrs ago  In maps: Thousands of acres on fire in LA ----------------------------------------- Maps and images showing how the fires currently affecting the Los Angeles area are developing. 3 hrs ago  Watch: Moment house collapses as LA wildfires rage on ----------------------------------------------------- Footage shows the moment a four-storey home collapses after being engulfed by flames. About the BBC\"},\n",
       " {'url': 'https://www.nytimes.com/live/2025/01/15/us/los-angeles-wildfires-california',\n",
       "  'content': 'California Wildfires Live Updates: Los Angeles Winds and Low Humidity Heighten Fire Risk - The New York Times Residents of the Los Angeles area faced a third consecutive day of strong wind warnings and remained at risk for new fires on Wednesday, more than a week after devastating blazes began tearing through Southern California. “We’re going to show Los Angeles to the world, that we have the grit and resilience to again build ourselves better than we were,” said Mr. Hochman, whose office so far had charged a dozen people with either looting or arson. Firefighters in Los Angeles have thus far been able to prevent the wildfires from spreading into the Brentwood neighborhood where Vice President Kamala Harris owns a home.Credit...Mark Abramson for The New York Times'},\n",
       " {'url': 'https://abcnews.go.com/US/live-updates/la-fires-live-updates-2nd-fire-escalates-quickly/?id=117448186',\n",
       "  'content': 'LA fires live updates: Firefighter injured, burn injuries reported in Palisades Fire - ABC News A building burns during the Palisades Fire in the Pacific Palisades neighborhood of west Los Angeles, California, on Jan. 7, 2025. One firefighter has been injured and \"multiple\" people burned in the Palisades blaze, according to the Los Angeles Fire Department. A woman waters the area in front of her house before leaving following an evacuation order, as a wildfire burns in the Pacific Palisades neighborhood of west Los Angeles, in Santa Monica, California, on Jan. 7, 2025. LA fires live updates: Firefighter injured, burn injuries reported in Palisades Fire ------------------------------------------------------------------------------------ * 19 minutes ago'}]"
      ]
     },
     "execution_count": 11,
     "metadata": {},
     "output_type": "execute_result"
    }
   ],
   "source": [
    "#Tools for websearch\n",
    "from langchain_community.tools.tavily_search import TavilySearchResults\n",
    "\n",
    "tool3=TavilySearchResults()\n",
    "tool3.invoke({\"query\": \"What is the current situation of Los Angeles forest fire?\"})"
   ]
  },
  {
   "cell_type": "code",
   "execution_count": 20,
   "metadata": {},
   "outputs": [],
   "source": [
    "#Create a Custom length tool\n",
    "from langchain.agents import tool\n",
    "@tool\n",
    "def get_word_length_tool(word:str)->int:\n",
    "    \"Return the lenth of a word\"\n",
    "    return len(word)"
   ]
  },
  {
   "cell_type": "code",
   "execution_count": 21,
   "metadata": {},
   "outputs": [
    {
     "data": {
      "text/plain": [
       "10"
      ]
     },
     "execution_count": 21,
     "metadata": {},
     "output_type": "execute_result"
    }
   ],
   "source": [
    "get_word_length_tool.invoke(\"AGENTIC_AI\")"
   ]
  },
  {
   "cell_type": "code",
   "execution_count": 30,
   "metadata": {},
   "outputs": [],
   "source": [
    "#Custom addition tool\n",
    "@tool\n",
    "def add_tool(a : int, b :int)->int:\n",
    "    \"Adding two numbers\"\n",
    "    return (a+b)"
   ]
  },
  {
   "cell_type": "code",
   "execution_count": 31,
   "metadata": {},
   "outputs": [
    {
     "data": {
      "text/plain": [
       "47"
      ]
     },
     "execution_count": 31,
     "metadata": {},
     "output_type": "execute_result"
    }
   ],
   "source": [
    "add_tool.invoke({'a':20,'b':27})"
   ]
  },
  {
   "cell_type": "code",
   "execution_count": 32,
   "metadata": {},
   "outputs": [],
   "source": [
    "#Custom addition tool\n",
    "@tool\n",
    "def multiply_tool(a : int, b :int)->int:\n",
    "    \"Adding two numbers\"\n",
    "    return (a*b)"
   ]
  },
  {
   "cell_type": "code",
   "execution_count": 33,
   "metadata": {},
   "outputs": [
    {
     "data": {
      "text/plain": [
       "540"
      ]
     },
     "execution_count": 33,
     "metadata": {},
     "output_type": "execute_result"
    }
   ],
   "source": [
    "multiply_tool.invoke({'a':20,'b':27})"
   ]
  },
  {
   "cell_type": "code",
   "execution_count": null,
   "metadata": {},
   "outputs": [],
   "source": [
    "#Important Concepts Of Agents\n",
    "#Older version(legacy-Version 1)\n",
    "\n",
    "from langchain.agents import AgentType\n",
    "from langchain.agents import load_tools \n",
    "from langchain.agents import initialize_agent\n"
   ]
  },
  {
   "cell_type": "code",
   "execution_count": 36,
   "metadata": {},
   "outputs": [],
   "source": [
    "tool=load_tools([\"wikipedia\"],llm=llm_groq)"
   ]
  },
  {
   "cell_type": "code",
   "execution_count": 37,
   "metadata": {},
   "outputs": [
    {
     "name": "stderr",
     "output_type": "stream",
     "text": [
      "C:\\Users\\Toshiba\\AppData\\Local\\Temp\\ipykernel_13380\\246002197.py:1: LangChainDeprecationWarning: LangChain agents will continue to be supported, but it is recommended for new use cases to be built with LangGraph. LangGraph offers a more flexible and full-featured framework for building agents, including support for tool-calling, persistence of state, and human-in-the-loop workflows. For details, refer to the `LangGraph documentation <https://langchain-ai.github.io/langgraph/>`_ as well as guides for `Migrating from AgentExecutor <https://python.langchain.com/docs/how_to/migrate_agent/>`_ and LangGraph's `Pre-built ReAct agent <https://langchain-ai.github.io/langgraph/how-tos/create-react-agent/>`_.\n",
      "  agent=initialize_agent(tool,llm_groq,agent=AgentType.ZERO_SHOT_REACT_DESCRIPTION,verbose=True)\n"
     ]
    }
   ],
   "source": [
    "agent=initialize_agent(tool,llm_groq,agent=AgentType.ZERO_SHOT_REACT_DESCRIPTION,verbose=True)"
   ]
  },
  {
   "cell_type": "code",
   "execution_count": 38,
   "metadata": {},
   "outputs": [
    {
     "name": "stderr",
     "output_type": "stream",
     "text": [
      "C:\\Users\\Toshiba\\AppData\\Local\\Temp\\ipykernel_13380\\1733481556.py:1: LangChainDeprecationWarning: The method `Chain.run` was deprecated in langchain 0.1.0 and will be removed in 1.0. Use :meth:`~invoke` instead.\n",
      "  agent.run(\"ISRO?\")\n"
     ]
    },
    {
     "name": "stdout",
     "output_type": "stream",
     "text": [
      "\n",
      "\n",
      "\u001b[1m> Entering new AgentExecutor chain...\u001b[0m\n",
      "\u001b[32;1m\u001b[1;3mThought: I need to know what ISRO stands for to answer this question. \n",
      "Action: wikipedia\n",
      "Action Input: ISRO\u001b[0m\n",
      "Observation: \u001b[36;1m\u001b[1;3mPage: ISRO\n",
      "Summary: The Indian Space Research Organisation (ISRO ) is India's national space agency. It serves as the principal research and development arm of the Department of Space (DoS), overseen by the Prime Minister of India, with the Chairman of ISRO also serving as the chief executive of the DoS. It is primarily responsible for space-based operations, space exploration, international space cooperation and the development of related technologies. The agency maintains a constellation of imaging, communication and remote sensing satellites. It operates the GAGAN and IRNSS satellite navigation systems. It has sent three missions to the Moon and one mission to Mars.\n",
      "Formerly known as the Indian National Committee for Space Research (INCOSPAR), it was set up in 1962 by then-Prime Minister Jawaharlal Nehru on the recommendation of scientist Vikram Sarabhai. It was renamed as ISRO in 1969 and was subsumed into the Department of Atomic Energy (DAE). The establishment of ISRO institutionalised space research activities in India. In 1972, the Government set up a Space Commission and the DoS, bringing ISRO under its purview. It has since then been managed by the DoS, which also governs various other institutions in the domain of astronomy and space technology.\n",
      "ISRO built India's first satellite Aryabhata which was launched by the Soviet space agency Interkosmos in 1975. In 1980, it launched the satellite RS-1 onboard the indigenously built launch vehicle SLV-3, making India the seventh country to undertake orbital launches. It has subsequently developed various small-lift and medium-lift launch vehicles, enabling the agency to launch various satellites and deep space missions. It is one of the six government space agencies in the world that possess full launch capabilities with the ability to deploy cryogenic engines, launch extraterrestrial missions and artificial satellites. It is also one of only four governmental space agencies in to have demonstrated unmanned soft landing capabilities.\n",
      "ISRO's programmes have played a significant role in socio-economic development. It has supported both civilian and military domains in various aspects such as disaster management, telemedicine, navigation and reconnaissance. ISRO's spin-off technologies have also aided in new innovations in engineering and other allied domains.\n",
      "\n",
      "Page: Chairperson of the Indian Space Research Organisation\n",
      "Summary: The Chairman of the Indian Space Research Organisation is the statutory head of the Indian Space Research Organisation (ISRO). The officeholder is a secretary to the Government of India and an executive of the Department of Space (DOS) which directly reports to the Prime Minister of India.\n",
      "The Indian National Committee for Space Research (INCOSPAR) was founded in 1962 under the Department of Atomic Energy (DAE) with Vikram Sarabhai as its chairperson which in 1969 became ISRO. In 1972, government of India had set up a space commission and DOS and brought ISRO under DOS.\n",
      "Since Sarabhai has assumed the position, there have been eleven chairmen of the ISRO, with Satish Dhawan serving the longest term of 12 years as the chairman.\n",
      "Recently on 8 January 2025, The Central Government has appointed Dr V Narayanan, currently the director of Liquid Propulsion Systems Centre (LPSC), Thiruvananthapuram, as the new chairperson of the Indian Space Research Organisation (Isro), and also as the secretary of the Department of Space.\n",
      "\n",
      "Page: List of ISRO missions\n",
      "Summary: This is a list of Indian Space Research Organisation (ISRO) missions. ISRO has carried out 125 spacecraft missions, 92 launch missions and planned several missions including the Gaganyaan (crewed/robotic) and Interplanetary mission such as Lunar Polar Exploration Mission, Chandrayaan-4, Shukrayaan and Mangalyaan-2 (MOM 2).\u001b[0m\n",
      "Thought:\u001b[32;1m\u001b[1;3mThought: I now know the final answer\n",
      "Final Answer: ISRO stands for the Indian Space Research Organisation. It is India's national space agency. \n",
      "\n",
      "\n",
      "\u001b[0m\n",
      "\n",
      "\u001b[1m> Finished chain.\u001b[0m\n"
     ]
    },
    {
     "data": {
      "text/plain": [
       "\"ISRO stands for the Indian Space Research Organisation. It is India's national space agency.\""
      ]
     },
     "execution_count": 38,
     "metadata": {},
     "output_type": "execute_result"
    }
   ],
   "source": [
    "agent.run(\"ISRO?\")"
   ]
  },
  {
   "cell_type": "code",
   "execution_count": 39,
   "metadata": {},
   "outputs": [
    {
     "data": {
      "text/plain": [
       "[{'url': 'https://www.weatherapi.com/',\n",
       "  'content': \"{'location': {'name': 'Trichy', 'region': 'Tamil Nadu', 'country': 'India', 'lat': 10.805, 'lon': 78.6856, 'tz_id': 'Asia/Kolkata', 'localtime_epoch': 1737177489, 'localtime': '2025-01-18 10:48'}, 'current': {'last_updated_epoch': 1737177300, 'last_updated': '2025-01-18 10:45', 'temp_c': 26.0, 'temp_f': 78.8, 'is_day': 1, 'condition': {'text': 'Mist', 'icon': '//cdn.weatherapi.com/weather/64x64/day/143.png', 'code': 1030}, 'wind_mph': 13.6, 'wind_kph': 22.0, 'wind_degree': 22, 'wind_dir': 'NNE', 'pressure_mb': 1013.0, 'pressure_in': 29.91, 'precip_mm': 0.0, 'precip_in': 0.0, 'humidity': 84, 'cloud': 75, 'feelslike_c': 27.2, 'feelslike_f': 80.9, 'windchill_c': 26.3, 'windchill_f': 79.3, 'heatindex_c': 27.5, 'heatindex_f': 81.4, 'dewpoint_c': 17.8, 'dewpoint_f': 64.1, 'vis_km': 3.0, 'vis_miles': 1.0, 'uv': 6.1, 'gust_mph': 15.7, 'gust_kph': 25.3}}\"},\n",
       " {'url': 'https://www.weatheravenue.com/en/asia/in/tamil-nadu/trichy-weather-15-days.html',\n",
       "  'content': '☼ Trichy Tamil Nadu India 15 Day Weather Forecast. Today Trichy Tamil Nadu India: Haze with a temperature of 29°C and a wind North-East speed of 22 Km/h. The humidity will be 62% and there will be 0.0 mm of precipitation. ... Saturday 18 January 2025 . Trichy. Overcast : 27°C 81°F | 20°C 69°F : 17 Km/h 11 mph: 100% : 60% . More details'},\n",
       " {'url': 'https://m.weatheravenue.com/en/asia/in/tamil-nadu/trichy-weather-15-days.html',\n",
       "  'content': '☼ Trichy Tamil Nadu India 15 Day Weather Forecast. Today Trichy Tamil Nadu India: Haze with a temperature of 31°C and a wind East-North-East speed of 17 Km/h. ... Monday 13 January 2025. Haze . Temperature : 31°C 88°F | 22°C 72°F Felt : ... Saturday 18 January 2025. Patchy rain nearby . Temperature : 27°C 81°F | 21°C 69°F Felt :'},\n",
       " {'url': 'https://www.weather-atlas.com/en/india/tiruchirappalli-weather-january',\n",
       "  'content': \"January, the same as December, is a moderately hot winter month in Tiruchirappalli, India, with an average temperature ranging between min 20.3°C (68.5°F) and max 29.4°C (84.9°F). Temperature Tiruchirappalli records an average high-temperature of a still warm 29.4°C (84.9°F) in January, maintaining a close correlation with December's 29.1°C (84.4°F).\"},\n",
       " {'url': 'https://www.meteoblue.com/en/weather/week/trichy_india_7603116',\n",
       "  'content': 'Temperatures peaking at 80 °F. Overnight into Sunday blows a light breeze (4 to 8 mph). In the course of day a gentle breeze is expected (8 to 12 mph). Gusts to 20 mph are possible. Winds blowing overnight from North and by day from Northeast. The weather forecast for Trichy for Sunday can be accurate in parts but deviations are expected.'}]"
      ]
     },
     "execution_count": 39,
     "metadata": {},
     "output_type": "execute_result"
    }
   ],
   "source": [
    "from langchain_community.tools.tavily_search import TavilySearchResults\n",
    "search = TavilySearchResults()\n",
    "search.invoke(\"what is the Current weather in Trichy\")"
   ]
  },
  {
   "cell_type": "code",
   "execution_count": 40,
   "metadata": {},
   "outputs": [],
   "source": [
    "tools = [search]"
   ]
  },
  {
   "cell_type": "code",
   "execution_count": 51,
   "metadata": {},
   "outputs": [],
   "source": [
    "#import the prompt from langchain hub\n",
    "from langchain import hub\n",
    "prompt = hub.pull(\"hwchase17/openai-tools-agent\")"
   ]
  },
  {
   "cell_type": "code",
   "execution_count": 52,
   "metadata": {},
   "outputs": [],
   "source": [
    "from langchain.agents import create_tool_calling_agent\n",
    "agent = create_tool_calling_agent(llm_groq, tools, prompt)"
   ]
  },
  {
   "cell_type": "code",
   "execution_count": 53,
   "metadata": {},
   "outputs": [
    {
     "data": {
      "text/plain": [
       "ChatPromptTemplate(input_variables=['agent_scratchpad', 'input'], optional_variables=['chat_history'], input_types={'chat_history': list[typing.Annotated[typing.Union[typing.Annotated[langchain_core.messages.ai.AIMessage, Tag(tag='ai')], typing.Annotated[langchain_core.messages.human.HumanMessage, Tag(tag='human')], typing.Annotated[langchain_core.messages.chat.ChatMessage, Tag(tag='chat')], typing.Annotated[langchain_core.messages.system.SystemMessage, Tag(tag='system')], typing.Annotated[langchain_core.messages.function.FunctionMessage, Tag(tag='function')], typing.Annotated[langchain_core.messages.tool.ToolMessage, Tag(tag='tool')], typing.Annotated[langchain_core.messages.ai.AIMessageChunk, Tag(tag='AIMessageChunk')], typing.Annotated[langchain_core.messages.human.HumanMessageChunk, Tag(tag='HumanMessageChunk')], typing.Annotated[langchain_core.messages.chat.ChatMessageChunk, Tag(tag='ChatMessageChunk')], typing.Annotated[langchain_core.messages.system.SystemMessageChunk, Tag(tag='SystemMessageChunk')], typing.Annotated[langchain_core.messages.function.FunctionMessageChunk, Tag(tag='FunctionMessageChunk')], typing.Annotated[langchain_core.messages.tool.ToolMessageChunk, Tag(tag='ToolMessageChunk')]], FieldInfo(annotation=NoneType, required=True, discriminator=Discriminator(discriminator=<function _get_type at 0x0000022C50689090>, custom_error_type=None, custom_error_message=None, custom_error_context=None))]], 'agent_scratchpad': list[typing.Annotated[typing.Union[typing.Annotated[langchain_core.messages.ai.AIMessage, Tag(tag='ai')], typing.Annotated[langchain_core.messages.human.HumanMessage, Tag(tag='human')], typing.Annotated[langchain_core.messages.chat.ChatMessage, Tag(tag='chat')], typing.Annotated[langchain_core.messages.system.SystemMessage, Tag(tag='system')], typing.Annotated[langchain_core.messages.function.FunctionMessage, Tag(tag='function')], typing.Annotated[langchain_core.messages.tool.ToolMessage, Tag(tag='tool')], typing.Annotated[langchain_core.messages.ai.AIMessageChunk, Tag(tag='AIMessageChunk')], typing.Annotated[langchain_core.messages.human.HumanMessageChunk, Tag(tag='HumanMessageChunk')], typing.Annotated[langchain_core.messages.chat.ChatMessageChunk, Tag(tag='ChatMessageChunk')], typing.Annotated[langchain_core.messages.system.SystemMessageChunk, Tag(tag='SystemMessageChunk')], typing.Annotated[langchain_core.messages.function.FunctionMessageChunk, Tag(tag='FunctionMessageChunk')], typing.Annotated[langchain_core.messages.tool.ToolMessageChunk, Tag(tag='ToolMessageChunk')]], FieldInfo(annotation=NoneType, required=True, discriminator=Discriminator(discriminator=<function _get_type at 0x0000022C50689090>, custom_error_type=None, custom_error_message=None, custom_error_context=None))]]}, partial_variables={'chat_history': []}, metadata={'lc_hub_owner': 'hwchase17', 'lc_hub_repo': 'openai-tools-agent', 'lc_hub_commit_hash': 'c18672812789a3b9697656dd539edf0120285dcae36396d0b548ae42a4ed66f5'}, messages=[SystemMessagePromptTemplate(prompt=PromptTemplate(input_variables=[], input_types={}, partial_variables={}, template='You are a helpful assistant'), additional_kwargs={}), MessagesPlaceholder(variable_name='chat_history', optional=True), HumanMessagePromptTemplate(prompt=PromptTemplate(input_variables=['input'], input_types={}, partial_variables={}, template='{input}'), additional_kwargs={}), MessagesPlaceholder(variable_name='agent_scratchpad')])"
      ]
     },
     "execution_count": 53,
     "metadata": {},
     "output_type": "execute_result"
    }
   ],
   "source": [
    "prompt"
   ]
  },
  {
   "cell_type": "code",
   "execution_count": 54,
   "metadata": {},
   "outputs": [],
   "source": [
    "from langchain.agents import AgentExecutor\n",
    "agent_executor = AgentExecutor(agent=agent, tools=tools, verbose=True)"
   ]
  },
  {
   "cell_type": "code",
   "execution_count": 55,
   "metadata": {},
   "outputs": [
    {
     "name": "stdout",
     "output_type": "stream",
     "text": [
      "\n",
      "\n",
      "\u001b[1m> Entering new AgentExecutor chain...\u001b[0m\n",
      "\u001b[32;1m\u001b[1;3m\n",
      "Invoking: `tavily_search_results_json` with `{'query': 'how are you'}`\n",
      "\n",
      "\n",
      "\u001b[0m\u001b[36;1m\u001b[1;3m[{'url': 'https://eslspeaking.org/ways-to-answer-how-are-you/', 'content': 'Different Ways to Answer How Are You\\nCreative Ways to Answer How Are You\\nThe following are more creative reply to the question “how are you?”\\nFAQs About How Are You Replies\\nHere are some of the most frequently asked questions about how to answer “how are you?” qusetion.\\n Following are some good ways to reply nicely to “how are you?”\\nDaily English Resources\\nIf you are looking for more English speaking resources like this one, check out the following topics.\\nWays to Answer How Are You: Join the Conversation\\nHow do you usually reply when someone says “how are you?” The Most Common 4 Letter Words from A to Z\\nAnimal Names: Animals that Start with the Letter E\\nDifferent Ways to Say Good Night in English\\nThe Most Common 5 Letter Words from A to Z\\nJackie Bolen has been talking ESL speaking since 2014 and the goal is to bring you the best recommendations for English conversation games, activities, lesson plans and more. Following are some flirty responses to “How are you?”:\\nIs it polite to say how are you?\\nYes, asking “how are you” is considered polite and a common social nicety. in ESL Speaking Resources· Learn English\\nDifferent Ways to Answer the Question “How Are You?”\\nThe most commonly asked question in English is probably “How are you?”'}, {'url': 'https://www.broadlearners.com/t/10-different-ways-to-say-how-are-you-in-english/1522', 'content': \"Asking someone how they are is a common greeting in English, but there are many different ways to ask this question. This is a casual and friendly way to ask someone how they are. Person A: How are you doing? Person B: I'm doing well, thanks for asking. This is another casual and common way to ask about someone's well-being. Person A: Hey, how's it going? Person A: How are things? Person B: Things are going well. Person B: Not much, just enjoying my day. Person A: How's everything? Person B: Everything is going well. Person A: Hi, how's your day going? Person B: It's been busy, but good overall. Person A: Hey, what's new? Person B: Life's been good to me lately.\"}, {'url': 'https://eslforums.com/how-are-you/', 'content': 'However, you can also use the question as a simple greeting and move on to a different topic of conversation.\\nWays to Ask “How are you?”\\nTo ask “how are you?”, you can use any of the phrases I provided in my previous responses. How Are You\\nWays to Respond to “How are you?”\\nTo answer the question, you can use any of the phrases I provided as well. Table of Contents\\n“How are you?”\\nHow to Use “How are you?”?\\n or “I’ve been feeling a bit down, but I’m trying to focus on the good things in my life.”\\nResponding to “How are you?” In this lesson, you will learn a list of 16 sentences you can use instead of “How are you?” in English and how to respond to it.'}, {'url': 'https://cleverreplies.com/other-ways-to-ask-how-are-you/', 'content': '25 New Ways to Ask ‘How Are You?’ (2024) ‘How Are You?’ – 25 Casual, formal & funny Ways to Ask | Clever Replies ‘How Are You?’ – 25 Casual, formal & funny Ways to Ask | Clever Replies Casual Ways to Ask ‘How Are You?’ Formal Ways to Ask ‘How Are You?’ Funny Ways to Ask ‘How Are You?’ This is also an example of a light-hearted way to ask ‘how someone is doing’ or ‘what’s going on.’ For example, In Casual conversations questions like ‘What’s new with you?’ are suitable as they are more friendly, but for more formal inquiries you cannot obviously go with ‘What’s new’ – here you can use something like ‘How have you been?’'}, {'url': 'https://7esl.com/how-are-you/', 'content': '7ESL » Expressions » Phrases » 40 Other Ways to Ask “How Are You” in English\\n40 Other Ways to Ask “How Are You” in English\\nThe way that you ask someone “how are you?” may vary depending on who is being asked and in what setting the conversation is taking place. Related links:\\n21 thoughts on “40 Other Ways to Ask “How Are You” in English”\\nComment navigation\\nWhat’s new\\nI like lessons\\nThank you\\nGood\\nTHANKS ALOT! How’s it rolling?\\nComment navigation\\nLeave a Comment Cancel reply\\nComment\\nΔ\\nFree Courses\\nLevel Tests\\nCompany\\nFollow Us The list below shows different ways to ask “How Are You” in English that you can use in your daily English conversations.\\n Idiomatic Ways to Ask “How Are You?”\\nThese are playful, casual ways to find out how your buddy or pal is doing.'}]\u001b[0m\u001b[32;1m\u001b[1;3mI am doing well, thank you for asking.\u001b[0m\n",
      "\n",
      "\u001b[1m> Finished chain.\u001b[0m\n"
     ]
    },
    {
     "data": {
      "text/plain": [
       "{'input': 'hello how are you?',\n",
       " 'output': 'I am doing well, thank you for asking.'}"
      ]
     },
     "execution_count": 55,
     "metadata": {},
     "output_type": "execute_result"
    }
   ],
   "source": [
    "agent_executor.invoke({\"input\": \"hello how are you?\"})"
   ]
  },
  {
   "cell_type": "code",
   "execution_count": 56,
   "metadata": {},
   "outputs": [
    {
     "name": "stdout",
     "output_type": "stream",
     "text": [
      "\n",
      "\n",
      "\u001b[1m> Entering new AgentExecutor chain...\u001b[0m\n",
      "\u001b[32;1m\u001b[1;3m\n",
      "Invoking: `tavily_search_results_json` with `{'query': 'Current temperature in Trichy'}`\n",
      "\n",
      "\n",
      "\u001b[0m\u001b[36;1m\u001b[1;3m[{'url': 'https://www.theweathernetwork.com/en/city/in/tamil-nadu/trichy/current', 'content': 'Trichy, TN, IN Current Weather ; Evening. Partly cloudy. 26°. Feels 26 · 20% ; Overnight. Partly cloudy. 22°. Feels 23 · 20% ; Morning. A mix of sun and clouds. 26°.'}, {'url': 'https://www.timeanddate.com/weather/india/tiruchirapalli/ext', 'content': 'Night Sky · TodayHourly14 DaysPastClimate. Currently: 77 °F. Fog. (Weather station: Tiruchchirapalli, India). See more current weather ... Temperature, Weather'}, {'url': 'https://timesofindia.indiatimes.com/travel/tiruchirappalli/weather', 'content': \"Today's temperature in Tiruchirappalli is 23°c. Day's maximum temperature would hover at 31°c, while minimum temperature is predicted to be 22°c. Best Time\"}, {'url': 'https://www.timeanddate.com/weather/india/tiruchirapalli', 'content': 'Night Sky · TodayHourly14 DaysPastClimate. Now 75 °F. Fog. Feels Like: 75 °F Forecast: 86 / 72 °F Wind: 10 mph ↑ from Northeast. Location: Tiruchchirapalli.'}, {'url': 'https://www.accuweather.com/en/in/tiruchirappalli/190803/current-weather/190803', 'content': 'Current Weather. 4:55 AM. 75°F. Light fog. RealFeel® 77°. Pleasant. RealFeel Guide. Pleasant. 63° to 81°. Most consider this temperature range ideal. LEARN MORE.'}]\u001b[0m\u001b[32;1m\u001b[1;3m26°  \u001b[0m\n",
      "\n",
      "\u001b[1m> Finished chain.\u001b[0m\n"
     ]
    },
    {
     "data": {
      "text/plain": [
       "{'input': 'Current temperature in Trichy?', 'output': '26°  '}"
      ]
     },
     "execution_count": 56,
     "metadata": {},
     "output_type": "execute_result"
    }
   ],
   "source": [
    "agent_executor.invoke({\"input\": \"Current temperature in Trichy?\"})"
   ]
  },
  {
   "cell_type": "code",
   "execution_count": null,
   "metadata": {},
   "outputs": [],
   "source": []
  },
  {
   "cell_type": "code",
   "execution_count": null,
   "metadata": {},
   "outputs": [],
   "source": []
  }
 ],
 "metadata": {
  "kernelspec": {
   "display_name": "langgraphe2e",
   "language": "python",
   "name": "python3"
  },
  "language_info": {
   "codemirror_mode": {
    "name": "ipython",
    "version": 3
   },
   "file_extension": ".py",
   "mimetype": "text/x-python",
   "name": "python",
   "nbconvert_exporter": "python",
   "pygments_lexer": "ipython3",
   "version": "3.10.16"
  }
 },
 "nbformat": 4,
 "nbformat_minor": 2
}
