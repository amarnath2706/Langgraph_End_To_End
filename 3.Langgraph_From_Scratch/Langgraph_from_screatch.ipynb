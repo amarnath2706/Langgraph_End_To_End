{
 "cells": [
  {
   "cell_type": "code",
   "execution_count": 26,
   "metadata": {},
   "outputs": [],
   "source": [
    "def function1(input1):\n",
    "    return input1 + \"from first function\"\n",
    "\n",
    "def function2(input2):\n",
    "    #output=function3(\"this is function 3 in between\")\n",
    "    return input2 + \" and Amar from second function\" "
   ]
  },
  {
   "cell_type": "code",
   "execution_count": 27,
   "metadata": {},
   "outputs": [],
   "source": [
    "from langgraph.graph import Graph"
   ]
  },
  {
   "cell_type": "code",
   "execution_count": 28,
   "metadata": {},
   "outputs": [],
   "source": [
    "#create workflow\n",
    "workflow1=Graph()"
   ]
  },
  {
   "cell_type": "code",
   "execution_count": 29,
   "metadata": {},
   "outputs": [
    {
     "data": {
      "text/plain": [
       "<langgraph.graph.graph.Graph at 0x1bb2038bf10>"
      ]
     },
     "execution_count": 29,
     "metadata": {},
     "output_type": "execute_result"
    }
   ],
   "source": [
    "#Add node into the workflow\n",
    "workflow1.add_node(\"fn1\", function1) #fn1 - custom name of the fn"
   ]
  },
  {
   "cell_type": "code",
   "execution_count": 30,
   "metadata": {},
   "outputs": [
    {
     "data": {
      "text/plain": [
       "<langgraph.graph.graph.Graph at 0x1bb2038bf10>"
      ]
     },
     "execution_count": 30,
     "metadata": {},
     "output_type": "execute_result"
    }
   ],
   "source": [
    "#workflow 2\n",
    "#Add another fn in workflow2\n",
    "workflow1.add_node(\"fn2\",function2)"
   ]
  },
  {
   "cell_type": "code",
   "execution_count": 31,
   "metadata": {},
   "outputs": [
    {
     "data": {
      "text/plain": [
       "<langgraph.graph.graph.Graph at 0x1bb2038bf10>"
      ]
     },
     "execution_count": 31,
     "metadata": {},
     "output_type": "execute_result"
    }
   ],
   "source": [
    "#Adding edges - From function1 to function2\n",
    "workflow1.add_edge(\"fn1\",\"fn2\")\n"
   ]
  },
  {
   "cell_type": "code",
   "execution_count": 32,
   "metadata": {},
   "outputs": [
    {
     "data": {
      "text/plain": [
       "<langgraph.graph.graph.Graph at 0x1bb2038bf10>"
      ]
     },
     "execution_count": 32,
     "metadata": {},
     "output_type": "execute_result"
    }
   ],
   "source": [
    "#Create an entry point \n",
    "workflow1.set_entry_point(\"fn1\")\n"
   ]
  },
  {
   "cell_type": "code",
   "execution_count": 33,
   "metadata": {},
   "outputs": [
    {
     "data": {
      "text/plain": [
       "<langgraph.graph.graph.Graph at 0x1bb2038bf10>"
      ]
     },
     "execution_count": 33,
     "metadata": {},
     "output_type": "execute_result"
    }
   ],
   "source": [
    "workflow1.set_finish_point(\"fn2\") "
   ]
  },
  {
   "cell_type": "code",
   "execution_count": 34,
   "metadata": {},
   "outputs": [],
   "source": [
    "app = workflow1.compile()"
   ]
  },
  {
   "cell_type": "code",
   "execution_count": 35,
   "metadata": {},
   "outputs": [
    {
     "data": {
      "image/png": "[encoded data removed]",
      "text/plain": [
       "<IPython.core.display.Image object>"
      ]
     },
     "metadata": {},
     "output_type": "display_data"
    }
   ],
   "source": [
    "#Graph Visualization\n",
    "from IPython.display import Image, display\n",
    "\n",
    "try:\n",
    "    display(Image(app.get_graph().draw_mermaid_png()))\n",
    "except Exception as e:\n",
    "    # This requires some extra dependencies and is optional\n",
    "    print(e)"
   ]
  },
  {
   "cell_type": "code",
   "execution_count": 36,
   "metadata": {},
   "outputs": [
    {
     "data": {
      "text/plain": [
       "'Hi Iam Amarnath from first function and Amar from second function'"
      ]
     },
     "execution_count": 36,
     "metadata": {},
     "output_type": "execute_result"
    }
   ],
   "source": [
    "app.invoke(\"Hi Iam Amarnath \")"
   ]
  },
  {
   "cell_type": "code",
   "execution_count": 39,
   "metadata": {},
   "outputs": [],
   "source": [
    "input = \"Hi Iam Amarnath \""
   ]
  },
  {
   "cell_type": "code",
   "execution_count": 40,
   "metadata": {},
   "outputs": [
    {
     "name": "stdout",
     "output_type": "stream",
     "text": [
      "here is output from fn1\n",
      "_______\n",
      "Hi Iam Amarnath from first function\n",
      "\n",
      "\n",
      "here is output from fn2\n",
      "_______\n",
      "Hi Iam Amarnath from first function and Amar from second function\n",
      "\n",
      "\n"
     ]
    }
   ],
   "source": [
    "#Stream of output\n",
    "for output in app.stream(input):\n",
    "    for key,value in output.items():\n",
    "        print(f\"here is output from {key}\")\n",
    "        print(\"_______\")\n",
    "        print(value)\n",
    "        print(\"\\n\")"
   ]
  },
  {
   "cell_type": "code",
   "execution_count": 42,
   "metadata": {},
   "outputs": [],
   "source": [
    "def funct3(input3):\n",
    "    return input3"
   ]
  },
  {
   "cell_type": "code",
   "execution_count": 62,
   "metadata": {},
   "outputs": [],
   "source": [
    "def funct1(input1):\n",
    "    return input1 + \"from first function\"\n",
    "\n",
    "def funct2(input2):\n",
    "    output=funct3(\"this is function 3 in between\")\n",
    "    return input2 + \" \" + output + \" and Amar from second function\" "
   ]
  },
  {
   "cell_type": "code",
   "execution_count": 63,
   "metadata": {},
   "outputs": [
    {
     "data": {
      "text/plain": [
       "<langgraph.graph.graph.Graph at 0x1bb216c3f10>"
      ]
     },
     "execution_count": 63,
     "metadata": {},
     "output_type": "execute_result"
    }
   ],
   "source": [
    "from langgraph.graph import Graph\n",
    "\n",
    "workflow2=Graph()\n",
    "\n",
    "workflow2.add_node(\"fnc1\", funct1)\n",
    "workflow2.add_node(\"fnc2\", funct2)\n",
    "\n",
    "workflow2.add_edge(\"fnc1\",\"fnc2\")\n"
   ]
  },
  {
   "cell_type": "code",
   "execution_count": 64,
   "metadata": {},
   "outputs": [
    {
     "data": {
      "text/plain": [
       "<langgraph.graph.graph.Graph at 0x1bb216c3f10>"
      ]
     },
     "execution_count": 64,
     "metadata": {},
     "output_type": "execute_result"
    }
   ],
   "source": [
    "workflow2.set_entry_point(\"fnc1\")"
   ]
  },
  {
   "cell_type": "code",
   "execution_count": 65,
   "metadata": {},
   "outputs": [
    {
     "data": {
      "text/plain": [
       "<langgraph.graph.graph.Graph at 0x1bb216c3f10>"
      ]
     },
     "execution_count": 65,
     "metadata": {},
     "output_type": "execute_result"
    }
   ],
   "source": [
    "workflow2.set_finish_point(\"fnc2\")"
   ]
  },
  {
   "cell_type": "code",
   "execution_count": 66,
   "metadata": {},
   "outputs": [],
   "source": [
    "app1=workflow2.compile()"
   ]
  },
  {
   "cell_type": "code",
   "execution_count": 67,
   "metadata": {},
   "outputs": [
    {
     "data": {
      "image/png": "[encoded data removed]",
      "text/plain": [
       "<IPython.core.display.Image object>"
      ]
     },
     "metadata": {},
     "output_type": "display_data"
    }
   ],
   "source": [
    "from IPython.display import Image, display\n",
    "\n",
    "try:\n",
    "    display(Image(app1.get_graph().draw_mermaid_png()))\n",
    "except Exception as e:\n",
    "    # This requires some extra dependencies and is optional\n",
    "    print(e)"
   ]
  },
  {
   "cell_type": "code",
   "execution_count": 68,
   "metadata": {},
   "outputs": [
    {
     "data": {
      "text/plain": [
       "'hi this is Amarnath D from first function this is function 3 in between and Amar from second function'"
      ]
     },
     "execution_count": 68,
     "metadata": {},
     "output_type": "execute_result"
    }
   ],
   "source": [
    "app1.invoke(\"hi this is Amarnath D \")\n",
    "\n"
   ]
  },
  {
   "cell_type": "code",
   "execution_count": 71,
   "metadata": {},
   "outputs": [],
   "source": [
    "input = \"AMARNATH \""
   ]
  },
  {
   "cell_type": "code",
   "execution_count": 72,
   "metadata": {},
   "outputs": [
    {
     "name": "stdout",
     "output_type": "stream",
     "text": [
      "here is output from fnc1\n",
      "_______\n",
      "AMARNATH from first function\n",
      "\n",
      "\n",
      "here is output from fnc2\n",
      "_______\n",
      "AMARNATH from first function this is function 3 in between and Amar from second function\n",
      "\n",
      "\n"
     ]
    }
   ],
   "source": [
    "for output in app1.stream(input):\n",
    "    for key,value in output.items():\n",
    "        print(f\"here is output from {key}\")\n",
    "        print(\"_______\")\n",
    "        print(value)\n",
    "        print(\"\\n\")"
   ]
  },
  {
   "cell_type": "code",
   "execution_count": 73,
   "metadata": {},
   "outputs": [
    {
     "name": "stderr",
     "output_type": "stream",
     "text": [
      "c:\\Users\\Toshiba\\anaconda3\\envs\\langgraphe2e\\lib\\site-packages\\tqdm\\auto.py:21: TqdmWarning: IProgress not found. Please update jupyter and ipywidgets. See https://ipywidgets.readthedocs.io/en/stable/user_install.html\n",
      "  from .autonotebook import tqdm as notebook_tqdm\n"
     ]
    },
    {
     "data": {
      "text/plain": [
       "'Hello there! How can I assist you today?'"
      ]
     },
     "execution_count": 73,
     "metadata": {},
     "output_type": "execute_result"
    }
   ],
   "source": [
    " #Let's create a workflow with LLM\n",
    "from langchain_google_genai import GoogleGenerativeAIEmbeddings\n",
    "embeddings = GoogleGenerativeAIEmbeddings(model=\"models/embedding-001\")\n",
    "from langchain_google_genai import ChatGoogleGenerativeAI\n",
    "llm = ChatGoogleGenerativeAI(model=\"gemini-1.0-pro\")\n",
    "llm.invoke(\"hi\").content"
   ]
  },
  {
   "cell_type": "code",
   "execution_count": 74,
   "metadata": {},
   "outputs": [],
   "source": [
    "def func_1(input):\n",
    "    llm = ChatGoogleGenerativeAI(model=\"gemini-1.0-pro\")\n",
    "    response=llm.invoke(input).content\n",
    "    return response"
   ]
  },
  {
   "cell_type": "code",
   "execution_count": 75,
   "metadata": {},
   "outputs": [],
   "source": [
    "def func_2(input):\n",
    "    upper_case=input.upper()\n",
    "    return upper_case"
   ]
  },
  {
   "cell_type": "code",
   "execution_count": 76,
   "metadata": {},
   "outputs": [],
   "source": [
    "from langgraph.graph import Graph\n",
    "workflow3=Graph()"
   ]
  },
  {
   "cell_type": "code",
   "execution_count": 77,
   "metadata": {},
   "outputs": [
    {
     "data": {
      "text/plain": [
       "<langgraph.graph.graph.Graph at 0x1bb21883550>"
      ]
     },
     "execution_count": 77,
     "metadata": {},
     "output_type": "execute_result"
    }
   ],
   "source": [
    "workflow3.add_node(\"llm_fn1\",func_1)"
   ]
  },
  {
   "cell_type": "code",
   "execution_count": 78,
   "metadata": {},
   "outputs": [
    {
     "data": {
      "text/plain": [
       "<langgraph.graph.graph.Graph at 0x1bb21883550>"
      ]
     },
     "execution_count": 78,
     "metadata": {},
     "output_type": "execute_result"
    }
   ],
   "source": [
    "workflow3.add_node(\"upper_cast_fn2\",func_2)"
   ]
  },
  {
   "cell_type": "code",
   "execution_count": 79,
   "metadata": {},
   "outputs": [
    {
     "data": {
      "text/plain": [
       "<langgraph.graph.graph.Graph at 0x1bb21883550>"
      ]
     },
     "execution_count": 79,
     "metadata": {},
     "output_type": "execute_result"
    }
   ],
   "source": [
    "workflow3.add_edge(\"llm_fn1\",\"upper_cast_fn2\")"
   ]
  },
  {
   "cell_type": "code",
   "execution_count": 80,
   "metadata": {},
   "outputs": [
    {
     "data": {
      "text/plain": [
       "<langgraph.graph.graph.Graph at 0x1bb21883550>"
      ]
     },
     "execution_count": 80,
     "metadata": {},
     "output_type": "execute_result"
    }
   ],
   "source": [
    "workflow3.set_entry_point(\"llm_fn1\")\n",
    "workflow3.set_finish_point(\"upper_cast_fn2\")"
   ]
  },
  {
   "cell_type": "code",
   "execution_count": 81,
   "metadata": {},
   "outputs": [],
   "source": [
    "app2 = workflow3.compile()"
   ]
  },
  {
   "cell_type": "code",
   "execution_count": 82,
   "metadata": {},
   "outputs": [
    {
     "data": {
      "image/png": "[encoded data removed]",
      "text/plain": [
       "<IPython.core.display.Image object>"
      ]
     },
     "metadata": {},
     "output_type": "display_data"
    }
   ],
   "source": [
    "from IPython.display import Image, display\n",
    "\n",
    "try:\n",
    "    display(Image(app2.get_graph().draw_mermaid_png()))\n",
    "except Exception as e:\n",
    "    # This requires some extra dependencies and is optional\n",
    "    print(e)"
   ]
  },
  {
   "cell_type": "code",
   "execution_count": 84,
   "metadata": {},
   "outputs": [
    {
     "data": {
      "text/plain": [
       "'TENNIS'"
      ]
     },
     "execution_count": 84,
     "metadata": {},
     "output_type": "execute_result"
    }
   ],
   "source": [
    "app2.invoke(\"Roger Federer is famous for?\")"
   ]
  },
  {
   "cell_type": "code",
   "execution_count": 85,
   "metadata": {},
   "outputs": [
    {
     "data": {
      "text/plain": [
       "\"**ROGER FEDERER**\\n\\n**BIRTH DATE:** AUGUST 8, 1981\\n**BIRTH PLACE:** BASEL, SWITZERLAND\\n**HEIGHT:** 6 FT 1 IN (1.85 M)\\n**WEIGHT:** 187 LB (85 KG)\\n**HANDEDNESS:** RIGHT-HANDED (TWO-HANDED BACKHAND)\\n\\n**TENNIS CAREER:**\\n\\nROGER FEDERER IS A SWISS PROFESSIONAL TENNIS PLAYER WHO IS WIDELY CONSIDERED ONE OF THE GREATEST TENNIS PLAYERS OF ALL TIME. HE HAS WON 20 GRAND SLAM SINGLES TITLES, THE MOST BY ANY MALE PLAYER IN HISTORY.\\n\\nFEDERER BEGAN PLAYING TENNIS AT THE AGE OF SIX AND TURNED PROFESSIONAL IN 1998. HE QUICKLY ROSE THROUGH THE RANKS AND WON HIS FIRST GRAND SLAM TITLE, WIMBLEDON, IN 2003. HE WENT ON TO WIN FIVE CONSECUTIVE WIMBLEDON TITLES (2003-2007) AND FOUR CONSECUTIVE US OPEN TITLES (2004-2007).\\n\\nIN ADDITION TO HIS GRAND SLAM SUCCESS, FEDERER HAS WON A RECORD 103 ATP SINGLES TITLES AND SPENT A TOTAL OF 237 CONSECUTIVE WEEKS AS THE WORLD'S NO. 1 RANKED PLAYER. HE HAS ALSO WON 8 DOUBLES TITLES, INCLUDING 2 AUSTRALIAN OPEN TITLES WITH HIS LONG-TIME DOUBLES PARTNER, MIRKA VAVRINEC.\\n\\n**PLAYING STYLE:**\\n\\nFEDERER IS KNOWN FOR HIS ELEGANT PLAYING STYLE AND ALL-COURT VERSATILITY. HE IS A MASTER OF THE SERVE-AND-VOLLEY GAME, BUT HE CAN ALSO PLAY FROM THE BASELINE WITH GREAT EFFECTIVENESS. HIS FOREHAND IS WIDELY REGARDED AS ONE OF THE BEST IN THE HISTORY OF THE GAME, AND HIS BACKHAND IS ALSO A FORMIDABLE WEAPON.\\n\\n**PERSONAL LIFE:**\\n\\nFEDERER IS MARRIED TO MIRKA VAVRINEC, A FORMER PROFESSIONAL TENNIS PLAYER. THEY HAVE FOUR CHILDREN TOGETHER. FEDERER IS A PHILANTHROPIST AND HAS DONATED MILLIONS OF DOLLARS TO VARIOUS CHARITIES AROUND THE WORLD. HE IS ALSO A UN GOODWILL AMBASSADOR.\\n\\n**LEGACY:**\\n\\nROGER FEDERER IS ONE OF THE MOST SUCCESSFUL AND DECORATED TENNIS PLAYERS OF ALL TIME. HIS ACCOMPLISHMENTS ON THE COURT HAVE EARNED HIM THE RESPECT AND ADMIRATION OF FANS AND FELLOW PLAYERS ALIKE. HE IS CONSIDERED A TRUE ICON OF THE SPORT AND HIS LEGACY WILL UNDOUBTEDLY INSPIRE FUTURE GENERATIONS OF TENNIS PLAYERS.\""
      ]
     },
     "execution_count": 85,
     "metadata": {},
     "output_type": "execute_result"
    }
   ],
   "source": [
    "app2.invoke(\"who is Roger Federer , give a glimpse about him?\")"
   ]
  },
  {
   "cell_type": "code",
   "execution_count": 86,
   "metadata": {},
   "outputs": [
    {
     "name": "stdout",
     "output_type": "stream",
     "text": [
      "**ROGER FEDERER**\n",
      "\n",
      "**BORN:** AUGUST 8, 1981, BASEL, SWITZERLAND\n",
      "\n",
      "**NATIONALITY:** SWISS\n",
      "\n",
      "**SPORT:** TENNIS\n",
      "\n",
      "**CAREER HIGHLIGHTS:**\n",
      "\n",
      "* **20 GRAND SLAM SINGLES TITLES:** (8 WIMBLEDON, 6 AUSTRALIAN OPEN, 5 US OPEN, 1 FRENCH OPEN)\n",
      "* **310 WEEKS AS WORLD NUMBER ONE:** (RECORD)\n",
      "* **103 ATP SINGLES TITLES:** (FOURTH-MOST ALL-TIME)\n",
      "* **6 ATP FINALS TITLES:** (RECORD)\n",
      "* **19 ATP MASTERS 1000 TITLES:** (SECOND-MOST ALL-TIME)\n",
      "* **OLYMPIC GOLD MEDAL:** (DOUBLES IN 2008)\n",
      "* **DAVIS CUP CHAMPION:** (2014)\n",
      "* **LAUREUS WORLD SPORTSMAN OF THE YEAR:** (5 TIMES)\n",
      "\n",
      "**PLAYING STYLE:**\n",
      "\n",
      "* KNOWN FOR HIS ELEGANT AND EFFORTLESS PLAYING STYLE\n",
      "* EXCEPTIONAL SERVE-AND-VOLLEY SKILLS\n",
      "* PRECISE AND POWERFUL GROUNDSTROKES\n",
      "* EXCELLENT FOOTWORK AND COURT COVERAGE\n",
      "\n",
      "**PERSONALITY AND IMPACT:**\n",
      "\n",
      "* WIDELY REGARDED AS ONE OF THE GREATEST TENNIS PLAYERS OF ALL TIME\n",
      "* KNOWN FOR HIS SPORTSMANSHIP AND HUMILITY\n",
      "* HAS INSPIRED COUNTLESS YOUNG PLAYERS AND FANS\n",
      "* HAS BEEN A GLOBAL AMBASSADOR FOR THE SPORT OF TENNIS\n",
      "\n",
      "**CAREER OVERVIEW:**\n",
      "\n",
      "FEDERER BEGAN PLAYING TENNIS AT THE AGE OF 6. HE TURNED PROFESSIONAL IN 1998 AND QUICKLY ESTABLISHED HIMSELF AS ONE OF THE MOST PROMISING PLAYERS ON TOUR. HE WON HIS FIRST GRAND SLAM TITLE AT WIMBLEDON IN 2003 AND WENT ON TO DOMINATE THE SPORT FOR THE NEXT DECADE.\n",
      "\n",
      "FEDERER'S SUCCESS WAS BASED ON A COMBINATION OF NATURAL TALENT, HARD WORK, AND DEDICATION. HE IS KNOWN FOR HIS INCREDIBLE CONSISTENCY, HAVING REACHED AT LEAST THE QUARTERFINALS OF EVERY GRAND SLAM TOURNAMENT SINCE 2004.\n",
      "\n",
      "IN ADDITION TO HIS ON-COURT ACCOMPLISHMENTS, FEDERER IS ALSO A RESPECTED PHILANTHROPIST AND HAS ESTABLISHED THE ROGER FEDERER FOUNDATION TO SUPPORT EDUCATIONAL AND ATHLETIC INITIATIVES FOR CHILDREN IN AFRICA AND SWITZERLAND.\n",
      "\n",
      "FEDERER RETIRED FROM PROFESSIONAL TENNIS IN 2022 AFTER A LEGENDARY CAREER SPANNING OVER 24 YEARS.\n"
     ]
    }
   ],
   "source": [
    "print(app2.invoke(\"who is Roger Federer , give a glimpse about him?\"))"
   ]
  },
  {
   "cell_type": "code",
   "execution_count": 87,
   "metadata": {},
   "outputs": [],
   "source": [
    " #Stream of output\n",
    "\n",
    "que = \"who is Roger Federer , give a glimpse about him?\"\n"
   ]
  },
  {
   "cell_type": "code",
   "execution_count": 89,
   "metadata": {},
   "outputs": [
    {
     "name": "stdout",
     "output_type": "stream",
     "text": [
      "here is output from llm_fn1\n",
      "_______\n",
      "**Roger Federer** is a Swiss former professional tennis player. Widely considered to be one of the greatest tennis players of all time, Federer holds the record for the most Grand Slam men's singles titles (20) and has been ranked world No. 1 for a record 237 consecutive weeks.\n",
      "\n",
      "**Early Life and Career:**\n",
      "\n",
      "* Born on August 8, 1981, in Basel, Switzerland\n",
      "* Began playing tennis at age six\n",
      "* Turned professional in 1998 at age 16\n",
      "\n",
      "**Major Achievements:**\n",
      "\n",
      "* Won 20 Grand Slam singles titles (8 Wimbledon, 6 Australian Open, 5 US Open, 1 French Open)\n",
      "* Held the world No. 1 ranking for a record 237 consecutive weeks (2004-2008, 2009-2010, 2012, 2014-2016, 2017-2018)\n",
      "* Won 103 ATP Tour singles titles\n",
      "* Won a record eight Wimbledon singles titles\n",
      "* Won the ATP Finals six times\n",
      "* Won the Davis Cup with Switzerland in 2014\n",
      "\n",
      "**Playing Style:**\n",
      "\n",
      "* Known for his elegant and attacking style of play\n",
      "* Possesses an all-court game with exceptional footwork and shot-making ability\n",
      "* Dominated the serve-and-volley game throughout his career\n",
      "* Known for his powerful forehand and exquisite backhand\n",
      "\n",
      "**Personal Life:**\n",
      "\n",
      "* Married to Mirka Federer, a former professional tennis player\n",
      "* Has four children\n",
      "* Is known for his philanthropy and support of various charities\n",
      "\n",
      "**Legacy:**\n",
      "\n",
      "* Federer is widely regarded as one of the greatest tennis players of all time\n",
      "* His longevity and consistency are unmatched\n",
      "* His elegant style and exceptional shot-making inspired a generation of players\n",
      "* Is considered a global icon and ambassador for the sport of tennis\n",
      "\n",
      "\n",
      "here is output from upper_cast_fn2\n",
      "_______\n",
      "**ROGER FEDERER** IS A SWISS FORMER PROFESSIONAL TENNIS PLAYER. WIDELY CONSIDERED TO BE ONE OF THE GREATEST TENNIS PLAYERS OF ALL TIME, FEDERER HOLDS THE RECORD FOR THE MOST GRAND SLAM MEN'S SINGLES TITLES (20) AND HAS BEEN RANKED WORLD NO. 1 FOR A RECORD 237 CONSECUTIVE WEEKS.\n",
      "\n",
      "**EARLY LIFE AND CAREER:**\n",
      "\n",
      "* BORN ON AUGUST 8, 1981, IN BASEL, SWITZERLAND\n",
      "* BEGAN PLAYING TENNIS AT AGE SIX\n",
      "* TURNED PROFESSIONAL IN 1998 AT AGE 16\n",
      "\n",
      "**MAJOR ACHIEVEMENTS:**\n",
      "\n",
      "* WON 20 GRAND SLAM SINGLES TITLES (8 WIMBLEDON, 6 AUSTRALIAN OPEN, 5 US OPEN, 1 FRENCH OPEN)\n",
      "* HELD THE WORLD NO. 1 RANKING FOR A RECORD 237 CONSECUTIVE WEEKS (2004-2008, 2009-2010, 2012, 2014-2016, 2017-2018)\n",
      "* WON 103 ATP TOUR SINGLES TITLES\n",
      "* WON A RECORD EIGHT WIMBLEDON SINGLES TITLES\n",
      "* WON THE ATP FINALS SIX TIMES\n",
      "* WON THE DAVIS CUP WITH SWITZERLAND IN 2014\n",
      "\n",
      "**PLAYING STYLE:**\n",
      "\n",
      "* KNOWN FOR HIS ELEGANT AND ATTACKING STYLE OF PLAY\n",
      "* POSSESSES AN ALL-COURT GAME WITH EXCEPTIONAL FOOTWORK AND SHOT-MAKING ABILITY\n",
      "* DOMINATED THE SERVE-AND-VOLLEY GAME THROUGHOUT HIS CAREER\n",
      "* KNOWN FOR HIS POWERFUL FOREHAND AND EXQUISITE BACKHAND\n",
      "\n",
      "**PERSONAL LIFE:**\n",
      "\n",
      "* MARRIED TO MIRKA FEDERER, A FORMER PROFESSIONAL TENNIS PLAYER\n",
      "* HAS FOUR CHILDREN\n",
      "* IS KNOWN FOR HIS PHILANTHROPY AND SUPPORT OF VARIOUS CHARITIES\n",
      "\n",
      "**LEGACY:**\n",
      "\n",
      "* FEDERER IS WIDELY REGARDED AS ONE OF THE GREATEST TENNIS PLAYERS OF ALL TIME\n",
      "* HIS LONGEVITY AND CONSISTENCY ARE UNMATCHED\n",
      "* HIS ELEGANT STYLE AND EXCEPTIONAL SHOT-MAKING INSPIRED A GENERATION OF PLAYERS\n",
      "* IS CONSIDERED A GLOBAL ICON AND AMBASSADOR FOR THE SPORT OF TENNIS\n",
      "\n",
      "\n"
     ]
    }
   ],
   "source": [
    "for output in app2.stream(que):\n",
    "    for key,value in output.items():\n",
    "        print(f\"here is output from {key}\")\n",
    "        print(\"_______\")\n",
    "        print(value)\n",
    "        print(\"\\n\")"
   ]
  },
  {
   "cell_type": "code",
   "execution_count": 90,
   "metadata": {},
   "outputs": [],
   "source": [
    "#Let's create an own output token counter\n",
    "\n",
    "def func_3(user_input):\n",
    "    token=user_input.split()\n",
    "    token_number=len(token)\n",
    "    token_number=f\"total token number is {token_number}\"\n",
    "    return token_number\n",
    "\n"
   ]
  },
  {
   "cell_type": "code",
   "execution_count": 91,
   "metadata": {},
   "outputs": [],
   "source": [
    "workflow4=Graph()\n",
    "workflow4.add_node(\"llm_fnc\",func_1)\n",
    "workflow4.add_node(\"token_counter_fnc\",func_3)\n",
    "workflow4.add_edge(\"llm_fnc\",\"token_counter_fnc\")\n",
    "workflow4.set_entry_point(\"llm_fnc\")\n",
    "workflow4.set_finish_point(\"token_counter_fnc\")\n",
    "app3=workflow4.compile()"
   ]
  },
  {
   "cell_type": "code",
   "execution_count": 92,
   "metadata": {},
   "outputs": [
    {
     "data": {
      "image/png": "[encoded data removed]",
      "text/plain": [
       "<IPython.core.display.Image object>"
      ]
     },
     "metadata": {},
     "output_type": "display_data"
    }
   ],
   "source": [
    "from IPython.display import Image, display\n",
    "\n",
    "try:\n",
    "    display(Image(app3.get_graph().draw_mermaid_png()))\n",
    "except Exception as e:\n",
    "    # This requires some extra dependencies and is optional\n",
    "    print(e)"
   ]
  },
  {
   "cell_type": "code",
   "execution_count": 95,
   "metadata": {},
   "outputs": [
    {
     "data": {
      "text/plain": [
       "'total token number is 1'"
      ]
     },
     "execution_count": 95,
     "metadata": {},
     "output_type": "execute_result"
    }
   ],
   "source": [
    "app3.invoke(\"who won the T20 men world cup in 2007?\")"
   ]
  },
  {
   "cell_type": "code",
   "execution_count": 96,
   "metadata": {},
   "outputs": [
    {
     "data": {
      "text/plain": [
       "'total token number is 109'"
      ]
     },
     "execution_count": 96,
     "metadata": {},
     "output_type": "execute_result"
    }
   ],
   "source": [
    "app3.invoke(\"Explain Agentic AI in short?\")"
   ]
  },
  {
   "cell_type": "code",
   "execution_count": null,
   "metadata": {},
   "outputs": [],
   "source": []
  }
 ],
 "metadata": {
  "kernelspec": {
   "display_name": "langgraphe2e",
   "language": "python",
   "name": "python3"
  },
  "language_info": {
   "codemirror_mode": {
    "name": "ipython",
    "version": 3
   },
   "file_extension": ".py",
   "mimetype": "text/x-python",
   "name": "python",
   "nbconvert_exporter": "python",
   "pygments_lexer": "ipython3",
   "version": "3.10.16"
  }
 },
 "nbformat": 4,
 "nbformat_minor": 2
}
